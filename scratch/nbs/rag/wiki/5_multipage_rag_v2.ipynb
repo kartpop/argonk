{
 "cells": [
  {
   "cell_type": "code",
   "execution_count": 1,
   "metadata": {},
   "outputs": [
    {
     "name": "stderr",
     "output_type": "stream",
     "text": [
      "/home/kartikeya/miniconda3/envs/argonk/lib/python3.12/site-packages/tqdm/auto.py:21: TqdmWarning: IProgress not found. Please update jupyter and ipywidgets. See https://ipywidgets.readthedocs.io/en/stable/user_install.html\n",
      "  from .autonotebook import tqdm as notebook_tqdm\n",
      "/home/kartikeya/miniconda3/envs/argonk/lib/python3.12/site-packages/google/protobuf/runtime_version.py:112: UserWarning: Protobuf gencode version 5.27.2 is older than the runtime version 5.28.0 at grpc_health/v1/health.proto. Please avoid checked-in Protobuf gencode that can be obsolete.\n",
      "  warnings.warn(\n",
      "/home/kartikeya/miniconda3/envs/argonk/lib/python3.12/site-packages/haystack/components/generators/openai.py:106: DeprecationWarning: In the upcoming releases 'gpt-3.5-turbo' will be replaced by 'gpt-4o-mini' as the default model\n",
      "  warnings.warn(\n"
     ]
    }
   ],
   "source": [
    "import sys\n",
    "import os\n",
    "\n",
    "# Add the parent directory of 'wiki' to the Python path\n",
    "sys.path.append(os.path.abspath(os.path.join(os.getcwd(), '..')))\n",
    "\n",
    "from wiki.api.lib.pipelines.hybrid_pipeline import hybrid_pipeline   # same instance of the pipeline will be loaded in all imports\n",
    "from wiki.api.lib.pipelines.graph_pipeline_v2 import graph_pipeline\n",
    "from wiki.api.lib.models.p1_qa import P1QA\n",
    "from wiki.api.lib.models.p2_qa import P2QA\n",
    "from wiki.api.lib.models.hierarchy_path import HierarchyPathData"
   ]
  },
  {
   "cell_type": "markdown",
   "metadata": {},
   "source": [
    "### Question-Answer: Invoke pipeline, capture response, return answer with references"
   ]
  },
  {
   "cell_type": "code",
   "execution_count": 2,
   "metadata": {},
   "outputs": [],
   "source": [
    "import json\n",
    "\n",
    "\n",
    "def question_answer(question: str) -> dict:\n",
    "    p1_qa_schema = P1QA.model_json_schema()\n",
    "\n",
    "    input_data = {\n",
    "        \"elasticsearch_retriever\": {\"query\": question},\n",
    "        \"text_embedder\": {\"text\": question},\n",
    "        \"p1_qa_prompt_builder\": {\"p1_qa_schema\": p1_qa_schema, \"query\": question},\n",
    "    }\n",
    "\n",
    "    hybrid_result_dict = hybrid_pipeline.run(\n",
    "        data=input_data,\n",
    "        include_outputs_from={\n",
    "            \"text_embedder\",\n",
    "            \"weaviate_retriever\",\n",
    "            \"elasticsearch_retriever\",\n",
    "            \"reciprocal_rank_fusion_joiner\",\n",
    "            \"p1_qa_prompt_builder\",\n",
    "            \"p1_qa_generator\"\n",
    "        },\n",
    "    )\n",
    "\n",
    "    hybrid_replies_json = hybrid_result_dict[\"p1_qa_generator\"][\"replies\"][0]\n",
    "    hybrid_replies_dict = json.loads(hybrid_replies_json)\n",
    "    hybrid_replies = P1QA(**hybrid_replies_dict)\n",
    "\n",
    "    if not hybrid_replies.need_more_context:\n",
    "        # If the answer is complete, return\n",
    "        answer = {\"text\": hybrid_replies_json, \"phase\": 1}\n",
    "        context_docs = hybrid_result_dict[\"reciprocal_rank_fusion_joiner\"][\"documents\"]\n",
    "        metadata = {\"phase-1\": hybrid_result_dict}\n",
    "        return {\"answer\": answer, \"context_docs\": context_docs, \"metadata\": metadata}\n",
    "    else:\n",
    "        # If the answer is incomplete, run graph pipeline to fetch more context\n",
    "        grounding_docs = hybrid_result_dict[\"reciprocal_rank_fusion_joiner\"][\n",
    "            \"documents\"\n",
    "        ]\n",
    "\n",
    "        path_schema = HierarchyPathData.model_json_schema()\n",
    "        p2_qa_schema = P2QA.model_json_schema()\n",
    "\n",
    "        input_data = {\n",
    "            \"hierarchy_prompt_builder\": {\n",
    "                \"query\": question,\n",
    "                \"hierarchy_path_schema\": path_schema,\n",
    "            },\n",
    "            \"wiki_hierarchy_builder\": {\"documents\": grounding_docs},\n",
    "            \"p2_qa_prompt_builder\": {\"p2_qa_schema\": p2_qa_schema, \"query\": question},\n",
    "        }\n",
    "\n",
    "        result = graph_pipeline.run(\n",
    "            data=input_data,\n",
    "            include_outputs_from={\n",
    "                \"wiki_hierarchy_builder\",\n",
    "                \"hierarchy_prompt_builder\",\n",
    "                \"hierarchy_generator\",\n",
    "                \"wiki_context_creator\",\n",
    "                \"p2_qa_prompt_builder\",\n",
    "                \"p2_qa_generator\",\n",
    "            },\n",
    "        )\n",
    "\n",
    "        answer = {\"text\": result[\"p2_qa_generator\"][\"replies\"][0], \"phase\": 2}\n",
    "        context_docs = result[\"wiki_context_creator\"][\"documents\"]\n",
    "        metadata = {\"phase-1\": hybrid_result_dict, \"phase-2\": result}\n",
    "        return {\"answer\": answer, \"context_docs\": context_docs, \"metadata\": metadata}"
   ]
  },
  {
   "cell_type": "code",
   "execution_count": 3,
   "metadata": {},
   "outputs": [],
   "source": [
    "def build_metadata_for_doc(doc):\n",
    "    metadata = {}\n",
    "    for key in ['title', 'h2', 'h3', 'h4']:\n",
    "        if key in doc.meta and doc.meta[key] is not None:\n",
    "            metadata[key] = doc.meta[key]\n",
    "    return metadata"
   ]
  },
  {
   "cell_type": "code",
   "execution_count": 4,
   "metadata": {},
   "outputs": [],
   "source": [
    "def build_answer_with_reference(answer: dict, context_docs: dict) -> dict:\n",
    "    phase = answer[\"phase\"]\n",
    "    answer_json = json.loads(answer[\"text\"])\n",
    "    \n",
    "    if phase == 1:\n",
    "        answer_obj = P1QA(**answer_json)\n",
    "    else:\n",
    "        answer_obj = P2QA(**answer_json)\n",
    "            \n",
    "    used_doc_ids = answer_obj.document_ids\n",
    "    references = []\n",
    "    for doc_id in used_doc_ids:\n",
    "        ref_doc = context_docs[doc_id-1]   # ref-1 because the document ids are 1-indexed\n",
    "        references.append(build_metadata_for_doc(ref_doc))\n",
    "    return { \"answer\": answer_obj.answer, \"references\": references }"
   ]
  },
  {
   "cell_type": "code",
   "execution_count": 9,
   "metadata": {},
   "outputs": [
    {
     "name": "stderr",
     "output_type": "stream",
     "text": [
      "/home/kartikeya/miniconda3/envs/argonk/lib/python3.12/site-packages/posthog/client.py:345: DeprecationWarning: datetime.datetime.utcnow() is deprecated and scheduled for removal in a future version. Use timezone-aware objects to represent datetimes in UTC: datetime.datetime.now(datetime.UTC).\n",
      "  timestamp = datetime.utcnow().replace(tzinfo=tzutc())\n",
      "/home/kartikeya/miniconda3/envs/argonk/lib/python3.12/site-packages/posthog/request.py:40: DeprecationWarning: datetime.datetime.utcnow() is deprecated and scheduled for removal in a future version. Use timezone-aware objects to represent datetimes in UTC: datetime.datetime.now(datetime.UTC).\n",
      "  body[\"sentAt\"] = datetime.utcnow().replace(tzinfo=tzutc()).isoformat()\n"
     ]
    }
   ],
   "source": [
    "response_dinosaur_extinction = question_answer(\"Write a short essay on the extinction of dinosaurs. Include all probable causes, the main hyppthesis as well as alternative theories if any.\")"
   ]
  },
  {
   "cell_type": "code",
   "execution_count": 10,
   "metadata": {},
   "outputs": [
    {
     "data": {
      "text/plain": [
       "2"
      ]
     },
     "execution_count": 10,
     "metadata": {},
     "output_type": "execute_result"
    }
   ],
   "source": [
    "response_dinosaur_extinction[\"answer\"][\"phase\"]"
   ]
  },
  {
   "cell_type": "code",
   "execution_count": 11,
   "metadata": {},
   "outputs": [
    {
     "data": {
      "text/plain": [
       "{'answer': \"The extinction of dinosaurs, occurring approximately 66 million years ago at the Cretaceous–Paleogene (K-Pg) boundary, has been attributed primarily to the Chicxulub impact event. This hypothesis, famously posited by Luis Alvarez and his team in 1980, suggests that a bolide, estimated to be 5 to 15 kilometers wide, struck the Yucatán Peninsula, leading to catastrophic environmental changes that would have extinguished most dinosaur species. Evidence supporting this theory includes a global layer of sediment enriched with iridium, shocked quartz, and other impact-related materials found in rock strata globally, alongside the discovery of the Chicxulub crater itself, which matches the calculated size and age of the impact. The aftermath of this impact likely involved immediate catastrophic events such as wildfires and tsunamis, followed by longer-term climatic disturbances characterized by an 'impact winter' that blocked sunlight and halted photosynthesis, resulting in collapses in food chains which many dinosaurs relied upon.\\n\\nAlternately, the Deccan Traps volcanic activity in present-day India has also been proposed as a significant contributing factor to the extinction. Eruptions released vast amounts of gases such as sulfur dioxide and carbon dioxide into the atmosphere, leading to acid rain and global warming, which could have further stressed ecosystems already impacted by the Chicxulub event. Some researchers posit that the two events might even be linked, suggesting that the impact could have triggered or intensified volcanic activity.\\n\\nOther theories have suggested the role of marine regression due to falling sea levels and multiple simultaneous impacts as additional stressors contributing to the extinction. A more synergistic view considers the interplay of these factors, suggesting that a combination of volcanic activity, marine regression, and the Chicxulub impact created an unbearable environment for the dinosaurs and many other species, resulting in their eventual extinction. Recent models imply that this extinction might have unfolded in two phases, closely timed with the volcanic activity and later with the asteroid impact. Overall, while the Chicxulub impact event stands as the leading cause, contributors like the Deccan Traps volcanic activity and environmental changes create a complex picture of the extinction of dinosaurs.\",\n",
       " 'references': [{'title': 'Dinosaur',\n",
       "   'h2': 'Extinction of major groups',\n",
       "   'h3': 'Impact event'},\n",
       "  {'title': 'Dinosaur',\n",
       "   'h2': 'Extinction of major groups',\n",
       "   'h3': 'Deccan Traps'},\n",
       "  {'title': 'Cretaceous–Paleogene extinction event', 'h2': 'Causes'}]}"
      ]
     },
     "execution_count": 11,
     "metadata": {},
     "output_type": "execute_result"
    }
   ],
   "source": [
    "api_response_dinosaur_extinction = build_answer_with_reference(response_dinosaur_extinction[\"answer\"], response_dinosaur_extinction[\"context_docs\"])\n",
    "\n",
    "api_response_dinosaur_extinction"
   ]
  },
  {
   "cell_type": "markdown",
   "metadata": {},
   "source": [
    "***SUCCESS!***"
   ]
  },
  {
   "cell_type": "markdown",
   "metadata": {},
   "source": [
    "***Write down the complete response from the pipeline for reference***"
   ]
  },
  {
   "cell_type": "code",
   "execution_count": 21,
   "metadata": {},
   "outputs": [],
   "source": [
    "import json\n",
    "from haystack import Document  # Import the Document class from Haystack\n",
    "\n",
    "def custom_serializer(obj):\n",
    "    if isinstance(obj, Document):\n",
    "        return obj.to_dict()\n",
    "    # Let the default serializer handle other types\n",
    "    return json.JSONEncoder().default(obj)\n",
    "\n",
    "with open('phase_2_response_dinosaur_extinction_5_multipage_rag_v2.json', 'w') as file:\n",
    "    file.write(json.dumps(response_dinosaur_extinction, default=custom_serializer))\n",
    "    "
   ]
  },
  {
   "cell_type": "code",
   "execution_count": 16,
   "metadata": {},
   "outputs": [
    {
     "name": "stderr",
     "output_type": "stream",
     "text": [
      "/home/kartikeya/miniconda3/envs/argonk/lib/python3.12/site-packages/posthog/client.py:345: DeprecationWarning: datetime.datetime.utcnow() is deprecated and scheduled for removal in a future version. Use timezone-aware objects to represent datetimes in UTC: datetime.datetime.now(datetime.UTC).\n",
      "  timestamp = datetime.utcnow().replace(tzinfo=tzutc())\n",
      "/home/kartikeya/miniconda3/envs/argonk/lib/python3.12/site-packages/posthog/request.py:40: DeprecationWarning: datetime.datetime.utcnow() is deprecated and scheduled for removal in a future version. Use timezone-aware objects to represent datetimes in UTC: datetime.datetime.now(datetime.UTC).\n",
      "  body[\"sentAt\"] = datetime.utcnow().replace(tzinfo=tzutc()).isoformat()\n"
     ]
    },
    {
     "data": {
      "text/plain": [
       "{'answer': \"Ornithoscelida is a proposed clade that includes various major groupings of dinosaurs, originally proposed by Thomas Henry Huxley and later revived in 2017 after a new cladistic analysis. It refers to a clade characterized by 'bird hipped' features, including specific pelvic bone configurations.\",\n",
       " 'references': [{'title': 'Ornithoscelida'},\n",
       "  {'title': 'Ornithoscelida', 'h2': 'Details'}]}"
      ]
     },
     "execution_count": 16,
     "metadata": {},
     "output_type": "execute_result"
    }
   ],
   "source": [
    "response_ornithosceldia = question_answer(\"What is Ornithoscelida?\")\n",
    "\n",
    "api_response_ornithosceldia = build_answer_with_reference(response_ornithosceldia[\"answer\"], response_ornithosceldia[\"context_docs\"])\n",
    "\n",
    "api_response_ornithosceldia"
   ]
  },
  {
   "cell_type": "code",
   "execution_count": 22,
   "metadata": {},
   "outputs": [],
   "source": [
    "import json\n",
    "from haystack import Document  # Import the Document class from Haystack\n",
    "\n",
    "def custom_serializer(obj):\n",
    "    if isinstance(obj, Document):\n",
    "        return obj.to_dict()\n",
    "    # Let the default serializer handle other types\n",
    "    return json.JSONEncoder().default(obj)\n",
    "\n",
    "with open('phase_1_response_ornithosceldia_5_multipage_rag_v2.json', 'w') as file:\n",
    "    file.write(json.dumps(response_ornithosceldia, default=custom_serializer))"
   ]
  },
  {
   "cell_type": "code",
   "execution_count": 19,
   "metadata": {},
   "outputs": [
    {
     "name": "stderr",
     "output_type": "stream",
     "text": [
      "/home/kartikeya/miniconda3/envs/argonk/lib/python3.12/site-packages/posthog/client.py:345: DeprecationWarning: datetime.datetime.utcnow() is deprecated and scheduled for removal in a future version. Use timezone-aware objects to represent datetimes in UTC: datetime.datetime.now(datetime.UTC).\n",
      "  timestamp = datetime.utcnow().replace(tzinfo=tzutc())\n",
      "/home/kartikeya/miniconda3/envs/argonk/lib/python3.12/site-packages/posthog/request.py:40: DeprecationWarning: datetime.datetime.utcnow() is deprecated and scheduled for removal in a future version. Use timezone-aware objects to represent datetimes in UTC: datetime.datetime.now(datetime.UTC).\n",
      "  body[\"sentAt\"] = datetime.utcnow().replace(tzinfo=tzutc()).isoformat()\n"
     ]
    },
    {
     "data": {
      "text/plain": [
       "{'answer': \"The Chicxulub crater, formed over 66 million years ago by a ten-kilometer-diameter asteroid impact, is widely believed to have played a pivotal role in the mass extinction event that led to the demise of the dinosaurs at the K–Pg boundary. This crater, located beneath the Yucatán Peninsula in Mexico, is the second largest impact structure on Earth and is significant for scientific research due to its intact peak ring. The event triggered a series of catastrophic changes to the climate and environment, ultimately contributing to the extinction of approximately 75% of Earth's species, including dinosaurs. While some dissenting experts highlight the role of volcanism from the Deccan Traps, the consensus remains that the Chicxulub impact was a critical factor in this extinction event, marking the end of the age of dinosaurs and the beginning of a new era in Earth's biological history.\",\n",
       " 'references': [{'title': 'Chicxulub crater', 'h2': 'Discovery'},\n",
       "  {'title': 'Chicxulub crater'}]}"
      ]
     },
     "execution_count": 19,
     "metadata": {},
     "output_type": "execute_result"
    }
   ],
   "source": [
    "response_chixulub = question_answer(\"Write a short essay on the following topic: 'Chixulub crater and the end of the dinosaurs'\")\n",
    "\n",
    "api_response_chixulub = build_answer_with_reference(response_chixulub[\"answer\"], response_chixulub[\"context_docs\"])\n",
    "\n",
    "api_response_chixulub"
   ]
  },
  {
   "cell_type": "code",
   "execution_count": 23,
   "metadata": {},
   "outputs": [],
   "source": [
    "import json\n",
    "from haystack import Document  # Import the Document class from Haystack\n",
    "\n",
    "def custom_serializer(obj):\n",
    "    if isinstance(obj, Document):\n",
    "        return obj.to_dict()\n",
    "    # Let the default serializer handle other types\n",
    "    return json.JSONEncoder().default(obj)\n",
    "\n",
    "with open('phase_1_response_chixulub_5_multipage_rag_v2.json', 'w') as file:\n",
    "    file.write(json.dumps(response_chixulub, default=custom_serializer))"
   ]
  },
  {
   "cell_type": "code",
   "execution_count": 20,
   "metadata": {},
   "outputs": [
    {
     "name": "stderr",
     "output_type": "stream",
     "text": [
      "/home/kartikeya/miniconda3/envs/argonk/lib/python3.12/site-packages/posthog/client.py:345: DeprecationWarning: datetime.datetime.utcnow() is deprecated and scheduled for removal in a future version. Use timezone-aware objects to represent datetimes in UTC: datetime.datetime.now(datetime.UTC).\n",
      "  timestamp = datetime.utcnow().replace(tzinfo=tzutc())\n",
      "/home/kartikeya/miniconda3/envs/argonk/lib/python3.12/site-packages/posthog/request.py:40: DeprecationWarning: datetime.datetime.utcnow() is deprecated and scheduled for removal in a future version. Use timezone-aware objects to represent datetimes in UTC: datetime.datetime.now(datetime.UTC).\n",
      "  body[\"sentAt\"] = datetime.utcnow().replace(tzinfo=tzutc()).isoformat()\n"
     ]
    },
    {
     "data": {
      "text/plain": [
       "{'answer': 'Paleobiology encompasses the study of the biology of ancient organisms through fossil and non-fossil records. In the case of dinosaurs, evidence is provided by fossilized remains, trackways, and even soft tissues. Various fields contribute to this study, including biology, chemistry, and paleontology. Dinosaur sizes varied significantly across different periods, with predatory theropods generally weighing between 100 to 1,000 kg. Some of the largest dinosaurs, such as the sauropods, were substantially larger than any modern terrestrial animals, with proposed benefits of their size including dietary efficiency and protection from predation. Behavior may have included gregariousness, as suggested by herd tracks and mass death sites. Evidence indicates some dinosaurs hunted collaboratively, while others displayed complex social behaviors. Communication likely involved visual signals and possibly non-vocal sounds, as their closest living relatives, birds and crocodilians, utilize such methods. Reproductive strategies included amniotic eggs laid in various nesting structures and possible parental care, indicating complex family dynamics. Understanding dinosaur physiology remains a topic of ongoing research, with evidence suggesting a range of metabolic strategies, from ectothermic to endothermic processes. The presence of feathers and certain bone structures indicates that dinosaurs may have had higher metabolic rates than living reptiles, suggesting a greater degree of activity and lifestyle complexity than previously thought.',\n",
       " 'references': [{'title': 'Dinosaur', 'h2': 'Paleobiology'}]}"
      ]
     },
     "execution_count": 20,
     "metadata": {},
     "output_type": "execute_result"
    }
   ],
   "source": [
    "response_paleobiology = question_answer(\"Write a short essay on the paleobiology of dinosaurs.\")\n",
    "\n",
    "api_response_paleobiology = build_answer_with_reference(response_paleobiology[\"answer\"], response_paleobiology[\"context_docs\"])\n",
    "\n",
    "api_response_paleobiology"
   ]
  },
  {
   "cell_type": "code",
   "execution_count": 24,
   "metadata": {},
   "outputs": [],
   "source": [
    "import json\n",
    "from haystack import Document  # Import the Document class from Haystack\n",
    "\n",
    "def custom_serializer(obj):\n",
    "    if isinstance(obj, Document):\n",
    "        return obj.to_dict()\n",
    "    # Let the default serializer handle other types\n",
    "    return json.JSONEncoder().default(obj)\n",
    "\n",
    "with open('phase_2_response_paleobiology_5_multipage_rag_v2.json', 'w') as file:\n",
    "    file.write(json.dumps(response_paleobiology, default=custom_serializer))"
   ]
  }
 ],
 "metadata": {
  "kernelspec": {
   "display_name": "Python (argonk)",
   "language": "python",
   "name": "argonk"
  },
  "language_info": {
   "codemirror_mode": {
    "name": "ipython",
    "version": 3
   },
   "file_extension": ".py",
   "mimetype": "text/x-python",
   "name": "python",
   "nbconvert_exporter": "python",
   "pygments_lexer": "ipython3",
   "version": "3.12.4"
  }
 },
 "nbformat": 4,
 "nbformat_minor": 2
}
