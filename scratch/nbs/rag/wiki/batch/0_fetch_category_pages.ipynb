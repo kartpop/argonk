{
 "cells": [
  {
   "cell_type": "markdown",
   "metadata": {},
   "source": [
    "### Fetch category pages for depth=1"
   ]
  },
  {
   "cell_type": "code",
   "execution_count": 1,
   "metadata": {},
   "outputs": [],
   "source": [
    "import requests\n",
    "import json\n",
    "import os\n",
    "\n",
    "pageTitleSet = set()\n",
    "pageIdSet = set()\n",
    "categoryIdSet = set()\n",
    "\n",
    "def fetch_category_pages(category, filepath, depth):\n",
    "    if depth > 1:\n",
    "        return\n",
    "    next_depth = depth + 1\n",
    "    \n",
    "    # Create the directory for the category if it doesn't exist\n",
    "    if not os.path.exists(filepath):\n",
    "        os.makedirs(filepath)\n",
    "    \n",
    "    # Make the initial request to get the category information\n",
    "    url = f\"https://en.wikipedia.org/w/api.php?action=query&format=json&list=categorymembers&cmtitle=Category:{category}&cmlimit=max\"\n",
    "    headers = {\"User-Agent\": \"Tinker/0.1 (kartikeyapophali@gmail.com)\"}\n",
    "    response = requests.get(url, headers=headers)\n",
    "    data = response.json()\n",
    "    \n",
    "    # Write the response to a response.json file\n",
    "    response_filepath = os.path.join(filepath, \"response.json\")\n",
    "    with open(response_filepath, \"w\") as file:\n",
    "        json.dump(data, file)\n",
    "\n",
    "    # Check if the category has any pages\n",
    "    if \"categorymembers\" in data[\"query\"]:\n",
    "        pages = data[\"query\"][\"categorymembers\"]\n",
    "\n",
    "        # Filter out pages and subcategories with 'bird' or 'Bird' in the title\n",
    "        pages = [page for page in pages if 'bird' not in page[\"title\"].lower()]\n",
    "\n",
    "        # Separate pages and subcategories\n",
    "        actual_pages = [page for page in pages if page[\"ns\"] == 0]\n",
    "        subcategories = [page for page in pages if page[\"ns\"] == 14]\n",
    "\n",
    "        # Process actual pages\n",
    "        for page in actual_pages:\n",
    "            page_title = page[\"title\"]\n",
    "            pageTitleSet.add(page_title)\n",
    "            page_id = page[\"pageid\"]\n",
    "            pageIdSet.add(page_id)\n",
    "\n",
    "        # Process subcategories\n",
    "        for subcategory in subcategories:\n",
    "            subcategory_id = subcategory[\"pageid\"]\n",
    "            if subcategory_id in categoryIdSet:\n",
    "                continue\n",
    "            categoryIdSet.add(subcategory_id)\n",
    "            subcategory_name = subcategory[\"title\"].replace(\"Category:\", \"\")\n",
    "            subcategory_path = os.path.join(filepath, subcategory_name)\n",
    "            # Recursively fetch pages from subcategories\n",
    "            fetch_category_pages(subcategory_name, subcategory_path, next_depth)"
   ]
  },
  {
   "cell_type": "code",
   "execution_count": 2,
   "metadata": {},
   "outputs": [
    {
     "name": "stdout",
     "output_type": "stream",
     "text": [
      "Count of pages by page titles: 127\n",
      "Count of pages by page id: 127\n",
      "Count of categories: 46\n"
     ]
    }
   ],
   "source": [
    "# fetch_category_pages(\"Dinosaurs\", \"/aux/data/wiki/Dinosaurs\", -1000)\n",
    "fetch_category_pages(\"Dinosaurs\", \"Dinosaurs\", 0)\n",
    "print(f\"Count of pages by page titles: {len(pageTitleSet)}\")\n",
    "print(f\"Count of pages by page id: {len(pageIdSet)}\")\n",
    "print(f\"Count of categories: {len(categoryIdSet)}\")"
   ]
  },
  {
   "cell_type": "code",
   "execution_count": null,
   "metadata": {},
   "outputs": [],
   "source": []
  }
 ],
 "metadata": {
  "kernelspec": {
   "display_name": "Python (argonk)",
   "language": "python",
   "name": "argonk"
  },
  "language_info": {
   "codemirror_mode": {
    "name": "ipython",
    "version": 3
   },
   "file_extension": ".py",
   "mimetype": "text/x-python",
   "name": "python",
   "nbconvert_exporter": "python",
   "pygments_lexer": "ipython3",
   "version": "3.12.4"
  }
 },
 "nbformat": 4,
 "nbformat_minor": 2
}
