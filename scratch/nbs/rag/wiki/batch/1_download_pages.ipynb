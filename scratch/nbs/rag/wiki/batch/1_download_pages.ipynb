{
 "cells": [
  {
   "cell_type": "code",
   "execution_count": 2,
   "metadata": {},
   "outputs": [],
   "source": [
    "import os\n",
    "import json\n",
    "import requests\n",
    "from time import sleep\n",
    "\n",
    "BATCH_SIZE = 60\n",
    "WIKIPEDIA_API_URL = \"https://en.wikipedia.org/w/api.php\"\n",
    "\n",
    "def fetch_pages(page_titles: list, output_dir: str) -> dict:\n",
    "    \"\"\"\n",
    "    Fetches the content of multiple Wikipedia pages and saves them in HTML files in the specified directory.\n",
    "    Returns a dictionary mapping page titles to file names.\n",
    "    \"\"\"\n",
    "    params = {\n",
    "        \"action\": \"query\",\n",
    "        \"titles\": \"|\".join(page_titles),\n",
    "        \"prop\": \"revisions\",\n",
    "        \"rvprop\": \"content\",\n",
    "        \"format\": \"json\",\n",
    "        \"formatversion\": \"2\"\n",
    "    }\n",
    "    response = requests.get(WIKIPEDIA_API_URL, params=params)\n",
    "    response.raise_for_status()\n",
    "    data = response.json()\n",
    "    \n",
    "    page_title_to_file_name = {}\n",
    "    for page in data[\"query\"][\"pages\"]:\n",
    "        page_title = page[\"title\"]\n",
    "        underscored_page_title = page_title.replace(\" \", \"_\")\n",
    "        file_name = f\"{underscored_page_title}.html\"\n",
    "        file_path = os.path.join(output_dir, file_name)\n",
    "        with open(file_path, \"w\") as file:\n",
    "            file.write(page[\"revisions\"][0][\"content\"])\n",
    "        page_title_to_file_name[page_title] = file_name\n",
    "    \n",
    "    return page_title_to_file_name\n",
    "\n",
    "def update_checkpoint(checkpoint_data: dict, checkpoint_file: str):\n",
    "    with open(checkpoint_file, 'w') as file:\n",
    "        json.dump(checkpoint_data, file, indent=4)\n",
    "\n",
    "def load_checkpoint(checkpoint_file: str) -> dict:\n",
    "    if not os.path.exists(checkpoint_file):\n",
    "        return {}\n",
    "    with open(checkpoint_file, 'r') as file:\n",
    "        return json.load(file)\n",
    "\n",
    "def process_batch(pages: list, directory: str, checkpoint_data: dict, checkpoint_file: str):\n",
    "    page_title_to_file_name = fetch_pages(pages, directory)\n",
    "    checkpoint_data.update(page_title_to_file_name)\n",
    "    update_checkpoint(checkpoint_data, checkpoint_file)\n",
    "\n",
    "def process_directory(directory: str):\n",
    "    response_file = os.path.join(directory, 'response.json')\n",
    "    checkpoint_file = os.path.join(directory, 'page_title_file_name_map.json')\n",
    "    \n",
    "    with open(response_file, 'r') as file:\n",
    "        response_data = json.load(file)\n",
    "    \n",
    "    checkpoint_data = load_checkpoint(checkpoint_file)\n",
    "    pages_to_process = [member['title'] for member in response_data['query']['categorymembers'] if member['ns'] == 0]\n",
    "    subcategories = [member['title'] for member in response_data['query']['categorymembers'] if member['ns'] == 14]\n",
    "    \n",
    "    # Process pages in batches\n",
    "    for i in range(0, len(pages_to_process), BATCH_SIZE):\n",
    "        batch = pages_to_process[i:i + BATCH_SIZE]\n",
    "        process_batch(batch, directory, checkpoint_data, checkpoint_file)\n",
    "        sleep(1)  # Politeness delay between batches\n",
    "\n",
    "    # Process subcategories\n",
    "    for subcategory in subcategories:\n",
    "        subcategory_dir = os.path.join(directory, subcategory.replace('Category:', ''))\n",
    "        if os.path.isdir(subcategory_dir):\n",
    "            process_directory(subcategory_dir)"
   ]
  },
  {
   "cell_type": "code",
   "execution_count": 3,
   "metadata": {},
   "outputs": [
    {
     "ename": "KeyError",
     "evalue": "'query'",
     "output_type": "error",
     "traceback": [
      "\u001b[0;31m---------------------------------------------------------------------------\u001b[0m",
      "\u001b[0;31mKeyError\u001b[0m                                  Traceback (most recent call last)",
      "Cell \u001b[0;32mIn[3], line 1\u001b[0m\n\u001b[0;32m----> 1\u001b[0m \u001b[43mprocess_directory\u001b[49m\u001b[43m(\u001b[49m\u001b[38;5;124;43m'\u001b[39;49m\u001b[38;5;124;43mDinosaurs\u001b[39;49m\u001b[38;5;124;43m'\u001b[39;49m\u001b[43m)\u001b[49m\n",
      "Cell \u001b[0;32mIn[2], line 74\u001b[0m, in \u001b[0;36mprocess_directory\u001b[0;34m(directory)\u001b[0m\n\u001b[1;32m     72\u001b[0m subcategory_dir \u001b[38;5;241m=\u001b[39m os\u001b[38;5;241m.\u001b[39mpath\u001b[38;5;241m.\u001b[39mjoin(directory, subcategory\u001b[38;5;241m.\u001b[39mreplace(\u001b[38;5;124m'\u001b[39m\u001b[38;5;124mCategory:\u001b[39m\u001b[38;5;124m'\u001b[39m, \u001b[38;5;124m'\u001b[39m\u001b[38;5;124m'\u001b[39m))\n\u001b[1;32m     73\u001b[0m \u001b[38;5;28;01mif\u001b[39;00m os\u001b[38;5;241m.\u001b[39mpath\u001b[38;5;241m.\u001b[39misdir(subcategory_dir):\n\u001b[0;32m---> 74\u001b[0m     \u001b[43mprocess_directory\u001b[49m\u001b[43m(\u001b[49m\u001b[43msubcategory_dir\u001b[49m\u001b[43m)\u001b[49m\n",
      "Cell \u001b[0;32mIn[2], line 67\u001b[0m, in \u001b[0;36mprocess_directory\u001b[0;34m(directory)\u001b[0m\n\u001b[1;32m     65\u001b[0m \u001b[38;5;28;01mfor\u001b[39;00m i \u001b[38;5;129;01min\u001b[39;00m \u001b[38;5;28mrange\u001b[39m(\u001b[38;5;241m0\u001b[39m, \u001b[38;5;28mlen\u001b[39m(pages_to_process), BATCH_SIZE):\n\u001b[1;32m     66\u001b[0m     batch \u001b[38;5;241m=\u001b[39m pages_to_process[i:i \u001b[38;5;241m+\u001b[39m BATCH_SIZE]\n\u001b[0;32m---> 67\u001b[0m     \u001b[43mprocess_batch\u001b[49m\u001b[43m(\u001b[49m\u001b[43mbatch\u001b[49m\u001b[43m,\u001b[49m\u001b[43m \u001b[49m\u001b[43mdirectory\u001b[49m\u001b[43m,\u001b[49m\u001b[43m \u001b[49m\u001b[43mcheckpoint_data\u001b[49m\u001b[43m,\u001b[49m\u001b[43m \u001b[49m\u001b[43mcheckpoint_file\u001b[49m\u001b[43m)\u001b[49m\n\u001b[1;32m     68\u001b[0m     sleep(\u001b[38;5;241m1\u001b[39m)  \u001b[38;5;66;03m# Politeness delay between batches\u001b[39;00m\n\u001b[1;32m     70\u001b[0m \u001b[38;5;66;03m# Process subcategories\u001b[39;00m\n",
      "Cell \u001b[0;32mIn[2], line 49\u001b[0m, in \u001b[0;36mprocess_batch\u001b[0;34m(pages, directory, checkpoint_data, checkpoint_file)\u001b[0m\n\u001b[1;32m     48\u001b[0m \u001b[38;5;28;01mdef\u001b[39;00m \u001b[38;5;21mprocess_batch\u001b[39m(pages: \u001b[38;5;28mlist\u001b[39m, directory: \u001b[38;5;28mstr\u001b[39m, checkpoint_data: \u001b[38;5;28mdict\u001b[39m, checkpoint_file: \u001b[38;5;28mstr\u001b[39m):\n\u001b[0;32m---> 49\u001b[0m     page_title_to_file_name \u001b[38;5;241m=\u001b[39m \u001b[43mfetch_pages\u001b[49m\u001b[43m(\u001b[49m\u001b[43mpages\u001b[49m\u001b[43m,\u001b[49m\u001b[43m \u001b[49m\u001b[43mdirectory\u001b[49m\u001b[43m)\u001b[49m\n\u001b[1;32m     50\u001b[0m     checkpoint_data\u001b[38;5;241m.\u001b[39mupdate(page_title_to_file_name)\n\u001b[1;32m     51\u001b[0m     update_checkpoint(checkpoint_data, checkpoint_file)\n",
      "Cell \u001b[0;32mIn[2], line 27\u001b[0m, in \u001b[0;36mfetch_pages\u001b[0;34m(page_titles, output_dir)\u001b[0m\n\u001b[1;32m     24\u001b[0m data \u001b[38;5;241m=\u001b[39m response\u001b[38;5;241m.\u001b[39mjson()\n\u001b[1;32m     26\u001b[0m page_title_to_file_name \u001b[38;5;241m=\u001b[39m {}\n\u001b[0;32m---> 27\u001b[0m \u001b[38;5;28;01mfor\u001b[39;00m page \u001b[38;5;129;01min\u001b[39;00m \u001b[43mdata\u001b[49m\u001b[43m[\u001b[49m\u001b[38;5;124;43m\"\u001b[39;49m\u001b[38;5;124;43mquery\u001b[39;49m\u001b[38;5;124;43m\"\u001b[39;49m\u001b[43m]\u001b[49m[\u001b[38;5;124m\"\u001b[39m\u001b[38;5;124mpages\u001b[39m\u001b[38;5;124m\"\u001b[39m]:\n\u001b[1;32m     28\u001b[0m     page_title \u001b[38;5;241m=\u001b[39m page[\u001b[38;5;124m\"\u001b[39m\u001b[38;5;124mtitle\u001b[39m\u001b[38;5;124m\"\u001b[39m]\n\u001b[1;32m     29\u001b[0m     underscored_page_title \u001b[38;5;241m=\u001b[39m page_title\u001b[38;5;241m.\u001b[39mreplace(\u001b[38;5;124m\"\u001b[39m\u001b[38;5;124m \u001b[39m\u001b[38;5;124m\"\u001b[39m, \u001b[38;5;124m\"\u001b[39m\u001b[38;5;124m_\u001b[39m\u001b[38;5;124m\"\u001b[39m)\n",
      "\u001b[0;31mKeyError\u001b[0m: 'query'"
     ]
    }
   ],
   "source": [
    "process_directory('Dinosaurs')"
   ]
  },
  {
   "cell_type": "markdown",
   "metadata": {},
   "source": [
    "Abandon experiment for later:\n",
    "- Main issue is that the downloaded docs are not cleaned of unwanted tags. Lot of preprocessing may be required to get the desired result.\n",
    "- Investigate key error in above process"
   ]
  },
  {
   "cell_type": "code",
   "execution_count": null,
   "metadata": {},
   "outputs": [],
   "source": []
  }
 ],
 "metadata": {
  "kernelspec": {
   "display_name": "Python (argonk)",
   "language": "python",
   "name": "argonk"
  },
  "language_info": {
   "codemirror_mode": {
    "name": "ipython",
    "version": 3
   },
   "file_extension": ".py",
   "mimetype": "text/x-python",
   "name": "python",
   "nbconvert_exporter": "python",
   "pygments_lexer": "ipython3",
   "version": "3.12.4"
  }
 },
 "nbformat": 4,
 "nbformat_minor": 2
}
