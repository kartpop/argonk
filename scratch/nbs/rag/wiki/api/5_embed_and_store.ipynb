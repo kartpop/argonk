{
 "cells": [
  {
   "cell_type": "markdown",
   "metadata": {},
   "source": [
    "### Embed and store\n",
    "- Convert fetched html of wiki page using TextFileToDocument\n",
    "- Run document through custom wiki page chunker \n",
    "- Embed chunks using OpenAIEmbedding\n",
    "- Store document chunks using WeaviateDocumentStore "
   ]
  },
  {
   "cell_type": "markdown",
   "metadata": {},
   "source": [
    "Helpers\n"
   ]
  },
  {
   "cell_type": "code",
   "execution_count": 18,
   "metadata": {},
   "outputs": [],
   "source": [
    "from bs4 import BeautifulSoup\n",
    "import re\n",
    "from typing import List\n",
    "\n",
    "def WikiPageChunks(html_str: str) -> List:\n",
    "    soup = BeautifulSoup(html_str, 'html.parser')\n",
    "\n",
    "    chunks = []\n",
    "\n",
    "    def clean_text(text):\n",
    "        cleaned_text = text.replace('\\n', ' ').replace('\\xa0', ' ')\n",
    "        cleaned_text = re.sub(r'\\s+', ' ', cleaned_text)\n",
    "        cleaned_text = re.sub(r'(\\d)\\s+(\\d)', r'\\1\\2', cleaned_text)\n",
    "        cleaned_text = cleaned_text.strip()\n",
    "        return cleaned_text\n",
    "\n",
    "    html_soup = soup.body or soup\n",
    "    nested = ['ul', 'ol', 'dl', 'li', 'dt', 'dd']\n",
    "    for tag in html_soup.find_all(recursive=False):\n",
    "        if tag.name == 'p':\n",
    "            chunks.append(clean_text(tag.get_text(separator=' ')))\n",
    "        elif tag.name == 'link':\n",
    "            continue\n",
    "        elif tag.name in nested:\n",
    "            list_items = tag.find_all('li')\n",
    "            list_text = ' '.join([f\"- {clean_text(li.get_text(separator=' '))}\" for li in list_items])\n",
    "            chunks.append(list_text)\n",
    "        else:\n",
    "            chunks.append(str(tag))\n",
    "    \n",
    "    return chunks"
   ]
  },
  {
   "cell_type": "code",
   "execution_count": 19,
   "metadata": {},
   "outputs": [],
   "source": [
    "from haystack import Document\n",
    "from haystack import component\n",
    "import uuid\n",
    "\n",
    "@component\n",
    "class WikiPageChunker:\n",
    "    \"\"\"\n",
    "    A component that splits the content of Wikipedia pages into chunks.\n",
    "    The document content is expected to be in HTML format fetched via wikipediaapi and\n",
    "    which has been run through TextFileToDocument converter.\n",
    "    \"\"\"\n",
    "    @component.output_types(documents=List[Document])\n",
    "    def run(self, documents: List[Document]):\n",
    "        chunks = []\n",
    "        for doc in documents:\n",
    "            html_content = doc.content\n",
    "            page_chunks = WikiPageChunks(html_content)\n",
    "            for i, chunk in enumerate(page_chunks):\n",
    "                if chunk != \"\":\n",
    "                    chunks.append(\n",
    "                        Document(\n",
    "                            id=str(uuid.uuid4()),\n",
    "                            content=chunk,\n",
    "                            meta={\"file_path\": doc.meta[\"file_path\"], \n",
    "                                \"source_id\": doc.id,\n",
    "                                \"split_id\": i}  # i can be discontinuous due to 'if chunk 1 != \"\"' condition\n",
    "                        )\n",
    "                    )\n",
    "        \n",
    "        return {\"documents\": chunks} "
   ]
  },
  {
   "cell_type": "markdown",
   "metadata": {},
   "source": [
    "### Pipeline: text to embeddings - OpenAIDocumentEmbedder"
   ]
  },
  {
   "cell_type": "code",
   "execution_count": 23,
   "metadata": {},
   "outputs": [
    {
     "name": "stderr",
     "output_type": "stream",
     "text": [
      "Calculating embeddings: 100%|██████████| 5/5 [00:05<00:00,  1.11s/it]\n"
     ]
    },
    {
     "data": {
      "text/plain": [
       "{'embedder': {'documents': [Document(id=d8461939-6728-4732-b84c-0b0bde1bd6ca, content: 'Dinosaurs are a diverse group of reptiles of the clade Dinosauria . They first appeared during the T...', meta: {'file_path': 'dinosaur-page.html', 'source_id': 'cccb7d931975c65babedb9ad3867015939fba680621923f60517da5e5dea3c32', 'split_id': 1}, embedding: vector of size 1536),\n",
       "   Document(id=578a7f2d-86ce-4143-90c2-ba2952db4693, content: 'Dinosaurs are varied from taxonomic, morphological and ecological standpoints. Birds, at over 11,000...', meta: {'file_path': 'dinosaur-page.html', 'source_id': 'cccb7d931975c65babedb9ad3867015939fba680621923f60517da5e5dea3c32', 'split_id': 2}, embedding: vector of size 1536),\n",
       "   Document(id=a9230f7b-113d-4fbf-beb6-261a88936aa4, content: 'While dinosaurs were ancestrally bipedal, many extinct groups included quadrupedal species, and some...', meta: {'file_path': 'dinosaur-page.html', 'source_id': 'cccb7d931975c65babedb9ad3867015939fba680621923f60517da5e5dea3c32', 'split_id': 3}, embedding: vector of size 1536),\n",
       "   Document(id=86cd165e-eac5-45f5-87cc-1d9532b017ea, content: 'The first dinosaur fossils were recognized in the early 19th century, with the name \"dinosaur\" (mean...', meta: {'file_path': 'dinosaur-page.html', 'source_id': 'cccb7d931975c65babedb9ad3867015939fba680621923f60517da5e5dea3c32', 'split_id': 4}, embedding: vector of size 1536),\n",
       "   Document(id=1b4c4c73-baa7-4b49-b31b-4369e6abdf0a, content: '<h2>Definition</h2>', meta: {'file_path': 'dinosaur-page.html', 'source_id': 'cccb7d931975c65babedb9ad3867015939fba680621923f60517da5e5dea3c32', 'split_id': 5}, embedding: vector of size 1536),\n",
       "   Document(id=af7e6c14-cb16-47bb-adb4-fcf03f5d4642, content: 'Under phylogenetic nomenclature, dinosaurs are usually defined as the group consisting of the most r...', meta: {'file_path': 'dinosaur-page.html', 'source_id': 'cccb7d931975c65babedb9ad3867015939fba680621923f60517da5e5dea3c32', 'split_id': 6}, embedding: vector of size 1536),\n",
       "   Document(id=0f347bd1-bdcd-4805-8791-3c9801e2c76d, content: 'Birds are the sole surviving dinosaurs. In traditional taxonomy, birds were considered a separate cl...', meta: {'file_path': 'dinosaur-page.html', 'source_id': 'cccb7d931975c65babedb9ad3867015939fba680621923f60517da5e5dea3c32', 'split_id': 7}, embedding: vector of size 1536),\n",
       "   Document(id=da07ada4-d29f-428a-bd98-4eba090e46c7, content: 'Research by Matthew G. Baron, David B. Norman, and Paul M. Barrett in 2017 suggested a radical revis...', meta: {'file_path': 'dinosaur-page.html', 'source_id': 'cccb7d931975c65babedb9ad3867015939fba680621923f60517da5e5dea3c32', 'split_id': 8}, embedding: vector of size 1536),\n",
       "   Document(id=9fcac8e8-8476-4667-bdd3-1507bb192a43, content: '<h3>General description</h3>', meta: {'file_path': 'dinosaur-page.html', 'source_id': 'cccb7d931975c65babedb9ad3867015939fba680621923f60517da5e5dea3c32', 'split_id': 9}, embedding: vector of size 1536),\n",
       "   Document(id=24ee1f19-4909-4d11-b13a-a388c8d216aa, content: 'Using one of the above definitions, dinosaurs can be generally described as archosaurs with hind lim...', meta: {'file_path': 'dinosaur-page.html', 'source_id': 'cccb7d931975c65babedb9ad3867015939fba680621923f60517da5e5dea3c32', 'split_id': 10}, embedding: vector of size 1536),\n",
       "   Document(id=c244a883-87b0-43bd-ac80-7dec6ecf3f3c, content: 'Dinosaurs were the dominant terrestrial vertebrates of the Mesozoic Era, especially the Jurassic and...', meta: {'file_path': 'dinosaur-page.html', 'source_id': 'cccb7d931975c65babedb9ad3867015939fba680621923f60517da5e5dea3c32', 'split_id': 11}, embedding: vector of size 1536),\n",
       "   Document(id=85fd0537-4c41-45b3-8e7f-4ddecb1bf0f3, content: 'Extinct dinosaurs, as well as modern birds, include genera that are herbivorous and others carnivoro...', meta: {'file_path': 'dinosaur-page.html', 'source_id': 'cccb7d931975c65babedb9ad3867015939fba680621923f60517da5e5dea3c32', 'split_id': 12}, embedding: vector of size 1536),\n",
       "   Document(id=66af548c-be24-440a-8a98-67f228f8aa21, content: '<h3>Distinguishing anatomical features</h3>', meta: {'file_path': 'dinosaur-page.html', 'source_id': 'cccb7d931975c65babedb9ad3867015939fba680621923f60517da5e5dea3c32', 'split_id': 13}, embedding: vector of size 1536),\n",
       "   Document(id=cd431835-e535-42ad-ac91-b9848bc5df14, content: 'While recent discoveries have made it more difficult to present a universally agreed-upon list of th...', meta: {'file_path': 'dinosaur-page.html', 'source_id': 'cccb7d931975c65babedb9ad3867015939fba680621923f60517da5e5dea3c32', 'split_id': 14}, embedding: vector of size 1536),\n",
       "   Document(id=5eaa5ab2-4f19-48a3-8109-342eed05bea8, content: 'A detailed assessment of archosaur interrelations by Sterling Nesbitt confirmed or found the followi...', meta: {'file_path': 'dinosaur-page.html', 'source_id': 'cccb7d931975c65babedb9ad3867015939fba680621923f60517da5e5dea3c32', 'split_id': 15}, embedding: vector of size 1536),\n",
       "   Document(id=7eb2e80a-2233-4843-971e-20b9c62625e9, content: '- In the skull, a supratemporal fossa (excavation) is present in front of the supratemporal fenestra...', meta: {'file_path': 'dinosaur-page.html', 'source_id': 'cccb7d931975c65babedb9ad3867015939fba680621923f60517da5e5dea3c32', 'split_id': 16}, embedding: vector of size 1536),\n",
       "   Document(id=f3ba3e9b-8e46-48b0-8845-4d3d4ae9f397, content: 'Nesbitt found a number of further potential synapomorphies and discounted a number of synapomorphies...', meta: {'file_path': 'dinosaur-page.html', 'source_id': 'cccb7d931975c65babedb9ad3867015939fba680621923f60517da5e5dea3c32', 'split_id': 17}, embedding: vector of size 1536),\n",
       "   Document(id=0bdd9fed-82ba-4f93-8ad7-29e8fd0f11fb, content: 'A variety of other skeletal features are shared by dinosaurs. However, because they either are commo...', meta: {'file_path': 'dinosaur-page.html', 'source_id': 'cccb7d931975c65babedb9ad3867015939fba680621923f60517da5e5dea3c32', 'split_id': 18}, embedding: vector of size 1536),\n",
       "   Document(id=57fa9a35-e434-4e3d-b764-5a0399f0744f, content: 'Dinosaurs stand with their hind limbs erect in a manner similar to most modern mammals, but distinct...', meta: {'file_path': 'dinosaur-page.html', 'source_id': 'cccb7d931975c65babedb9ad3867015939fba680621923f60517da5e5dea3c32', 'split_id': 19}, embedding: vector of size 1536),\n",
       "   Document(id=19a0a599-9fee-4bac-b20f-82e9dfe94a26, content: '<h2>History of study</h2>', meta: {'file_path': 'dinosaur-page.html', 'source_id': 'cccb7d931975c65babedb9ad3867015939fba680621923f60517da5e5dea3c32', 'split_id': 20}, embedding: vector of size 1536),\n",
       "   Document(id=cf48ff94-63d2-4876-9b9b-66528a4b5dd4, content: '<h3>Pre-scientific history</h3>', meta: {'file_path': 'dinosaur-page.html', 'source_id': 'cccb7d931975c65babedb9ad3867015939fba680621923f60517da5e5dea3c32', 'split_id': 21}, embedding: vector of size 1536),\n",
       "   Document(id=c2579823-8c29-46de-9611-a1c0101e8d4e, content: 'Dinosaur fossils have been known for millennia, although their true nature was not recognized. The C...', meta: {'file_path': 'dinosaur-page.html', 'source_id': 'cccb7d931975c65babedb9ad3867015939fba680621923f60517da5e5dea3c32', 'split_id': 22}, embedding: vector of size 1536),\n",
       "   Document(id=6e0d37b6-4656-4a3b-922c-6aa748a5d132, content: '<h3>Early dinosaur research</h3>', meta: {'file_path': 'dinosaur-page.html', 'source_id': 'cccb7d931975c65babedb9ad3867015939fba680621923f60517da5e5dea3c32', 'split_id': 23}, embedding: vector of size 1536),\n",
       "   Document(id=def2aaa5-6490-4c72-bdd5-46cb0cd7e461, content: 'Scholarly descriptions of what would now be recognized as dinosaur bones first appeared in the late ...', meta: {'file_path': 'dinosaur-page.html', 'source_id': 'cccb7d931975c65babedb9ad3867015939fba680621923f60517da5e5dea3c32', 'split_id': 24}, embedding: vector of size 1536),\n",
       "   Document(id=66756fcc-a3bc-4f3c-bd01-7dfeb3fe069b, content: 'Between 1815 and 1824, the Rev William Buckland, the first Reader of Geology at the University of Ox...', meta: {'file_path': 'dinosaur-page.html', 'source_id': 'cccb7d931975c65babedb9ad3867015939fba680621923f60517da5e5dea3c32', 'split_id': 25}, embedding: vector of size 1536),\n",
       "   Document(id=51e72477-edbe-4deb-8681-155706e499cc, content: 'The study of these \"great fossil lizards\" soon became of great interest to European and American sci...', meta: {'file_path': 'dinosaur-page.html', 'source_id': 'cccb7d931975c65babedb9ad3867015939fba680621923f60517da5e5dea3c32', 'split_id': 26}, embedding: vector of size 1536),\n",
       "   Document(id=5bdeab93-324f-4b57-b2d5-0bcb6cec85bc, content: '<h3>Discoveries in North America</h3>', meta: {'file_path': 'dinosaur-page.html', 'source_id': 'cccb7d931975c65babedb9ad3867015939fba680621923f60517da5e5dea3c32', 'split_id': 27}, embedding: vector of size 1536),\n",
       "   Document(id=2b928331-d6bd-4908-b925-f0affd1d3bd4, content: 'In 1858, William Parker Foulke discovered the first known American dinosaur, in marl pits in the sma...', meta: {'file_path': 'dinosaur-page.html', 'source_id': 'cccb7d931975c65babedb9ad3867015939fba680621923f60517da5e5dea3c32', 'split_id': 28}, embedding: vector of size 1536),\n",
       "   Document(id=df30da8a-8659-46c2-a8ce-f8bd1cf424fb, content: 'Dinosaur mania was exemplified by the fierce rivalry between Edward Drinker Cope and Othniel Charles...', meta: {'file_path': 'dinosaur-page.html', 'source_id': 'cccb7d931975c65babedb9ad3867015939fba680621923f60517da5e5dea3c32', 'split_id': 29}, embedding: vector of size 1536),\n",
       "   Document(id=6d7625d1-10e3-4560-86b4-b5aa755c0b2f, content: '<h3>\"Dinosaur renaissance\" and beyond</h3>', meta: {'file_path': 'dinosaur-page.html', 'source_id': 'cccb7d931975c65babedb9ad3867015939fba680621923f60517da5e5dea3c32', 'split_id': 30}, embedding: vector of size 1536),\n",
       "   Document(id=61042b8e-59a9-4212-9a5e-a4ec773fb9dc, content: 'World War II caused a pause in palaeontological research; after the war, research attention was also...', meta: {'file_path': 'dinosaur-page.html', 'source_id': 'cccb7d931975c65babedb9ad3867015939fba680621923f60517da5e5dea3c32', 'split_id': 31}, embedding: vector of size 1536),\n",
       "   Document(id=6eea6010-62b7-4739-8ff6-29439a502846, content: 'New revelations were supported by an increase in dinosaur discoveries. Major new dinosaur discoverie...', meta: {'file_path': 'dinosaur-page.html', 'source_id': 'cccb7d931975c65babedb9ad3867015939fba680621923f60517da5e5dea3c32', 'split_id': 32}, embedding: vector of size 1536),\n",
       "   Document(id=5533c1a0-ca47-40da-b6f7-299c482d6e93, content: 'Prior to the dinosaur renaissance, dinosaurs were mostly classified using the traditional rank-based...', meta: {'file_path': 'dinosaur-page.html', 'source_id': 'cccb7d931975c65babedb9ad3867015939fba680621923f60517da5e5dea3c32', 'split_id': 33}, embedding: vector of size 1536),\n",
       "   Document(id=fa27dc35-a3ad-42b8-ad8e-c773124c3c44, content: '<h3>Soft tissue and molecular preservation</h3>', meta: {'file_path': 'dinosaur-page.html', 'source_id': 'cccb7d931975c65babedb9ad3867015939fba680621923f60517da5e5dea3c32', 'split_id': 34}, embedding: vector of size 1536),\n",
       "   Document(id=2ccb8571-e3d6-4803-9cf8-fc3074a8ad47, content: 'Dinosaur fossils are not limited to bones, but also include imprints or mineralized remains of skin ...', meta: {'file_path': 'dinosaur-page.html', 'source_id': 'cccb7d931975c65babedb9ad3867015939fba680621923f60517da5e5dea3c32', 'split_id': 35}, embedding: vector of size 1536),\n",
       "   Document(id=431d69d1-ed06-400c-9271-b34adbe578a9, content: 'Starting from the 1990s, major discoveries of exceptionally preserved fossils in deposits known as c...', meta: {'file_path': 'dinosaur-page.html', 'source_id': 'cccb7d931975c65babedb9ad3867015939fba680621923f60517da5e5dea3c32', 'split_id': 36}, embedding: vector of size 1536),\n",
       "   Document(id=72cccd67-c734-4916-b9ac-4038370ac2fd, content: 'Concurrently, a line of work led by Mary Higby Schweitzer, Jack Horner, and colleagues reported vari...', meta: {'file_path': 'dinosaur-page.html', 'source_id': 'cccb7d931975c65babedb9ad3867015939fba680621923f60517da5e5dea3c32', 'split_id': 37}, embedding: vector of size 1536),\n",
       "   Document(id=4079abb1-3083-40df-a274-924a9b6de0e3, content: '<h2>Evolutionary history</h2>', meta: {'file_path': 'dinosaur-page.html', 'source_id': 'cccb7d931975c65babedb9ad3867015939fba680621923f60517da5e5dea3c32', 'split_id': 38}, embedding: vector of size 1536),\n",
       "   Document(id=db070289-48de-4295-8718-008b3ca08724, content: '<h3>Origins and early evolution</h3>', meta: {'file_path': 'dinosaur-page.html', 'source_id': 'cccb7d931975c65babedb9ad3867015939fba680621923f60517da5e5dea3c32', 'split_id': 39}, embedding: vector of size 1536),\n",
       "   Document(id=04258b14-bed3-4415-bc8c-2ea166572ff8, content: 'Dinosaurs diverged from their archosaur ancestors during the Middle to Late Triassic epochs, roughly...', meta: {'file_path': 'dinosaur-page.html', 'source_id': 'cccb7d931975c65babedb9ad3867015939fba680621923f60517da5e5dea3c32', 'split_id': 40}, embedding: vector of size 1536),\n",
       "   Document(id=bc17ffa2-c670-4b14-8567-9d9e83e59fff, content: 'The Ischigualasto Formation (radiometrically dated at 231-230 million years old) has produced the ea...', meta: {'file_path': 'dinosaur-page.html', 'source_id': 'cccb7d931975c65babedb9ad3867015939fba680621923f60517da5e5dea3c32', 'split_id': 41}, embedding: vector of size 1536),\n",
       "   Document(id=eada83ee-7c72-4661-91aa-a9aee4e8e080, content: 'Less well-preserved remains of the sauropodomorphs Jaklapallisaurus and Nambalia , along with the ea...', meta: {'file_path': 'dinosaur-page.html', 'source_id': 'cccb7d931975c65babedb9ad3867015939fba680621923f60517da5e5dea3c32', 'split_id': 42}, embedding: vector of size 1536),\n",
       "   Document(id=f43d3bc7-5573-4c8c-9afe-b1bb6916b8b0, content: 'When dinosaurs appeared, they were not the dominant terrestrial animals. The terrestrial habitats we...', meta: {'file_path': 'dinosaur-page.html', 'source_id': 'cccb7d931975c65babedb9ad3867015939fba680621923f60517da5e5dea3c32', 'split_id': 43}, embedding: vector of size 1536),\n",
       "   Document(id=085a573e-8f48-46b5-b4fa-5c93f07a651c, content: '<h3>Evolution and paleobiogeography</h3>', meta: {'file_path': 'dinosaur-page.html', 'source_id': 'cccb7d931975c65babedb9ad3867015939fba680621923f60517da5e5dea3c32', 'split_id': 44}, embedding: vector of size 1536),\n",
       "   Document(id=bd5026e9-16b7-4e74-b572-6ce01dde2398, content: 'Dinosaur evolution after the Triassic followed changes in vegetation and the location of continents....', meta: {'file_path': 'dinosaur-page.html', 'source_id': 'cccb7d931975c65babedb9ad3867015939fba680621923f60517da5e5dea3c32', 'split_id': 45}, embedding: vector of size 1536),\n",
       "   Document(id=dbc9d4b5-3c6b-4d77-a7ea-7fd9c7d00910, content: 'By the Early Cretaceous and the ongoing breakup of Pangaea, dinosaurs were becoming strongly differe...', meta: {'file_path': 'dinosaur-page.html', 'source_id': 'cccb7d931975c65babedb9ad3867015939fba680621923f60517da5e5dea3c32', 'split_id': 46}, embedding: vector of size 1536),\n",
       "   Document(id=fc8fb35d-628a-4912-a5e2-caa580ccb69d, content: 'There were three general dinosaur faunas in the Late Cretaceous. In the northern continents of North...', meta: {'file_path': 'dinosaur-page.html', 'source_id': 'cccb7d931975c65babedb9ad3867015939fba680621923f60517da5e5dea3c32', 'split_id': 47}, embedding: vector of size 1536),\n",
       "   Document(id=91c353af-7c8d-4a8a-8bf8-a69e7b9b6380, content: 'The Cretaceous–Paleogene extinction event, which occurred approximately 66 million years ago at the ...', meta: {'file_path': 'dinosaur-page.html', 'source_id': 'cccb7d931975c65babedb9ad3867015939fba680621923f60517da5e5dea3c32', 'split_id': 48}, embedding: vector of size 1536),\n",
       "   Document(id=f547e1a9-5951-48ef-b596-0e71854ac25b, content: 'The surviving lineages of neornithine birds, including the ancestors of modern ratites, ducks and ch...', meta: {'file_path': 'dinosaur-page.html', 'source_id': 'cccb7d931975c65babedb9ad3867015939fba680621923f60517da5e5dea3c32', 'split_id': 49}, embedding: vector of size 1536),\n",
       "   Document(id=2c3b5725-3fad-4fda-aa13-4407bd34f7da, content: '<h2>Classification</h2>', meta: {'file_path': 'dinosaur-page.html', 'source_id': 'cccb7d931975c65babedb9ad3867015939fba680621923f60517da5e5dea3c32', 'split_id': 50}, embedding: vector of size 1536),\n",
       "   Document(id=a8128ec0-003e-4367-a7c4-9fbcd0c5c328, content: 'Dinosaurs belong to a group known as archosaurs, which also includes modern crocodilians. Within the...', meta: {'file_path': 'dinosaur-page.html', 'source_id': 'cccb7d931975c65babedb9ad3867015939fba680621923f60517da5e5dea3c32', 'split_id': 51}, embedding: vector of size 1536),\n",
       "   Document(id=4f28d477-fd9a-49fb-b478-fee6990e9734, content: 'Collectively, dinosaurs as a clade are divided into two primary branches, Saurischia and Ornithischi...', meta: {'file_path': 'dinosaur-page.html', 'source_id': 'cccb7d931975c65babedb9ad3867015939fba680621923f60517da5e5dea3c32', 'split_id': 52}, embedding: vector of size 1536),\n",
       "   Document(id=ee95e640-a62f-420d-bfec-e08a4f1bde8e, content: 'By contrast, ornithischians—\"bird-hipped\", from the Greek ornitheios (ὀρνίθειος) meaning \"of a bird\"...', meta: {'file_path': 'dinosaur-page.html', 'source_id': 'cccb7d931975c65babedb9ad3867015939fba680621923f60517da5e5dea3c32', 'split_id': 53}, embedding: vector of size 1536),\n",
       "   Document(id=bf70256d-024f-4da0-a22e-e8efa7afb7bd, content: 'Despite the terms \"bird hip\" (Ornithischia) and \"lizard hip\" (Saurischia), birds are not part of Orn...', meta: {'file_path': 'dinosaur-page.html', 'source_id': 'cccb7d931975c65babedb9ad3867015939fba680621923f60517da5e5dea3c32', 'split_id': 54}, embedding: vector of size 1536),\n",
       "   Document(id=2b02bed5-abcb-409e-b1c4-b202a6b21008, content: '<h3>Taxonomy</h3>', meta: {'file_path': 'dinosaur-page.html', 'source_id': 'cccb7d931975c65babedb9ad3867015939fba680621923f60517da5e5dea3c32', 'split_id': 55}, embedding: vector of size 1536),\n",
       "   Document(id=e46aa0be-2240-4980-bf08-410dcfb5c754, content: 'The following is a simplified classification of dinosaur groups based on their evolutionary relation...', meta: {'file_path': 'dinosaur-page.html', 'source_id': 'cccb7d931975c65babedb9ad3867015939fba680621923f60517da5e5dea3c32', 'split_id': 56}, embedding: vector of size 1536),\n",
       "   Document(id=e44f8d70-80c8-47b1-9c7b-2cf836281e8f, content: '- Dinosauria', meta: {'file_path': 'dinosaur-page.html', 'source_id': 'cccb7d931975c65babedb9ad3867015939fba680621923f60517da5e5dea3c32', 'split_id': 57}, embedding: vector of size 1536),\n",
       "   Document(id=cd0bf929-20cd-48ff-80b6-7bd528cc593f, content: '- †Ornithischia (\"bird-hipped\"; diverse bipedal and quadrupedal herbivores) - †Saphornithischia (\"tr...', meta: {'file_path': 'dinosaur-page.html', 'source_id': 'cccb7d931975c65babedb9ad3867015939fba680621923f60517da5e5dea3c32', 'split_id': 58}, embedding: vector of size 1536),\n",
       "   Document(id=88343b5a-f576-4a1c-a8a3-14f806761a7d, content: '- †Pachycephalosauria (bipeds with domed or knobby growth on skulls) - †Ceratopsia (bipeds and quadr...', meta: {'file_path': 'dinosaur-page.html', 'source_id': 'cccb7d931975c65babedb9ad3867015939fba680621923f60517da5e5dea3c32', 'split_id': 59}, embedding: vector of size 1536),\n",
       "   Document(id=82afae39-12a0-43f1-9cfa-4f95601d04af, content: '- †Sauropodomorpha (herbivores with small heads, long necks, and long tails) - †Unaysauridae (primit...', meta: {'file_path': 'dinosaur-page.html', 'source_id': 'cccb7d931975c65babedb9ad3867015939fba680621923f60517da5e5dea3c32', 'split_id': 60}, embedding: vector of size 1536),\n",
       "   Document(id=8fecb67b-c40e-47e5-97f7-ff30a97c28ad, content: '- †Alvarezsauroidea (small hunters with reduced forelimbs) - †Alvarezsauridae (insectivores with onl...', meta: {'file_path': 'dinosaur-page.html', 'source_id': 'cccb7d931975c65babedb9ad3867015939fba680621923f60517da5e5dea3c32', 'split_id': 61}, embedding: vector of size 1536),\n",
       "   Document(id=81b18a1d-d42a-45f1-ab45-5f6385403132, content: '<h3>Timeline of major groups</h3>', meta: {'file_path': 'dinosaur-page.html', 'source_id': 'cccb7d931975c65babedb9ad3867015939fba680621923f60517da5e5dea3c32', 'split_id': 62}, embedding: vector of size 1536),\n",
       "   Document(id=d6098852-b78e-417b-b143-db8c74ef8262, content: 'Timeline of major dinosaur groups per Holtz (2007).', meta: {'file_path': 'dinosaur-page.html', 'source_id': 'cccb7d931975c65babedb9ad3867015939fba680621923f60517da5e5dea3c32', 'split_id': 63}, embedding: vector of size 1536),\n",
       "   Document(id=03453785-d8a1-4dff-ba2e-32d57df55b50, content: '<h2>Paleobiology</h2>', meta: {'file_path': 'dinosaur-page.html', 'source_id': 'cccb7d931975c65babedb9ad3867015939fba680621923f60517da5e5dea3c32', 'split_id': 64}, embedding: vector of size 1536),\n",
       "   Document(id=e469cfc7-2f16-4fa0-a557-6175ea4fa974, content: 'Knowledge about dinosaurs is derived from a variety of fossil and non-fossil records, including foss...', meta: {'file_path': 'dinosaur-page.html', 'source_id': 'cccb7d931975c65babedb9ad3867015939fba680621923f60517da5e5dea3c32', 'split_id': 65}, embedding: vector of size 1536),\n",
       "   Document(id=1f6b288a-9e34-488a-b647-1a8627228fb3, content: '<h3>Size</h3>', meta: {'file_path': 'dinosaur-page.html', 'source_id': 'cccb7d931975c65babedb9ad3867015939fba680621923f60517da5e5dea3c32', 'split_id': 66}, embedding: vector of size 1536),\n",
       "   Document(id=e3c5c45f-0468-49c3-aa42-0d016bb326be, content: 'Current evidence suggests that dinosaur average size varied through the Triassic, Early Jurassic, La...', meta: {'file_path': 'dinosaur-page.html', 'source_id': 'cccb7d931975c65babedb9ad3867015939fba680621923f60517da5e5dea3c32', 'split_id': 67}, embedding: vector of size 1536),\n",
       "   Document(id=dc47cd3f-273e-4c57-8160-9626de602f31, content: 'The sauropods were the largest and heaviest dinosaurs. For much of the dinosaur era, the smallest sa...', meta: {'file_path': 'dinosaur-page.html', 'source_id': 'cccb7d931975c65babedb9ad3867015939fba680621923f60517da5e5dea3c32', 'split_id': 68}, embedding: vector of size 1536),\n",
       "   Document(id=f9067405-c9fb-4d82-bb69-fbab949f79da, content: '<h4>Largest and smallest</h4>', meta: {'file_path': 'dinosaur-page.html', 'source_id': 'cccb7d931975c65babedb9ad3867015939fba680621923f60517da5e5dea3c32', 'split_id': 69}, embedding: vector of size 1536),\n",
       "   Document(id=046424b2-8f5a-4d95-bc80-e756c23e1d8f, content: 'Scientists will probably never be certain of the largest and smallest dinosaurs to have ever existed...', meta: {'file_path': 'dinosaur-page.html', 'source_id': 'cccb7d931975c65babedb9ad3867015939fba680621923f60517da5e5dea3c32', 'split_id': 70}, embedding: vector of size 1536),\n",
       "   Document(id=daeb4c34-af4b-4189-ac1f-c24e8a446565, content: 'The tallest and heaviest dinosaur known from good skeletons is Giraffatitan brancai (previously clas...', meta: {'file_path': 'dinosaur-page.html', 'source_id': 'cccb7d931975c65babedb9ad3867015939fba680621923f60517da5e5dea3c32', 'split_id': 71}, embedding: vector of size 1536),\n",
       "   Document(id=3f987a96-9b33-4af7-9698-4d834cdf525b, content: 'There were larger dinosaurs, but knowledge of them is based entirely on a small number of fragmentar...', meta: {'file_path': 'dinosaur-page.html', 'source_id': 'cccb7d931975c65babedb9ad3867015939fba680621923f60517da5e5dea3c32', 'split_id': 72}, embedding: vector of size 1536),\n",
       "   Document(id=35135aef-08b6-4e5f-ac04-6fbdb480d0db, content: 'The largest carnivorous dinosaur was Spinosaurus , reaching a length of 12.6 to 18 meters (41 to 59 ...', meta: {'file_path': 'dinosaur-page.html', 'source_id': 'cccb7d931975c65babedb9ad3867015939fba680621923f60517da5e5dea3c32', 'split_id': 73}, embedding: vector of size 1536),\n",
       "   Document(id=8d39953c-eda6-47a5-a540-ec522693a377, content: 'The smallest dinosaur known is the bee hummingbird, with a length of only 5 centimeters (2.0 in) and...', meta: {'file_path': 'dinosaur-page.html', 'source_id': 'cccb7d931975c65babedb9ad3867015939fba680621923f60517da5e5dea3c32', 'split_id': 74}, embedding: vector of size 1536),\n",
       "   Document(id=3e8fb870-9e77-47db-b46e-f2e3d46105aa, content: '<h3>Behavior</h3>', meta: {'file_path': 'dinosaur-page.html', 'source_id': 'cccb7d931975c65babedb9ad3867015939fba680621923f60517da5e5dea3c32', 'split_id': 75}, embedding: vector of size 1536),\n",
       "   Document(id=7dcf6a30-d1e0-4432-92ef-8b283a265dd6, content: 'Many modern birds are highly social, often found living in flocks. There is general agreement that s...', meta: {'file_path': 'dinosaur-page.html', 'source_id': 'cccb7d931975c65babedb9ad3867015939fba680621923f60517da5e5dea3c32', 'split_id': 76}, embedding: vector of size 1536),\n",
       "   Document(id=4524f92c-11a6-4c49-82f7-224215be94b8, content: 'The first potential evidence for herding or flocking as a widespread behavior common to many dinosau...', meta: {'file_path': 'dinosaur-page.html', 'source_id': 'cccb7d931975c65babedb9ad3867015939fba680621923f60517da5e5dea3c32', 'split_id': 77}, embedding: vector of size 1536),\n",
       "   Document(id=d32b8bd5-b2c2-47b2-a0d9-a1c7a50d6906, content: 'The crests and frills of some dinosaurs, like the marginocephalians, theropods and lambeosaurines, m...', meta: {'file_path': 'dinosaur-page.html', 'source_id': 'cccb7d931975c65babedb9ad3867015939fba680621923f60517da5e5dea3c32', 'split_id': 78}, embedding: vector of size 1536),\n",
       "   Document(id=40b3807f-714f-4fb5-830e-cfbde19cffd1, content: 'From a behavioral standpoint, one of the most valuable dinosaur fossils was discovered in the Gobi D...', meta: {'file_path': 'dinosaur-page.html', 'source_id': 'cccb7d931975c65babedb9ad3867015939fba680621923f60517da5e5dea3c32', 'split_id': 79}, embedding: vector of size 1536),\n",
       "   Document(id=8ed4eb2d-358d-4678-995d-439fdc7718b1, content: 'Comparisons between the scleral rings of dinosaurs and modern birds and reptiles have been used to i...', meta: {'file_path': 'dinosaur-page.html', 'source_id': 'cccb7d931975c65babedb9ad3867015939fba680621923f60517da5e5dea3c32', 'split_id': 80}, embedding: vector of size 1536),\n",
       "   Document(id=8d07cdb7-b1be-4229-9059-1fc06d7fc68c, content: 'Based on fossil evidence from dinosaurs such as Oryctodromeus , some ornithischian species seem to h...', meta: {'file_path': 'dinosaur-page.html', 'source_id': 'cccb7d931975c65babedb9ad3867015939fba680621923f60517da5e5dea3c32', 'split_id': 81}, embedding: vector of size 1536),\n",
       "   Document(id=aa9bdf35-b773-447c-a37c-1cd57bdb5cff, content: '<h3>Communication</h3>', meta: {'file_path': 'dinosaur-page.html', 'source_id': 'cccb7d931975c65babedb9ad3867015939fba680621923f60517da5e5dea3c32', 'split_id': 82}, embedding: vector of size 1536),\n",
       "   Document(id=336c43b9-90d8-4d96-924a-3e1c71547246, content: 'Modern birds communicate by visual and auditory signals, and the wide diversity of visual display st...', meta: {'file_path': 'dinosaur-page.html', 'source_id': 'cccb7d931975c65babedb9ad3867015939fba680621923f60517da5e5dea3c32', 'split_id': 83}, embedding: vector of size 1536),\n",
       "   Document(id=981a7c1c-d23d-4787-b3c8-d6ae279babc8, content: 'On the basis that non-avian dinosaurs did not have syrinxes and that their next close living relativ...', meta: {'file_path': 'dinosaur-page.html', 'source_id': 'cccb7d931975c65babedb9ad3867015939fba680621923f60517da5e5dea3c32', 'split_id': 84}, embedding: vector of size 1536),\n",
       "   Document(id=3ccb40fe-bf21-4558-9f35-db121aecb651, content: 'In 2023, a fossilized larynx was described, from a specimen of the ankylosaurid Pinacosaurus . The s...', meta: {'file_path': 'dinosaur-page.html', 'source_id': 'cccb7d931975c65babedb9ad3867015939fba680621923f60517da5e5dea3c32', 'split_id': 85}, embedding: vector of size 1536),\n",
       "   Document(id=ebde46df-3cc2-4a95-afa4-9fc935ac8dd4, content: '<h3>Reproductive biology</h3>', meta: {'file_path': 'dinosaur-page.html', 'source_id': 'cccb7d931975c65babedb9ad3867015939fba680621923f60517da5e5dea3c32', 'split_id': 86}, embedding: vector of size 1536),\n",
       "   Document(id=0d4678d6-914c-4f2f-b447-0e9770de4173, content: 'All dinosaurs laid amniotic eggs. Dinosaur eggs were usually laid in a nest. Most species create som...', meta: {'file_path': 'dinosaur-page.html', 'source_id': 'cccb7d931975c65babedb9ad3867015939fba680621923f60517da5e5dea3c32', 'split_id': 87}, embedding: vector of size 1536),\n",
       "   Document(id=5ce8ef0f-8088-4a84-9d0f-67a45d925483, content: 'When laying eggs, females grow a special type of bone between the hard outer bone and the marrow of ...', meta: {'file_path': 'dinosaur-page.html', 'source_id': 'cccb7d931975c65babedb9ad3867015939fba680621923f60517da5e5dea3c32', 'split_id': 88}, embedding: vector of size 1536),\n",
       "   Document(id=2ad82748-3b3e-4a85-94a4-8329beb8c784, content: 'Another widespread trait among modern birds (but see below in regards to fossil groups and extant me...', meta: {'file_path': 'dinosaur-page.html', 'source_id': 'cccb7d931975c65babedb9ad3867015939fba680621923f60517da5e5dea3c32', 'split_id': 89}, embedding: vector of size 1536),\n",
       "   Document(id=9957e45a-b77c-48ec-8d25-570f2177e2ad, content: 'However, there is ample evidence of precociality or superprecociality among many dinosaur species, p...', meta: {'file_path': 'dinosaur-page.html', 'source_id': 'cccb7d931975c65babedb9ad3867015939fba680621923f60517da5e5dea3c32', 'split_id': 90}, embedding: vector of size 1536),\n",
       "   Document(id=7b09897f-1efc-4b84-948b-680c2fe35a2e, content: 'Genital structures are unlikely to fossilize as they lack scales that may allow preservation via pig...', meta: {'file_path': 'dinosaur-page.html', 'source_id': 'cccb7d931975c65babedb9ad3867015939fba680621923f60517da5e5dea3c32', 'split_id': 91}, embedding: vector of size 1536),\n",
       "   Document(id=9a3c549c-12c6-4dea-80b3-4f0102be006c, content: '<h3>Physiology</h3>', meta: {'file_path': 'dinosaur-page.html', 'source_id': 'cccb7d931975c65babedb9ad3867015939fba680621923f60517da5e5dea3c32', 'split_id': 92}, embedding: vector of size 1536),\n",
       "   Document(id=d7dc4514-bb78-4d0b-9cac-d0911819cb6a, content: 'Because both modern crocodilians and birds have four-chambered hearts (albeit modified in crocodilia...', meta: {'file_path': 'dinosaur-page.html', 'source_id': 'cccb7d931975c65babedb9ad3867015939fba680621923f60517da5e5dea3c32', 'split_id': 93}, embedding: vector of size 1536),\n",
       "   Document(id=e7e166d1-4e21-4b3a-8a1f-74c97acd5109, content: 'After non-avian dinosaurs were discovered, paleontologists first posited that they were ectothermic....', meta: {'file_path': 'dinosaur-page.html', 'source_id': 'cccb7d931975c65babedb9ad3867015939fba680621923f60517da5e5dea3c32', 'split_id': 94}, embedding: vector of size 1536),\n",
       "   Document(id=949a0923-911d-48c2-a917-b8a8fba4ea6c, content: 'One of the greatest contributions to the modern understanding of dinosaur physiology has been paleoh...', meta: {'file_path': 'dinosaur-page.html', 'source_id': 'cccb7d931975c65babedb9ad3867015939fba680621923f60517da5e5dea3c32', 'split_id': 95}, embedding: vector of size 1536),\n",
       "   Document(id=77b52027-7836-4470-a34a-708a58d5ff6e, content: 'In saurischian dinosaurs, higher metabolisms were supported by the evolution of the avian respirator...', meta: {'file_path': 'dinosaur-page.html', 'source_id': 'cccb7d931975c65babedb9ad3867015939fba680621923f60517da5e5dea3c32', 'split_id': 96}, embedding: vector of size 1536),\n",
       "   Document(id=08778e23-9186-4a29-9777-e3a63d624c52, content: 'Like other reptiles, dinosaurs are primarily uricotelic, that is, their kidneys extract nitrogenous ...', meta: {'file_path': 'dinosaur-page.html', 'source_id': 'cccb7d931975c65babedb9ad3867015939fba680621923f60517da5e5dea3c32', 'split_id': 97}, embedding: vector of size 1536),\n",
       "   Document(id=40262b02-9873-4613-9a98-485e5acbd638, content: 'The size and shape of the brain can be partly reconstructed based on the surrounding bones. In 1896,...', meta: {'file_path': 'dinosaur-page.html', 'source_id': 'cccb7d931975c65babedb9ad3867015939fba680621923f60517da5e5dea3c32', 'split_id': 98}, embedding: vector of size 1536),\n",
       "   Document(id=079643be-2748-4e7c-b23f-48eb1510abd1, content: '<h2>Origin of birds</h2>', meta: {'file_path': 'dinosaur-page.html', 'source_id': 'cccb7d931975c65babedb9ad3867015939fba680621923f60517da5e5dea3c32', 'split_id': 99}, embedding: vector of size 1536),\n",
       "   Document(id=59285bd2-b335-4097-a76f-f3cc4580e897, content: 'The possibility that dinosaurs were the ancestors of birds was first suggested in 1868 by Thomas Hen...', meta: {'file_path': 'dinosaur-page.html', 'source_id': 'cccb7d931975c65babedb9ad3867015939fba680621923f60517da5e5dea3c32', 'split_id': 100}, embedding: vector of size 1536),\n",
       "   Document(id=cc9d5437-0e10-4f14-86df-fc0240239d79, content: '<h3>Feathers</h3>', meta: {'file_path': 'dinosaur-page.html', 'source_id': 'cccb7d931975c65babedb9ad3867015939fba680621923f60517da5e5dea3c32', 'split_id': 101}, embedding: vector of size 1536),\n",
       "   Document(id=8da49f25-8673-48be-ae30-e9f002fc21a3, content: 'Feathers are one of the most recognizable characteristics of modern birds, and a trait that was also...', meta: {'file_path': 'dinosaur-page.html', 'source_id': 'cccb7d931975c65babedb9ad3867015939fba680621923f60517da5e5dea3c32', 'split_id': 102}, embedding: vector of size 1536),\n",
       "   Document(id=410bd126-96fb-4734-a8d5-0ca30890d63a, content: 'However, researchers do not agree regarding whether these structures share a common origin between l...', meta: {'file_path': 'dinosaur-page.html', 'source_id': 'cccb7d931975c65babedb9ad3867015939fba680621923f60517da5e5dea3c32', 'split_id': 103}, embedding: vector of size 1536),\n",
       "   Document(id=de426061-f982-4e08-b9f1-3f8cd74e3d43, content: 'Archaeopteryx was the first fossil found that revealed a potential connection between dinosaurs and ...', meta: {'file_path': 'dinosaur-page.html', 'source_id': 'cccb7d931975c65babedb9ad3867015939fba680621923f60517da5e5dea3c32', 'split_id': 104}, embedding: vector of size 1536),\n",
       "   Document(id=bb705a49-fd44-4e75-98b2-51085f34265d, content: '<h3>Skeleton</h3>', meta: {'file_path': 'dinosaur-page.html', 'source_id': 'cccb7d931975c65babedb9ad3867015939fba680621923f60517da5e5dea3c32', 'split_id': 105}, embedding: vector of size 1536),\n",
       "   Document(id=dfaa2c50-7b93-4aed-8789-a36514428fad, content: 'Because feathers are often associated with birds, feathered dinosaurs are often touted as the missin...', meta: {'file_path': 'dinosaur-page.html', 'source_id': 'cccb7d931975c65babedb9ad3867015939fba680621923f60517da5e5dea3c32', 'split_id': 106}, embedding: vector of size 1536),\n",
       "   Document(id=67bd8f1c-17bf-48a6-bc4c-26e1b316225b, content: '<h3>Soft anatomy</h3>', meta: {'file_path': 'dinosaur-page.html', 'source_id': 'cccb7d931975c65babedb9ad3867015939fba680621923f60517da5e5dea3c32', 'split_id': 107}, embedding: vector of size 1536),\n",
       "   Document(id=6273131e-1f05-472d-949e-5baa6101c304, content: 'Large meat-eating dinosaurs had a complex system of air sacs similar to those found in modern birds,...', meta: {'file_path': 'dinosaur-page.html', 'source_id': 'cccb7d931975c65babedb9ad3867015939fba680621923f60517da5e5dea3c32', 'split_id': 108}, embedding: vector of size 1536),\n",
       "   Document(id=c0b14c20-314c-401c-b7f0-2529e5198d5f, content: '<h3>Behavioral evidence</h3>', meta: {'file_path': 'dinosaur-page.html', 'source_id': 'cccb7d931975c65babedb9ad3867015939fba680621923f60517da5e5dea3c32', 'split_id': 109}, embedding: vector of size 1536),\n",
       "   Document(id=9e31b3d7-3124-49b5-83a1-21be2bfec696, content: 'Fossils of the troodonts Mei and Sinornithoides demonstrate that some dinosaurs slept with their hea...', meta: {'file_path': 'dinosaur-page.html', 'source_id': 'cccb7d931975c65babedb9ad3867015939fba680621923f60517da5e5dea3c32', 'split_id': 110}, embedding: vector of size 1536),\n",
       "   Document(id=c9efe652-ec05-44e9-8093-728b26c93d3a, content: 'Some dinosaurs are known to have used gizzard stones like modern birds. These stones are swallowed b...', meta: {'file_path': 'dinosaur-page.html', 'source_id': 'cccb7d931975c65babedb9ad3867015939fba680621923f60517da5e5dea3c32', 'split_id': 111}, embedding: vector of size 1536),\n",
       "   Document(id=4bfffd63-6cee-47a0-a38f-e624fb755c7f, content: '<h2>Extinction of major groups</h2>', meta: {'file_path': 'dinosaur-page.html', 'source_id': 'cccb7d931975c65babedb9ad3867015939fba680621923f60517da5e5dea3c32', 'split_id': 112}, embedding: vector of size 1536),\n",
       "   Document(id=56d8abe3-c3ba-4a81-8182-55c96990fdee, content: 'All non-avian dinosaurs and most lineages of birds became extinct in a mass extinction event, called...', meta: {'file_path': 'dinosaur-page.html', 'source_id': 'cccb7d931975c65babedb9ad3867015939fba680621923f60517da5e5dea3c32', 'split_id': 113}, embedding: vector of size 1536),\n",
       "   Document(id=006bff55-1051-43f1-b003-be945add329a, content: '<h3>Pre-extinction diversity</h3>', meta: {'file_path': 'dinosaur-page.html', 'source_id': 'cccb7d931975c65babedb9ad3867015939fba680621923f60517da5e5dea3c32', 'split_id': 114}, embedding: vector of size 1536),\n",
       "   Document(id=032f9a7f-7184-49ab-97fc-7e2faf4cbcdb, content: 'Just before the K-Pg extinction event, the number of non-avian dinosaur species that existed globall...', meta: {'file_path': 'dinosaur-page.html', 'source_id': 'cccb7d931975c65babedb9ad3867015939fba680621923f60517da5e5dea3c32', 'split_id': 115}, embedding: vector of size 1536),\n",
       "   Document(id=daf27df0-cf59-4191-a300-eea6d18b738f, content: '<h3>Impact event</h3>', meta: {'file_path': 'dinosaur-page.html', 'source_id': 'cccb7d931975c65babedb9ad3867015939fba680621923f60517da5e5dea3c32', 'split_id': 116}, embedding: vector of size 1536),\n",
       "   Document(id=8fe1338e-d649-4f14-98c2-14d2ecb76e04, content: 'The bolide impact hypothesis, first brought to wide attention in 1980 by Walter Alvarez, Luis Alvare...', meta: {'file_path': 'dinosaur-page.html', 'source_id': 'cccb7d931975c65babedb9ad3867015939fba680621923f60517da5e5dea3c32', 'split_id': 117}, embedding: vector of size 1536),\n",
       "   Document(id=f664c34b-d48e-4fb5-8689-b81522908562, content: 'Within hours, the Chicxulub impact would have created immediate effects such as earthquakes, tsunami...', meta: {'file_path': 'dinosaur-page.html', 'source_id': 'cccb7d931975c65babedb9ad3867015939fba680621923f60517da5e5dea3c32', 'split_id': 118}, embedding: vector of size 1536),\n",
       "   Document(id=d830309f-a65d-4936-a5b0-1796568c6db1, content: '<h3>Deccan Traps</h3>', meta: {'file_path': 'dinosaur-page.html', 'source_id': 'cccb7d931975c65babedb9ad3867015939fba680621923f60517da5e5dea3c32', 'split_id': 119}, embedding: vector of size 1536),\n",
       "   Document(id=4ded4829-7c49-4c28-b71b-06715250ecdd, content: 'At the time of the K-Pg extinction, the Deccan Traps flood basalts of India were actively erupting. ...', meta: {'file_path': 'dinosaur-page.html', 'source_id': 'cccb7d931975c65babedb9ad3867015939fba680621923f60517da5e5dea3c32', 'split_id': 120}, embedding: vector of size 1536),\n",
       "   Document(id=b1eda1d7-c2df-4272-86f2-f41616469961, content: 'Before 2000, arguments that the Deccan Traps eruptions—as opposed to the Chicxulub impact—caused the...', meta: {'file_path': 'dinosaur-page.html', 'source_id': 'cccb7d931975c65babedb9ad3867015939fba680621923f60517da5e5dea3c32', 'split_id': 121}, embedding: vector of size 1536),\n",
       "   Document(id=7eb84100-5ffe-40cd-baf5-37a21901d617, content: 'Whether the Deccan Traps were a major cause of the extinction, on par with the Chicxulub impact, rem...', meta: {'file_path': 'dinosaur-page.html', 'source_id': 'cccb7d931975c65babedb9ad3867015939fba680621923f60517da5e5dea3c32', 'split_id': 122}, embedding: vector of size 1536),\n",
       "   Document(id=7813129c-5304-476f-91f8-cd7a020dc569, content: '<h3>Possible Paleocene survivors</h3>', meta: {'file_path': 'dinosaur-page.html', 'source_id': 'cccb7d931975c65babedb9ad3867015939fba680621923f60517da5e5dea3c32', 'split_id': 123}, embedding: vector of size 1536),\n",
       "   Document(id=18afb363-7d6a-4361-8c8b-32aead94d9d7, content: 'Non-avian dinosaur remains have occasionally been found above the K-Pg boundary. In 2000, Spencer Lu...', meta: {'file_path': 'dinosaur-page.html', 'source_id': 'cccb7d931975c65babedb9ad3867015939fba680621923f60517da5e5dea3c32', 'split_id': 124}, embedding: vector of size 1536),\n",
       "   Document(id=fa2cdaa3-51b8-4ccb-9184-2137b687d855, content: '<h2>Cultural depictions</h2>', meta: {'file_path': 'dinosaur-page.html', 'source_id': 'cccb7d931975c65babedb9ad3867015939fba680621923f60517da5e5dea3c32', 'split_id': 125}, embedding: vector of size 1536),\n",
       "   Document(id=950e5266-28be-41c7-9cab-2d40e47ec977, content: 'By human standards, dinosaurs were creatures of fantastic appearance and often enormous size. As suc...', meta: {'file_path': 'dinosaur-page.html', 'source_id': 'cccb7d931975c65babedb9ad3867015939fba680621923f60517da5e5dea3c32', 'split_id': 126}, embedding: vector of size 1536),\n",
       "   Document(id=e00de901-3b8b-477e-a41b-2f70c03b1b4a, content: 'Public enthusiasm for dinosaurs first developed in Victorian England, where in 1854, three decades a...', meta: {'file_path': 'dinosaur-page.html', 'source_id': 'cccb7d931975c65babedb9ad3867015939fba680621923f60517da5e5dea3c32', 'split_id': 127}, embedding: vector of size 1536),\n",
       "   Document(id=d3d7a0e1-7f9c-4ea1-9e3f-4f4c2e600534, content: 'The popular preoccupation with dinosaurs has ensured their appearance in literature, film, and other...', meta: {'file_path': 'dinosaur-page.html', 'source_id': 'cccb7d931975c65babedb9ad3867015939fba680621923f60517da5e5dea3c32', 'split_id': 128}, embedding: vector of size 1536),\n",
       "   Document(id=8d48665f-35ba-44c1-beb0-47357b14cc11, content: '<h2>See also</h2>', meta: {'file_path': 'dinosaur-page.html', 'source_id': 'cccb7d931975c65babedb9ad3867015939fba680621923f60517da5e5dea3c32', 'split_id': 129}, embedding: vector of size 1536),\n",
       "   Document(id=378a86a9-dad9-4aef-ba80-406ff1bf9be5, content: '- Dinosaur diet and feeding - Evolutionary history of life - Lists of dinosaur-bearing stratigraphic...', meta: {'file_path': 'dinosaur-page.html', 'source_id': 'cccb7d931975c65babedb9ad3867015939fba680621923f60517da5e5dea3c32', 'split_id': 130}, embedding: vector of size 1536),\n",
       "   Document(id=90cb9951-da5a-4814-8815-7d3d58ad5f46, content: '<h2>Notes</h2>', meta: {'file_path': 'dinosaur-page.html', 'source_id': 'cccb7d931975c65babedb9ad3867015939fba680621923f60517da5e5dea3c32', 'split_id': 131}, embedding: vector of size 1536),\n",
       "   Document(id=a851f842-9e7e-43ad-9887-83e60f8abf9b, content: '<h2>References</h2>', meta: {'file_path': 'dinosaur-page.html', 'source_id': 'cccb7d931975c65babedb9ad3867015939fba680621923f60517da5e5dea3c32', 'split_id': 132}, embedding: vector of size 1536),\n",
       "   Document(id=a56f9a5f-cfa4-4b0c-ab01-23ec5b4bc461, content: '<h2>Bibliography</h2>', meta: {'file_path': 'dinosaur-page.html', 'source_id': 'cccb7d931975c65babedb9ad3867015939fba680621923f60517da5e5dea3c32', 'split_id': 133}, embedding: vector of size 1536),\n",
       "   Document(id=91f86671-7962-4407-b28e-6e61be2c681b, content: '<h2>Further reading</h2>', meta: {'file_path': 'dinosaur-page.html', 'source_id': 'cccb7d931975c65babedb9ad3867015939fba680621923f60517da5e5dea3c32', 'split_id': 134}, embedding: vector of size 1536),\n",
       "   Document(id=a96cdb72-83d7-4dcf-95d7-2c8b2f2ae145, content: '- University of Southampton (September 29, 2021). \"Two New Species of Large Predatory Dinosaur With ...', meta: {'file_path': 'dinosaur-page.html', 'source_id': 'cccb7d931975c65babedb9ad3867015939fba680621923f60517da5e5dea3c32', 'split_id': 135}, embedding: vector of size 1536)],\n",
       "  'meta': {'model': 'text-embedding-3-small',\n",
       "   'usage': {'prompt_tokens': 20925, 'total_tokens': 20925}}}}"
      ]
     },
     "execution_count": 23,
     "metadata": {},
     "output_type": "execute_result"
    }
   ],
   "source": [
    "from pathlib import Path\n",
    "from haystack.components.converters import TextFileToDocument\n",
    "from haystack.components.embedders import OpenAIDocumentEmbedder\n",
    "from haystack import Pipeline\n",
    "\n",
    "converter = TextFileToDocument()\n",
    "splitter = WikiPageChunker()\n",
    "embedder = OpenAIDocumentEmbedder(model=\"text-embedding-3-small\")\n",
    "\n",
    "embedding_pipeline = Pipeline()\n",
    "\n",
    "embedding_pipeline.add_component(\"converter\", converter)\n",
    "embedding_pipeline.add_component(\"splitter\", splitter)\n",
    "embedding_pipeline.add_component(\"embedder\", embedder)\n",
    "\n",
    "embedding_pipeline.connect(\"converter\", \"splitter\")\n",
    "embedding_pipeline.connect(\"splitter\", \"embedder\")\n",
    "\n",
    "embedded_chunks = embedding_pipeline.run(data={\"converter\": {\"sources\": [Path(\"dinosaur-page.html\")]}})\n",
    "\n",
    "embedded_chunks"
   ]
  },
  {
   "cell_type": "markdown",
   "metadata": {},
   "source": [
    "### Save embeddings to document store - WeaviateDocumentStore"
   ]
  },
  {
   "cell_type": "code",
   "execution_count": 24,
   "metadata": {},
   "outputs": [
    {
     "name": "stderr",
     "output_type": "stream",
     "text": [
      "/home/kartikeya/miniconda3/envs/argonk/lib/python3.12/site-packages/google/protobuf/runtime_version.py:112: UserWarning: Protobuf gencode version 5.27.2 is older than the runtime version 5.28.0 at grpc_health/v1/health.proto. Please avoid checked-in Protobuf gencode that can be obsolete.\n",
      "  warnings.warn(\n"
     ]
    }
   ],
   "source": [
    "from haystack_integrations.document_stores.weaviate.document_store import WeaviateDocumentStore\n",
    "from haystack import Document\n",
    "\n",
    "document_store = WeaviateDocumentStore(url=\"http://localhost:8088\")"
   ]
  },
  {
   "cell_type": "code",
   "execution_count": 25,
   "metadata": {},
   "outputs": [
    {
     "data": {
      "text/plain": [
       "135"
      ]
     },
     "execution_count": 25,
     "metadata": {},
     "output_type": "execute_result"
    }
   ],
   "source": [
    "document_store.write_documents(embedded_chunks[\"embedder\"][\"documents\"])"
   ]
  },
  {
   "cell_type": "code",
   "execution_count": 26,
   "metadata": {},
   "outputs": [
    {
     "name": "stdout",
     "output_type": "stream",
     "text": [
      "135\n"
     ]
    }
   ],
   "source": [
    "print(document_store.count_documents())"
   ]
  },
  {
   "cell_type": "markdown",
   "metadata": {},
   "source": []
  },
  {
   "cell_type": "code",
   "execution_count": null,
   "metadata": {},
   "outputs": [],
   "source": []
  }
 ],
 "metadata": {
  "kernelspec": {
   "display_name": "Python (argonk)",
   "language": "python",
   "name": "argonk"
  },
  "language_info": {
   "codemirror_mode": {
    "name": "ipython",
    "version": 3
   },
   "file_extension": ".py",
   "mimetype": "text/x-python",
   "name": "python",
   "nbconvert_exporter": "python",
   "pygments_lexer": "ipython3",
   "version": "3.12.4"
  }
 },
 "nbformat": 4,
 "nbformat_minor": 2
}
