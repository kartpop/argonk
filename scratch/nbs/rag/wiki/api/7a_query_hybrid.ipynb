{
 "cells": [
  {
   "cell_type": "code",
   "execution_count": 71,
   "metadata": {},
   "outputs": [
    {
     "name": "stderr",
     "output_type": "stream",
     "text": [
      "/home/kartikeya/miniconda3/envs/argonk/lib/python3.12/site-packages/google/protobuf/runtime_version.py:112: UserWarning: Protobuf gencode version 5.27.2 is older than the runtime version 5.28.0 at grpc_health/v1/health.proto. Please avoid checked-in Protobuf gencode that can be obsolete.\n",
      "  warnings.warn(\n",
      "/home/kartikeya/miniconda3/envs/argonk/lib/python3.12/site-packages/haystack/components/generators/openai.py:106: DeprecationWarning: In the upcoming releases 'gpt-3.5-turbo' will be replaced by 'gpt-4o-mini' as the default model\n",
      "  warnings.warn(\n"
     ]
    }
   ],
   "source": [
    "from haystack.components.embedders import OpenAIDocumentEmbedder, OpenAITextEmbedder\n",
    "from haystack_integrations.document_stores.weaviate.document_store import WeaviateDocumentStore\n",
    "from haystack_integrations.components.retrievers.weaviate.embedding_retriever import WeaviateEmbeddingRetriever\n",
    "from haystack.components.builders import PromptBuilder\n",
    "from haystack.components.generators import OpenAIGenerator\n",
    "from haystack_integrations.document_stores.elasticsearch import ElasticsearchDocumentStore\n",
    "from haystack_integrations.components.retrievers.elasticsearch import ElasticsearchBM25Retriever\n",
    "\n",
    "\n",
    "embedder = OpenAIDocumentEmbedder(model=\"text-embedding-3-small\")\n",
    "text_embedder = OpenAITextEmbedder(model=\"text-embedding-3-small\")\n",
    "weaviate_store = WeaviateDocumentStore(url=\"http://localhost:8088\")\n",
    "elasticsearch_store = ElasticsearchDocumentStore(hosts= \"http://localhost:9200\")\n",
    "weaviate_retriever = WeaviateEmbeddingRetriever(document_store=weaviate_store, top_k=3)\n",
    "elasticsearch_retriever = ElasticsearchBM25Retriever(document_store=elasticsearch_store, top_k=3)\n",
    "\n",
    "template = \"\"\"\n",
    "Answer the question only using the following context. Do not use any external information. \n",
    "If the answer is not present in the context, please answer with \"I don't know\".\n",
    "\n",
    "Context:\n",
    "{% for document in documents %}\n",
    "    {{ document.content }}\n",
    "{% endfor %}\n",
    "\n",
    "Question: {{question}}\n",
    "Answer:\n",
    "\"\"\"\n",
    "prompt_builder = PromptBuilder(template=template)\n",
    "\n",
    "generator = OpenAIGenerator(model=\"gpt-4o-mini\")"
   ]
  },
  {
   "cell_type": "markdown",
   "metadata": {},
   "source": [
    "### Joiner"
   ]
  },
  {
   "cell_type": "code",
   "execution_count": 72,
   "metadata": {},
   "outputs": [
    {
     "data": {
      "text/plain": [
       "<haystack.core.pipeline.pipeline.Pipeline object at 0x7928168806b0>\n",
       "🚅 Components\n",
       "  - text_embedder: OpenAITextEmbedder\n",
       "  - weaviate_retriever: WeaviateEmbeddingRetriever\n",
       "  - elasticsearch_retriever: ElasticsearchBM25Retriever\n",
       "  - joiner: DocumentJoiner\n",
       "🛤️ Connections\n",
       "  - text_embedder.embedding -> weaviate_retriever.query_embedding (List[float])\n",
       "  - weaviate_retriever.documents -> joiner.documents (List[Document])\n",
       "  - elasticsearch_retriever.documents -> joiner.documents (List[Document])"
      ]
     },
     "execution_count": 72,
     "metadata": {},
     "output_type": "execute_result"
    }
   ],
   "source": [
    "from haystack import Pipeline\n",
    "from haystack.components.joiners.document_joiner import DocumentJoiner\n",
    "\n",
    "joiner = DocumentJoiner(join_mode=\"reciprocal_rank_fusion\", top_k=3)\n",
    "\n",
    "p = Pipeline()\n",
    "\n",
    "p.add_component(\"text_embedder\", text_embedder)\n",
    "p.add_component(\"weaviate_retriever\", weaviate_retriever)\n",
    "p.add_component(\"elasticsearch_retriever\", elasticsearch_retriever)\n",
    "p.add_component(\"joiner\", joiner)\n",
    "\n",
    "p.connect(\"text_embedder.embedding\", \"weaviate_retriever.query_embedding\")\n",
    "p.connect(\"weaviate_retriever\", \"joiner\")\n",
    "p.connect(\"elasticsearch_retriever\", \"joiner\")"
   ]
  },
  {
   "cell_type": "code",
   "execution_count": 50,
   "metadata": {},
   "outputs": [
    {
     "name": "stderr",
     "output_type": "stream",
     "text": [
      "/home/kartikeya/miniconda3/envs/argonk/lib/python3.12/site-packages/posthog/client.py:345: DeprecationWarning: datetime.datetime.utcnow() is deprecated and scheduled for removal in a future version. Use timezone-aware objects to represent datetimes in UTC: datetime.datetime.now(datetime.UTC).\n",
      "  timestamp = datetime.utcnow().replace(tzinfo=tzutc())\n",
      "/home/kartikeya/miniconda3/envs/argonk/lib/python3.12/site-packages/posthog/request.py:40: DeprecationWarning: datetime.datetime.utcnow() is deprecated and scheduled for removal in a future version. Use timezone-aware objects to represent datetimes in UTC: datetime.datetime.now(datetime.UTC).\n",
      "  body[\"sentAt\"] = datetime.utcnow().replace(tzinfo=tzutc()).isoformat()\n"
     ]
    },
    {
     "data": {
      "text/plain": [
       "{'text_embedder': {'meta': {'model': 'text-embedding-3-small',\n",
       "   'usage': {'prompt_tokens': 10, 'total_tokens': 10}}},\n",
       " 'joiner': {'documents': [Document(id=433ad671-ea22-4ae1-9bc4-1cce06a0e6ee, content: 'Just before the K-Pg extinction event, the number of non-avian dinosaur species that existed globall...', meta: {'h3': 'Pre-extinction diversity', 'source_id': '93000a3fb02b99d2d115cd4042256d2f5db2a0ff3928927ca14465276534a75e', 'split_id': 235.0, 'file_path': 'Dinosaur.html', 'title': 'Dinosaurs', 'h4': None, 'h2': 'Extinction of major groups'}, score: 1.0, embedding: vector of size 1536),\n",
       "   Document(id=3f45e988-b093-4d9c-bde1-67e2e4c3b599, content: 'All non-avian dinosaurs and most lineages of birds became extinct in a mass extinction event, called...', meta: {'file_path': 'Dinosaur.html', 'source_id': '93000a3fb02b99d2d115cd4042256d2f5db2a0ff3928927ca14465276534a75e', 'split_id': 234, 'title': 'Dinosaurs', 'h2': 'Extinction of major groups'}, score: 0.4919354838709677, embedding: vector of size 1536),\n",
       "   Document(id=935b9b14-74dc-49d9-8111-eaba7e525ed8, content: 'The Cretaceous–Paleogene extinction event, which occurred approximately 66 million years ago at the ...', meta: {'h3': 'Evolution and paleobiogeography', 'split_id': 46.0, 'source_id': '93000a3fb02b99d2d115cd4042256d2f5db2a0ff3928927ca14465276534a75e', 'file_path': 'Dinosaur.html', 'title': 'Dinosaurs', 'h4': None, 'h2': 'Evolutionary history'}, score: 0.4919354838709677, embedding: vector of size 1536)]},\n",
       " 'elasticsearch_retriever': {'documents': [Document(id=433ad671-ea22-4ae1-9bc4-1cce06a0e6ee, content: 'Just before the K-Pg extinction event, the number of non-avian dinosaur species that existed globall...', meta: {'file_path': 'Dinosaur.html', 'source_id': '93000a3fb02b99d2d115cd4042256d2f5db2a0ff3928927ca14465276534a75e', 'split_id': 235, 'title': 'Dinosaurs', 'h2': 'Extinction of major groups', 'h3': 'Pre-extinction diversity'}, score: 17.038458, embedding: vector of size 1536),\n",
       "   Document(id=3f45e988-b093-4d9c-bde1-67e2e4c3b599, content: 'All non-avian dinosaurs and most lineages of birds became extinct in a mass extinction event, called...', meta: {'file_path': 'Dinosaur.html', 'source_id': '93000a3fb02b99d2d115cd4042256d2f5db2a0ff3928927ca14465276534a75e', 'split_id': 234, 'title': 'Dinosaurs', 'h2': 'Extinction of major groups'}, score: 15.461512, embedding: vector of size 1536),\n",
       "   Document(id=72964dd2-a5a8-4f60-a1ce-6ab52a861eb6, content: 'Based on fossil evidence from dinosaurs such as Oryctodromeus , some ornithischian species seem to h...', meta: {'file_path': 'Dinosaur.html', 'source_id': '93000a3fb02b99d2d115cd4042256d2f5db2a0ff3928927ca14465276534a75e', 'split_id': 211, 'title': 'Dinosaurs', 'h2': 'Paleobiology', 'h3': 'Behavior'}, score: 12.829857, embedding: vector of size 1536)]},\n",
       " 'weaviate_retriever': {'documents': [Document(id=433ad671-ea22-4ae1-9bc4-1cce06a0e6ee, content: 'Just before the K-Pg extinction event, the number of non-avian dinosaur species that existed globall...', meta: {'h3': 'Pre-extinction diversity', 'source_id': '93000a3fb02b99d2d115cd4042256d2f5db2a0ff3928927ca14465276534a75e', 'split_id': 235.0, 'file_path': 'Dinosaur.html', 'title': 'Dinosaurs', 'h4': None, 'h2': 'Extinction of major groups'}, score: 0.852454662322998, embedding: vector of size 1536),\n",
       "   Document(id=935b9b14-74dc-49d9-8111-eaba7e525ed8, content: 'The Cretaceous–Paleogene extinction event, which occurred approximately 66 million years ago at the ...', meta: {'h3': 'Evolution and paleobiogeography', 'split_id': 46.0, 'source_id': '93000a3fb02b99d2d115cd4042256d2f5db2a0ff3928927ca14465276534a75e', 'file_path': 'Dinosaur.html', 'title': 'Dinosaurs', 'h4': None, 'h2': 'Evolutionary history'}, score: 0.8221505284309387, embedding: vector of size 1536),\n",
       "   Document(id=47234d41-15c7-451e-95b3-2a7b31baf8b1, content: 'When dinosaurs appeared, they were not the dominant terrestrial animals. The terrestrial habitats we...', meta: {'h3': 'Origins and early evolution', 'source_id': '93000a3fb02b99d2d115cd4042256d2f5db2a0ff3928927ca14465276534a75e', 'split_id': 42.0, 'file_path': 'Dinosaur.html', 'title': 'Dinosaurs', 'h4': None, 'h2': 'Evolutionary history'}, score: 0.8219538927078247, embedding: vector of size 1536)]}}"
      ]
     },
     "execution_count": 50,
     "metadata": {},
     "output_type": "execute_result"
    }
   ],
   "source": [
    "query = \"How many dinosaur species existed before the extinction event?\"\n",
    "\n",
    "result = p.run(data={\"elasticsearch_retriever\": {\"query\": query}, \n",
    "            \"text_embedder\": {\"text\": query}}, include_outputs_from={\"weaviate_retriever\", \"elasticsearch_retriever\"})\n",
    "\n",
    "result"
   ]
  },
  {
   "cell_type": "markdown",
   "metadata": {},
   "source": [
    "Skipping LLM calls...straightforward"
   ]
  },
  {
   "cell_type": "markdown",
   "metadata": {},
   "source": [
    "### Explore graph calling"
   ]
  },
  {
   "cell_type": "code",
   "execution_count": 73,
   "metadata": {},
   "outputs": [
    {
     "name": "stderr",
     "output_type": "stream",
     "text": [
      "/home/kartikeya/miniconda3/envs/argonk/lib/python3.12/site-packages/posthog/client.py:345: DeprecationWarning: datetime.datetime.utcnow() is deprecated and scheduled for removal in a future version. Use timezone-aware objects to represent datetimes in UTC: datetime.datetime.now(datetime.UTC).\n",
      "  timestamp = datetime.utcnow().replace(tzinfo=tzutc())\n",
      "/home/kartikeya/miniconda3/envs/argonk/lib/python3.12/site-packages/posthog/request.py:40: DeprecationWarning: datetime.datetime.utcnow() is deprecated and scheduled for removal in a future version. Use timezone-aware objects to represent datetimes in UTC: datetime.datetime.now(datetime.UTC).\n",
      "  body[\"sentAt\"] = datetime.utcnow().replace(tzinfo=tzutc()).isoformat()\n"
     ]
    },
    {
     "data": {
      "text/plain": [
       "{'text_embedder': {'meta': {'model': 'text-embedding-3-small',\n",
       "   'usage': {'prompt_tokens': 10, 'total_tokens': 10}}},\n",
       " 'joiner': {'documents': [Document(id=8a7f94b9-3ae4-45a8-90ba-c9f5377c4b5b, content: 'World War II caused a pause in palaeontological research; after the war, research attention was also...', meta: {'h3': '\"Dinosaur renaissance\" and beyond', 'split_id': 33.0, 'source_id': '93000a3fb02b99d2d115cd4042256d2f5db2a0ff3928927ca14465276534a75e', 'file_path': 'Dinosaur.html', 'title': 'Dinosaurs', 'h4': None, 'h2': 'History of study'}, score: 0.9760624679979518, embedding: vector of size 1536),\n",
       "   Document(id=3aacf659-c395-452b-92a1-e2e1d2b81ec3, content: 'The popular preoccupation with dinosaurs has ensured their appearance in literature, film, and other...', meta: {'file_path': 'Dinosaur.html', 'source_id': '93000a3fb02b99d2d115cd4042256d2f5db2a0ff3928927ca14465276534a75e', 'split_id': 244, 'title': 'Dinosaurs', 'h2': 'Cultural depictions'}, score: 0.5, embedding: vector of size 1536),\n",
       "   Document(id=54620459-cf76-480a-accf-e8ca14bb6e91, content: 'One of the greatest contributions to the modern understanding of dinosaur physiology has been paleoh...', meta: {'h3': 'Physiology', 'source_id': '93000a3fb02b99d2d115cd4042256d2f5db2a0ff3928927ca14465276534a75e', 'split_id': 222.0, 'file_path': 'Dinosaur.html', 'title': 'Dinosaurs', 'h4': None, 'h2': 'Paleobiology'}, score: 0.5, embedding: vector of size 1536)]},\n",
       " 'elasticsearch_retriever': {'documents': [Document(id=3aacf659-c395-452b-92a1-e2e1d2b81ec3, content: 'The popular preoccupation with dinosaurs has ensured their appearance in literature, film, and other...', meta: {'file_path': 'Dinosaur.html', 'source_id': '93000a3fb02b99d2d115cd4042256d2f5db2a0ff3928927ca14465276534a75e', 'split_id': 244, 'title': 'Dinosaurs', 'h2': 'Cultural depictions'}, score: 11.202653, embedding: vector of size 1536),\n",
       "   Document(id=8a7f94b9-3ae4-45a8-90ba-c9f5377c4b5b, content: 'World War II caused a pause in palaeontological research; after the war, research attention was also...', meta: {'file_path': 'Dinosaur.html', 'source_id': '93000a3fb02b99d2d115cd4042256d2f5db2a0ff3928927ca14465276534a75e', 'split_id': 33, 'title': 'Dinosaurs', 'h2': 'History of study', 'h3': '\"Dinosaur renaissance\" and beyond'}, score: 9.824031, embedding: vector of size 1536),\n",
       "   Document(id=51cfc07d-fa24-431c-a3aa-84bd5e6d6743, content: 'Current evidence suggests that dinosaur average size varied through the Triassic, Early Jurassic, La...', meta: {'file_path': 'Dinosaur.html', 'source_id': '93000a3fb02b99d2d115cd4042256d2f5db2a0ff3928927ca14465276534a75e', 'split_id': 199, 'title': 'Dinosaurs', 'h2': 'Paleobiology', 'h3': 'Size'}, score: 9.7053795, embedding: vector of size 1536)]},\n",
       " 'weaviate_retriever': {'documents': [Document(id=54620459-cf76-480a-accf-e8ca14bb6e91, content: 'One of the greatest contributions to the modern understanding of dinosaur physiology has been paleoh...', meta: {'h3': 'Physiology', 'source_id': '93000a3fb02b99d2d115cd4042256d2f5db2a0ff3928927ca14465276534a75e', 'split_id': 222.0, 'file_path': 'Dinosaur.html', 'title': 'Dinosaurs', 'h4': None, 'h2': 'Paleobiology'}, score: 0.8069940805435181, embedding: vector of size 1536),\n",
       "   Document(id=ed090260-bd01-484a-8029-03523e3ac3fd, content: 'Knowledge about dinosaurs is derived from a variety of fossil and non-fossil records, including foss...', meta: {'h3': None, 'source_id': '93000a3fb02b99d2d115cd4042256d2f5db2a0ff3928927ca14465276534a75e', 'split_id': 198.0, 'file_path': 'Dinosaur.html', 'title': 'Dinosaurs', 'h4': None, 'h2': 'Paleobiology'}, score: 0.803046703338623, embedding: vector of size 1536),\n",
       "   Document(id=8a7f94b9-3ae4-45a8-90ba-c9f5377c4b5b, content: 'World War II caused a pause in palaeontological research; after the war, research attention was also...', meta: {'h3': '\"Dinosaur renaissance\" and beyond', 'split_id': 33.0, 'source_id': '93000a3fb02b99d2d115cd4042256d2f5db2a0ff3928927ca14465276534a75e', 'file_path': 'Dinosaur.html', 'title': 'Dinosaurs', 'h4': None, 'h2': 'History of study'}, score: 0.7848944664001465, embedding: vector of size 1536)]}}"
      ]
     },
     "execution_count": 73,
     "metadata": {},
     "output_type": "execute_result"
    }
   ],
   "source": [
    "query = \"Tell me in short about the physiology of dinosaurs.\"\n",
    "\n",
    "result = p.run(data={\"elasticsearch_retriever\": {\"query\": query}, \n",
    "            \"text_embedder\": {\"text\": query}}, include_outputs_from={\"weaviate_retriever\", \"elasticsearch_retriever\"})\n",
    "\n",
    "result"
   ]
  },
  {
   "cell_type": "markdown",
   "metadata": {},
   "source": [
    "### When to employ graphs?"
   ]
  },
  {
   "cell_type": "markdown",
   "metadata": {},
   "source": [
    "One approach\n",
    "- Loop over all documents returned by Joiner and anchor on corresponding chunks in Neo4j graph\n",
    "- Find parent of chunk\n",
    "- Spread out 2 levels to find all non-chunk nodes\n",
    "- Compare cosine similarity with question???\n",
    "- Find the most matching node and return all chunks..."
   ]
  },
  {
   "cell_type": "markdown",
   "metadata": {},
   "source": [
    "Another approach (***SELECTED***)\n",
    "- If LLM finds that context is not enough to answer the question, it should ask for more context\n",
    "- For each retrieved chunk, find title node, create page hierarchy from graph using title node and provide the page hierarchy to the LLM\n",
    "- Let LLM decide the deepest level in the hierarchy which it feels can sufficiently answer the question. Provide all chunks for that deepest level as context for the LLM to answer."
   ]
  },
  {
   "cell_type": "markdown",
   "metadata": {},
   "source": [
    "### Construct hierarchy of page given a chunk id"
   ]
  },
  {
   "cell_type": "code",
   "execution_count": 74,
   "metadata": {},
   "outputs": [
    {
     "data": {
      "text/plain": [
       "{'title': 'Dinosaur',\n",
       " 'sections': [{'name': 'Definition',\n",
       "   'type': 'h2',\n",
       "   'sections': [{'name': 'General description', 'type': 'h3'},\n",
       "    {'name': 'Distinguishing anatomical features', 'type': 'h3'}]},\n",
       "  {'name': 'History of study',\n",
       "   'type': 'h2',\n",
       "   'sections': [{'name': 'Pre-scientific history', 'type': 'h3'},\n",
       "    {'name': 'Early dinosaur research', 'type': 'h3'},\n",
       "    {'name': 'Discoveries in North America', 'type': 'h3'},\n",
       "    {'name': '\"Dinosaur renaissance\" and beyond', 'type': 'h3'},\n",
       "    {'name': 'Soft tissue and molecular preservation', 'type': 'h3'}]},\n",
       "  {'name': 'Evolutionary history',\n",
       "   'type': 'h2',\n",
       "   'sections': [{'name': 'Origins and early evolution', 'type': 'h3'},\n",
       "    {'name': 'Evolution and paleobiogeography', 'type': 'h3'}]},\n",
       "  {'name': 'Classification',\n",
       "   'type': 'h2',\n",
       "   'sections': [{'name': 'Taxonomy', 'type': 'h3'},\n",
       "    {'name': 'Timeline of major groups', 'type': 'h3'}]},\n",
       "  {'name': 'Paleobiology',\n",
       "   'type': 'h2',\n",
       "   'sections': [{'name': 'Size',\n",
       "     'type': 'h3',\n",
       "     'sections': [{'name': 'Largest and smallest', 'type': 'h4'}]},\n",
       "    {'name': 'Behavior', 'type': 'h3'},\n",
       "    {'name': 'Communication', 'type': 'h3'},\n",
       "    {'name': 'Reproductive biology', 'type': 'h3'},\n",
       "    {'name': 'Physiology', 'type': 'h3'}]},\n",
       "  {'name': 'Origin of birds',\n",
       "   'type': 'h2',\n",
       "   'sections': [{'name': 'Feathers', 'type': 'h3'},\n",
       "    {'name': 'Skeleton', 'type': 'h3'},\n",
       "    {'name': 'Soft anatomy', 'type': 'h3'},\n",
       "    {'name': 'Behavioral evidence', 'type': 'h3'}]},\n",
       "  {'name': 'Extinction of major groups',\n",
       "   'type': 'h2',\n",
       "   'sections': [{'name': 'Pre-extinction diversity', 'type': 'h3'},\n",
       "    {'name': 'Impact event', 'type': 'h3'},\n",
       "    {'name': 'Deccan Traps', 'type': 'h3'},\n",
       "    {'name': 'Possible Paleocene survivors', 'type': 'h3'}]},\n",
       "  {'name': 'Cultural depictions', 'type': 'h2'},\n",
       "  {'name': 'See also', 'type': 'h2'},\n",
       "  {'name': 'Notes', 'type': 'h2'},\n",
       "  {'name': 'References', 'type': 'h2'},\n",
       "  {'name': 'Bibliography', 'type': 'h2'},\n",
       "  {'name': 'Further reading', 'type': 'h2'}]}"
      ]
     },
     "execution_count": 74,
     "metadata": {},
     "output_type": "execute_result"
    }
   ],
   "source": [
    "from neo4j import GraphDatabase\n",
    "\n",
    "class WikiHierarchy:\n",
    "    def __init__(self, uri, user, password):\n",
    "        self.driver = GraphDatabase.driver(uri, auth=(user, password))\n",
    "\n",
    "    def close(self):\n",
    "        self.driver.close()\n",
    "\n",
    "    def get_hierarchy(self, chunk_id):\n",
    "        with self.driver.session() as session:\n",
    "            # Step 1: Find the title node from the chunk ID\n",
    "            page_node = session.run(\"\"\"\n",
    "            MATCH (chunk:Chunk {uuid: $chunk_id})\n",
    "            OPTIONAL MATCH (page:Page)-[:HAS_SECTION*0..]->(section)-[:HAS_CHUNK]->(chunk)\n",
    "            WITH page\n",
    "            WHERE page IS NOT NULL\n",
    "            RETURN DISTINCT page\n",
    "            \"\"\", chunk_id=chunk_id).single()\n",
    "\n",
    "            if not page_node:\n",
    "                return None\n",
    "\n",
    "            page_node = page_node[\"page\"]\n",
    "            \n",
    "            # Step 2: Recursively build the hierarchy\n",
    "            hierarchy = self.build_hierarchy(session, page_node[\"uuid\"])\n",
    "            return hierarchy\n",
    "\n",
    "    def build_hierarchy(self, session, node_uuid):\n",
    "        # Get the node details\n",
    "        node = session.run(\"\"\"\n",
    "        MATCH (n {uuid: $uuid})\n",
    "        RETURN n\n",
    "        \"\"\", uuid=node_uuid).single()[\"n\"]\n",
    "\n",
    "        # Initialize the hierarchy dictionary\n",
    "        hierarchy = {\n",
    "            \"title\": node[\"title\"]\n",
    "        }\n",
    "\n",
    "        # Get the sections connected to this node\n",
    "        sections = session.run(\"\"\"\n",
    "        MATCH (n {uuid: $uuid})-[:HAS_SECTION]->(s)\n",
    "        RETURN s, labels(s) AS labels\n",
    "        \"\"\", uuid=node_uuid)\n",
    "\n",
    "        section_list = []\n",
    "        for section in sections:\n",
    "            section_node = section[\"s\"]\n",
    "            labels = section[\"labels\"]\n",
    "            # Determine the type from the labels\n",
    "            section_type = next(label for label in labels if label in {'h2', 'h3', 'h4'})\n",
    "            section_hierarchy = {\n",
    "                \"name\": section_node[\"name\"],\n",
    "                \"type\": section_type\n",
    "            }\n",
    "            # Recursively build the hierarchy for subsections\n",
    "            subsection_hierarchy = self.build_hierarchy(session, section_node[\"uuid\"])\n",
    "            if \"sections\" in subsection_hierarchy:\n",
    "                section_hierarchy[\"sections\"] = subsection_hierarchy[\"sections\"]\n",
    "            section_list.append(section_hierarchy)\n",
    "\n",
    "        if section_list:\n",
    "            hierarchy[\"sections\"] = section_list\n",
    "\n",
    "        return hierarchy\n",
    "\n",
    "# Example usage\n",
    "wiki_hierarchy = WikiHierarchy(\"bolt://localhost:7687\", \"neo4j\", \"neo4jpass\")\n",
    "chunk_id = \"3aacf659-c395-452b-92a1-e2e1d2b81ec3\"\n",
    "hierarchy = wiki_hierarchy.get_hierarchy(chunk_id)\n",
    "wiki_hierarchy.close()\n",
    "\n",
    "hierarchy"
   ]
  },
  {
   "cell_type": "markdown",
   "metadata": {},
   "source": [
    "## LLM experiments"
   ]
  },
  {
   "cell_type": "markdown",
   "metadata": {},
   "source": [
    "### Template to encourage LLM to ask for more context"
   ]
  },
  {
   "cell_type": "code",
   "execution_count": 75,
   "metadata": {},
   "outputs": [],
   "source": [
    "template = \"\"\"\n",
    "Answer the question only using the following context. Do not use any external information. \n",
    "\n",
    "Answer with \"I need more context\" in the following situations:\n",
    "- answer is not present in the context\n",
    "- answer is present in the context but you need more context to answer the question\n",
    "\n",
    "Context:\n",
    "{% for document in documents %}\n",
    "    {{ document.content }}\n",
    "{% endfor %}\n",
    "\n",
    "Question: {{query}}\n",
    "Answer:\n",
    "\"\"\"\n"
   ]
  },
  {
   "cell_type": "code",
   "execution_count": 76,
   "metadata": {},
   "outputs": [
    {
     "name": "stderr",
     "output_type": "stream",
     "text": [
      "/home/kartikeya/miniconda3/envs/argonk/lib/python3.12/site-packages/posthog/client.py:345: DeprecationWarning: datetime.datetime.utcnow() is deprecated and scheduled for removal in a future version. Use timezone-aware objects to represent datetimes in UTC: datetime.datetime.now(datetime.UTC).\n",
      "  timestamp = datetime.utcnow().replace(tzinfo=tzutc())\n"
     ]
    },
    {
     "name": "stdout",
     "output_type": "stream",
     "text": [
      "{'generator': {'replies': ['I need more context.'], 'meta': [{'model': 'gpt-4o-mini-2024-07-18', 'index': 0, 'finish_reason': 'stop', 'usage': {'completion_tokens': 5, 'prompt_tokens': 734, 'total_tokens': 739, 'completion_tokens_details': {'reasoning_tokens': 0}}}]}}\n"
     ]
    }
   ],
   "source": [
    "documents = result[\"joiner\"][\"documents\"]\n",
    "\n",
    "llm_pipeline = Pipeline()\n",
    "llm_pipeline.add_component(instance=PromptBuilder(template=template), name=\"prompt_builder\")\n",
    "llm_pipeline.add_component(\"generator\", generator)\n",
    "llm_pipeline.connect(\"prompt_builder\", \"generator\")\n",
    "\n",
    "result = llm_pipeline.run({\"prompt_builder\": {\"documents\": documents, \"query\": query}})\n",
    "print(result)"
   ]
  },
  {
   "cell_type": "markdown",
   "metadata": {},
   "source": [
    "Sanity check to test whether LLM does not always respond with 'I need more context.'"
   ]
  },
  {
   "cell_type": "code",
   "execution_count": 55,
   "metadata": {},
   "outputs": [
    {
     "data": {
      "text/plain": [
       "{'text_embedder': {'meta': {'model': 'text-embedding-3-small',\n",
       "   'usage': {'prompt_tokens': 6, 'total_tokens': 6}}},\n",
       " 'joiner': {'documents': [Document(id=f3496c54-52db-4649-b34e-3920c0796e3d, content: '†Carnosauria (large meat-eating dinosaurs; megalosauroids sometimes included)', meta: {'h3': 'Taxonomy', 'split_id': 160.0, 'source_id': '93000a3fb02b99d2d115cd4042256d2f5db2a0ff3928927ca14465276534a75e', 'file_path': 'Dinosaur.html', 'title': 'Dinosaurs', 'h4': None, 'h2': 'Classification'}, score: 1.0, embedding: vector of size 1536),\n",
       "   Document(id=bceced15-011d-4c78-9be4-168e32244697, content: 'Scientists will probably never be certain of the largest and smallest dinosaurs to have ever existed...', meta: {'file_path': 'Dinosaur.html', 'source_id': '93000a3fb02b99d2d115cd4042256d2f5db2a0ff3928927ca14465276534a75e', 'split_id': 201, 'title': 'Dinosaurs', 'h2': 'Paleobiology', 'h3': 'Size', 'h4': 'Largest and smallest'}, score: 0.4919354838709677, embedding: vector of size 1536),\n",
       "   Document(id=b99ff952-9244-45b3-88dc-96afdf7850f0, content: '†Ceratosauria (generally elaborately horned carnivores that existed from the Jurassic to Cretaceous ...', meta: {'h3': 'Taxonomy', 'source_id': '93000a3fb02b99d2d115cd4042256d2f5db2a0ff3928927ca14465276534a75e', 'split_id': 147.0, 'file_path': 'Dinosaur.html', 'title': 'Dinosaurs', 'h4': None, 'h2': 'Classification'}, score: 0.4919354838709677, embedding: vector of size 1536)]},\n",
       " 'elasticsearch_retriever': {'documents': [Document(id=f3496c54-52db-4649-b34e-3920c0796e3d, content: '†Carnosauria (large meat-eating dinosaurs; megalosauroids sometimes included)', meta: {'file_path': 'Dinosaur.html', 'source_id': '93000a3fb02b99d2d115cd4042256d2f5db2a0ff3928927ca14465276534a75e', 'split_id': 160, 'title': 'Dinosaurs', 'h2': 'Classification', 'h3': 'Taxonomy'}, score: 7.8713713, embedding: vector of size 1536),\n",
       "   Document(id=bceced15-011d-4c78-9be4-168e32244697, content: 'Scientists will probably never be certain of the largest and smallest dinosaurs to have ever existed...', meta: {'file_path': 'Dinosaur.html', 'source_id': '93000a3fb02b99d2d115cd4042256d2f5db2a0ff3928927ca14465276534a75e', 'split_id': 201, 'title': 'Dinosaurs', 'h2': 'Paleobiology', 'h3': 'Size', 'h4': 'Largest and smallest'}, score: 5.2024665, embedding: vector of size 1536),\n",
       "   Document(id=b78f9d4b-eedd-43cf-bd90-8b446803e94d, content: 'Many modern birds are highly social, often found living in flocks. There is general agreement that s...', meta: {'file_path': 'Dinosaur.html', 'source_id': '93000a3fb02b99d2d115cd4042256d2f5db2a0ff3928927ca14465276534a75e', 'split_id': 206, 'title': 'Dinosaurs', 'h2': 'Paleobiology', 'h3': 'Behavior'}, score: 4.1634035, embedding: vector of size 1536)]},\n",
       " 'weaviate_retriever': {'documents': [Document(id=f3496c54-52db-4649-b34e-3920c0796e3d, content: '†Carnosauria (large meat-eating dinosaurs; megalosauroids sometimes included)', meta: {'h3': 'Taxonomy', 'split_id': 160.0, 'source_id': '93000a3fb02b99d2d115cd4042256d2f5db2a0ff3928927ca14465276534a75e', 'file_path': 'Dinosaur.html', 'title': 'Dinosaurs', 'h4': None, 'h2': 'Classification'}, score: 0.8947262763977051, embedding: vector of size 1536),\n",
       "   Document(id=b99ff952-9244-45b3-88dc-96afdf7850f0, content: '†Ceratosauria (generally elaborately horned carnivores that existed from the Jurassic to Cretaceous ...', meta: {'h3': 'Taxonomy', 'source_id': '93000a3fb02b99d2d115cd4042256d2f5db2a0ff3928927ca14465276534a75e', 'split_id': 147.0, 'file_path': 'Dinosaur.html', 'title': 'Dinosaurs', 'h4': None, 'h2': 'Classification'}, score: 0.8498157262802124, embedding: vector of size 1536),\n",
       "   Document(id=7e2ca9b4-dea6-4b04-a136-c33647d6c56d, content: 'Dinosauria', meta: {'h3': 'Taxonomy', 'source_id': '93000a3fb02b99d2d115cd4042256d2f5db2a0ff3928927ca14465276534a75e', 'split_id': 53.0, 'file_path': 'Dinosaur.html', 'title': 'Dinosaurs', 'h4': None, 'h2': 'Classification'}, score: 0.8276913166046143, embedding: vector of size 1536)]}}"
      ]
     },
     "execution_count": 55,
     "metadata": {},
     "output_type": "execute_result"
    }
   ],
   "source": [
    "query = \"What are Carnosauria?\"\n",
    "\n",
    "result = p.run(data={\"elasticsearch_retriever\": {\"query\": query}, \n",
    "            \"text_embedder\": {\"text\": query}}, include_outputs_from={\"weaviate_retriever\", \"elasticsearch_retriever\"})\n",
    "\n",
    "result"
   ]
  },
  {
   "cell_type": "code",
   "execution_count": 58,
   "metadata": {},
   "outputs": [
    {
     "name": "stderr",
     "output_type": "stream",
     "text": [
      "/home/kartikeya/miniconda3/envs/argonk/lib/python3.12/site-packages/posthog/client.py:345: DeprecationWarning: datetime.datetime.utcnow() is deprecated and scheduled for removal in a future version. Use timezone-aware objects to represent datetimes in UTC: datetime.datetime.now(datetime.UTC).\n",
      "  timestamp = datetime.utcnow().replace(tzinfo=tzutc())\n",
      "/home/kartikeya/miniconda3/envs/argonk/lib/python3.12/site-packages/neo4j/_sync/driver.py:532: ResourceWarning: unclosed  BoltDriver: <neo4j._sync.driver.BoltDriver object at 0x7dae9ab00dd0>.\n",
      "  _unclosed_resource_warn(self)\n",
      "ResourceWarning: Enable tracemalloc to get the object allocation traceback\n",
      "/home/kartikeya/miniconda3/envs/argonk/lib/python3.12/site-packages/neo4j/_sync/driver.py:537: DeprecationWarning: Relying on Driver's destructor to close the session is deprecated. Please make sure to close the session. Use it as a context (`with` statement) or make sure to call `.close()` explicitly. Future versions of the driver will not close drivers automatically.\n",
      "  _deprecation_warn(\n",
      "/home/kartikeya/miniconda3/envs/argonk/lib/python3.12/site-packages/neo4j/_sync/driver.py:532: ResourceWarning: unclosed  BoltDriver: <neo4j._sync.driver.BoltDriver object at 0x7dae9a1905c0>.\n",
      "  _unclosed_resource_warn(self)\n",
      "ResourceWarning: Enable tracemalloc to get the object allocation traceback\n",
      "/home/kartikeya/miniconda3/envs/argonk/lib/python3.12/site-packages/neo4j/_sync/driver.py:532: ResourceWarning: unclosed  BoltDriver: <neo4j._sync.driver.BoltDriver object at 0x7dae9a18e5a0>.\n",
      "  _unclosed_resource_warn(self)\n",
      "ResourceWarning: Enable tracemalloc to get the object allocation traceback\n",
      "/home/kartikeya/miniconda3/envs/argonk/lib/python3.12/site-packages/neo4j/_sync/driver.py:532: ResourceWarning: unclosed  BoltDriver: <neo4j._sync.driver.BoltDriver object at 0x7dae9a194d10>.\n",
      "  _unclosed_resource_warn(self)\n",
      "ResourceWarning: Enable tracemalloc to get the object allocation traceback\n",
      "/home/kartikeya/miniconda3/envs/argonk/lib/python3.12/site-packages/neo4j/_sync/driver.py:532: ResourceWarning: unclosed  BoltDriver: <neo4j._sync.driver.BoltDriver object at 0x7dae99729df0>.\n",
      "  _unclosed_resource_warn(self)\n",
      "ResourceWarning: Enable tracemalloc to get the object allocation traceback\n",
      "/home/kartikeya/miniconda3/envs/argonk/lib/python3.12/site-packages/neo4j/_sync/driver.py:532: ResourceWarning: unclosed  BoltDriver: <neo4j._sync.driver.BoltDriver object at 0x7dae99719880>.\n",
      "  _unclosed_resource_warn(self)\n",
      "ResourceWarning: Enable tracemalloc to get the object allocation traceback\n",
      "/home/kartikeya/miniconda3/envs/argonk/lib/python3.12/site-packages/posthog/request.py:40: DeprecationWarning: datetime.datetime.utcnow() is deprecated and scheduled for removal in a future version. Use timezone-aware objects to represent datetimes in UTC: datetime.datetime.now(datetime.UTC).\n",
      "  body[\"sentAt\"] = datetime.utcnow().replace(tzinfo=tzutc()).isoformat()\n"
     ]
    },
    {
     "name": "stdout",
     "output_type": "stream",
     "text": [
      "{'generator': {'replies': ['Carnosauria are large meat-eating dinosaurs; megalosauroids are sometimes included in this group.'], 'meta': [{'model': 'gpt-4o-mini-2024-07-18', 'index': 0, 'finish_reason': 'stop', 'usage': {'completion_tokens': 23, 'prompt_tokens': 250, 'total_tokens': 273, 'completion_tokens_details': {'reasoning_tokens': 0}}}]}}\n"
     ]
    }
   ],
   "source": [
    "documents = result[\"joiner\"][\"documents\"]\n",
    "\n",
    "result = llm_pipeline.run({\"prompt_builder\": {\"documents\": documents, \"query\": query}})\n",
    "print(result)"
   ]
  },
  {
   "cell_type": "markdown",
   "metadata": {},
   "source": [
    "LLM works fine - answers 'I need more context.' only when it needs to."
   ]
  },
  {
   "cell_type": "markdown",
   "metadata": {},
   "source": [
    "### Template to provide page hierarchy information to LLM"
   ]
  },
  {
   "cell_type": "code",
   "execution_count": 77,
   "metadata": {},
   "outputs": [],
   "source": [
    "hierarchy_template = \"\"\"\n",
    "The below context provides a Wikipedia page structure in Python dict form - title, h2, h3, h4 sections.\n",
    "Given the question below and given the relevant page hierarchy, think about the section that would contain the answer to the question.\n",
    "\n",
    "Example:\n",
    "If the Dinosaur page has the following structure,\n",
    "{\n",
    "    \"title\": \"Dinosaur\",\n",
    "    \"sections\": [\n",
    "        {\n",
    "            \"name\": \"Overview\",\n",
    "            \"type\": \"h2\",\n",
    "            \"sections\": [\n",
    "                {\n",
    "                    \"name\": \"Etymology\",\n",
    "                    \"type\": \"h3\"\n",
    "                }\n",
    "            ]\n",
    "        }\n",
    "    ]\n",
    "} \n",
    "and the section \"Etymology\" seems to contain the answer to the question \"What does the word dinosaur mean?\", \n",
    "you should repond:\n",
    "Dinosaur -> Overview -> Etymology\n",
    "\n",
    "Note: It is not necessary to always go to the lowest level of the hierarchy. For example if the question is broad and 'Overview' seems to contain the answer,\n",
    "you can respond: Dinosaur -> Overview\n",
    "\n",
    "\n",
    "Context:\n",
    "{{hierarchy}}\n",
    "\n",
    "Question: {{query}}\n",
    "Response:\n",
    "\"\"\""
   ]
  },
  {
   "cell_type": "code",
   "execution_count": 78,
   "metadata": {},
   "outputs": [
    {
     "name": "stderr",
     "output_type": "stream",
     "text": [
      "/home/kartikeya/miniconda3/envs/argonk/lib/python3.12/site-packages/haystack/components/generators/openai.py:106: DeprecationWarning: In the upcoming releases 'gpt-3.5-turbo' will be replaced by 'gpt-4o-mini' as the default model\n",
      "  warnings.warn(\n"
     ]
    },
    {
     "data": {
      "text/plain": [
       "<haystack.core.pipeline.pipeline.Pipeline object at 0x7928165f69c0>\n",
       "🚅 Components\n",
       "  - hierarchy_prompt_builder: PromptBuilder\n",
       "  - hierarchy_generator: OpenAIGenerator\n",
       "🛤️ Connections\n",
       "  - hierarchy_prompt_builder.prompt -> hierarchy_generator.prompt (str)"
      ]
     },
     "execution_count": 78,
     "metadata": {},
     "output_type": "execute_result"
    }
   ],
   "source": [
    "\n",
    "\n",
    "hierarchy_pipeline = Pipeline()\n",
    "hierarchy_pipeline.add_component(instance=PromptBuilder(template=hierarchy_template), name=\"hierarchy_prompt_builder\")\n",
    "hierarchy_pipeline.add_component(instance=OpenAIGenerator(model=\"gpt-4o-mini\"), name=\"hierarchy_generator\")\n",
    "hierarchy_pipeline.connect(\"hierarchy_prompt_builder\", \"hierarchy_generator\")\n",
    "\n"
   ]
  },
  {
   "cell_type": "code",
   "execution_count": 79,
   "metadata": {},
   "outputs": [
    {
     "name": "stdout",
     "output_type": "stream",
     "text": [
      "{'hierarchy_generator': {'replies': ['Dinosaur -> Paleobiology -> Physiology'], 'meta': [{'model': 'gpt-4o-mini-2024-07-18', 'index': 0, 'finish_reason': 'stop', 'usage': {'completion_tokens': 9, 'prompt_tokens': 842, 'total_tokens': 851, 'completion_tokens_details': {'reasoning_tokens': 0}}}]}}\n"
     ]
    }
   ],
   "source": [
    "query = \"Tell me in short about the physiology of dinosaurs.\"\n",
    "\n",
    "result = hierarchy_pipeline.run({\"hierarchy_prompt_builder\": {\"hierarchy\": hierarchy, \"query\": query}})\n",
    "print(result)"
   ]
  },
  {
   "cell_type": "markdown",
   "metadata": {},
   "source": []
  },
  {
   "cell_type": "code",
   "execution_count": 70,
   "metadata": {},
   "outputs": [
    {
     "name": "stdout",
     "output_type": "stream",
     "text": [
      "{'hierarchy_generator': {'replies': ['Dinosaur -> Extinction of major groups'], 'meta': [{'model': 'gpt-4o-mini-2024-07-18', 'index': 0, 'finish_reason': 'stop', 'usage': {'completion_tokens': 8, 'prompt_tokens': 843, 'total_tokens': 851, 'completion_tokens_details': {'reasoning_tokens': 0}}}]}}\n"
     ]
    }
   ],
   "source": [
    "query = \"Give me a detailed description about how dinosaurs became extinct.\"\n",
    "\n",
    "result = hierarchy_pipeline.run({\"hierarchy_prompt_builder\": {\"hierarchy\": hierarchy, \"query\": query}})\n",
    "print(result)"
   ]
  },
  {
   "cell_type": "markdown",
   "metadata": {},
   "source": [
    "Good results! LLM goes deep into the hierarchy when required and stops at a higher level if the question is broad enough."
   ]
  },
  {
   "cell_type": "markdown",
   "metadata": {},
   "source": [
    "### Fetch relevant chunk ids based on LLM section response (FAILED)"
   ]
  },
  {
   "cell_type": "code",
   "execution_count": 1,
   "metadata": {},
   "outputs": [
    {
     "name": "stderr",
     "output_type": "stream",
     "text": [
      "Received notification from DBMS server: {severity: WARNING} {code: Neo.ClientNotification.Statement.FeatureDeprecationWarning} {category: DEPRECATION} {title: This feature is deprecated and will be removed in future versions.} {description: CALL subquery without a variable scope clause is now deprecated. Use CALL (start, path, idx) { ... }} {position: line: 5, column: 13, offset: 131} for query: '\\n            WITH $path AS path\\n            MATCH (start:Page {title: path[0]})\\n            WITH start, path, 1 AS idx\\n            CALL {\\n                WITH start, path, idx\\n                MATCH (current)-[:HAS_SECTION]->(next)\\n                WHERE current = start AND next.name = path[idx]\\n                WITH next, path, idx + 1 AS next_idx\\n                CALL {\\n                    WITH next, path, next_idx\\n                    MATCH (next)-[:HAS_SECTION*0..]->(subsection)\\n                    WHERE subsection.name = path[next_idx]\\n                    RETURN subsection\\n                    LIMIT 1\\n                }\\n                RETURN subsection\\n            }\\n            WITH subsection\\n            MATCH (subsection)-[:HAS_SECTION*0..]->(subsection)\\n            WITH subsection\\n            MATCH (subsection)-[:HAS_CHUNK]->(chunk:Chunk)\\n            RETURN chunk\\n            '\n",
      "Received notification from DBMS server: {severity: WARNING} {code: Neo.ClientNotification.Statement.FeatureDeprecationWarning} {category: DEPRECATION} {title: This feature is deprecated and will be removed in future versions.} {description: CALL subquery without a variable scope clause is now deprecated. Use CALL (next, path, next_idx) { ... }} {position: line: 10, column: 17, offset: 364} for query: '\\n            WITH $path AS path\\n            MATCH (start:Page {title: path[0]})\\n            WITH start, path, 1 AS idx\\n            CALL {\\n                WITH start, path, idx\\n                MATCH (current)-[:HAS_SECTION]->(next)\\n                WHERE current = start AND next.name = path[idx]\\n                WITH next, path, idx + 1 AS next_idx\\n                CALL {\\n                    WITH next, path, next_idx\\n                    MATCH (next)-[:HAS_SECTION*0..]->(subsection)\\n                    WHERE subsection.name = path[next_idx]\\n                    RETURN subsection\\n                    LIMIT 1\\n                }\\n                RETURN subsection\\n            }\\n            WITH subsection\\n            MATCH (subsection)-[:HAS_SECTION*0..]->(subsection)\\n            WITH subsection\\n            MATCH (subsection)-[:HAS_CHUNK]->(chunk:Chunk)\\n            RETURN chunk\\n            '\n"
     ]
    },
    {
     "name": "stdout",
     "output_type": "stream",
     "text": [
      "<Node element_id='4:61326856-46d2-4d6e-9ccb-3d3370b8bf1f:243' labels=frozenset({'Chunk'}) properties={'uuid': '6d8ce2b2-dbcf-43bb-a598-4a61a52029ba'}>\n",
      "<Node element_id='4:61326856-46d2-4d6e-9ccb-3d3370b8bf1f:242' labels=frozenset({'Chunk'}) properties={'uuid': '2d9d677d-8d1e-43bd-b800-2d536bf38ecb'}>\n",
      "<Node element_id='4:61326856-46d2-4d6e-9ccb-3d3370b8bf1f:241' labels=frozenset({'Chunk'}) properties={'uuid': '20e258a0-3ef3-413b-89cc-4660319b1847'}>\n",
      "<Node element_id='4:61326856-46d2-4d6e-9ccb-3d3370b8bf1f:240' labels=frozenset({'Chunk'}) properties={'uuid': '54620459-cf76-480a-accf-e8ca14bb6e91'}>\n",
      "<Node element_id='4:61326856-46d2-4d6e-9ccb-3d3370b8bf1f:239' labels=frozenset({'Chunk'}) properties={'uuid': '1e97994a-ccc2-4380-8778-b104f0de2ca3'}>\n",
      "<Node element_id='4:61326856-46d2-4d6e-9ccb-3d3370b8bf1f:238' labels=frozenset({'Chunk'}) properties={'uuid': 'bd119798-6c5e-4805-ae88-147b98d4ba87'}>\n"
     ]
    }
   ],
   "source": [
    "from neo4j import GraphDatabase\n",
    "\n",
    "class Neo4jClient:\n",
    "    def __init__(self, uri, user, password):\n",
    "        self.driver = GraphDatabase.driver(uri, auth=(user, password))\n",
    "\n",
    "    def close(self):\n",
    "        self.driver.close()\n",
    "\n",
    "    def get_chunks_by_hierarchy_path(self, path):\n",
    "        with self.driver.session() as session:\n",
    "            result = session.run(\"\"\"\n",
    "            WITH $path AS path\n",
    "            MATCH (start:Page {title: path[0]})\n",
    "            WITH start, path, 1 AS idx\n",
    "            CALL {\n",
    "                WITH start, path, idx\n",
    "                MATCH (current)-[:HAS_SECTION]->(next)\n",
    "                WHERE current = start AND next.name = path[idx]\n",
    "                WITH next, path, idx + 1 AS next_idx\n",
    "                CALL {\n",
    "                    WITH next, path, next_idx\n",
    "                    MATCH (next)-[:HAS_SECTION*0..]->(subsection)\n",
    "                    WHERE subsection.name = path[next_idx]\n",
    "                    RETURN subsection\n",
    "                    LIMIT 1\n",
    "                }\n",
    "                RETURN subsection\n",
    "            }\n",
    "            WITH subsection\n",
    "            MATCH (subsection)-[:HAS_SECTION*0..]->(subsection)\n",
    "            WITH subsection\n",
    "            MATCH (subsection)-[:HAS_CHUNK]->(chunk:Chunk)\n",
    "            RETURN chunk\n",
    "            \"\"\", path=path)\n",
    "            return [record[\"chunk\"] for record in result]\n",
    "\n",
    "# Example usage\n",
    "neo4j_client = Neo4jClient(\"bolt://localhost:7687\", \"neo4j\", \"neo4jpass\")\n",
    "path = ['Dinosaur', 'Paleobiology', 'Physiology']\n",
    "chunks = neo4j_client.get_chunks_by_hierarchy_path(path)\n",
    "neo4j_client.close()\n",
    "\n",
    "for chunk in chunks:\n",
    "    print(chunk)"
   ]
  },
  {
   "cell_type": "markdown",
   "metadata": {},
   "source": [
    "This seems fine!"
   ]
  },
  {
   "cell_type": "code",
   "execution_count": 3,
   "metadata": {},
   "outputs": [
    {
     "name": "stderr",
     "output_type": "stream",
     "text": [
      "Received notification from DBMS server: {severity: WARNING} {code: Neo.ClientNotification.Statement.FeatureDeprecationWarning} {category: DEPRECATION} {title: This feature is deprecated and will be removed in future versions.} {description: CALL subquery without a variable scope clause is now deprecated. Use CALL (start, path, idx) { ... }} {position: line: 5, column: 13, offset: 131} for query: '\\n            WITH $path AS path\\n            MATCH (start:Page {title: path[0]})\\n            WITH start, path, 1 AS idx\\n            CALL {\\n                WITH start, path, idx\\n                MATCH (current)-[:HAS_SECTION]->(next)\\n                WHERE current = start AND next.name = path[idx]\\n                WITH next, path, idx + 1 AS next_idx\\n                CALL {\\n                    WITH next, path, next_idx\\n                    MATCH (next)-[:HAS_SECTION*0..]->(subsection)\\n                    WHERE subsection.name = path[next_idx]\\n                    RETURN subsection\\n                    LIMIT 1\\n                }\\n                RETURN subsection\\n            }\\n            WITH subsection\\n            MATCH (subsection)-[:HAS_SECTION*0..]->(subsection)\\n            WITH subsection\\n            MATCH (subsection)-[:HAS_CHUNK]->(chunk:Chunk)\\n            RETURN chunk\\n            '\n",
      "Received notification from DBMS server: {severity: WARNING} {code: Neo.ClientNotification.Statement.FeatureDeprecationWarning} {category: DEPRECATION} {title: This feature is deprecated and will be removed in future versions.} {description: CALL subquery without a variable scope clause is now deprecated. Use CALL (next, path, next_idx) { ... }} {position: line: 10, column: 17, offset: 364} for query: '\\n            WITH $path AS path\\n            MATCH (start:Page {title: path[0]})\\n            WITH start, path, 1 AS idx\\n            CALL {\\n                WITH start, path, idx\\n                MATCH (current)-[:HAS_SECTION]->(next)\\n                WHERE current = start AND next.name = path[idx]\\n                WITH next, path, idx + 1 AS next_idx\\n                CALL {\\n                    WITH next, path, next_idx\\n                    MATCH (next)-[:HAS_SECTION*0..]->(subsection)\\n                    WHERE subsection.name = path[next_idx]\\n                    RETURN subsection\\n                    LIMIT 1\\n                }\\n                RETURN subsection\\n            }\\n            WITH subsection\\n            MATCH (subsection)-[:HAS_SECTION*0..]->(subsection)\\n            WITH subsection\\n            MATCH (subsection)-[:HAS_CHUNK]->(chunk:Chunk)\\n            RETURN chunk\\n            '\n"
     ]
    },
    {
     "name": "stdout",
     "output_type": "stream",
     "text": [
      "<Node element_id='4:61326856-46d2-4d6e-9ccb-3d3370b8bf1f:263' labels=frozenset({'Chunk'}) properties={'uuid': 'bf4dc5c0-a5b0-44a3-b401-7816d62462a2'}>\n",
      "<Node element_id='4:61326856-46d2-4d6e-9ccb-3d3370b8bf1f:262' labels=frozenset({'Chunk'}) properties={'uuid': '78553c50-0783-43df-8f8a-9e81b90562a9'}>\n"
     ]
    }
   ],
   "source": [
    "neo4j_client = Neo4jClient(\"bolt://localhost:7687\", \"neo4j\", \"neo4jpass\")\n",
    "path = ['Dinosaur', 'Extinction of major groups', 'Impact event']\n",
    "chunks = neo4j_client.get_chunks_by_hierarchy_path(path)\n",
    "neo4j_client.close()\n",
    "\n",
    "for chunk in chunks:\n",
    "    print(chunk)"
   ]
  },
  {
   "cell_type": "markdown",
   "metadata": {},
   "source": [
    "This does not seem to work correctly!"
   ]
  },
  {
   "cell_type": "markdown",
   "metadata": {},
   "source": [
    "Mixed results\n",
    "- path = ['Dinosaur', 'Paleobiology', 'Physiology'] seems to work fine, got 6 chunks as expected (did not verify if they are the correct chunks)\n",
    "- path = ['Dinosaur', 'Extinction of major groups'] does not work; expected all chunks under it and chunks of sections/subsections also, but got none! Investigate.\n",
    "    - but path = ['Dinosaur', 'Extinction of major groups', 'Impact event'] works! - buggy code, if path ends midway (not at a leaf section node), code logic does not fetch all chunks"
   ]
  },
  {
   "cell_type": "code",
   "execution_count": 13,
   "metadata": {},
   "outputs": [
    {
     "name": "stderr",
     "output_type": "stream",
     "text": [
      "Received notification from DBMS server: {severity: WARNING} {code: Neo.ClientNotification.Statement.FeatureDeprecationWarning} {category: DEPRECATION} {title: This feature is deprecated and will be removed in future versions.} {description: CALL subquery without a variable scope clause is now deprecated. Use CALL (page, path, idx) { ... }} {position: line: 8, column: 13, offset: 297} for query: '\\n            WITH $path AS path\\n            // Start with the first element in the path as the Page node\\n            MATCH (page:Page {title: path[0]})\\n            WITH page, path, 1 AS idx\\n\\n            // Traverse the sections along the path, if path contains more than just the page\\n            CALL {\\n                WITH page, path, idx\\n                OPTIONAL MATCH (page)-[:HAS_SECTION*0..]->(section)\\n                WHERE (size(path) = 1 AND section IS NOT NULL) OR (size(path) > 1 AND section.name = path[idx])\\n                WITH section, path, idx + 1 AS next_idx\\n                RETURN section, next_idx\\n                LIMIT 1\\n            } \\n\\n            // If no sections are found, default to the page node itself for hierarchy collection\\n            WITH COALESCE(section, page) AS current, page, path\\n\\n            // Collect chunks directly under this section or page\\n            OPTIONAL MATCH (current)-[:HAS_CHUNK]->(chunk:Chunk)\\n            WITH current, collect(chunk.uuid) AS chunks\\n\\n            // Recursively collect chunks from subsections (if any)\\n            CALL {\\n                WITH current\\n                OPTIONAL MATCH (current)-[:HAS_SECTION*0..]->(subsection)\\n                OPTIONAL MATCH (subsection)-[:HAS_CHUNK]->(subchunk:Chunk)\\n                RETURN subsection.name AS subsection_name, collect(subchunk.uuid) AS subsection_chunks\\n            }\\n\\n            // Group subsections and their chunks\\n            WITH current, chunks, collect({subsection: subsection_name, chunks: subsection_chunks}) AS subsection_hierarchy\\n\\n            // Filter out subsections that are the same as the top-level section (avoid redundancy)\\n            WITH current, chunks, [subsection IN subsection_hierarchy WHERE subsection.subsection <> current.name] AS filtered_hierarchy\\n\\n            // Return chunks for this section/page and its subsections in a hierarchical format\\n            RETURN current.name AS section_name, chunks, filtered_hierarchy\\n            '\n",
      "Received notification from DBMS server: {severity: WARNING} {code: Neo.ClientNotification.Statement.FeatureDeprecationWarning} {category: DEPRECATION} {title: This feature is deprecated and will be removed in future versions.} {description: CALL subquery without a variable scope clause is now deprecated. Use CALL (current) { ... }} {position: line: 25, column: 13, offset: 1089} for query: '\\n            WITH $path AS path\\n            // Start with the first element in the path as the Page node\\n            MATCH (page:Page {title: path[0]})\\n            WITH page, path, 1 AS idx\\n\\n            // Traverse the sections along the path, if path contains more than just the page\\n            CALL {\\n                WITH page, path, idx\\n                OPTIONAL MATCH (page)-[:HAS_SECTION*0..]->(section)\\n                WHERE (size(path) = 1 AND section IS NOT NULL) OR (size(path) > 1 AND section.name = path[idx])\\n                WITH section, path, idx + 1 AS next_idx\\n                RETURN section, next_idx\\n                LIMIT 1\\n            } \\n\\n            // If no sections are found, default to the page node itself for hierarchy collection\\n            WITH COALESCE(section, page) AS current, page, path\\n\\n            // Collect chunks directly under this section or page\\n            OPTIONAL MATCH (current)-[:HAS_CHUNK]->(chunk:Chunk)\\n            WITH current, collect(chunk.uuid) AS chunks\\n\\n            // Recursively collect chunks from subsections (if any)\\n            CALL {\\n                WITH current\\n                OPTIONAL MATCH (current)-[:HAS_SECTION*0..]->(subsection)\\n                OPTIONAL MATCH (subsection)-[:HAS_CHUNK]->(subchunk:Chunk)\\n                RETURN subsection.name AS subsection_name, collect(subchunk.uuid) AS subsection_chunks\\n            }\\n\\n            // Group subsections and their chunks\\n            WITH current, chunks, collect({subsection: subsection_name, chunks: subsection_chunks}) AS subsection_hierarchy\\n\\n            // Filter out subsections that are the same as the top-level section (avoid redundancy)\\n            WITH current, chunks, [subsection IN subsection_hierarchy WHERE subsection.subsection <> current.name] AS filtered_hierarchy\\n\\n            // Return chunks for this section/page and its subsections in a hierarchical format\\n            RETURN current.name AS section_name, chunks, filtered_hierarchy\\n            '\n"
     ]
    },
    {
     "name": "stdout",
     "output_type": "stream",
     "text": [
      "<Record section_name='Paleobiology' chunks=['ed090260-bd01-484a-8029-03523e3ac3fd'] filtered_hierarchy=[{'chunks': ['44a23537-cdcb-4cb0-a256-011cbafe37ae', '51cfc07d-fa24-431c-a3aa-84bd5e6d6743'], 'subsection': 'Size'}, {'chunks': ['f39087f3-654f-42c8-b7b6-b9a671d028ad', 'f15756e5-41b7-4bc7-b2cc-0a3aae739e62', '5c19df63-6a0e-4d11-bfa5-825bbcbbc2fc', '7a844fcb-32a5-4dbf-bfd7-097d78f5a299', 'bceced15-011d-4c78-9be4-168e32244697'], 'subsection': 'Largest and smallest'}, {'chunks': ['72964dd2-a5a8-4f60-a1ce-6ab52a861eb6', 'ea809a68-4f9d-4e83-8b06-df558603f98e', 'e640edd7-12c7-45ed-9344-3ba7d826aef6', '5cc76edb-2468-48f3-b4a9-8e3f5874afeb', 'd42331a1-c62b-421b-ade7-7f9d41f371fe', 'b78f9d4b-eedd-43cf-bd90-8b446803e94d'], 'subsection': 'Behavior'}, {'chunks': ['27a7eded-5134-44c3-9507-88492413124e', '6fef6db7-2835-4fc5-8c42-e8359c72f96d', '4d2007ce-8213-498c-86ae-5dc7cf7aa3a2'], 'subsection': 'Communication'}, {'chunks': ['1094ab6d-3a32-4be5-bbec-90388fea8bcc', 'ee8d6417-efc7-40eb-bf56-23390091e7f5', 'b8a570d5-f59d-4003-9a73-f0f1cb2f27b1', '627b222e-9a54-4cc5-a0d2-acc53d533bfb', 'bf8ec3ef-2c03-4a69-98be-17656926628c'], 'subsection': 'Reproductive biology'}, {'chunks': ['6d8ce2b2-dbcf-43bb-a598-4a61a52029ba', '2d9d677d-8d1e-43bd-b800-2d536bf38ecb', '20e258a0-3ef3-413b-89cc-4660319b1847', '54620459-cf76-480a-accf-e8ca14bb6e91', '1e97994a-ccc2-4380-8778-b104f0de2ca3', 'bd119798-6c5e-4805-ae88-147b98d4ba87'], 'subsection': 'Physiology'}]>\n"
     ]
    }
   ],
   "source": [
    "from neo4j import GraphDatabase\n",
    "\n",
    "class Neo4jClient:\n",
    "    def __init__(self, uri, user, password):\n",
    "        self.driver = GraphDatabase.driver(uri, auth=(user, password))\n",
    "\n",
    "    def close(self):\n",
    "        self.driver.close()\n",
    "\n",
    "    def get_chunks_by_hierarchy_path(self, path):\n",
    "        with self.driver.session() as session:\n",
    "            result = session.run(\"\"\"\n",
    "            WITH $path AS path\n",
    "            // Start with the first element in the path as the Page node\n",
    "            MATCH (page:Page {title: path[0]})\n",
    "            WITH page, path, 1 AS idx\n",
    "\n",
    "            // Traverse the sections along the path, if path contains more than just the page\n",
    "            CALL {\n",
    "                WITH page, path, idx\n",
    "                OPTIONAL MATCH (page)-[:HAS_SECTION*0..]->(section)\n",
    "                WHERE (size(path) = 1 AND section IS NOT NULL) OR (size(path) > 1 AND section.name = path[idx])\n",
    "                WITH section, path, idx + 1 AS next_idx\n",
    "                RETURN section, next_idx\n",
    "                LIMIT 1\n",
    "            } \n",
    "\n",
    "            // If no sections are found, default to the page node itself for hierarchy collection\n",
    "            WITH COALESCE(section, page) AS current, page, path\n",
    "\n",
    "            // Collect chunks directly under this section or page\n",
    "            OPTIONAL MATCH (current)-[:HAS_CHUNK]->(chunk:Chunk)\n",
    "            WITH current, collect(chunk.uuid) AS chunks\n",
    "\n",
    "            // Recursively collect chunks from subsections (if any)\n",
    "            CALL {\n",
    "                WITH current\n",
    "                OPTIONAL MATCH (current)-[:HAS_SECTION*0..]->(subsection)\n",
    "                OPTIONAL MATCH (subsection)-[:HAS_CHUNK]->(subchunk:Chunk)\n",
    "                RETURN subsection.name AS subsection_name, collect(subchunk.uuid) AS subsection_chunks\n",
    "            }\n",
    "\n",
    "            // Group subsections and their chunks\n",
    "            WITH current, chunks, collect({subsection: subsection_name, chunks: subsection_chunks}) AS subsection_hierarchy\n",
    "\n",
    "            // Filter out subsections that are the same as the top-level section (avoid redundancy)\n",
    "            WITH current, chunks, [subsection IN subsection_hierarchy WHERE subsection.subsection <> current.name] AS filtered_hierarchy\n",
    "\n",
    "            // Return chunks for this section/page and its subsections in a hierarchical format\n",
    "            RETURN current.name AS section_name, chunks, filtered_hierarchy\n",
    "            \"\"\", path=path)\n",
    "\n",
    "            return [record for record in result]\n",
    "\n",
    "\n",
    "# Example usage\n",
    "neo4j_client = Neo4jClient(\"bolt://localhost:7687\", \"neo4j\", \"neo4jpass\")\n",
    "path = ['Dinosaur', 'Paleobiology']\n",
    "chunks_hierarchy = neo4j_client.get_chunks_by_hierarchy_path(path)\n",
    "neo4j_client.close()\n",
    "\n",
    "# Print out the hierarchical chunks\n",
    "for hierarchy in chunks_hierarchy:\n",
    "    print(hierarchy)\n"
   ]
  },
  {
   "cell_type": "code",
   "execution_count": 14,
   "metadata": {},
   "outputs": [
    {
     "name": "stderr",
     "output_type": "stream",
     "text": [
      "Received notification from DBMS server: {severity: WARNING} {code: Neo.ClientNotification.Statement.FeatureDeprecationWarning} {category: DEPRECATION} {title: This feature is deprecated and will be removed in future versions.} {description: CALL subquery without a variable scope clause is now deprecated. Use CALL (page, path, idx) { ... }} {position: line: 8, column: 13, offset: 297} for query: '\\n            WITH $path AS path\\n            // Start with the first element in the path as the Page node\\n            MATCH (page:Page {title: path[0]})\\n            WITH page, path, 1 AS idx\\n\\n            // Traverse the sections along the path, if path contains more than just the page\\n            CALL {\\n                WITH page, path, idx\\n                OPTIONAL MATCH (page)-[:HAS_SECTION*0..]->(section)\\n                WHERE (size(path) = 1 AND section IS NOT NULL) OR (size(path) > 1 AND section.name = path[idx])\\n                WITH section, path, idx + 1 AS next_idx\\n                RETURN section, next_idx\\n                LIMIT 1\\n            } \\n\\n            // If no sections are found, default to the page node itself for hierarchy collection\\n            WITH COALESCE(section, page) AS current, page, path\\n\\n            // Collect chunks directly under this section or page\\n            OPTIONAL MATCH (current)-[:HAS_CHUNK]->(chunk:Chunk)\\n            WITH current, collect(chunk.uuid) AS chunks\\n\\n            // Recursively collect chunks from subsections (if any)\\n            CALL {\\n                WITH current\\n                OPTIONAL MATCH (current)-[:HAS_SECTION*0..]->(subsection)\\n                OPTIONAL MATCH (subsection)-[:HAS_CHUNK]->(subchunk:Chunk)\\n                RETURN subsection.name AS subsection_name, collect(subchunk.uuid) AS subsection_chunks\\n            }\\n\\n            // Group subsections and their chunks\\n            WITH current, chunks, collect({subsection: subsection_name, chunks: subsection_chunks}) AS subsection_hierarchy\\n\\n            // Filter out subsections that are the same as the top-level section (avoid redundancy)\\n            WITH current, chunks, [subsection IN subsection_hierarchy WHERE subsection.subsection <> current.name] AS filtered_hierarchy\\n\\n            // Return chunks for this section/page and its subsections in a hierarchical format\\n            RETURN current.name AS section_name, chunks, filtered_hierarchy\\n            '\n",
      "Received notification from DBMS server: {severity: WARNING} {code: Neo.ClientNotification.Statement.FeatureDeprecationWarning} {category: DEPRECATION} {title: This feature is deprecated and will be removed in future versions.} {description: CALL subquery without a variable scope clause is now deprecated. Use CALL (current) { ... }} {position: line: 25, column: 13, offset: 1089} for query: '\\n            WITH $path AS path\\n            // Start with the first element in the path as the Page node\\n            MATCH (page:Page {title: path[0]})\\n            WITH page, path, 1 AS idx\\n\\n            // Traverse the sections along the path, if path contains more than just the page\\n            CALL {\\n                WITH page, path, idx\\n                OPTIONAL MATCH (page)-[:HAS_SECTION*0..]->(section)\\n                WHERE (size(path) = 1 AND section IS NOT NULL) OR (size(path) > 1 AND section.name = path[idx])\\n                WITH section, path, idx + 1 AS next_idx\\n                RETURN section, next_idx\\n                LIMIT 1\\n            } \\n\\n            // If no sections are found, default to the page node itself for hierarchy collection\\n            WITH COALESCE(section, page) AS current, page, path\\n\\n            // Collect chunks directly under this section or page\\n            OPTIONAL MATCH (current)-[:HAS_CHUNK]->(chunk:Chunk)\\n            WITH current, collect(chunk.uuid) AS chunks\\n\\n            // Recursively collect chunks from subsections (if any)\\n            CALL {\\n                WITH current\\n                OPTIONAL MATCH (current)-[:HAS_SECTION*0..]->(subsection)\\n                OPTIONAL MATCH (subsection)-[:HAS_CHUNK]->(subchunk:Chunk)\\n                RETURN subsection.name AS subsection_name, collect(subchunk.uuid) AS subsection_chunks\\n            }\\n\\n            // Group subsections and their chunks\\n            WITH current, chunks, collect({subsection: subsection_name, chunks: subsection_chunks}) AS subsection_hierarchy\\n\\n            // Filter out subsections that are the same as the top-level section (avoid redundancy)\\n            WITH current, chunks, [subsection IN subsection_hierarchy WHERE subsection.subsection <> current.name] AS filtered_hierarchy\\n\\n            // Return chunks for this section/page and its subsections in a hierarchical format\\n            RETURN current.name AS section_name, chunks, filtered_hierarchy\\n            '\n"
     ]
    },
    {
     "data": {
      "text/plain": [
       "[<Record section_name=None chunks=['298c4052-ebd4-4de9-a15e-49400409b4c6', 'fb334a4d-0c1c-4a4d-98a7-ec1db6a5ecca', 'b5bb2eb7-c529-4f14-a4da-99ea0ce636bf', 'a143ea79-f5d1-450e-ae15-6f7ce5034d8f'] filtered_hierarchy=[]>]"
      ]
     },
     "execution_count": 14,
     "metadata": {},
     "output_type": "execute_result"
    }
   ],
   "source": [
    "neo4j_client = Neo4jClient(\"bolt://localhost:7687\", \"neo4j\", \"neo4jpass\")\n",
    "path = ['Dinosaur']\n",
    "chunks_hierarchy = neo4j_client.get_chunks_by_hierarchy_path(path)\n",
    "neo4j_client.close()\n",
    "\n",
    "chunks_hierarchy"
   ]
  },
  {
   "cell_type": "markdown",
   "metadata": {},
   "source": [
    "***FAILED EXPERIMENT - Given a section path from page title, unable to satisfactorily fetch section, sub-sections and chunks data. The chunks are fetched properly, but hierarchy is lost (flat list of chunks, not nested). Spending some more time with the cypher query will surely yield results. But ii is perhaps more prudent to create the hierarchy of chunks data during an earlier step when we are constructing the section hierarchy anyway.***"
   ]
  },
  {
   "cell_type": "markdown",
   "metadata": {},
   "source": [
    "### Construct hierarchy of page given a chunk id - v2: construct hierarchy with chunks info"
   ]
  },
  {
   "cell_type": "code",
   "execution_count": 80,
   "metadata": {},
   "outputs": [
    {
     "name": "stdout",
     "output_type": "stream",
     "text": [
      "<Node element_id='4:61326856-46d2-4d6e-9ccb-3d3370b8bf1f:0' labels=frozenset({'Page'}) properties={'title': 'Dinosaur', 'uuid': '3d987749-5549-484d-a373-ee8241785e48'}>\n"
     ]
    }
   ],
   "source": [
    "from neo4j import GraphDatabase\n",
    "\n",
    "class WikiHierarchy:\n",
    "    def __init__(self, uri, user, password):\n",
    "        self.driver = GraphDatabase.driver(uri, auth=(user, password))\n",
    "\n",
    "    def close(self):\n",
    "        self.driver.close()\n",
    "\n",
    "    def get_hierarchy(self, chunk_id):\n",
    "        with self.driver.session() as session:\n",
    "            # Step 1: Find the title node from the chunk ID\n",
    "            page_node = session.run(\"\"\"\n",
    "            MATCH (chunk:Chunk {uuid: $chunk_id})\n",
    "            OPTIONAL MATCH (page:Page)-[:HAS_SECTION*0..]->(section)-[:HAS_CHUNK]->(chunk)\n",
    "            WITH page\n",
    "            WHERE page IS NOT NULL\n",
    "            RETURN DISTINCT page\n",
    "            \"\"\", chunk_id=chunk_id).single()\n",
    "\n",
    "            if not page_node:\n",
    "                return None, None\n",
    "\n",
    "            page_node = page_node[\"page\"]\n",
    "            \n",
    "            print(page_node)\n",
    "\n",
    "            # Step 2: Recursively build the hierarchies\n",
    "            section_hierarchy, chunks_hierarchy = self.build_hierarchy(session, page_node[\"uuid\"])\n",
    "            return section_hierarchy, chunks_hierarchy\n",
    "\n",
    "    def build_hierarchy(self, session, node_uuid):\n",
    "        # Get the node details\n",
    "        node = session.run(\"\"\"\n",
    "        MATCH (n {uuid: $uuid})\n",
    "        RETURN n\n",
    "        \"\"\", uuid=node_uuid).single()[\"n\"]\n",
    "\n",
    "        # Initialize the hierarchies\n",
    "        section_hierarchy = {\n",
    "            \"title\": node[\"title\"]\n",
    "        }\n",
    "        chunks_hierarchy = {\n",
    "            \"title\": node[\"title\"],\n",
    "            \"chunks\": []\n",
    "        }\n",
    "\n",
    "        # Get the sections connected to this node\n",
    "        sections = session.run(\"\"\"\n",
    "        MATCH (n {uuid: $uuid})-[:HAS_SECTION]->(s)\n",
    "        RETURN s, labels(s) AS labels\n",
    "        \"\"\", uuid=node_uuid)\n",
    "\n",
    "        section_list = []\n",
    "        chunks_list = []\n",
    "        for section in sections:\n",
    "            section_node = section[\"s\"]\n",
    "            labels = section[\"labels\"]\n",
    "            # Determine the type from the labels\n",
    "            section_type = next(label for label in labels if label in {'h2', 'h3', 'h4'})\n",
    "            section_hierarchy_entry = {\n",
    "                \"name\": section_node[\"name\"],\n",
    "                \"type\": section_type\n",
    "            }\n",
    "            chunks_hierarchy_entry = {\n",
    "                \"name\": section_node[\"name\"],\n",
    "                \"type\": section_type,\n",
    "                \"chunks\": []\n",
    "            }\n",
    "            # Recursively build the hierarchy for subsections\n",
    "            subsection_section_hierarchy, subsection_chunks_hierarchy = self.build_hierarchy(session, section_node[\"uuid\"])\n",
    "            if \"sections\" in subsection_section_hierarchy:\n",
    "                section_hierarchy_entry[\"sections\"] = subsection_section_hierarchy[\"sections\"]\n",
    "            if \"sections\" in subsection_chunks_hierarchy:\n",
    "                chunks_hierarchy_entry[\"sections\"] = subsection_chunks_hierarchy[\"sections\"]\n",
    "            section_list.append(section_hierarchy_entry)\n",
    "            chunks_list.append(chunks_hierarchy_entry)\n",
    "\n",
    "            # Get the chunks directly connected to this section node\n",
    "            section_chunks = session.run(\"\"\"\n",
    "            MATCH (s {uuid: $uuid})-[:FIRST_CHUNK]->(first_chunk)\n",
    "            OPTIONAL MATCH path = (first_chunk)-[:NEXT*]->(c)\n",
    "            WITH first_chunk, collect(c) AS subsequent_chunks\n",
    "            WITH [first_chunk] + subsequent_chunks AS chunks\n",
    "            UNWIND chunks AS chunk\n",
    "            RETURN chunk\n",
    "            \"\"\", uuid=section_node[\"uuid\"])\n",
    "            for chunk in section_chunks:\n",
    "                chunk_node = chunk[\"chunk\"]\n",
    "                chunks_hierarchy_entry[\"chunks\"].append(chunk_node[\"uuid\"])\n",
    "\n",
    "        # Get the chunks directly connected to this node\n",
    "        chunks = session.run(\"\"\"\n",
    "        MATCH (n {uuid: $uuid})-[:FIRST_CHUNK]->(first_chunk)\n",
    "        OPTIONAL MATCH path = (first_chunk)-[:NEXT*]->(c)\n",
    "        WITH first_chunk, collect(c) AS subsequent_chunks\n",
    "        WITH [first_chunk] + subsequent_chunks AS chunks\n",
    "        UNWIND chunks AS chunk\n",
    "        RETURN chunk\n",
    "        \"\"\", uuid=node_uuid)\n",
    "        for chunk in chunks:\n",
    "            chunk_node = chunk[\"chunk\"]\n",
    "            chunks_hierarchy[\"chunks\"].append(chunk_node[\"uuid\"])\n",
    "\n",
    "        if section_list:\n",
    "            section_hierarchy[\"sections\"] = section_list\n",
    "        if chunks_list:\n",
    "            chunks_hierarchy[\"sections\"] = chunks_list\n",
    "\n",
    "        return section_hierarchy, chunks_hierarchy\n",
    "\n",
    "# Example usage\n",
    "wiki_hierarchy = WikiHierarchy(\"bolt://localhost:7687\", \"neo4j\", \"neo4jpass\")\n",
    "chunk_id = \"3aacf659-c395-452b-92a1-e2e1d2b81ec3\"\n",
    "section_hierarchy, chunks_hierarchy = wiki_hierarchy.get_hierarchy(chunk_id)\n",
    "wiki_hierarchy.close()\n"
   ]
  },
  {
   "cell_type": "code",
   "execution_count": 81,
   "metadata": {},
   "outputs": [
    {
     "name": "stdout",
     "output_type": "stream",
     "text": [
      "Section Hierarchy:\n"
     ]
    },
    {
     "data": {
      "text/plain": [
       "{'title': 'Dinosaur',\n",
       " 'sections': [{'name': 'Definition',\n",
       "   'type': 'h2',\n",
       "   'sections': [{'name': 'General description', 'type': 'h3'},\n",
       "    {'name': 'Distinguishing anatomical features', 'type': 'h3'}]},\n",
       "  {'name': 'History of study',\n",
       "   'type': 'h2',\n",
       "   'sections': [{'name': 'Pre-scientific history', 'type': 'h3'},\n",
       "    {'name': 'Early dinosaur research', 'type': 'h3'},\n",
       "    {'name': 'Discoveries in North America', 'type': 'h3'},\n",
       "    {'name': '\"Dinosaur renaissance\" and beyond', 'type': 'h3'},\n",
       "    {'name': 'Soft tissue and molecular preservation', 'type': 'h3'}]},\n",
       "  {'name': 'Evolutionary history',\n",
       "   'type': 'h2',\n",
       "   'sections': [{'name': 'Origins and early evolution', 'type': 'h3'},\n",
       "    {'name': 'Evolution and paleobiogeography', 'type': 'h3'}]},\n",
       "  {'name': 'Classification',\n",
       "   'type': 'h2',\n",
       "   'sections': [{'name': 'Taxonomy', 'type': 'h3'},\n",
       "    {'name': 'Timeline of major groups', 'type': 'h3'}]},\n",
       "  {'name': 'Paleobiology',\n",
       "   'type': 'h2',\n",
       "   'sections': [{'name': 'Size',\n",
       "     'type': 'h3',\n",
       "     'sections': [{'name': 'Largest and smallest', 'type': 'h4'}]},\n",
       "    {'name': 'Behavior', 'type': 'h3'},\n",
       "    {'name': 'Communication', 'type': 'h3'},\n",
       "    {'name': 'Reproductive biology', 'type': 'h3'},\n",
       "    {'name': 'Physiology', 'type': 'h3'}]},\n",
       "  {'name': 'Origin of birds',\n",
       "   'type': 'h2',\n",
       "   'sections': [{'name': 'Feathers', 'type': 'h3'},\n",
       "    {'name': 'Skeleton', 'type': 'h3'},\n",
       "    {'name': 'Soft anatomy', 'type': 'h3'},\n",
       "    {'name': 'Behavioral evidence', 'type': 'h3'}]},\n",
       "  {'name': 'Extinction of major groups',\n",
       "   'type': 'h2',\n",
       "   'sections': [{'name': 'Pre-extinction diversity', 'type': 'h3'},\n",
       "    {'name': 'Impact event', 'type': 'h3'},\n",
       "    {'name': 'Deccan Traps', 'type': 'h3'},\n",
       "    {'name': 'Possible Paleocene survivors', 'type': 'h3'}]},\n",
       "  {'name': 'Cultural depictions', 'type': 'h2'},\n",
       "  {'name': 'See also', 'type': 'h2'},\n",
       "  {'name': 'Notes', 'type': 'h2'},\n",
       "  {'name': 'References', 'type': 'h2'},\n",
       "  {'name': 'Bibliography', 'type': 'h2'},\n",
       "  {'name': 'Further reading', 'type': 'h2'}]}"
      ]
     },
     "execution_count": 81,
     "metadata": {},
     "output_type": "execute_result"
    }
   ],
   "source": [
    "print(\"Section Hierarchy:\")\n",
    "section_hierarchy"
   ]
  },
  {
   "cell_type": "code",
   "execution_count": 82,
   "metadata": {},
   "outputs": [
    {
     "name": "stdout",
     "output_type": "stream",
     "text": [
      "\n",
      "Chunks Hierarchy:\n"
     ]
    },
    {
     "data": {
      "text/plain": [
       "{'title': 'Dinosaur',\n",
       " 'chunks': ['a143ea79-f5d1-450e-ae15-6f7ce5034d8f',\n",
       "  'b5bb2eb7-c529-4f14-a4da-99ea0ce636bf',\n",
       "  'fb334a4d-0c1c-4a4d-98a7-ec1db6a5ecca',\n",
       "  '298c4052-ebd4-4de9-a15e-49400409b4c6'],\n",
       " 'sections': [{'name': 'Definition',\n",
       "   'type': 'h2',\n",
       "   'chunks': ['0c9e9c40-8387-41cd-a484-1ba20183ddb8',\n",
       "    'fddc9347-5b5a-441a-828b-46e14f1c5a05',\n",
       "    'cc1356da-f729-45bb-909e-ad1890e46993'],\n",
       "   'sections': [{'name': 'General description',\n",
       "     'type': 'h3',\n",
       "     'chunks': ['a3e88b32-83b0-439e-bbb3-3d007c047c69',\n",
       "      'f05fdf12-63e9-466f-9bdf-a3a7a46c1352',\n",
       "      'dabe7759-3d78-4e0c-a9fe-8488df94c89b']},\n",
       "    {'name': 'Distinguishing anatomical features',\n",
       "     'type': 'h3',\n",
       "     'chunks': ['e3301398-887c-4cc7-a10f-3299dd420a88',\n",
       "      '567d7f5d-adc4-42c1-9774-1bb172553d8b',\n",
       "      '7a16aafb-10ec-4552-8eb4-1d7fe2ad2b79',\n",
       "      'c0bb0ab0-06b4-403d-968d-1bd8e34594bd',\n",
       "      '1d0a398b-8661-4b31-b4a5-cb7d87e29c78',\n",
       "      '3bacb7b3-51d1-4963-ba83-3d5f9c3c30f5',\n",
       "      '5df12407-a53f-4422-bc55-95c5fc661b63',\n",
       "      'c9210c30-640d-4989-b990-0b4d1f5e86b9',\n",
       "      'a76f8eeb-328a-4696-94fe-8a212e80a73d',\n",
       "      'a2615644-6d63-416b-b17a-1b5a4ef8a902',\n",
       "      'faf64ba3-5571-4d99-95b8-d9bd5ef641f2',\n",
       "      '7ed6bffd-2773-4ded-87bb-df61fe070c23',\n",
       "      'bf92a5af-f1b0-45fc-85be-8b0b170124f3',\n",
       "      '86090dac-62ff-417c-bfcc-7cd544590d8b',\n",
       "      'dbba592f-03bd-4b15-8ea3-cf1640242979',\n",
       "      'fdf3dea1-9023-42b2-8792-b72058dfe2f6',\n",
       "      '91ac30bc-825d-4c11-8694-65085e8afddf']}]},\n",
       "  {'name': 'History of study',\n",
       "   'type': 'h2',\n",
       "   'chunks': [],\n",
       "   'sections': [{'name': 'Pre-scientific history',\n",
       "     'type': 'h3',\n",
       "     'chunks': ['a5a157d0-c1c7-47e7-a7de-51919238c285']},\n",
       "    {'name': 'Early dinosaur research',\n",
       "     'type': 'h3',\n",
       "     'chunks': ['a3c365b3-61e7-41b3-8dcf-501e98ae0567',\n",
       "      'c28f6fc1-9be4-44be-b04a-b30cc0bada6f',\n",
       "      '6b99b42d-4e7e-486f-982d-0e1a597c7aa8']},\n",
       "    {'name': 'Discoveries in North America',\n",
       "     'type': 'h3',\n",
       "     'chunks': ['b6ae79d6-d8e4-4749-8857-35f94294e185',\n",
       "      'ffbc7e31-f538-48a4-83a3-09288853bae8']},\n",
       "    {'name': '\"Dinosaur renaissance\" and beyond',\n",
       "     'type': 'h3',\n",
       "     'chunks': ['8a7f94b9-3ae4-45a8-90ba-c9f5377c4b5b',\n",
       "      'a4b4dc32-53b9-4cf6-8841-118b604ff655',\n",
       "      'ae0dab46-b38f-4963-b701-0812e9caae99']},\n",
       "    {'name': 'Soft tissue and molecular preservation',\n",
       "     'type': 'h3',\n",
       "     'chunks': ['7a96b0b8-2a1d-4e96-ad88-b29702ba87f3',\n",
       "      'c98bd509-7660-4e01-a71d-a8e4ced715eb',\n",
       "      'f176ac0b-18e4-4ced-a6f4-18b1b78f2824']}]},\n",
       "  {'name': 'Evolutionary history',\n",
       "   'type': 'h2',\n",
       "   'chunks': [],\n",
       "   'sections': [{'name': 'Origins and early evolution',\n",
       "     'type': 'h3',\n",
       "     'chunks': ['75b8c578-e366-483d-8a1c-3e32a93dcc36',\n",
       "      '01d3b8eb-4197-4603-8f8c-cef94c2d9e26',\n",
       "      'd5ef247e-06d5-42e6-a510-ba2ee6b89351',\n",
       "      '47234d41-15c7-451e-95b3-2a7b31baf8b1']},\n",
       "    {'name': 'Evolution and paleobiogeography',\n",
       "     'type': 'h3',\n",
       "     'chunks': ['e805fa20-bfa4-4a13-92ee-aa26c1a581b1',\n",
       "      'b1c4f7db-ee30-4f2b-bc36-2614b1bbe2fb',\n",
       "      '3bd16beb-ff49-40cc-9502-0a52511c34a5',\n",
       "      '935b9b14-74dc-49d9-8111-eaba7e525ed8',\n",
       "      '6cfc4d31-d740-4bf9-a2dd-06e7d9bb1f12']}]},\n",
       "  {'name': 'Classification',\n",
       "   'type': 'h2',\n",
       "   'chunks': ['665477d0-228c-4c8e-a768-e62f753dac0c',\n",
       "    'd83875a2-4b9d-4441-8cd5-2d0a84e4e073',\n",
       "    '3c55de19-557e-46a5-8a99-04b030839cb7',\n",
       "    '7bd0df2e-3694-4b8b-99af-53d3adcdecc3'],\n",
       "   'sections': [{'name': 'Taxonomy',\n",
       "     'type': 'h3',\n",
       "     'chunks': ['898aa944-f8c7-4df1-93cc-a9489b9a3d9f',\n",
       "      '7e2ca9b4-dea6-4b04-a136-c33647d6c56d',\n",
       "      'ff902788-269c-490f-b06e-e67175247c77',\n",
       "      'b9a451c4-7130-4a31-b7b0-5fc90cdfaf5f',\n",
       "      'cb225406-bd83-4811-a72a-6e23a616f1d0',\n",
       "      '795a353e-5989-4cd7-978d-c8b9e37cdbbf',\n",
       "      '5e584e51-f4ce-4917-8172-369c7842369b',\n",
       "      '246e0812-17d0-49c6-8253-e69279ba95bf',\n",
       "      'ba93a272-f4df-44f4-98e6-207038652d90',\n",
       "      'c78fa3e6-3d58-4096-8401-54326d540a60',\n",
       "      '79cd5548-98dc-4b42-8fee-aaed20df29df',\n",
       "      '6b067818-18fd-4446-a4bf-13e7033864cb',\n",
       "      'b5e8b242-ef0b-4226-b122-0b21ec991053',\n",
       "      '4672b49f-ea33-4a7d-b902-6ec77291e402',\n",
       "      'c4256e59-5d29-4767-9207-12fcb4c1b93b',\n",
       "      '2e1195cc-60a6-41db-b3d4-3c4b8f6bef3b',\n",
       "      '1270b3c7-b232-4c3a-8f8e-0f72023c2ce2',\n",
       "      '22a87f28-601e-4505-96a9-6a55ef1b1399',\n",
       "      '26ed62ca-5ea9-4e1f-84d2-6f1bcc9dd67b',\n",
       "      'f9d2c828-9761-4981-bb91-0adf23c9f032',\n",
       "      '4ae8b091-683e-4dc2-af01-a5c756772b17',\n",
       "      '41cc99bd-7ddd-4540-b0c0-35d914c0e46d',\n",
       "      'c8711c96-689a-4146-940f-3a25a06639ec',\n",
       "      '6e799612-51f6-44e0-8b99-9f526194f693',\n",
       "      'b34dccc2-bf8c-4d53-b4b5-c0a01916428b',\n",
       "      'e69cb2e5-49f8-434e-9b74-2cc102042203',\n",
       "      '9d4ed3ee-cf3d-489c-b37c-4c3bb61a534b',\n",
       "      'f1159502-7b89-4e23-b5b4-a3b4701e1c23',\n",
       "      '01ff4f52-7628-41d6-850e-19cf295b0e4f',\n",
       "      'ebc5b06f-300c-4372-92bf-21a33d866828',\n",
       "      '67dcd1ff-f996-4c71-b956-210101eaa335',\n",
       "      '8695d9f7-83b1-42ed-83a7-c97f6cf5f9bb',\n",
       "      '19cc0ea5-e42c-4e15-9efe-41c75d98632f',\n",
       "      '3ec7c5cd-dda3-4aae-89af-5ae89454cfe4',\n",
       "      '1b6d90e0-4401-4361-bf86-c6c818d7e09f',\n",
       "      '31020f82-a8b3-4a15-b819-43e166206744',\n",
       "      'be2faabf-0d94-4462-a590-2d15d4b27459',\n",
       "      '9511c441-8bca-4544-8020-0f3bf9c577c3',\n",
       "      'a87f9e96-6bf6-47c8-bdb6-7a692ecfe359',\n",
       "      '02d22066-df52-474a-97e9-cfa23d3678da',\n",
       "      '46afd982-1924-419f-b35b-a115352279cc',\n",
       "      'a20151ed-8fda-47b2-aa3a-f0a387ea4b19',\n",
       "      '2c1dadf0-5500-4fa8-b95f-fba44717d701',\n",
       "      'b82acad2-83ce-4a3a-9d5b-45ba7673bf8f',\n",
       "      '7912a726-bd2e-403b-bb27-d65f0491b2fa',\n",
       "      '49244332-dad2-4ed1-ba12-2c162e852a67',\n",
       "      '49f47795-e43a-4c5a-8042-00d0e938930e',\n",
       "      'f66c46b7-7373-4fb6-8e68-e99bbdbfe5c3',\n",
       "      'bf19415b-bf4f-4279-a44d-f20c59a7d255',\n",
       "      '9fee4004-d8c3-487e-ac09-88d2421c6771',\n",
       "      '8cea0156-7c75-4e54-a5cf-ffe8f44697e6',\n",
       "      '3a518013-0127-477d-80cf-e6fbc05f1db9',\n",
       "      '6769615b-a7e5-4118-b301-e8b78adbaccb',\n",
       "      'ea44776b-9a7b-4567-8738-5f5ff39f074d',\n",
       "      'b8ec948c-f679-4410-a92d-486b2a06238a',\n",
       "      '24621464-24b7-4e4e-97b4-6238924ba0a8',\n",
       "      'a9a15380-1911-4219-b237-1d48fdbe89b4',\n",
       "      'ab01a788-24b4-402b-84fa-7b4d89b398f1',\n",
       "      '1d3b599f-f7bb-46e7-93bf-cc7907b494ac',\n",
       "      '59db521e-ebb5-4d53-9325-882a1e2ecea4',\n",
       "      '2a823127-939e-4fb0-8fbf-710ec23e5d38',\n",
       "      '7b5ad59d-d515-420c-9c4f-cf7f50fa7bc6',\n",
       "      '8c130b81-0790-42cd-99c7-57eec71718b2',\n",
       "      '303408d8-ed8c-4bb2-855c-d3c81395ee2b',\n",
       "      'e63ed364-d5f5-4a31-ab9e-024cdba491fb',\n",
       "      '6c441146-76a3-461d-a8ef-96dba4e0163d',\n",
       "      '4c98a2b7-82cb-4d5a-8044-c6dac37fd870',\n",
       "      '7276b9a4-cad1-44ab-a53e-59b430ca7959',\n",
       "      'f7ae2662-1512-4167-b414-5fb1f30b6cc3',\n",
       "      '9b504e7f-4221-42ae-83a8-0c77af2f1990',\n",
       "      'aac38506-1caf-44c6-bce9-c98661354bda',\n",
       "      '3167749a-9f06-4a32-9af1-9a73ca631f5f',\n",
       "      'abffd792-982b-42a9-a931-d144ca4d67f0',\n",
       "      '6ac939b6-f74c-4449-bb29-26dca7865ef8',\n",
       "      '8e01f960-56bd-4705-83a8-b26d5ffca14c',\n",
       "      'c90b7671-0e81-4c4e-a473-18e8d9c2fc0c',\n",
       "      '2f2a2d51-627e-4e20-82e7-3807d2f81452',\n",
       "      '69adbff1-87b7-4f26-9f69-07fb7430d6c5',\n",
       "      '6eb3ca0e-9044-4c84-835f-c325684be4f0',\n",
       "      '5ad1ebf2-f62b-4e82-abc0-7bea77430f1d',\n",
       "      '6b0ce6b3-28a5-458d-9fc2-d7eef30357d9',\n",
       "      '316b7abd-0de3-47e2-9362-232493c01589',\n",
       "      'b536b0ad-1923-4225-8c5f-a030502c2ee5',\n",
       "      'c0bcbba4-84c4-4ff4-a628-62bec130a305',\n",
       "      'efab8328-2223-4598-9cdb-abba4cd70752',\n",
       "      'f0f553b2-daf4-46f5-8e7a-0bb2e6b7748c',\n",
       "      '5d0633bc-e0ac-43d2-9f49-e15b5020d27a',\n",
       "      '17337ee5-64c7-47fb-b542-ab87216d9051',\n",
       "      '0ce8be80-bac1-4280-9134-182f56cd4933',\n",
       "      '13c73c06-7088-44ef-ac13-d5a9031f8da8',\n",
       "      '37f9bfed-7eae-450b-a0b8-49ae14578dec',\n",
       "      'e3258bdb-a5ca-4d41-8962-f4514c94ae54',\n",
       "      '550aef17-6b28-4e34-8918-7721c6407c1f',\n",
       "      '648dce2b-5db6-4d41-b6c1-8d7c90075329',\n",
       "      'f75e44f2-ce1a-4d0c-87e9-699e33bb7d81',\n",
       "      'b99ff952-9244-45b3-88dc-96afdf7850f0',\n",
       "      '667bb1af-db20-4853-8495-31af94c64261',\n",
       "      'e688a4e7-1bae-432f-b0d5-86dbaf080dd8',\n",
       "      'e1ef99ed-aceb-423a-b0a5-dd967ebdbd4b',\n",
       "      '8e58d007-9879-4107-a7c1-602954905a43',\n",
       "      '48b90a22-1923-479e-970a-63b82277b7af',\n",
       "      '8b09a080-322d-4e06-acc9-3db22802f065',\n",
       "      '4f57317d-16a4-4ce9-9402-9dff81e4a481',\n",
       "      '8d36f4bd-a76c-41a5-941e-8d67e9a41cc4',\n",
       "      '8d5d4e96-db80-4e4e-b4d9-99681eaa66da',\n",
       "      '4070306f-ddf2-4b5c-9e4b-b5498a5c607a',\n",
       "      '3eb33cbe-3685-4ded-be55-77ff1d6971e7',\n",
       "      '44688380-e374-47a4-b92c-98fecbb02bde',\n",
       "      'f3496c54-52db-4649-b34e-3920c0796e3d',\n",
       "      '64d6253a-d7d7-4771-88a7-fde128b1a449',\n",
       "      'f41401f1-293a-44f7-a568-7e3f4e99c7f0',\n",
       "      '3aeca206-fa65-4440-9749-c115e2659313',\n",
       "      '5f375aa8-2560-47ab-978e-a611af2e0d34',\n",
       "      '79319e7a-2f1d-4d37-8466-6261e8eb29e9',\n",
       "      '84d952ae-7599-4378-a81d-0a1b8472c07c',\n",
       "      'abd0feca-06df-46b5-868e-8947a7617a21',\n",
       "      '9174041c-e414-493e-aa16-e2e2a026baa3',\n",
       "      '10c0f0b9-8b0d-4137-b60f-e94955bf2b95',\n",
       "      '45ee21ef-d3be-401b-a098-e32afadd67b7',\n",
       "      '2a98428e-fe27-4910-a784-173b4d7da7d8',\n",
       "      '773aee5a-9449-4fcc-ab50-4a61c49dd90e',\n",
       "      '58186e16-b5ae-4a4c-a4ff-3994c22201eb',\n",
       "      '9c4116fa-01d8-46e0-aeaf-44d72b69f59b',\n",
       "      'e958a461-5d55-4b93-9f54-a5ba515cdbc3',\n",
       "      'c2da31f2-093c-482d-ae36-3fc0d29cef3a',\n",
       "      'c00b6385-b10c-4b8e-8181-edc20b8022ac',\n",
       "      '73877752-1b1e-4cbb-9c34-cde6d312e613',\n",
       "      '80fc4683-abec-489b-a789-129d8c3fbe1d',\n",
       "      '52032638-59f5-4fd8-8f19-b38761410f80',\n",
       "      'dca6a0d2-204b-4ad6-904a-fce5c78a3a01',\n",
       "      '2c5a4015-bd5e-4a56-97fe-401c532fcb98',\n",
       "      '84374e10-ac64-4c47-b450-42310dc3e352',\n",
       "      'a46d8b7d-e4d1-4df6-9133-842b1c0bdd31',\n",
       "      '08b6b8c3-8e3c-4b5d-bf31-a76c3d0aca92',\n",
       "      '4ac4476a-60f1-4dbd-b35a-c686ca274837',\n",
       "      '2f164fd3-521c-432f-9ba0-b7d926bfeb38',\n",
       "      '2b898f4e-6fef-48d4-a462-79c68d157610',\n",
       "      'af329798-4aaa-4d8b-953d-a258fd971ac4',\n",
       "      'd53b4dc6-7b03-4ee2-a097-8d88edba5fe1',\n",
       "      'f0779389-2a60-4eca-9f0e-e5aad46d49e4',\n",
       "      'c8e7308e-a094-444f-bb57-c34ed2018d7e',\n",
       "      '72c02cc7-bf63-4635-89d9-ebf60e51f2fe',\n",
       "      '08c2163e-62e0-469d-a600-e828a6cdc11a',\n",
       "      '6875289a-f72f-4d67-b5c9-0207feaee90e',\n",
       "      '6f14dcb0-38de-4af3-9984-5e988c8d6019']},\n",
       "    {'name': 'Timeline of major groups',\n",
       "     'type': 'h3',\n",
       "     'chunks': ['0d3a8f03-afe2-43d9-8710-363d5e78dea3']}]},\n",
       "  {'name': 'Paleobiology',\n",
       "   'type': 'h2',\n",
       "   'chunks': ['ed090260-bd01-484a-8029-03523e3ac3fd'],\n",
       "   'sections': [{'name': 'Size',\n",
       "     'type': 'h3',\n",
       "     'chunks': ['51cfc07d-fa24-431c-a3aa-84bd5e6d6743',\n",
       "      '44a23537-cdcb-4cb0-a256-011cbafe37ae'],\n",
       "     'sections': [{'name': 'Largest and smallest',\n",
       "       'type': 'h4',\n",
       "       'chunks': ['bceced15-011d-4c78-9be4-168e32244697',\n",
       "        '7a844fcb-32a5-4dbf-bfd7-097d78f5a299',\n",
       "        '5c19df63-6a0e-4d11-bfa5-825bbcbbc2fc',\n",
       "        'f15756e5-41b7-4bc7-b2cc-0a3aae739e62',\n",
       "        'f39087f3-654f-42c8-b7b6-b9a671d028ad']}]},\n",
       "    {'name': 'Behavior',\n",
       "     'type': 'h3',\n",
       "     'chunks': ['b78f9d4b-eedd-43cf-bd90-8b446803e94d',\n",
       "      'd42331a1-c62b-421b-ade7-7f9d41f371fe',\n",
       "      '5cc76edb-2468-48f3-b4a9-8e3f5874afeb',\n",
       "      'e640edd7-12c7-45ed-9344-3ba7d826aef6',\n",
       "      'ea809a68-4f9d-4e83-8b06-df558603f98e',\n",
       "      '72964dd2-a5a8-4f60-a1ce-6ab52a861eb6']},\n",
       "    {'name': 'Communication',\n",
       "     'type': 'h3',\n",
       "     'chunks': ['4d2007ce-8213-498c-86ae-5dc7cf7aa3a2',\n",
       "      '6fef6db7-2835-4fc5-8c42-e8359c72f96d',\n",
       "      '27a7eded-5134-44c3-9507-88492413124e']},\n",
       "    {'name': 'Reproductive biology',\n",
       "     'type': 'h3',\n",
       "     'chunks': ['bf8ec3ef-2c03-4a69-98be-17656926628c',\n",
       "      '627b222e-9a54-4cc5-a0d2-acc53d533bfb',\n",
       "      'b8a570d5-f59d-4003-9a73-f0f1cb2f27b1',\n",
       "      'ee8d6417-efc7-40eb-bf56-23390091e7f5',\n",
       "      '1094ab6d-3a32-4be5-bbec-90388fea8bcc']},\n",
       "    {'name': 'Physiology',\n",
       "     'type': 'h3',\n",
       "     'chunks': ['bd119798-6c5e-4805-ae88-147b98d4ba87',\n",
       "      '1e97994a-ccc2-4380-8778-b104f0de2ca3',\n",
       "      '54620459-cf76-480a-accf-e8ca14bb6e91',\n",
       "      '20e258a0-3ef3-413b-89cc-4660319b1847',\n",
       "      '2d9d677d-8d1e-43bd-b800-2d536bf38ecb',\n",
       "      '6d8ce2b2-dbcf-43bb-a598-4a61a52029ba']}]},\n",
       "  {'name': 'Origin of birds',\n",
       "   'type': 'h2',\n",
       "   'chunks': ['5417c289-b8fd-48a2-a5e0-dce4030de4c2'],\n",
       "   'sections': [{'name': 'Feathers',\n",
       "     'type': 'h3',\n",
       "     'chunks': ['dac42b95-9ce1-47a2-809d-83bb04b41bbf',\n",
       "      '6a5296df-cad7-4018-a480-be13585292b6',\n",
       "      '4e9fb2f6-1647-4342-a049-b49227a56822']},\n",
       "    {'name': 'Skeleton',\n",
       "     'type': 'h3',\n",
       "     'chunks': ['f5eb8303-bc26-489c-8f2d-93108bf741ce']},\n",
       "    {'name': 'Soft anatomy',\n",
       "     'type': 'h3',\n",
       "     'chunks': ['b47767a8-8844-4073-b16f-bf6be076525d']},\n",
       "    {'name': 'Behavioral evidence',\n",
       "     'type': 'h3',\n",
       "     'chunks': ['74abf335-c833-4677-bae7-a81ef973c67c',\n",
       "      'a0d28395-4798-4c2d-b8a3-9a29dadc09dc']}]},\n",
       "  {'name': 'Extinction of major groups',\n",
       "   'type': 'h2',\n",
       "   'chunks': ['3f45e988-b093-4d9c-bde1-67e2e4c3b599'],\n",
       "   'sections': [{'name': 'Pre-extinction diversity',\n",
       "     'type': 'h3',\n",
       "     'chunks': ['433ad671-ea22-4ae1-9bc4-1cce06a0e6ee']},\n",
       "    {'name': 'Impact event',\n",
       "     'type': 'h3',\n",
       "     'chunks': ['78553c50-0783-43df-8f8a-9e81b90562a9',\n",
       "      'bf4dc5c0-a5b0-44a3-b401-7816d62462a2']},\n",
       "    {'name': 'Deccan Traps',\n",
       "     'type': 'h3',\n",
       "     'chunks': ['843967bf-c4e8-4ad2-8293-6c26ad22bc14',\n",
       "      '467cc834-bf09-4452-a467-c2c410b06829',\n",
       "      '1c69b275-82be-4ba1-aceb-69945d951e52']},\n",
       "    {'name': 'Possible Paleocene survivors',\n",
       "     'type': 'h3',\n",
       "     'chunks': ['f81919c8-b395-4ad5-8780-9770a8f0b0bd']}]},\n",
       "  {'name': 'Cultural depictions',\n",
       "   'type': 'h2',\n",
       "   'chunks': ['4e709625-c28f-488d-99ad-3f076a63976a',\n",
       "    'aeb05fa8-a272-4527-ac62-f623b7c65831',\n",
       "    '3aacf659-c395-452b-92a1-e2e1d2b81ec3']},\n",
       "  {'name': 'See also',\n",
       "   'type': 'h2',\n",
       "   'chunks': ['63612c0b-3b20-4d27-98f9-dbf20f0cd9b4',\n",
       "    'bc81cf3f-3038-49ab-8cb9-1c6a2de64433',\n",
       "    '8cd56084-5149-437b-8ce2-bf84ec0e5dff',\n",
       "    '23e5136f-1e4b-44c7-b264-3b25620f9604',\n",
       "    'e9d2675d-95f9-40ba-a29f-0f1cc68f40c3',\n",
       "    '599194f3-d5e1-4e45-ac81-895e74f99790',\n",
       "    '2ed1919a-3bdf-4000-a7bb-d68e978edb8a',\n",
       "    'acb3e261-b4b1-4b0d-9d64-c6a54ef3829c']},\n",
       "  {'name': 'Notes', 'type': 'h2', 'chunks': []},\n",
       "  {'name': 'References', 'type': 'h2', 'chunks': []},\n",
       "  {'name': 'Bibliography', 'type': 'h2', 'chunks': []},\n",
       "  {'name': 'Further reading',\n",
       "   'type': 'h2',\n",
       "   'chunks': ['8b26de2a-15f8-40f1-8aaf-0e71d846ce8a',\n",
       "    '82235585-5fc3-43ec-972d-5d6d7ebcc161',\n",
       "    '92def3ba-0045-497f-82c3-0a0bdd971860',\n",
       "    '6c32af82-93a0-4b9e-a22d-61b0a8a66a63',\n",
       "    'e26b1d42-0043-4493-93b6-2ef770cfd7bf']}]}"
      ]
     },
     "execution_count": 82,
     "metadata": {},
     "output_type": "execute_result"
    }
   ],
   "source": [
    "print(\"\\nChunks Hierarchy:\")\n",
    "chunks_hierarchy"
   ]
  },
  {
   "cell_type": "markdown",
   "metadata": {},
   "source": [
    "This works! Both hierarchies can be constructed in a single stage:\n",
    "- section hierarchy: needed as context for LLM to suggest a section path which might hold the answer to the user question\n",
    "- chunk hierarchy: needed to pull out chunk ids once the LLM responds with the desired section path\n",
    "\n",
    "Next steps:\n",
    "- fetch text content of all relevant chunks from elasticsearch haystack store\n",
    "- give hierarchical content text to LLM: may be useful when a broader question is asked "
   ]
  },
  {
   "cell_type": "markdown",
   "metadata": {},
   "source": [
    "### Populate chunk hierarchy dict with chunk content"
   ]
  },
  {
   "cell_type": "markdown",
   "metadata": {},
   "source": [
    "1. Get relevant part of chunks_hierarchy"
   ]
  },
  {
   "cell_type": "code",
   "execution_count": 83,
   "metadata": {},
   "outputs": [],
   "source": [
    "def get_hierarchy_by_path_recursive(chunks_hierarchy, sections):\n",
    "    # Base case: if no more sections to traverse, return the current level\n",
    "    if not sections:\n",
    "        return chunks_hierarchy\n",
    "    \n",
    "    # Get the current section to look for\n",
    "    current_section = sections[0]\n",
    "    \n",
    "    # Check if the current level has subsections\n",
    "    if \"sections\" in chunks_hierarchy:\n",
    "        for sub_section in chunks_hierarchy[\"sections\"]:\n",
    "            if sub_section[\"name\"] == current_section:\n",
    "                # Recursively call the function with the remaining sections\n",
    "                return get_hierarchy_by_path_recursive(sub_section, sections[1:])\n",
    "    \n",
    "    # If the section is not found, return None\n",
    "    return None\n",
    "\n",
    "def get_hierarchy_by_path(chunks_hierarchy, path):\n",
    "    # Split the path\n",
    "    nodes = path.split(' -> ')\n",
    "    # Remove the first element (title node)\n",
    "    sections = nodes[1:]\n",
    "    # Call the recursive function\n",
    "    return get_hierarchy_by_path_recursive(chunks_hierarchy, sections)\n",
    "\n"
   ]
  },
  {
   "cell_type": "code",
   "execution_count": 63,
   "metadata": {},
   "outputs": [
    {
     "data": {
      "text/plain": [
       "{'name': 'Size',\n",
       " 'type': 'h3',\n",
       " 'chunks': ['51cfc07d-fa24-431c-a3aa-84bd5e6d6743',\n",
       "  '44a23537-cdcb-4cb0-a256-011cbafe37ae'],\n",
       " 'sections': [{'name': 'Largest and smallest',\n",
       "   'type': 'h4',\n",
       "   'chunks': ['bceced15-011d-4c78-9be4-168e32244697',\n",
       "    '7a844fcb-32a5-4dbf-bfd7-097d78f5a299',\n",
       "    '5c19df63-6a0e-4d11-bfa5-825bbcbbc2fc',\n",
       "    'f15756e5-41b7-4bc7-b2cc-0a3aae739e62',\n",
       "    'f39087f3-654f-42c8-b7b6-b9a671d028ad']}]}"
      ]
     },
     "execution_count": 63,
     "metadata": {},
     "output_type": "execute_result"
    }
   ],
   "source": [
    "path = \"Dinosaur -> Paleobiology -> Size\"\n",
    "filtered_chunk_hierarchy = get_hierarchy_by_path(chunks_hierarchy, path)\n",
    "\n",
    "filtered_chunk_hierarchy"
   ]
  },
  {
   "cell_type": "markdown",
   "metadata": {},
   "source": [
    "Works fine."
   ]
  },
  {
   "cell_type": "markdown",
   "metadata": {},
   "source": [
    "2. Fetch Documents from elasticsearch store corresponding to the chunks"
   ]
  },
  {
   "cell_type": "code",
   "execution_count": 64,
   "metadata": {},
   "outputs": [
    {
     "data": {
      "text/plain": [
       "['51cfc07d-fa24-431c-a3aa-84bd5e6d6743',\n",
       " '44a23537-cdcb-4cb0-a256-011cbafe37ae',\n",
       " 'bceced15-011d-4c78-9be4-168e32244697',\n",
       " '7a844fcb-32a5-4dbf-bfd7-097d78f5a299',\n",
       " '5c19df63-6a0e-4d11-bfa5-825bbcbbc2fc',\n",
       " 'f15756e5-41b7-4bc7-b2cc-0a3aae739e62',\n",
       " 'f39087f3-654f-42c8-b7b6-b9a671d028ad']"
      ]
     },
     "execution_count": 64,
     "metadata": {},
     "output_type": "execute_result"
    }
   ],
   "source": [
    "def extract_chunks(chunks_hierarchy):\n",
    "    # Initialize an empty list to store chunk IDs\n",
    "    chunks_list = []\n",
    "\n",
    "    # Recursive function to traverse the hierarchy and collect chunk IDs\n",
    "    def traverse_hierarchy(hierarchy):\n",
    "        # Add the chunks at the current level to the list\n",
    "        if \"chunks\" in hierarchy:\n",
    "            chunks_list.extend(hierarchy[\"chunks\"])\n",
    "        \n",
    "        # Recursively traverse the sections\n",
    "        if \"sections\" in hierarchy:\n",
    "            for section in hierarchy[\"sections\"]:\n",
    "                traverse_hierarchy(section)\n",
    "    \n",
    "    # Start the traversal from the root of the hierarchy\n",
    "    traverse_hierarchy(chunks_hierarchy)\n",
    "    \n",
    "    return chunks_list\n",
    "\n",
    "filtered_chunks_flat_list = extract_chunks(filtered_chunk_hierarchy)\n",
    "\n",
    "filtered_chunks_flat_list"
   ]
  },
  {
   "cell_type": "code",
   "execution_count": 65,
   "metadata": {},
   "outputs": [],
   "source": [
    "from haystack_integrations.document_stores.elasticsearch import ElasticsearchDocumentStore\n",
    "\n",
    "e_store = ElasticsearchDocumentStore(hosts= \"http://localhost:9200\")"
   ]
  },
  {
   "cell_type": "code",
   "execution_count": 66,
   "metadata": {},
   "outputs": [
    {
     "data": {
      "text/plain": [
       "[Document(id=51cfc07d-fa24-431c-a3aa-84bd5e6d6743, content: 'Current evidence suggests that dinosaur average size varied through the Triassic, Early Jurassic, La...', meta: {'file_path': 'Dinosaur.html', 'source_id': '93000a3fb02b99d2d115cd4042256d2f5db2a0ff3928927ca14465276534a75e', 'split_id': 199, 'title': 'Dinosaurs', 'h2': 'Paleobiology', 'h3': 'Size'}, score: 0.0, embedding: vector of size 1536),\n",
       " Document(id=44a23537-cdcb-4cb0-a256-011cbafe37ae, content: 'The sauropods were the largest and heaviest dinosaurs. For much of the dinosaur era, the smallest sa...', meta: {'file_path': 'Dinosaur.html', 'source_id': '93000a3fb02b99d2d115cd4042256d2f5db2a0ff3928927ca14465276534a75e', 'split_id': 200, 'title': 'Dinosaurs', 'h2': 'Paleobiology', 'h3': 'Size'}, score: 0.0, embedding: vector of size 1536),\n",
       " Document(id=bceced15-011d-4c78-9be4-168e32244697, content: 'Scientists will probably never be certain of the largest and smallest dinosaurs to have ever existed...', meta: {'file_path': 'Dinosaur.html', 'source_id': '93000a3fb02b99d2d115cd4042256d2f5db2a0ff3928927ca14465276534a75e', 'split_id': 201, 'title': 'Dinosaurs', 'h2': 'Paleobiology', 'h3': 'Size', 'h4': 'Largest and smallest'}, score: 0.0, embedding: vector of size 1536),\n",
       " Document(id=7a844fcb-32a5-4dbf-bfd7-097d78f5a299, content: 'The tallest and heaviest dinosaur known from good skeletons is Giraffatitan brancai (previously clas...', meta: {'file_path': 'Dinosaur.html', 'source_id': '93000a3fb02b99d2d115cd4042256d2f5db2a0ff3928927ca14465276534a75e', 'split_id': 202, 'title': 'Dinosaurs', 'h2': 'Paleobiology', 'h3': 'Size', 'h4': 'Largest and smallest'}, score: 0.0, embedding: vector of size 1536),\n",
       " Document(id=5c19df63-6a0e-4d11-bfa5-825bbcbbc2fc, content: 'There were larger dinosaurs, but knowledge of them is based entirely on a small number of fragmentar...', meta: {'file_path': 'Dinosaur.html', 'source_id': '93000a3fb02b99d2d115cd4042256d2f5db2a0ff3928927ca14465276534a75e', 'split_id': 203, 'title': 'Dinosaurs', 'h2': 'Paleobiology', 'h3': 'Size', 'h4': 'Largest and smallest'}, score: 0.0, embedding: vector of size 1536),\n",
       " Document(id=f15756e5-41b7-4bc7-b2cc-0a3aae739e62, content: 'The largest carnivorous dinosaur was Spinosaurus , reaching a length of 12.6 to 18 meters (41 to 59 ...', meta: {'file_path': 'Dinosaur.html', 'source_id': '93000a3fb02b99d2d115cd4042256d2f5db2a0ff3928927ca14465276534a75e', 'split_id': 204, 'title': 'Dinosaurs', 'h2': 'Paleobiology', 'h3': 'Size', 'h4': 'Largest and smallest'}, score: 0.0, embedding: vector of size 1536),\n",
       " Document(id=f39087f3-654f-42c8-b7b6-b9a671d028ad, content: 'The smallest dinosaur known is the bee hummingbird, with a length of only 5 centimeters (2.0 in) and...', meta: {'file_path': 'Dinosaur.html', 'source_id': '93000a3fb02b99d2d115cd4042256d2f5db2a0ff3928927ca14465276534a75e', 'split_id': 205, 'title': 'Dinosaurs', 'h2': 'Paleobiology', 'h3': 'Size', 'h4': 'Largest and smallest'}, score: 0.0, embedding: vector of size 1536)]"
      ]
     },
     "execution_count": 66,
     "metadata": {},
     "output_type": "execute_result"
    }
   ],
   "source": [
    "def fetch_documents_from_elasticsearch(flat_chunks_list):\n",
    "    # Construct the filter for fetching documents\n",
    "    filters = {\n",
    "        \"operator\": \"OR\",\n",
    "        \"conditions\": [{\"field\": \"id\", \"operator\": \"==\", \"value\": chunk_id} for chunk_id in flat_chunks_list]\n",
    "    }\n",
    "    \n",
    "    docs = e_store.filter_documents(filters=filters)\n",
    "    \n",
    "    return docs\n",
    "\n",
    "fetched_docs = fetch_documents_from_elasticsearch(filtered_chunks_flat_list)\n",
    "\n",
    "fetched_docs"
   ]
  },
  {
   "cell_type": "markdown",
   "metadata": {},
   "source": [
    "3. Replace chunk ids with chunk content in filtered dict"
   ]
  },
  {
   "cell_type": "code",
   "execution_count": 67,
   "metadata": {},
   "outputs": [],
   "source": [
    "def replace_chunk_ids_with_content(chunk_hierarchy, chunk_docs):\n",
    "    # Create a mapping of chunk IDs to document content\n",
    "    chunk_id_to_content = {doc.id: doc.content for doc in chunk_docs}\n",
    "\n",
    "    # Recursive function to traverse the hierarchy and construct plain text output\n",
    "    def traverse_and_construct_text(hierarchy, level=0):\n",
    "        output = []\n",
    "        indent = '  ' * level  # Indentation based on the hierarchy level\n",
    "\n",
    "        # Add the section title and type\n",
    "        if \"name\" in hierarchy and \"type\" in hierarchy:\n",
    "            output.append(f\"{indent}{hierarchy['name']} ({hierarchy['type']}):\")\n",
    "\n",
    "        # Add the chunks content as a paragraph\n",
    "        if \"chunks\" in hierarchy:\n",
    "            chunk_contents = [chunk_id_to_content.get(chunk_id, f\"Missing content for chunk {chunk_id}\") for chunk_id in hierarchy[\"chunks\"]]\n",
    "            indented_chunk_contents = [f\"{indent}{content}\" for content in chunk_contents]\n",
    "            output.append('\\n\\n'.join(indented_chunk_contents))  # Add extra newlines between chunks\n",
    "\n",
    "        # Recursively traverse the sections\n",
    "        if \"sections\" in hierarchy:\n",
    "            for section in hierarchy[\"sections\"]:\n",
    "                output.append('\\n\\n' + traverse_and_construct_text(section, level + 1))  # Add extra newlines between sections\n",
    "\n",
    "        return '\\n'.join(output)\n",
    "\n",
    "    # Start the traversal and construction from the root of the hierarchy\n",
    "    return traverse_and_construct_text(chunk_hierarchy)"
   ]
  },
  {
   "cell_type": "code",
   "execution_count": 68,
   "metadata": {},
   "outputs": [
    {
     "name": "stdout",
     "output_type": "stream",
     "text": [
      "Size (h3):\n",
      "Current evidence suggests that dinosaur average size varied through the Triassic, Early Jurassic, Late Jurassic and Cretaceous. Predatory theropod dinosaurs, which occupied most terrestrial carnivore niches during the Mesozoic, most often fall into the 100-to-1,000 kg (220-to-2,200 lb) category when sorted by estimated weight into categories based on order of magnitude, whereas recent predatory carnivoran mammals peak in the 10-to-100 kg (22-to-220 lb) category. The mode of Mesozoic dinosaur body masses is between 1 and 10 metric tons (1.1 and 11.0 short tons). This contrasts sharply with the average size of Cenozoic mammals, estimated by the National Museum of Natural History as about 2 to 5 kg (4.4 to 11.0 lb).\n",
      "\n",
      "The sauropods were the largest and heaviest dinosaurs. For much of the dinosaur era, the smallest sauropods were larger than anything else in their habitat, and the largest was an order of magnitude more massive than anything else that has since walked the Earth. Giant prehistoric mammals such as Paraceratherium (the largest land mammal ever) were dwarfed by the giant sauropods, and only modern whales approach or surpass them in size. There are several proposed advantages for the large size of sauropods, including protection from predation, reduction of energy use, and longevity, but it may be that the most important advantage was dietary. Large animals are more efficient at digestion than small animals, because food spends more time in their digestive systems. This also permits them to subsist on food with lower nutritive value than smaller animals. Sauropod remains are mostly found in rock formations interpreted as dry or seasonally dry, and the ability to eat large quantities of low-nutrient browse would have been advantageous in such environments.\n",
      "\n",
      "\n",
      "  Largest and smallest (h4):\n",
      "  Scientists will probably never be certain of the largest and smallest dinosaurs to have ever existed. This is because only a tiny percentage of animals were ever fossilized and most of these remain buried in the earth. Few non-avian dinosaur specimens that are recovered are complete skeletons, and impressions of skin and other soft tissues are rare. Rebuilding a complete skeleton by comparing the size and morphology of bones to those of similar, better-known species is an inexact art, and reconstructing the muscles and other organs of the living animal is, at best, a process of educated guesswork.\n",
      "\n",
      "  The tallest and heaviest dinosaur known from good skeletons is Giraffatitan brancai (previously classified as a species of Brachiosaurus ). Its remains were discovered in Tanzania between 1907 and 1912. Bones from several similar-sized individuals were incorporated into the skeleton now mounted and on display at the Museum für Naturkunde in Berlin; this mount is 12 meters (39 ft) tall and 21.8 to 22.5 meters (72 to 74 ft) long, and would have belonged to an animal that weighed between 30000 and 60000 kilograms ( 70000 and 130000 lb). The longest complete dinosaur is the 27 meters (89 ft) long Diplodocus , which was discovered in Wyoming in the United States and displayed in Pittsburgh's Carnegie Museum of Natural History in 1907. The longest dinosaur known from good fossil material is Patagotitan : the skeleton mount in the American Museum of Natural History in New York is 37 meters (121 ft) long. The Museo Municipal Carmen Funes in Plaza Huincul, Argentina, has an Argentinosaurus reconstructed skeleton mount that is 39.7 meters (130 ft) long.\n",
      "\n",
      "  There were larger dinosaurs, but knowledge of them is based entirely on a small number of fragmentary fossils. Most of the largest herbivorous specimens on record were discovered in the 1970s or later, and include the massive Argentinosaurus , which may have weighed 80000 to 100000 kilograms (88 to 110 short tons) and reached lengths of 30 to 40 meters (98 to 131 ft); some of the longest were the 33.5-meter (110 ft) long Diplodocus hallorum (formerly Seismosaurus ), the 33-to-34-meter (108 to 112 ft) long Supersaurus , and 37-meter (121 ft) long Patagotitan ; and the tallest, the 18-meter (59 ft) tall Sauroposeidon , which could have reached a sixth-floor window. There were a few dinosaurs that was considered either the heaviest and longest. The most famous one include Amphicoelias fragillimus , known only from a now lost partial vertebral neural arch described in 1878. Extrapolating from the illustration of this bone, the animal may have been 58 meters (190 ft) long and weighed 122400 kg ( 269800 lb). However, recent research have placed Amphicoelias from the long, gracile diplodocid to the shorter but much stockier rebbachisaurid. Now renamed as Maraapunisaurus , this sauropod now stands as much as 40 meters (130 ft) long and weigh as much as 120000 kg ( 260000 lb). Another contender of this title includes Bruhathkayosaurus , a controversial taxon that was recently confirmed to exist after archived photos were uncovered. Bruhathkayosaurus was a titanosaur and would have most likely weighed more than even Marrapunisaurus . Recent size estimates in 2023 have placed this sauropod reaching lengths of up to 44 m (144 ft) long and a colossal weight range of around 110000 – 170000 kg ( 240000 – 370000 lb), if these upper estimates up true, Bruhathkayosaurus would have rivaled the blue whale and Perucetus colossus as one of the largest animals to have ever existed.\n",
      "\n",
      "  The largest carnivorous dinosaur was Spinosaurus , reaching a length of 12.6 to 18 meters (41 to 59 ft) and weighing 7 to 20.9 metric tons (7.7 to 23.0 short tons). Other large carnivorous theropods included Giganotosaurus , Carcharodontosaurus , and Tyrannosaurus . Therizinosaurus and Deinocheirus were among the tallest of the theropods. The largest ornithischian dinosaur was probably the hadrosaurid Shantungosaurus giganteus which measured 16.6 meters (54 ft). The largest individuals may have weighed as much as 16 metric tons (18 short tons).\n",
      "\n",
      "  The smallest dinosaur known is the bee hummingbird, with a length of only 5 centimeters (2.0 in) and mass of around 1.8 g (0.063 oz). The smallest known non-avialan dinosaurs were about the size of pigeons and were those theropods most closely related to birds. For example, Anchiornis huxleyi is currently the smallest non-avialan dinosaur described from an adult specimen, with an estimated weight of 110 g (3.9 oz) and a total skeletal length of 34 centimeters (1.12 ft). The smallest herbivorous non-avialan dinosaurs included Microceratus and Wannanosaurus , at about 60 centimeters (2.0 ft) long each.\n"
     ]
    }
   ],
   "source": [
    "chunk_hierarchy_docs = replace_chunk_ids_with_content(filtered_chunk_hierarchy, fetched_docs)\n",
    "\n",
    "print(chunk_hierarchy_docs)"
   ]
  },
  {
   "cell_type": "markdown",
   "metadata": {},
   "source": [
    "### Given expanded text context to LLM"
   ]
  },
  {
   "cell_type": "code",
   "execution_count": 84,
   "metadata": {},
   "outputs": [
    {
     "name": "stdout",
     "output_type": "stream",
     "text": [
      "Physiology (h3):\n",
      "Because both modern crocodilians and birds have four-chambered hearts (albeit modified in crocodilians), it is likely that this is a trait shared by all archosaurs, including all dinosaurs. While all modern birds have high metabolisms and are endothermic (\"warm-blooded\"), a vigorous debate has been ongoing since the 1960s regarding how far back in the dinosaur lineage this trait extended. Various researchers have supported dinosaurs as being endothermic, ectothermic (\"cold-blooded\"), or somewhere in between. An emerging consensus among researchers is that, while different lineages of dinosaurs would have had different metabolisms, most of them had higher metabolic rates than other reptiles but lower than living birds and mammals, which is termed mesothermy by some. Evidence from crocodiles and their extinct relatives suggests that such elevated metabolisms could have developed in the earliest archosaurs, which were the common ancestors of dinosaurs and crocodiles.\n",
      "\n",
      "After non-avian dinosaurs were discovered, paleontologists first posited that they were ectothermic. This was used to imply that the ancient dinosaurs were relatively slow, sluggish organisms, even though many modern reptiles are fast and light-footed despite relying on external sources of heat to regulate their body temperature. The idea of dinosaurs as ectothermic remained a prevalent view until Robert T. Bakker, an early proponent of dinosaur endothermy, published an influential paper on the topic in 1968. Bakker specifically used anatomical and ecological evidence to argue that sauropods, which had hitherto been depicted as sprawling aquatic animals with their tails dragging on the ground, were endotherms that lived vigorous, terrestrial lives. In 1972, Bakker expanded on his arguments based on energy requirements and predator-prey ratios. This was one of the seminal results that led to the dinosaur renaissance.\n",
      "\n",
      "One of the greatest contributions to the modern understanding of dinosaur physiology has been paleohistology, the study of microscopic tissue structure in dinosaurs. From the 1960s forward, Armand de Ricqlès suggested that the presence of fibrolamellar bone—bony tissue with an irregular, fibrous texture and filled with blood vessels—was indicative of consistently fast growth and therefore endothermy. Fibrolamellar bone was common in both dinosaurs and pterosaurs, though not universally present. This has led to a significant body of work in reconstructing growth curves and modeling the evolution of growth rates across various dinosaur lineages, which has suggested overall that dinosaurs grew faster than living reptiles. Other lines of evidence suggesting endothermy include the presence of feathers and other types of body coverings in many lineages (see § Feathers); more consistent ratios of the isotope oxygen-18 in bony tissue compared to ectotherms, particularly as latitude and thus air temperature varied, which suggests stable internal temperatures (although these ratios can be altered during fossilization); and the discovery of polar dinosaurs, which lived in Australia, Antarctica, and Alaska when these places would have had cool, temperate climates.\n",
      "\n",
      "In saurischian dinosaurs, higher metabolisms were supported by the evolution of the avian respiratory system, characterized by an extensive system of air sacs that extended the lungs and invaded many of the bones in the skeleton, making them hollow. Such respiratory systems, which may have appeared in the earliest saurischians, would have provided them with more oxygen compared to a mammal of similar size, while also having a larger resting tidal volume and requiring a lower breathing frequency, which would have allowed them to sustain higher activity levels. The rapid airflow would also have been an effective cooling mechanism, which in conjunction with a lower metabolic rate would have prevented large sauropods from overheating. These traits may have enabled sauropods to grow quickly to gigantic sizes. Sauropods may also have benefitted from their size—their small surface area to volume ratio meant that they would have been able to thermoregulate more easily, a phenomenon termed gigantothermy.\n",
      "\n",
      "Like other reptiles, dinosaurs are primarily uricotelic, that is, their kidneys extract nitrogenous wastes from their bloodstream and excrete it as uric acid instead of urea or ammonia via the ureters into the intestine. This would have helped them to conserve water. In most living species, uric acid is excreted along with feces as a semisolid waste. However, at least some modern birds (such as hummingbirds) can be facultatively ammonotelic, excreting most of the nitrogenous wastes as ammonia. This material, as well as the output of the intestines, emerges from the cloaca. In addition, many species regurgitate pellets, and fossil pellets are known as early as the Jurassic from Anchiornis .\n",
      "\n",
      "The size and shape of the brain can be partly reconstructed based on the surrounding bones. In 1896, Marsh calculated ratios between brain weight and body weight of seven species of dinosaurs, showing that the brain of dinosaurs was proportionally smaller than in today's crocodiles, and that the brain of Stegosaurus was smaller than in any living land vertebrate. This contributed to the widespread public notion of dinosaurs as being sluggish and extraordinarily stupid. Harry Jerison, in 1973, showed that proportionally smaller brains are expected at larger body sizes, and that brain size in dinosaurs was not smaller than expected when compared to living reptiles. Later research showed that relative brain size progressively increased during the evolution of theropods, with the highest intelligence – comparable to that of modern birds – calculated for the troodontid Troodon .\n"
     ]
    }
   ],
   "source": [
    "path = \"Dinosaur -> Paleobiology -> Physiology\"\n",
    "filtered_chunk_hierarchy = get_hierarchy_by_path(chunks_hierarchy, path)\n",
    "filtered_chunks_flat_list = extract_chunks(filtered_chunk_hierarchy)\n",
    "fetched_docs = fetch_documents_from_elasticsearch(filtered_chunks_flat_list)\n",
    "chunk_hierarchy_docs = replace_chunk_ids_with_content(filtered_chunk_hierarchy, fetched_docs)\n",
    "\n",
    "print(chunk_hierarchy_docs)"
   ]
  },
  {
   "cell_type": "code",
   "execution_count": 86,
   "metadata": {},
   "outputs": [
    {
     "name": "stdout",
     "output_type": "stream",
     "text": [
      "{'generator': {'replies': ['I need more context.'], 'meta': [{'model': 'gpt-4o-mini-2024-07-18', 'index': 0, 'finish_reason': 'stop', 'usage': {'completion_tokens': 5, 'prompt_tokens': 1211, 'total_tokens': 1216, 'completion_tokens_details': {'reasoning_tokens': 0}}}]}}\n"
     ]
    }
   ],
   "source": [
    "from haystack import Document\n",
    "\n",
    "physiology_doc = Document(content=chunk_hierarchy_docs, meta={\"name\": \"Physiology\"})\n",
    "\n",
    "result = llm_pipeline.run({\"prompt_builder\": {\"documents\": [physiology_doc], \"query\": query}})\n",
    "print(result)"
   ]
  },
  {
   "cell_type": "markdown",
   "metadata": {},
   "source": [
    "***Dubious results!!!***\n",
    "\n",
    "LLM responds with 'I need more context.' even though enough context is provided. Possibly because of the presence of the following instruction in the context:\n",
    "\n",
    "> Answer with \"I need more context\" in the following situations:\n",
    "> - answer is not present in the context\n",
    "> - answer is present in the context but you need more context to answer the question\n",
    "\n",
    "LLM got greedy may be and decided it should ask for as much context as possible before answering (if that choice is provided). "
   ]
  },
  {
   "cell_type": "markdown",
   "metadata": {},
   "source": [
    "Let's try to change the template and not give the LLM a chance to ask for more context (because we cannot provide any more context)."
   ]
  },
  {
   "cell_type": "code",
   "execution_count": 88,
   "metadata": {},
   "outputs": [],
   "source": [
    "template_full_context = \"\"\"\n",
    "Answer the question only using the following context. Do not use any external information. If answer is not present in the context,\n",
    "please answer with \"I don't know\".\n",
    "\n",
    "Context:\n",
    "{% for document in documents %}\n",
    "    {{ document.content }}\n",
    "{% endfor %}\n",
    "\n",
    "Question: {{query}}\n",
    "Answer:\n",
    "\"\"\""
   ]
  },
  {
   "cell_type": "code",
   "execution_count": 91,
   "metadata": {},
   "outputs": [
    {
     "name": "stdout",
     "output_type": "stream",
     "text": [
      "{'full_context_generator': {'replies': ['Dinosaurs likely had four-chambered hearts, similar to modern crocodilians and birds, suggesting they may have been endothermic or had varying metabolic rates. Evidence suggests most dinosaurs had higher metabolic rates than living reptiles but lower than birds and mammals, termed mesothermy. They may have exhibited fast growth and endothermy as indicated by fibrolamellar bone, feathers, stable internal temperatures, and polar habitation. Saurischians had an avian respiratory system, allowing for higher oxygen intake and activity levels. Dinosaurs excreted nitrogenous wastes as uric acid, helping conserve water, and their brain sizes were comparable to expected ratios based on body size, indicating they were not necessarily sluggish or unintelligent.'], 'meta': [{'model': 'gpt-4o-mini-2024-07-18', 'index': 0, 'finish_reason': 'stop', 'usage': {'completion_tokens': 145, 'prompt_tokens': 1188, 'total_tokens': 1333, 'completion_tokens_details': {'reasoning_tokens': 0}}}]}, 'full_context_prompt_builder': {'prompt': '\\nAnswer the question only using the following context. Do not use any external information. If answer is not present in the context,\\nplease answer with \"I don\\'t know\".\\n\\nContext:\\n\\n    Physiology (h3):\\nBecause both modern crocodilians and birds have four-chambered hearts (albeit modified in crocodilians), it is likely that this is a trait shared by all archosaurs, including all dinosaurs. While all modern birds have high metabolisms and are endothermic (\"warm-blooded\"), a vigorous debate has been ongoing since the 1960s regarding how far back in the dinosaur lineage this trait extended. Various researchers have supported dinosaurs as being endothermic, ectothermic (\"cold-blooded\"), or somewhere in between. An emerging consensus among researchers is that, while different lineages of dinosaurs would have had different metabolisms, most of them had higher metabolic rates than other reptiles but lower than living birds and mammals, which is termed mesothermy by some. Evidence from crocodiles and their extinct relatives suggests that such elevated metabolisms could have developed in the earliest archosaurs, which were the common ancestors of dinosaurs and crocodiles.\\n\\nAfter non-avian dinosaurs were discovered, paleontologists first posited that they were ectothermic. This was used to imply that the ancient dinosaurs were relatively slow, sluggish organisms, even though many modern reptiles are fast and light-footed despite relying on external sources of heat to regulate their body temperature. The idea of dinosaurs as ectothermic remained a prevalent view until Robert T. Bakker, an early proponent of dinosaur endothermy, published an influential paper on the topic in 1968. Bakker specifically used anatomical and ecological evidence to argue that sauropods, which had hitherto been depicted as sprawling aquatic animals with their tails dragging on the ground, were endotherms that lived vigorous, terrestrial lives. In 1972, Bakker expanded on his arguments based on energy requirements and predator-prey ratios. This was one of the seminal results that led to the dinosaur renaissance.\\n\\nOne of the greatest contributions to the modern understanding of dinosaur physiology has been paleohistology, the study of microscopic tissue structure in dinosaurs. From the 1960s forward, Armand de Ricqlès suggested that the presence of fibrolamellar bone—bony tissue with an irregular, fibrous texture and filled with blood vessels—was indicative of consistently fast growth and therefore endothermy. Fibrolamellar bone was common in both dinosaurs and pterosaurs, though not universally present. This has led to a significant body of work in reconstructing growth curves and modeling the evolution of growth rates across various dinosaur lineages, which has suggested overall that dinosaurs grew faster than living reptiles. Other lines of evidence suggesting endothermy include the presence of feathers and other types of body coverings in many lineages (see § Feathers); more consistent ratios of the isotope oxygen-18 in bony tissue compared to ectotherms, particularly as latitude and thus air temperature varied, which suggests stable internal temperatures (although these ratios can be altered during fossilization); and the discovery of polar dinosaurs, which lived in Australia, Antarctica, and Alaska when these places would have had cool, temperate climates.\\n\\nIn saurischian dinosaurs, higher metabolisms were supported by the evolution of the avian respiratory system, characterized by an extensive system of air sacs that extended the lungs and invaded many of the bones in the skeleton, making them hollow. Such respiratory systems, which may have appeared in the earliest saurischians, would have provided them with more oxygen compared to a mammal of similar size, while also having a larger resting tidal volume and requiring a lower breathing frequency, which would have allowed them to sustain higher activity levels. The rapid airflow would also have been an effective cooling mechanism, which in conjunction with a lower metabolic rate would have prevented large sauropods from overheating. These traits may have enabled sauropods to grow quickly to gigantic sizes. Sauropods may also have benefitted from their size—their small surface area to volume ratio meant that they would have been able to thermoregulate more easily, a phenomenon termed gigantothermy.\\n\\nLike other reptiles, dinosaurs are primarily uricotelic, that is, their kidneys extract nitrogenous wastes from their bloodstream and excrete it as uric acid instead of urea or ammonia via the ureters into the intestine. This would have helped them to conserve water. In most living species, uric acid is excreted along with feces as a semisolid waste. However, at least some modern birds (such as hummingbirds) can be facultatively ammonotelic, excreting most of the nitrogenous wastes as ammonia. This material, as well as the output of the intestines, emerges from the cloaca. In addition, many species regurgitate pellets, and fossil pellets are known as early as the Jurassic from Anchiornis .\\n\\nThe size and shape of the brain can be partly reconstructed based on the surrounding bones. In 1896, Marsh calculated ratios between brain weight and body weight of seven species of dinosaurs, showing that the brain of dinosaurs was proportionally smaller than in today\\'s crocodiles, and that the brain of Stegosaurus was smaller than in any living land vertebrate. This contributed to the widespread public notion of dinosaurs as being sluggish and extraordinarily stupid. Harry Jerison, in 1973, showed that proportionally smaller brains are expected at larger body sizes, and that brain size in dinosaurs was not smaller than expected when compared to living reptiles. Later research showed that relative brain size progressively increased during the evolution of theropods, with the highest intelligence – comparable to that of modern birds – calculated for the troodontid Troodon .\\n\\n\\nQuestion: Tell me in short about the physiology of dinosaurs.\\nAnswer:'}}\n"
     ]
    }
   ],
   "source": [
    "full_context_llm_pipeline = Pipeline()\n",
    "full_context_llm_pipeline.add_component(instance=PromptBuilder(template=template_full_context), name=\"full_context_prompt_builder\")\n",
    "full_context_llm_pipeline.add_component(\"full_context_generator\", OpenAIGenerator(model=\"gpt-4o-mini\"))\n",
    "full_context_llm_pipeline.connect(\"full_context_prompt_builder\", \"full_context_generator\")\n",
    "\n",
    "result = full_context_llm_pipeline.run({\"full_context_prompt_builder\": {\"documents\": [physiology_doc], \"query\": query}}, include_outputs_from={\"full_context_prompt_builder\"})\n",
    "print(result)"
   ]
  },
  {
   "cell_type": "code",
   "execution_count": 94,
   "metadata": {},
   "outputs": [
    {
     "name": "stdout",
     "output_type": "stream",
     "text": [
      "Dinosaurs likely had four-chambered hearts, similar to modern crocodilians and birds, suggesting they may have been endothermic or had varying metabolic rates. Evidence suggests most dinosaurs had higher metabolic rates than living reptiles but lower than birds and mammals, termed mesothermy. They may have exhibited fast growth and endothermy as indicated by fibrolamellar bone, feathers, stable internal temperatures, and polar habitation. Saurischians had an avian respiratory system, allowing for higher oxygen intake and activity levels. Dinosaurs excreted nitrogenous wastes as uric acid, helping conserve water, and their brain sizes were comparable to expected ratios based on body size, indicating they were not necessarily sluggish or unintelligent.\n"
     ]
    }
   ],
   "source": [
    "print(result[\"full_context_generator\"][\"replies\"][0])"
   ]
  },
  {
   "cell_type": "markdown",
   "metadata": {},
   "source": [
    "Good result! LLM seems to have picked out information from all chunks provided, which seems like the logical thing to do when a broad question like this is asked."
   ]
  },
  {
   "cell_type": "code",
   "execution_count": null,
   "metadata": {},
   "outputs": [],
   "source": []
  }
 ],
 "metadata": {
  "kernelspec": {
   "display_name": "Python (argonk)",
   "language": "python",
   "name": "argonk"
  },
  "language_info": {
   "codemirror_mode": {
    "name": "ipython",
    "version": 3
   },
   "file_extension": ".py",
   "mimetype": "text/x-python",
   "name": "python",
   "nbconvert_exporter": "python",
   "pygments_lexer": "ipython3",
   "version": "3.12.4"
  }
 },
 "nbformat": 4,
 "nbformat_minor": 2
}
