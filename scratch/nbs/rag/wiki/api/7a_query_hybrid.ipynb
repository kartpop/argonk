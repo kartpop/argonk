{
 "cells": [
  {
   "cell_type": "code",
   "execution_count": 1,
   "metadata": {},
   "outputs": [
    {
     "name": "stderr",
     "output_type": "stream",
     "text": [
      "/home/kartikeya/miniconda3/envs/argonk/lib/python3.12/site-packages/tqdm/auto.py:21: TqdmWarning: IProgress not found. Please update jupyter and ipywidgets. See https://ipywidgets.readthedocs.io/en/stable/user_install.html\n",
      "  from .autonotebook import tqdm as notebook_tqdm\n",
      "/home/kartikeya/miniconda3/envs/argonk/lib/python3.12/site-packages/google/protobuf/runtime_version.py:112: UserWarning: Protobuf gencode version 5.27.2 is older than the runtime version 5.28.0 at grpc_health/v1/health.proto. Please avoid checked-in Protobuf gencode that can be obsolete.\n",
      "  warnings.warn(\n",
      "/home/kartikeya/miniconda3/envs/argonk/lib/python3.12/site-packages/haystack/components/generators/openai.py:106: DeprecationWarning: In the upcoming releases 'gpt-3.5-turbo' will be replaced by 'gpt-4o-mini' as the default model\n",
      "  warnings.warn(\n"
     ]
    }
   ],
   "source": [
    "from haystack.components.embedders import OpenAIDocumentEmbedder, OpenAITextEmbedder\n",
    "from haystack_integrations.document_stores.weaviate.document_store import WeaviateDocumentStore\n",
    "from haystack_integrations.components.retrievers.weaviate.embedding_retriever import WeaviateEmbeddingRetriever\n",
    "from haystack.components.builders import PromptBuilder\n",
    "from haystack.components.generators import OpenAIGenerator\n",
    "from haystack_integrations.document_stores.elasticsearch import ElasticsearchDocumentStore\n",
    "from haystack_integrations.components.retrievers.elasticsearch import ElasticsearchBM25Retriever\n",
    "\n",
    "\n",
    "embedder = OpenAIDocumentEmbedder(model=\"text-embedding-3-small\")\n",
    "text_embedder = OpenAITextEmbedder(model=\"text-embedding-3-small\")\n",
    "weaviate_store = WeaviateDocumentStore(url=\"http://localhost:8088\")\n",
    "elasticsearch_store = ElasticsearchDocumentStore(hosts= \"http://localhost:9200\")\n",
    "weaviate_retriever = WeaviateEmbeddingRetriever(document_store=weaviate_store, top_k=3)\n",
    "elasticsearch_retriever = ElasticsearchBM25Retriever(document_store=elasticsearch_store, top_k=3)\n",
    "\n",
    "template = \"\"\"\n",
    "Answer the question only using the following context. Do not use any external information. \n",
    "If the answer is not present in the context, please answer with \"I don't know\".\n",
    "\n",
    "Context:\n",
    "{% for document in documents %}\n",
    "    {{ document.content }}\n",
    "{% endfor %}\n",
    "\n",
    "Question: {{question}}\n",
    "Answer:\n",
    "\"\"\"\n",
    "prompt_builder = PromptBuilder(template=template)\n",
    "\n",
    "generator = OpenAIGenerator(model=\"gpt-4o-mini\")"
   ]
  },
  {
   "cell_type": "markdown",
   "metadata": {},
   "source": [
    "### Joiner"
   ]
  },
  {
   "cell_type": "code",
   "execution_count": 2,
   "metadata": {},
   "outputs": [
    {
     "data": {
      "text/plain": [
       "<haystack.core.pipeline.pipeline.Pipeline object at 0x7daeaf5e2660>\n",
       "🚅 Components\n",
       "  - text_embedder: OpenAITextEmbedder\n",
       "  - weaviate_retriever: WeaviateEmbeddingRetriever\n",
       "  - elasticsearch_retriever: ElasticsearchBM25Retriever\n",
       "  - joiner: DocumentJoiner\n",
       "🛤️ Connections\n",
       "  - text_embedder.embedding -> weaviate_retriever.query_embedding (List[float])\n",
       "  - weaviate_retriever.documents -> joiner.documents (List[Document])\n",
       "  - elasticsearch_retriever.documents -> joiner.documents (List[Document])"
      ]
     },
     "execution_count": 2,
     "metadata": {},
     "output_type": "execute_result"
    }
   ],
   "source": [
    "from haystack import Pipeline\n",
    "from haystack.components.joiners.document_joiner import DocumentJoiner\n",
    "\n",
    "joiner = DocumentJoiner(join_mode=\"reciprocal_rank_fusion\", top_k=3)\n",
    "\n",
    "p = Pipeline()\n",
    "\n",
    "p.add_component(\"text_embedder\", text_embedder)\n",
    "p.add_component(\"weaviate_retriever\", weaviate_retriever)\n",
    "p.add_component(\"elasticsearch_retriever\", elasticsearch_retriever)\n",
    "p.add_component(\"joiner\", joiner)\n",
    "\n",
    "p.connect(\"text_embedder.embedding\", \"weaviate_retriever.query_embedding\")\n",
    "p.connect(\"weaviate_retriever\", \"joiner\")\n",
    "p.connect(\"elasticsearch_retriever\", \"joiner\")"
   ]
  },
  {
   "cell_type": "code",
   "execution_count": 3,
   "metadata": {},
   "outputs": [
    {
     "name": "stderr",
     "output_type": "stream",
     "text": [
      "/home/kartikeya/miniconda3/envs/argonk/lib/python3.12/site-packages/posthog/client.py:345: DeprecationWarning: datetime.datetime.utcnow() is deprecated and scheduled for removal in a future version. Use timezone-aware objects to represent datetimes in UTC: datetime.datetime.now(datetime.UTC).\n",
      "  timestamp = datetime.utcnow().replace(tzinfo=tzutc())\n",
      "/home/kartikeya/miniconda3/envs/argonk/lib/python3.12/site-packages/posthog/request.py:40: DeprecationWarning: datetime.datetime.utcnow() is deprecated and scheduled for removal in a future version. Use timezone-aware objects to represent datetimes in UTC: datetime.datetime.now(datetime.UTC).\n",
      "  body[\"sentAt\"] = datetime.utcnow().replace(tzinfo=tzutc()).isoformat()\n"
     ]
    },
    {
     "data": {
      "text/plain": [
       "{'text_embedder': {'meta': {'model': 'text-embedding-3-small',\n",
       "   'usage': {'prompt_tokens': 10, 'total_tokens': 10}}},\n",
       " 'joiner': {'documents': [Document(id=433ad671-ea22-4ae1-9bc4-1cce06a0e6ee, content: 'Just before the K-Pg extinction event, the number of non-avian dinosaur species that existed globall...', meta: {'h3': 'Pre-extinction diversity', 'source_id': '93000a3fb02b99d2d115cd4042256d2f5db2a0ff3928927ca14465276534a75e', 'split_id': 235.0, 'file_path': 'Dinosaur.html', 'title': 'Dinosaurs', 'h4': None, 'h2': 'Extinction of major groups'}, score: 1.0, embedding: vector of size 1536),\n",
       "   Document(id=3f45e988-b093-4d9c-bde1-67e2e4c3b599, content: 'All non-avian dinosaurs and most lineages of birds became extinct in a mass extinction event, called...', meta: {'file_path': 'Dinosaur.html', 'source_id': '93000a3fb02b99d2d115cd4042256d2f5db2a0ff3928927ca14465276534a75e', 'split_id': 234, 'title': 'Dinosaurs', 'h2': 'Extinction of major groups'}, score: 0.4919354838709677, embedding: vector of size 1536),\n",
       "   Document(id=935b9b14-74dc-49d9-8111-eaba7e525ed8, content: 'The Cretaceous–Paleogene extinction event, which occurred approximately 66 million years ago at the ...', meta: {'h3': 'Evolution and paleobiogeography', 'source_id': '93000a3fb02b99d2d115cd4042256d2f5db2a0ff3928927ca14465276534a75e', 'split_id': 46.0, 'file_path': 'Dinosaur.html', 'title': 'Dinosaurs', 'h4': None, 'h2': 'Evolutionary history'}, score: 0.4919354838709677, embedding: vector of size 1536)]},\n",
       " 'elasticsearch_retriever': {'documents': [Document(id=433ad671-ea22-4ae1-9bc4-1cce06a0e6ee, content: 'Just before the K-Pg extinction event, the number of non-avian dinosaur species that existed globall...', meta: {'file_path': 'Dinosaur.html', 'source_id': '93000a3fb02b99d2d115cd4042256d2f5db2a0ff3928927ca14465276534a75e', 'split_id': 235, 'title': 'Dinosaurs', 'h2': 'Extinction of major groups', 'h3': 'Pre-extinction diversity'}, score: 17.038458, embedding: vector of size 1536),\n",
       "   Document(id=3f45e988-b093-4d9c-bde1-67e2e4c3b599, content: 'All non-avian dinosaurs and most lineages of birds became extinct in a mass extinction event, called...', meta: {'file_path': 'Dinosaur.html', 'source_id': '93000a3fb02b99d2d115cd4042256d2f5db2a0ff3928927ca14465276534a75e', 'split_id': 234, 'title': 'Dinosaurs', 'h2': 'Extinction of major groups'}, score: 15.461512, embedding: vector of size 1536),\n",
       "   Document(id=72964dd2-a5a8-4f60-a1ce-6ab52a861eb6, content: 'Based on fossil evidence from dinosaurs such as Oryctodromeus , some ornithischian species seem to h...', meta: {'file_path': 'Dinosaur.html', 'source_id': '93000a3fb02b99d2d115cd4042256d2f5db2a0ff3928927ca14465276534a75e', 'split_id': 211, 'title': 'Dinosaurs', 'h2': 'Paleobiology', 'h3': 'Behavior'}, score: 12.829857, embedding: vector of size 1536)]},\n",
       " 'weaviate_retriever': {'documents': [Document(id=433ad671-ea22-4ae1-9bc4-1cce06a0e6ee, content: 'Just before the K-Pg extinction event, the number of non-avian dinosaur species that existed globall...', meta: {'h3': 'Pre-extinction diversity', 'source_id': '93000a3fb02b99d2d115cd4042256d2f5db2a0ff3928927ca14465276534a75e', 'split_id': 235.0, 'file_path': 'Dinosaur.html', 'title': 'Dinosaurs', 'h4': None, 'h2': 'Extinction of major groups'}, score: 0.8524935245513916, embedding: vector of size 1536),\n",
       "   Document(id=935b9b14-74dc-49d9-8111-eaba7e525ed8, content: 'The Cretaceous–Paleogene extinction event, which occurred approximately 66 million years ago at the ...', meta: {'h3': 'Evolution and paleobiogeography', 'source_id': '93000a3fb02b99d2d115cd4042256d2f5db2a0ff3928927ca14465276534a75e', 'split_id': 46.0, 'file_path': 'Dinosaur.html', 'title': 'Dinosaurs', 'h4': None, 'h2': 'Evolutionary history'}, score: 0.822185754776001, embedding: vector of size 1536),\n",
       "   Document(id=47234d41-15c7-451e-95b3-2a7b31baf8b1, content: 'When dinosaurs appeared, they were not the dominant terrestrial animals. The terrestrial habitats we...', meta: {'h3': 'Origins and early evolution', 'source_id': '93000a3fb02b99d2d115cd4042256d2f5db2a0ff3928927ca14465276534a75e', 'split_id': 42.0, 'file_path': 'Dinosaur.html', 'title': 'Dinosaurs', 'h4': None, 'h2': 'Evolutionary history'}, score: 0.8219949007034302, embedding: vector of size 1536)]}}"
      ]
     },
     "execution_count": 3,
     "metadata": {},
     "output_type": "execute_result"
    }
   ],
   "source": [
    "query = \"How many dinosaur species existed before the extinction event?\"\n",
    "\n",
    "result = p.run(data={\"elasticsearch_retriever\": {\"query\": query}, \n",
    "            \"text_embedder\": {\"text\": query}}, include_outputs_from={\"weaviate_retriever\", \"elasticsearch_retriever\"})\n",
    "\n",
    "result"
   ]
  },
  {
   "cell_type": "markdown",
   "metadata": {},
   "source": [
    "Skipping LLM calls...straightforward"
   ]
  },
  {
   "cell_type": "markdown",
   "metadata": {},
   "source": [
    "### Explore graph calling"
   ]
  },
  {
   "cell_type": "code",
   "execution_count": 4,
   "metadata": {},
   "outputs": [
    {
     "name": "stderr",
     "output_type": "stream",
     "text": [
      "/home/kartikeya/miniconda3/envs/argonk/lib/python3.12/site-packages/posthog/client.py:345: DeprecationWarning: datetime.datetime.utcnow() is deprecated and scheduled for removal in a future version. Use timezone-aware objects to represent datetimes in UTC: datetime.datetime.now(datetime.UTC).\n",
      "  timestamp = datetime.utcnow().replace(tzinfo=tzutc())\n",
      "/home/kartikeya/miniconda3/envs/argonk/lib/python3.12/site-packages/posthog/request.py:40: DeprecationWarning: datetime.datetime.utcnow() is deprecated and scheduled for removal in a future version. Use timezone-aware objects to represent datetimes in UTC: datetime.datetime.now(datetime.UTC).\n",
      "  body[\"sentAt\"] = datetime.utcnow().replace(tzinfo=tzutc()).isoformat()\n"
     ]
    },
    {
     "data": {
      "text/plain": [
       "{'text_embedder': {'meta': {'model': 'text-embedding-3-small',\n",
       "   'usage': {'prompt_tokens': 10, 'total_tokens': 10}}},\n",
       " 'joiner': {'documents': [Document(id=8a7f94b9-3ae4-45a8-90ba-c9f5377c4b5b, content: 'World War II caused a pause in palaeontological research; after the war, research attention was also...', meta: {'h3': '\"Dinosaur renaissance\" and beyond', 'split_id': 33.0, 'source_id': '93000a3fb02b99d2d115cd4042256d2f5db2a0ff3928927ca14465276534a75e', 'file_path': 'Dinosaur.html', 'title': 'Dinosaurs', 'h4': None, 'h2': 'History of study'}, score: 0.9760624679979518, embedding: vector of size 1536),\n",
       "   Document(id=3aacf659-c395-452b-92a1-e2e1d2b81ec3, content: 'The popular preoccupation with dinosaurs has ensured their appearance in literature, film, and other...', meta: {'file_path': 'Dinosaur.html', 'source_id': '93000a3fb02b99d2d115cd4042256d2f5db2a0ff3928927ca14465276534a75e', 'split_id': 244, 'title': 'Dinosaurs', 'h2': 'Cultural depictions'}, score: 0.5, embedding: vector of size 1536),\n",
       "   Document(id=54620459-cf76-480a-accf-e8ca14bb6e91, content: 'One of the greatest contributions to the modern understanding of dinosaur physiology has been paleoh...', meta: {'h3': 'Physiology', 'source_id': '93000a3fb02b99d2d115cd4042256d2f5db2a0ff3928927ca14465276534a75e', 'split_id': 222.0, 'file_path': 'Dinosaur.html', 'title': 'Dinosaurs', 'h4': None, 'h2': 'Paleobiology'}, score: 0.5, embedding: vector of size 1536)]},\n",
       " 'elasticsearch_retriever': {'documents': [Document(id=3aacf659-c395-452b-92a1-e2e1d2b81ec3, content: 'The popular preoccupation with dinosaurs has ensured their appearance in literature, film, and other...', meta: {'file_path': 'Dinosaur.html', 'source_id': '93000a3fb02b99d2d115cd4042256d2f5db2a0ff3928927ca14465276534a75e', 'split_id': 244, 'title': 'Dinosaurs', 'h2': 'Cultural depictions'}, score: 11.202653, embedding: vector of size 1536),\n",
       "   Document(id=8a7f94b9-3ae4-45a8-90ba-c9f5377c4b5b, content: 'World War II caused a pause in palaeontological research; after the war, research attention was also...', meta: {'file_path': 'Dinosaur.html', 'source_id': '93000a3fb02b99d2d115cd4042256d2f5db2a0ff3928927ca14465276534a75e', 'split_id': 33, 'title': 'Dinosaurs', 'h2': 'History of study', 'h3': '\"Dinosaur renaissance\" and beyond'}, score: 9.824031, embedding: vector of size 1536),\n",
       "   Document(id=51cfc07d-fa24-431c-a3aa-84bd5e6d6743, content: 'Current evidence suggests that dinosaur average size varied through the Triassic, Early Jurassic, La...', meta: {'file_path': 'Dinosaur.html', 'source_id': '93000a3fb02b99d2d115cd4042256d2f5db2a0ff3928927ca14465276534a75e', 'split_id': 199, 'title': 'Dinosaurs', 'h2': 'Paleobiology', 'h3': 'Size'}, score: 9.7053795, embedding: vector of size 1536)]},\n",
       " 'weaviate_retriever': {'documents': [Document(id=54620459-cf76-480a-accf-e8ca14bb6e91, content: 'One of the greatest contributions to the modern understanding of dinosaur physiology has been paleoh...', meta: {'h3': 'Physiology', 'source_id': '93000a3fb02b99d2d115cd4042256d2f5db2a0ff3928927ca14465276534a75e', 'split_id': 222.0, 'file_path': 'Dinosaur.html', 'title': 'Dinosaurs', 'h4': None, 'h2': 'Paleobiology'}, score: 0.8069940805435181, embedding: vector of size 1536),\n",
       "   Document(id=ed090260-bd01-484a-8029-03523e3ac3fd, content: 'Knowledge about dinosaurs is derived from a variety of fossil and non-fossil records, including foss...', meta: {'h3': None, 'source_id': '93000a3fb02b99d2d115cd4042256d2f5db2a0ff3928927ca14465276534a75e', 'split_id': 198.0, 'file_path': 'Dinosaur.html', 'title': 'Dinosaurs', 'h4': None, 'h2': 'Paleobiology'}, score: 0.803046703338623, embedding: vector of size 1536),\n",
       "   Document(id=8a7f94b9-3ae4-45a8-90ba-c9f5377c4b5b, content: 'World War II caused a pause in palaeontological research; after the war, research attention was also...', meta: {'h3': '\"Dinosaur renaissance\" and beyond', 'split_id': 33.0, 'source_id': '93000a3fb02b99d2d115cd4042256d2f5db2a0ff3928927ca14465276534a75e', 'file_path': 'Dinosaur.html', 'title': 'Dinosaurs', 'h4': None, 'h2': 'History of study'}, score: 0.7848944664001465, embedding: vector of size 1536)]}}"
      ]
     },
     "execution_count": 4,
     "metadata": {},
     "output_type": "execute_result"
    }
   ],
   "source": [
    "query = \"Tell me in short about the physiology of dinosaurs.\"\n",
    "\n",
    "result = p.run(data={\"elasticsearch_retriever\": {\"query\": query}, \n",
    "            \"text_embedder\": {\"text\": query}}, include_outputs_from={\"weaviate_retriever\", \"elasticsearch_retriever\"})\n",
    "\n",
    "result"
   ]
  },
  {
   "cell_type": "markdown",
   "metadata": {},
   "source": [
    "One approach\n",
    "- Loop over all documents returned by Joiner and anchor on corresponding chunks in Neo4j graph\n",
    "- Find parent of chunk\n",
    "- Spread out 2 levels to find all non-chunk nodes\n",
    "- Compare cosine similarity with question???\n",
    "- Find the most matching node and return all chunks..."
   ]
  },
  {
   "cell_type": "markdown",
   "metadata": {},
   "source": [
    "Another approach\n",
    "- If LLM finds that context is not enough to answer the question, it should ask for more context\n",
    "- For each retrieved chunk, find title node, create page hierarchy from graph using title node and provide the page hierarchy to the LLM\n",
    "- Let LLM decide the deepest level in the hierarchy which it feels can sufficiently answer the question. Provide all chunks for that deepest level as context for the LLM to answer."
   ]
  },
  {
   "cell_type": "markdown",
   "metadata": {},
   "source": [
    "### Construct hierarchy of page given a chunk id"
   ]
  },
  {
   "cell_type": "code",
   "execution_count": 43,
   "metadata": {},
   "outputs": [
    {
     "data": {
      "text/plain": [
       "{'title': 'Dinosaur',\n",
       " 'sections': [{'name': 'Definition',\n",
       "   'type': 'h2',\n",
       "   'sections': [{'name': 'General description', 'type': 'h3'},\n",
       "    {'name': 'Distinguishing anatomical features', 'type': 'h3'}]},\n",
       "  {'name': 'History of study',\n",
       "   'type': 'h2',\n",
       "   'sections': [{'name': 'Pre-scientific history', 'type': 'h3'},\n",
       "    {'name': 'Early dinosaur research', 'type': 'h3'},\n",
       "    {'name': 'Discoveries in North America', 'type': 'h3'},\n",
       "    {'name': '\"Dinosaur renaissance\" and beyond', 'type': 'h3'},\n",
       "    {'name': 'Soft tissue and molecular preservation', 'type': 'h3'}]},\n",
       "  {'name': 'Evolutionary history',\n",
       "   'type': 'h2',\n",
       "   'sections': [{'name': 'Origins and early evolution', 'type': 'h3'},\n",
       "    {'name': 'Evolution and paleobiogeography', 'type': 'h3'}]},\n",
       "  {'name': 'Classification',\n",
       "   'type': 'h2',\n",
       "   'sections': [{'name': 'Taxonomy', 'type': 'h3'},\n",
       "    {'name': 'Timeline of major groups', 'type': 'h3'}]},\n",
       "  {'name': 'Paleobiology',\n",
       "   'type': 'h2',\n",
       "   'sections': [{'name': 'Size',\n",
       "     'type': 'h3',\n",
       "     'sections': [{'name': 'Largest and smallest', 'type': 'h4'}]},\n",
       "    {'name': 'Behavior', 'type': 'h3'},\n",
       "    {'name': 'Communication', 'type': 'h3'},\n",
       "    {'name': 'Reproductive biology', 'type': 'h3'},\n",
       "    {'name': 'Physiology', 'type': 'h3'}]},\n",
       "  {'name': 'Origin of birds',\n",
       "   'type': 'h2',\n",
       "   'sections': [{'name': 'Feathers', 'type': 'h3'},\n",
       "    {'name': 'Skeleton', 'type': 'h3'},\n",
       "    {'name': 'Soft anatomy', 'type': 'h3'},\n",
       "    {'name': 'Behavioral evidence', 'type': 'h3'}]},\n",
       "  {'name': 'Extinction of major groups',\n",
       "   'type': 'h2',\n",
       "   'sections': [{'name': 'Pre-extinction diversity', 'type': 'h3'},\n",
       "    {'name': 'Impact event', 'type': 'h3'},\n",
       "    {'name': 'Deccan Traps', 'type': 'h3'},\n",
       "    {'name': 'Possible Paleocene survivors', 'type': 'h3'}]},\n",
       "  {'name': 'Cultural depictions', 'type': 'h2'},\n",
       "  {'name': 'See also', 'type': 'h2'},\n",
       "  {'name': 'Notes', 'type': 'h2'},\n",
       "  {'name': 'References', 'type': 'h2'},\n",
       "  {'name': 'Bibliography', 'type': 'h2'},\n",
       "  {'name': 'Further reading', 'type': 'h2'}]}"
      ]
     },
     "execution_count": 43,
     "metadata": {},
     "output_type": "execute_result"
    }
   ],
   "source": [
    "from neo4j import GraphDatabase\n",
    "\n",
    "class WikiHierarchy:\n",
    "    def __init__(self, uri, user, password):\n",
    "        self.driver = GraphDatabase.driver(uri, auth=(user, password))\n",
    "\n",
    "    def close(self):\n",
    "        self.driver.close()\n",
    "\n",
    "    def get_hierarchy(self, chunk_id):\n",
    "        with self.driver.session() as session:\n",
    "            # Step 1: Find the title node from the chunk ID\n",
    "            page_node = session.run(\"\"\"\n",
    "            MATCH (chunk:Chunk {uuid: $chunk_id})\n",
    "            OPTIONAL MATCH (page:Page)-[:HAS_SECTION*0..]->(section)-[:HAS_CHUNK]->(chunk)\n",
    "            WITH page\n",
    "            WHERE page IS NOT NULL\n",
    "            RETURN DISTINCT page\n",
    "            \"\"\", chunk_id=chunk_id).single()\n",
    "\n",
    "            if not page_node:\n",
    "                return None\n",
    "\n",
    "            page_node = page_node[\"page\"]\n",
    "            \n",
    "            # Step 2: Recursively build the hierarchy\n",
    "            hierarchy = self.build_hierarchy(session, page_node[\"uuid\"])\n",
    "            return hierarchy\n",
    "\n",
    "    def build_hierarchy(self, session, node_uuid):\n",
    "        # Get the node details\n",
    "        node = session.run(\"\"\"\n",
    "        MATCH (n {uuid: $uuid})\n",
    "        RETURN n\n",
    "        \"\"\", uuid=node_uuid).single()[\"n\"]\n",
    "\n",
    "        # Initialize the hierarchy dictionary\n",
    "        hierarchy = {\n",
    "            \"title\": node[\"title\"]\n",
    "        }\n",
    "\n",
    "        # Get the sections connected to this node\n",
    "        sections = session.run(\"\"\"\n",
    "        MATCH (n {uuid: $uuid})-[:HAS_SECTION]->(s)\n",
    "        RETURN s, labels(s) AS labels\n",
    "        \"\"\", uuid=node_uuid)\n",
    "\n",
    "        section_list = []\n",
    "        for section in sections:\n",
    "            section_node = section[\"s\"]\n",
    "            labels = section[\"labels\"]\n",
    "            # Determine the type from the labels\n",
    "            section_type = next(label for label in labels if label in {'h2', 'h3', 'h4'})\n",
    "            section_hierarchy = {\n",
    "                \"name\": section_node[\"name\"],\n",
    "                \"type\": section_type\n",
    "            }\n",
    "            # Recursively build the hierarchy for subsections\n",
    "            subsection_hierarchy = self.build_hierarchy(session, section_node[\"uuid\"])\n",
    "            if \"sections\" in subsection_hierarchy:\n",
    "                section_hierarchy[\"sections\"] = subsection_hierarchy[\"sections\"]\n",
    "            section_list.append(section_hierarchy)\n",
    "\n",
    "        if section_list:\n",
    "            hierarchy[\"sections\"] = section_list\n",
    "\n",
    "        return hierarchy\n",
    "\n",
    "# Example usage\n",
    "wiki_hierarchy = WikiHierarchy(\"bolt://localhost:7687\", \"neo4j\", \"neo4jpass\")\n",
    "chunk_id = \"3aacf659-c395-452b-92a1-e2e1d2b81ec3\"\n",
    "hierarchy = wiki_hierarchy.get_hierarchy(chunk_id)\n",
    "wiki_hierarchy.close()\n",
    "\n",
    "hierarchy"
   ]
  },
  {
   "cell_type": "code",
   "execution_count": null,
   "metadata": {},
   "outputs": [],
   "source": []
  }
 ],
 "metadata": {
  "kernelspec": {
   "display_name": "Python (argonk)",
   "language": "python",
   "name": "argonk"
  },
  "language_info": {
   "codemirror_mode": {
    "name": "ipython",
    "version": 3
   },
   "file_extension": ".py",
   "mimetype": "text/x-python",
   "name": "python",
   "nbconvert_exporter": "python",
   "pygments_lexer": "ipython3",
   "version": "3.12.4"
  }
 },
 "nbformat": 4,
 "nbformat_minor": 2
}
