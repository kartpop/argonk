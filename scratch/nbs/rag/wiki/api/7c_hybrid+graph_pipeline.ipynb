{
 "cells": [
  {
   "cell_type": "code",
   "execution_count": 6,
   "metadata": {},
   "outputs": [],
   "source": [
    "from lib.pipelines.hybrid_pipeline import hybrid_pipeline   # same instance of the pipeline will be loaded in all imports\n",
    "from lib.pipelines.graph_pipeline import graph_pipeline"
   ]
  },
  {
   "cell_type": "markdown",
   "metadata": {},
   "source": [
    "### Hybrid pipeline: sanity check"
   ]
  },
  {
   "cell_type": "code",
   "execution_count": 5,
   "metadata": {},
   "outputs": [
    {
     "data": {
      "text/plain": [
       "{'text_embedder': {'meta': {'model': 'text-embedding-3-small',\n",
       "   'usage': {'prompt_tokens': 6, 'total_tokens': 6}}},\n",
       " 'p1_qa_generator': {'replies': ['{\\n  \"answer\": \"Dinosaurs went extinct at the end of the Cretaceous period, approximately 66 million years ago during the Cretaceous–Paleogene (K-Pg) extinction event.\",\\n  \"need_more_context\": false,\\n  \"reasoning\": \"The context clearly states that the mass extinction event that led to the extinction of non-avian dinosaurs occurred at the end of the Cretaceous period, dated to around 66 million years ago.\"\\n}'],\n",
       "  'meta': [{'model': 'gpt-4o-mini-2024-07-18',\n",
       "    'index': 0,\n",
       "    'finish_reason': 'stop',\n",
       "    'usage': {'completion_tokens': 97,\n",
       "     'prompt_tokens': 1484,\n",
       "     'total_tokens': 1581,\n",
       "     'completion_tokens_details': {'reasoning_tokens': 0}}}]},\n",
       " 'elasticsearch_retriever': {'documents': [Document(id=a0d28395-4798-4c2d-b8a3-9a29dadc09dc, content: 'Some dinosaurs are known to have used gizzard stones like modern birds. These stones are swallowed b...', meta: {'file_path': 'Dinosaur.html', 'source_id': '93000a3fb02b99d2d115cd4042256d2f5db2a0ff3928927ca14465276534a75e', 'split_id': 233, 'title': 'Dinosaurs', 'h2': 'Origin of birds', 'h3': 'Behavioral evidence'}, score: 7.0222874, embedding: vector of size 1536),\n",
       "   Document(id=47234d41-15c7-451e-95b3-2a7b31baf8b1, content: 'When dinosaurs appeared, they were not the dominant terrestrial animals. The terrestrial habitats we...', meta: {'file_path': 'Dinosaur.html', 'source_id': '93000a3fb02b99d2d115cd4042256d2f5db2a0ff3928927ca14465276534a75e', 'split_id': 42, 'title': 'Dinosaurs', 'h2': 'Evolutionary history', 'h3': 'Origins and early evolution'}, score: 6.650359, embedding: vector of size 1536),\n",
       "   Document(id=3f45e988-b093-4d9c-bde1-67e2e4c3b599, content: 'All non-avian dinosaurs and most lineages of birds became extinct in a mass extinction event, called...', meta: {'file_path': 'Dinosaur.html', 'source_id': '93000a3fb02b99d2d115cd4042256d2f5db2a0ff3928927ca14465276534a75e', 'split_id': 234, 'title': 'Dinosaurs', 'h2': 'Extinction of major groups'}, score: 6.5870996, embedding: vector of size 1536)]},\n",
       " 'weaviate_retriever': {'documents': [Document(id=3f45e988-b093-4d9c-bde1-67e2e4c3b599, content: 'All non-avian dinosaurs and most lineages of birds became extinct in a mass extinction event, called...', meta: {'h3': None, 'split_id': 234.0, 'source_id': '93000a3fb02b99d2d115cd4042256d2f5db2a0ff3928927ca14465276534a75e', 'file_path': 'Dinosaur.html', 'title': 'Dinosaurs', 'h4': None, 'h2': 'Extinction of major groups'}, score: 0.8278954029083252, embedding: vector of size 1536),\n",
       "   Document(id=47234d41-15c7-451e-95b3-2a7b31baf8b1, content: 'When dinosaurs appeared, they were not the dominant terrestrial animals. The terrestrial habitats we...', meta: {'h3': 'Origins and early evolution', 'split_id': 42.0, 'source_id': '93000a3fb02b99d2d115cd4042256d2f5db2a0ff3928927ca14465276534a75e', 'file_path': 'Dinosaur.html', 'title': 'Dinosaurs', 'h4': None, 'h2': 'Evolutionary history'}, score: 0.8149242401123047, embedding: vector of size 1536),\n",
       "   Document(id=75b8c578-e366-483d-8a1c-3e32a93dcc36, content: 'Dinosaurs diverged from their archosaur ancestors during the Middle to Late Triassic epochs, roughly...', meta: {'h3': 'Origins and early evolution', 'source_id': '93000a3fb02b99d2d115cd4042256d2f5db2a0ff3928927ca14465276534a75e', 'split_id': 39.0, 'file_path': 'Dinosaur.html', 'title': 'Dinosaurs', 'h4': None, 'h2': 'Evolutionary history'}, score: 0.8109116554260254, embedding: vector of size 1536)]},\n",
       " 'reciprocal_rank_fusion_joiner': {'documents': [Document(id=3f45e988-b093-4d9c-bde1-67e2e4c3b599, content: 'All non-avian dinosaurs and most lineages of birds became extinct in a mass extinction event, called...', meta: {'h3': None, 'split_id': 234.0, 'source_id': '93000a3fb02b99d2d115cd4042256d2f5db2a0ff3928927ca14465276534a75e', 'file_path': 'Dinosaur.html', 'title': 'Dinosaurs', 'h4': None, 'h2': 'Extinction of major groups'}, score: 0.9841269841269842, embedding: vector of size 1536),\n",
       "   Document(id=47234d41-15c7-451e-95b3-2a7b31baf8b1, content: 'When dinosaurs appeared, they were not the dominant terrestrial animals. The terrestrial habitats we...', meta: {'h3': 'Origins and early evolution', 'split_id': 42.0, 'source_id': '93000a3fb02b99d2d115cd4042256d2f5db2a0ff3928927ca14465276534a75e', 'file_path': 'Dinosaur.html', 'title': 'Dinosaurs', 'h4': None, 'h2': 'Evolutionary history'}, score: 0.9838709677419354, embedding: vector of size 1536),\n",
       "   Document(id=a0d28395-4798-4c2d-b8a3-9a29dadc09dc, content: 'Some dinosaurs are known to have used gizzard stones like modern birds. These stones are swallowed b...', meta: {'file_path': 'Dinosaur.html', 'source_id': '93000a3fb02b99d2d115cd4042256d2f5db2a0ff3928927ca14465276534a75e', 'split_id': 233, 'title': 'Dinosaurs', 'h2': 'Origin of birds', 'h3': 'Behavioral evidence'}, score: 0.5, embedding: vector of size 1536),\n",
       "   Document(id=75b8c578-e366-483d-8a1c-3e32a93dcc36, content: 'Dinosaurs diverged from their archosaur ancestors during the Middle to Late Triassic epochs, roughly...', meta: {'h3': 'Origins and early evolution', 'source_id': '93000a3fb02b99d2d115cd4042256d2f5db2a0ff3928927ca14465276534a75e', 'split_id': 39.0, 'file_path': 'Dinosaur.html', 'title': 'Dinosaurs', 'h4': None, 'h2': 'Evolutionary history'}, score: 0.4841269841269841, embedding: vector of size 1536)]}}"
      ]
     },
     "execution_count": 5,
     "metadata": {},
     "output_type": "execute_result"
    }
   ],
   "source": [
    "from lib.models.p1_qa import P1QA\n",
    "\n",
    "p1_qa_schema = P1QA.model_json_schema()\n",
    "\n",
    "query = \"When did dinosaurs go extinct?\"\n",
    "\n",
    "input_data = {\n",
    "    \"elasticsearch_retriever\": {\"query\": query},\n",
    "    \"text_embedder\": {\"text\": query},\n",
    "    \"p1_qa_prompt_builder\": {\"p1_qa_schema\": p1_qa_schema, \"query\": query},\n",
    "}\n",
    "\n",
    "result = hybrid_pipeline.run(data=input_data, include_outputs_from={\"elasticsearch_retriever\", \"weaviate_retriever\", \"reciprocal_rank_fusion_joiner\"})\n",
    "\n",
    "result"
   ]
  },
  {
   "cell_type": "markdown",
   "metadata": {},
   "source": [
    "### Graph pipeline: sanity check"
   ]
  },
  {
   "cell_type": "code",
   "execution_count": 7,
   "metadata": {},
   "outputs": [],
   "source": [
    "from haystack import Document\n",
    "from lib.models.hierarchy_path import HierarchyPathData\n",
    "\n",
    "docs = [\n",
    "    Document(\n",
    "        id=\"3f45e988-b093-4d9c-bde1-67e2e4c3b599\",\n",
    "        content=\"All non-avian dinosaurs and most lineages of birds became extinct in a mass extinction event, called...\",\n",
    "        meta={\n",
    "            \"file_path\": \"Dinosaur.html\",\n",
    "            \"source_id\": \"93000a3fb02b99d2d115cd4042256d2f5db2a0ff3928927ca14465276534a75e\",\n",
    "            \"split_id\": 234,\n",
    "            \"title\": \"Dinosaurs\",\n",
    "            \"h2\": \"Extinction of major groups\",\n",
    "        },\n",
    "    ),\n",
    "    Document(\n",
    "        id=\"433ad671-ea22-4ae1-9bc4-1cce06a0e6ee\",\n",
    "        content=\"Just before the K-Pg extinction event, the number of non-avian dinosaur species that existed globall...\",\n",
    "        meta={\n",
    "            \"file_path\": \"Dinosaur.html\",\n",
    "            \"source_id\": \"93000a3fb02b99d2d115cd4042256d2f5db2a0ff3928927ca14465276534a75e\",\n",
    "            \"split_id\": 235,\n",
    "            \"title\": \"Dinosaurs\",\n",
    "            \"h2\": \"Extinction of major groups\",\n",
    "            \"h3\": \"Pre-extinction diversity\",\n",
    "        },\n",
    "    ),\n",
    "]\n",
    "\n",
    "query = \"Give a brief about alternative theories of dinosaur extinction.\"\n",
    "\n",
    "path_schema = HierarchyPathData.model_json_schema()"
   ]
  },
  {
   "cell_type": "code",
   "execution_count": 9,
   "metadata": {},
   "outputs": [
    {
     "data": {
      "text/plain": [
       "{'meta': [{'model': 'gpt-4o-mini-2024-07-18',\n",
       "   'index': 0,\n",
       "   'finish_reason': 'stop',\n",
       "   'usage': {'completion_tokens': 108,\n",
       "    'prompt_tokens': 1280,\n",
       "    'total_tokens': 1388,\n",
       "    'completion_tokens_details': {'reasoning_tokens': 0}}}],\n",
       " 'replies': ['{\\n  \"paths\": [\\n    {\\n      \"path\": [\"Dinosaur\", \"Extinction of major groups\", \"Impact event\"],\\n      \"reasoning\": \"The section on \\'Impact event\\' likely discusses one of the leading theories related to dinosaur extinction.\"\\n    },\\n    {\\n      \"path\": [\"Dinosaur\", \"Extinction of major groups\", \"Deccan Traps\"],\\n      \"reasoning\": \"The \\'Deccan Traps\\' section might provide information on alternative volcanic activity theories concerning the extinction.\"\\n    }\\n  ]\\n}']}"
      ]
     },
     "execution_count": 9,
     "metadata": {},
     "output_type": "execute_result"
    }
   ],
   "source": [
    "input_data = {\n",
    "    \"hierarchy_prompt_builder\": {\"query\": query, \"hierarchy_path_schema\": path_schema},\n",
    "    \"wiki_hierarchy_builder\": {\"documents\": docs},\n",
    "    \"final_prompt_builder\": {\"query\": query},\n",
    "}\n",
    "\n",
    "result = graph_pipeline.run(\n",
    "    data=input_data,\n",
    "    include_outputs_from={\n",
    "        \"hierarchy_generator\",\n",
    "        \"wiki_context_creator\",\n",
    "        \"final_generator\",\n",
    "    },\n",
    ")\n",
    "\n",
    "result['hierarchy_generator']"
   ]
  },
  {
   "cell_type": "code",
   "execution_count": 10,
   "metadata": {},
   "outputs": [
    {
     "data": {
      "text/plain": [
       "{'context_list': ['Impact event (h3):\\nThe bolide impact hypothesis, first brought to wide attention in 1980 by Walter Alvarez, Luis Alvarez, and colleagues, attributes the K-Pg extinction event to a bolide (extraterrestrial projectile) impact. Alvarez and colleagues proposed that a sudden increase in iridium levels, recorded around the world in rock deposits at the Cretaceous–Paleogene boundary, was direct evidence of the impact. Shocked quartz, indicative of a strong shockwave emanating from an impact, was also found worldwide. The actual impact site remained elusive until a crater measuring 180 km (110 mi) wide was discovered in the Yucatán Peninsula of southeastern Mexico, and was publicized in a 1991 paper by Alan Hildebrand and colleagues. Now, the bulk of the evidence suggests that a bolide 5 to 15 kilometers (3 to 9 + 1 ⁄ 2 miles) wide impacted the Yucatán Peninsula 66 million years ago, forming this crater and creating a \"kill mechanism\" that triggered the extinction event.\\n\\nWithin hours, the Chicxulub impact would have created immediate effects such as earthquakes, tsunamis, and a global firestorm that likely killed unsheltered animals and started wildfires. However, it would also have had longer-term consequences for the environment. Within days, sulfate aerosols released from rocks at the impact site would have contributed to acid rain and ocean acidification. Soot aerosols are thought to have spread around the world over the ensuing months and years; they would have cooled the surface of the Earth by reflecting thermal radiation, and greatly slowed photosynthesis by blocking out sunlight, thus creating an impact winter. (This role was ascribed to sulfate aerosols until experiments demonstrated otherwise.) The cessation of photosynthesis would have led to the collapse of food webs depending on leafy plants, which included all dinosaurs save for grain-eating birds.',\n",
       "  \"Deccan Traps (h3):\\nAt the time of the K-Pg extinction, the Deccan Traps flood basalts of India were actively erupting. The eruptions can be separated into three phases around the K-Pg boundary, two prior to the boundary and one after. The second phase, which occurred very close to the boundary, would have extruded 70 to 80% of the volume of these eruptions in intermittent pulses that occurred around 100,000 years apart. Greenhouse gases such as carbon dioxide and sulfur dioxide would have been released by this volcanic activity, resulting in climate change through temperature perturbations of roughly 3 °C (5.4 °F) but possibly as high as 7 °C (13 °F). Like the Chicxulub impact, the eruptions may also have released sulfate aerosols, which would have caused acid rain and global cooling. However, due to large error margins in the dating of the eruptions, the role of the Deccan Traps in the K-Pg extinction remains unclear.\\n\\nBefore 2000, arguments that the Deccan Traps eruptions—as opposed to the Chicxulub impact—caused the extinction were usually linked to the view that the extinction was gradual. Prior to the discovery of the Chicxulub crater, the Deccan Traps were used to explain the global iridium layer; even after the crater's discovery, the impact was still thought to only have had a regional, not global, effect on the extinction event. In response, Luis Alvarez rejected volcanic activity as an explanation for the iridium layer and the extinction as a whole. Since then, however, most researchers have adopted a more moderate position, which identifies the Chicxulub impact as the primary progenitor of the extinction while also recognizing that the Deccan Traps may also have played a role. Walter Alvarez himself has acknowledged that the Deccan Traps and other ecological factors may have contributed to the extinctions in addition to the Chicxulub impact. Some estimates have placed the start of the second phase in the Deccan Traps eruptions within 50,000 years after the Chicxulub impact. Combined with mathematical modelling of the seismic waves that would have been generated by the impact, this has led to the suggestion that the Chicxulub impact may have triggered these eruptions by increasing the permeability of the mantle plume underlying the Deccan Traps.\\n\\nWhether the Deccan Traps were a major cause of the extinction, on par with the Chicxulub impact, remains uncertain. Proponents consider the climatic impact of the sulfur dioxide released to have been on par with the Chicxulub impact, and also note the role of flood basalt volcanism in other mass extinctions like the Permian-Triassic extinction event. They consider the Chicxulub impact to have worsened the ongoing climate change caused by the eruptions. Meanwhile, detractors point out the sudden nature of the extinction and that other pulses in Deccan Traps activity of comparable magnitude did not appear to have caused extinctions. They also contend that the causes of different mass extinctions should be assessed separately. In 2020, Alfio Chiarenza and colleagues suggested that the Deccan Traps may even have had the opposite effect: they suggested that the long-term warming caused by its carbon dioxide emissions may have dampened the impact winter from the Chicxulub impact.\"]}"
      ]
     },
     "execution_count": 10,
     "metadata": {},
     "output_type": "execute_result"
    }
   ],
   "source": [
    "result['wiki_context_creator']"
   ]
  },
  {
   "cell_type": "code",
   "execution_count": 11,
   "metadata": {},
   "outputs": [
    {
     "data": {
      "text/plain": [
       "{'replies': [\"The primary alternative theory to the Chicxulub impact hypothesis for dinosaur extinction is related to the Deccan Traps volcanic eruptions in India. These eruptions released greenhouse gases such as carbon dioxide and sulfur dioxide, which caused climate change and temperature perturbations, potentially affecting the environment and ecosystems. Some researchers argue that these eruptions may have played a significant role in the extinction event, with estimates placing the start of their most impactful phase within 50,000 years after the Chicxulub impact.\\n\\nWhile the Chicxulub impact is generally recognized as the primary cause of the extinction, the Deccan Traps may have contributed to the climatic changes that worsened the effects of the impact. However, there remains uncertainty about the extent of the Deccan Traps' role compared to the Chicxulub impact. Proponents of the Deccan Traps theory note parallels with other mass extinctions, suggesting that its sulfur dioxide emissions had significant climatic impacts. On the other hand, critics highlight the sudden nature of the extinction and previous activity of the Deccan Traps that did not result in extinctions, arguing for a separate assessment of mass extinction causes. \\n\\nIt is important to note that this summary may be incomplete and does not cover all alternative theories.\"],\n",
       " 'meta': [{'model': 'gpt-4o-mini-2024-07-18',\n",
       "   'index': 0,\n",
       "   'finish_reason': 'stop',\n",
       "   'usage': {'completion_tokens': 255,\n",
       "    'prompt_tokens': 1188,\n",
       "    'total_tokens': 1443,\n",
       "    'completion_tokens_details': {'reasoning_tokens': 0}}}]}"
      ]
     },
     "execution_count": 11,
     "metadata": {},
     "output_type": "execute_result"
    }
   ],
   "source": [
    "result['final_generator']"
   ]
  },
  {
   "cell_type": "markdown",
   "metadata": {},
   "source": [
    "## Connect hybrid and graph pipelines"
   ]
  },
  {
   "cell_type": "code",
   "execution_count": 17,
   "metadata": {},
   "outputs": [],
   "source": [
    "import json\n",
    "\n",
    "def question_answer(question: str) -> dict:\n",
    "    p1_qa_schema = P1QA.model_json_schema()\n",
    "\n",
    "    input_data = {\n",
    "        \"elasticsearch_retriever\": {\"query\": question},\n",
    "        \"text_embedder\": {\"text\": question},\n",
    "        \"p1_qa_prompt_builder\": {\"p1_qa_schema\": p1_qa_schema, \"query\": question},\n",
    "    }\n",
    "\n",
    "    hybrid_result_dict = hybrid_pipeline.run(data=input_data, include_outputs_from={\"elasticsearch_retriever\", \"weaviate_retriever\", \"reciprocal_rank_fusion_joiner\"})\n",
    "\n",
    "    hybrid_replies_json =  hybrid_result_dict['p1_qa_generator']['replies'][0]\n",
    "    hybrid_replies_dict = json.loads(hybrid_replies_json)\n",
    "    hybrid_replies = P1QA(**hybrid_replies_dict)\n",
    "    \n",
    "    if not hybrid_replies.need_more_context:    \n",
    "        # If the answer is complete, return\n",
    "        return { \"answer\": hybrid_replies.answer, \"phase\": 1 }\n",
    "    else:                                \n",
    "        # If the answer is incomplete, run graph pipeline to fetch more context\n",
    "        grounding_docs = hybrid_result_dict['reciprocal_rank_fusion_joiner']['documents']\n",
    "        \n",
    "        path_schema = HierarchyPathData.model_json_schema()\n",
    "        \n",
    "        input_data = {\n",
    "            \"hierarchy_prompt_builder\": {\"query\": question, \"hierarchy_path_schema\": path_schema},\n",
    "            \"wiki_hierarchy_builder\": {\"documents\": grounding_docs},\n",
    "            \"final_prompt_builder\": {\"query\": question},\n",
    "        }\n",
    "\n",
    "        result = graph_pipeline.run(\n",
    "            data=input_data,\n",
    "            include_outputs_from={\n",
    "                \"hierarchy_generator\",\n",
    "                \"wiki_context_creator\",\n",
    "                \"final_generator\",\n",
    "            },\n",
    "        )\n",
    "    \n",
    "        return { \"answer\": result['final_generator']['replies'][0], \"phase\": 2 }\n",
    "    "
   ]
  },
  {
   "cell_type": "code",
   "execution_count": 15,
   "metadata": {},
   "outputs": [
    {
     "data": {
      "text/plain": [
       "{'answer': 'Huayangosauridae was a group of small stegosaurs characterized by flank osteoderms and tail clubs.',\n",
       " 'phase': 1}"
      ]
     },
     "execution_count": 15,
     "metadata": {},
     "output_type": "execute_result"
    }
   ],
   "source": [
    "response = question_answer(\"What was Huayangosauridae?\")\n",
    "\n",
    "response"
   ]
  },
  {
   "cell_type": "code",
   "execution_count": 18,
   "metadata": {},
   "outputs": [
    {
     "data": {
      "text/plain": [
       "{'answer': 'The paleobiology of dinosaurs encompasses a broad range of knowledge derived from various fossil and non-fossil records, including fossilized skeletons, feces, and trackways, complemented by insights from numerous scientific disciplines such as physics, chemistry, biology, and Earth sciences. Understanding dinosaurs involves examining their size, behavior, physiology, communication, and reproductive biology.\\n\\nDinosaur size varied significantly over the Triassic, Jurassic, and Cretaceous periods, with evidence suggesting a broad range of body masses. Predatory theropods generally weighed between 100 to 1,000 kg, whereas the majority of Mesozoic dinosaurs exhibited body masses between 1 and 10 metric tons. The largest dinosaurs were sauropods, whose sizes eclipsed modern land animals, and recent estimates indicate some species, like Argentinosaurus, may have reached up to 100,000 kg and lengths of 30 to 40 meters. In contrast, some non-avialan dinosaurs were notably small, with the bee hummingbird measuring only 5 centimeters.\\n\\nIn terms of behavior, evidence suggests many dinosaurs exhibited social tendencies, similar to modern birds. Interpretations of social behavior are often based on fossil findings of mass deaths, trackways indicating group movements, and the association of different species in collective tracks. Gregarious behavior appears to have been common among herbivorous dinosaurs, indicating potential herd structures for defense or migration purposes. There is also evidence of predatory tactics among theropods, suggesting pack hunting behavior.\\n\\nCommunication in dinosaurs likely relied heavily on visual signals, as inferred from structures such as horns and crests. Vocalization mechanisms remain debated; the absence of a syrinx in non-avian dinosaurs implies they might not have vocalized in a manner similar to birds, though some researchers suggest they could have produced non-vocal sounds. Discoveries of fossil laryngeal structures indicate that some dinosaurs might have been capable of limited vocalization.\\n\\nDinosaur reproduction involved laying amniotic eggs in nests, often demonstrating elaborate structures. The discovery of nesting grounds indicates that some species practiced parental care after hatching. Traits such as the presence of medullary bone in some specimens have provided insights into the reproductive biology of dinosaurs, allowing researchers to infer the sex of fossilized individuals.\\n\\nThe physiology of dinosaurs is characterized by various adaptations, including a presumed four-chambered heart, suggesting a higher metabolic rate. Although debates continue regarding their metabolic categorization as endothermic or ectothermic, some consensus suggests that many dinosaurs exhibited mesothermy, a midway metabolic state. Notably, evidence indicates that dinosaurs such as sauropods benefited from their size for thermoregulation and were equipped with advanced respiratory systems to sustain high activity levels.\\n\\nIn summary, the paleobiology of dinosaurs reveals a complex picture of life in the Mesozoic era, underscoring their diversity in size, behavior, and physiology. The use of various scientific approaches has deepened our understanding of these ancient creatures, highlighting their ecological significance and evolutionary adaptations.',\n",
       " 'phase': 2}"
      ]
     },
     "execution_count": 18,
     "metadata": {},
     "output_type": "execute_result"
    }
   ],
   "source": [
    "response = question_answer(\"Write a short essay on the paleobiology of dinosaurs.\")\n",
    "\n",
    "response"
   ]
  },
  {
   "cell_type": "code",
   "execution_count": 19,
   "metadata": {},
   "outputs": [
    {
     "name": "stdout",
     "output_type": "stream",
     "text": [
      "The paleobiology of dinosaurs encompasses a broad range of knowledge derived from various fossil and non-fossil records, including fossilized skeletons, feces, and trackways, complemented by insights from numerous scientific disciplines such as physics, chemistry, biology, and Earth sciences. Understanding dinosaurs involves examining their size, behavior, physiology, communication, and reproductive biology.\n",
      "\n",
      "Dinosaur size varied significantly over the Triassic, Jurassic, and Cretaceous periods, with evidence suggesting a broad range of body masses. Predatory theropods generally weighed between 100 to 1,000 kg, whereas the majority of Mesozoic dinosaurs exhibited body masses between 1 and 10 metric tons. The largest dinosaurs were sauropods, whose sizes eclipsed modern land animals, and recent estimates indicate some species, like Argentinosaurus, may have reached up to 100,000 kg and lengths of 30 to 40 meters. In contrast, some non-avialan dinosaurs were notably small, with the bee hummingbird measuring only 5 centimeters.\n",
      "\n",
      "In terms of behavior, evidence suggests many dinosaurs exhibited social tendencies, similar to modern birds. Interpretations of social behavior are often based on fossil findings of mass deaths, trackways indicating group movements, and the association of different species in collective tracks. Gregarious behavior appears to have been common among herbivorous dinosaurs, indicating potential herd structures for defense or migration purposes. There is also evidence of predatory tactics among theropods, suggesting pack hunting behavior.\n",
      "\n",
      "Communication in dinosaurs likely relied heavily on visual signals, as inferred from structures such as horns and crests. Vocalization mechanisms remain debated; the absence of a syrinx in non-avian dinosaurs implies they might not have vocalized in a manner similar to birds, though some researchers suggest they could have produced non-vocal sounds. Discoveries of fossil laryngeal structures indicate that some dinosaurs might have been capable of limited vocalization.\n",
      "\n",
      "Dinosaur reproduction involved laying amniotic eggs in nests, often demonstrating elaborate structures. The discovery of nesting grounds indicates that some species practiced parental care after hatching. Traits such as the presence of medullary bone in some specimens have provided insights into the reproductive biology of dinosaurs, allowing researchers to infer the sex of fossilized individuals.\n",
      "\n",
      "The physiology of dinosaurs is characterized by various adaptations, including a presumed four-chambered heart, suggesting a higher metabolic rate. Although debates continue regarding their metabolic categorization as endothermic or ectothermic, some consensus suggests that many dinosaurs exhibited mesothermy, a midway metabolic state. Notably, evidence indicates that dinosaurs such as sauropods benefited from their size for thermoregulation and were equipped with advanced respiratory systems to sustain high activity levels.\n",
      "\n",
      "In summary, the paleobiology of dinosaurs reveals a complex picture of life in the Mesozoic era, underscoring their diversity in size, behavior, and physiology. The use of various scientific approaches has deepened our understanding of these ancient creatures, highlighting their ecological significance and evolutionary adaptations.\n"
     ]
    }
   ],
   "source": [
    "print(response['answer'])"
   ]
  },
  {
   "cell_type": "code",
   "execution_count": null,
   "metadata": {},
   "outputs": [],
   "source": []
  }
 ],
 "metadata": {
  "kernelspec": {
   "display_name": "Python (argonk)",
   "language": "python",
   "name": "argonk"
  },
  "language_info": {
   "codemirror_mode": {
    "name": "ipython",
    "version": 3
   },
   "file_extension": ".py",
   "mimetype": "text/x-python",
   "name": "python",
   "nbconvert_exporter": "python",
   "pygments_lexer": "ipython3",
   "version": "3.12.4"
  }
 },
 "nbformat": 4,
 "nbformat_minor": 2
}
