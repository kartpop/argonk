{
 "cells": [
  {
   "cell_type": "markdown",
   "metadata": {},
   "source": [
    "### Components"
   ]
  },
  {
   "cell_type": "code",
   "execution_count": 1,
   "metadata": {},
   "outputs": [
    {
     "name": "stderr",
     "output_type": "stream",
     "text": [
      "/home/kartikeya/miniconda3/envs/argonk/lib/python3.12/site-packages/tqdm/auto.py:21: TqdmWarning: IProgress not found. Please update jupyter and ipywidgets. See https://ipywidgets.readthedocs.io/en/stable/user_install.html\n",
      "  from .autonotebook import tqdm as notebook_tqdm\n"
     ]
    }
   ],
   "source": [
    "from lib.components.wiki_hierarchy_builder import WikiHierarchyBuilder\n",
    "from lib.components.wiki_context_creator import WikiContextCreator\n",
    "from lib.templates import hierarchy_template, final_template\n",
    "from haystack.components.builders import PromptBuilder\n",
    "from haystack.components.generators import OpenAIGenerator\n",
    "from haystack_integrations.document_stores.elasticsearch import ElasticsearchDocumentStore\n",
    "\n",
    "wiki_hierarchy_builder = WikiHierarchyBuilder(\"bolt://localhost:7687\", \"neo4j\", \"neo4jpass\")\n",
    "hierarchy_prompt_builder = PromptBuilder(template=hierarchy_template)\n",
    "hierarchy_generator = OpenAIGenerator(model=\"gpt-4o-mini\")\n",
    "elasticsearch_store = ElasticsearchDocumentStore(hosts= \"http://localhost:9200\")\n",
    "wiki_context_creator = WikiContextCreator(document_store=elasticsearch_store)\n",
    "final_prompt_builder = PromptBuilder(template=final_template)\n",
    "final_generator = OpenAIGenerator(model=\"gpt-4o-mini\")\n"
   ]
  },
  {
   "cell_type": "markdown",
   "metadata": {},
   "source": [
    "### Pipeline"
   ]
  },
  {
   "cell_type": "code",
   "execution_count": 2,
   "metadata": {},
   "outputs": [
    {
     "data": {
      "text/plain": [
       "<haystack.core.pipeline.pipeline.Pipeline object at 0x7c92f5bf46b0>\n",
       "🚅 Components\n",
       "  - wiki_hierarchy_builder: WikiHierarchyBuilder\n",
       "  - hierarchy_prompt_builder: PromptBuilder\n",
       "  - hierarchy_generator: OpenAIGenerator\n",
       "  - wiki_context_creator: WikiContextCreator\n",
       "  - final_prompt_builder: PromptBuilder\n",
       "  - final_generator: OpenAIGenerator\n",
       "🛤️ Connections\n",
       "  - wiki_hierarchy_builder.sections_hierarchy -> hierarchy_prompt_builder.hierarchy (dict)\n",
       "  - wiki_hierarchy_builder.chunks_hierarchy -> wiki_context_creator.chunks_hierarchy (dict)\n",
       "  - hierarchy_prompt_builder.prompt -> hierarchy_generator.prompt (str)\n",
       "  - hierarchy_generator.replies -> wiki_context_creator.hierarchy_paths (List[str])\n",
       "  - wiki_context_creator.context_list -> final_prompt_builder.context_list (List[str])\n",
       "  - final_prompt_builder.prompt -> final_generator.prompt (str)"
      ]
     },
     "execution_count": 2,
     "metadata": {},
     "output_type": "execute_result"
    }
   ],
   "source": [
    "from haystack import Pipeline\n",
    "\n",
    "graph_pipeline = Pipeline()\n",
    "\n",
    "graph_pipeline.add_component(\"wiki_hierarchy_builder\", wiki_hierarchy_builder)\n",
    "graph_pipeline.add_component(\"hierarchy_prompt_builder\", hierarchy_prompt_builder)\n",
    "graph_pipeline.add_component(\"hierarchy_generator\", hierarchy_generator)\n",
    "graph_pipeline.add_component(\"wiki_context_creator\", wiki_context_creator)\n",
    "graph_pipeline.add_component(\"final_prompt_builder\", final_prompt_builder)\n",
    "graph_pipeline.add_component(\"final_generator\", final_generator)\n",
    "\n",
    "graph_pipeline.connect(\"wiki_hierarchy_builder.sections_hierarchy\", \"hierarchy_prompt_builder.hierarchy\")\n",
    "graph_pipeline.connect(\"hierarchy_prompt_builder\", \"hierarchy_generator\")\n",
    "graph_pipeline.connect(\"hierarchy_generator.replies\", \"wiki_context_creator.hierarchy_paths\")\n",
    "graph_pipeline.connect(\"wiki_hierarchy_builder.chunks_hierarchy\", \"wiki_context_creator.chunks_hierarchy\")\n",
    "graph_pipeline.connect(\"wiki_context_creator.context_list\", \"final_prompt_builder.context_list\")\n",
    "graph_pipeline.connect(\"final_prompt_builder\", \"final_generator\")"
   ]
  },
  {
   "cell_type": "code",
   "execution_count": 3,
   "metadata": {},
   "outputs": [],
   "source": [
    "graph_pipeline.draw(\"graph_pipeline.png\")"
   ]
  },
  {
   "cell_type": "markdown",
   "metadata": {},
   "source": [
    "### Pipeline input data"
   ]
  },
  {
   "cell_type": "code",
   "execution_count": 3,
   "metadata": {},
   "outputs": [],
   "source": [
    "from haystack import Document\n",
    "from lib.models.hierarchy_path import HierarchyPathData\n",
    "\n",
    "docs = [\n",
    "    Document(\n",
    "        id=\"3f45e988-b093-4d9c-bde1-67e2e4c3b599\",\n",
    "        content=\"All non-avian dinosaurs and most lineages of birds became extinct in a mass extinction event, called...\",\n",
    "        meta={\n",
    "            \"file_path\": \"Dinosaur.html\",\n",
    "            \"source_id\": \"93000a3fb02b99d2d115cd4042256d2f5db2a0ff3928927ca14465276534a75e\",\n",
    "            \"split_id\": 234,\n",
    "            \"title\": \"Dinosaurs\",\n",
    "            \"h2\": \"Extinction of major groups\",\n",
    "        },\n",
    "    ),\n",
    "    Document(\n",
    "        id=\"433ad671-ea22-4ae1-9bc4-1cce06a0e6ee\",\n",
    "        content=\"Just before the K-Pg extinction event, the number of non-avian dinosaur species that existed globall...\",\n",
    "        meta={\n",
    "            \"file_path\": \"Dinosaur.html\",\n",
    "            \"source_id\": \"93000a3fb02b99d2d115cd4042256d2f5db2a0ff3928927ca14465276534a75e\",\n",
    "            \"split_id\": 235,\n",
    "            \"title\": \"Dinosaurs\",\n",
    "            \"h2\": \"Extinction of major groups\",\n",
    "            \"h3\": \"Pre-extinction diversity\",\n",
    "        },\n",
    "    ),\n",
    "]\n",
    "\n",
    "query = \"Give a brief about alternative theories of dinosaur extinction.\"\n",
    "\n",
    "path_schema = HierarchyPathData.model_json_schema()\n",
    "\n"
   ]
  },
  {
   "cell_type": "code",
   "execution_count": 4,
   "metadata": {},
   "outputs": [],
   "source": [
    "input_data = {\n",
    "    \"hierarchy_prompt_builder\": {\"query\": query, \"hierarchy_path_schema\": path_schema},\n",
    "    \"wiki_hierarchy_builder\": {\"documents\": docs},\n",
    "    \"final_prompt_builder\": {\"query\": query},\n",
    "}"
   ]
  },
  {
   "cell_type": "markdown",
   "metadata": {},
   "source": [
    "### Run pipeline"
   ]
  },
  {
   "cell_type": "code",
   "execution_count": 5,
   "metadata": {},
   "outputs": [],
   "source": [
    "result = graph_pipeline.run(\n",
    "    data=input_data,\n",
    "    include_outputs_from={\n",
    "        \"hierarchy_generator\",\n",
    "        \"wiki_context_creator\",\n",
    "        \"final_generator\",\n",
    "    },\n",
    ")"
   ]
  },
  {
   "cell_type": "markdown",
   "metadata": {},
   "source": []
  },
  {
   "cell_type": "code",
   "execution_count": 6,
   "metadata": {},
   "outputs": [
    {
     "data": {
      "text/plain": [
       "{'meta': [{'model': 'gpt-4o-mini-2024-07-18',\n",
       "   'index': 0,\n",
       "   'finish_reason': 'stop',\n",
       "   'usage': {'completion_tokens': 56,\n",
       "    'prompt_tokens': 1280,\n",
       "    'total_tokens': 1336,\n",
       "    'completion_tokens_details': {'reasoning_tokens': 0}}}],\n",
       " 'replies': ['{\\n  \"paths\": [\\n    {\\n      \"path\": [\"Dinosaur\", \"Extinction of major groups\"],\\n      \"reasoning\": \"The \\'Extinction of major groups\\' section is likely to address various theories related to the extinction of dinosaurs.\"\\n    }\\n  ]\\n}']}"
      ]
     },
     "execution_count": 6,
     "metadata": {},
     "output_type": "execute_result"
    }
   ],
   "source": [
    "result['hierarchy_generator']"
   ]
  },
  {
   "cell_type": "code",
   "execution_count": 7,
   "metadata": {},
   "outputs": [
    {
     "data": {
      "text/plain": [
       "{'context_list': ['Extinction of major groups (h2):\\nAll non-avian dinosaurs and most lineages of birds became extinct in a mass extinction event, called the Cretaceous–Paleogene (K-Pg) extinction event, at the end of the Cretaceous period. Above the Cretaceous–Paleogene boundary, which has been dated to 66.038 ± 0.025 million years ago, fossils of non-avian dinosaurs disappear abruptly; the absence of dinosaur fossils was historically used to assign rocks to the ensuing Cenozoic. The nature of the event that caused this mass extinction has been extensively studied since the 1970s, leading to the development of two mechanisms that are thought to have played major roles: an extraterrestrial impact event in the Yucatán Peninsula, along with flood basalt volcanism in India. However, the specific mechanisms of the extinction event and the extent of its effects on dinosaurs are still areas of ongoing research. Alongside dinosaurs, many other groups of animals became extinct: pterosaurs, marine reptiles such as mosasaurs and plesiosaurs, several groups of mammals, ammonites (nautilus-like mollusks), rudists (reef-building bivalves), and various groups of marine plankton. In all, approximately 47% of genera and 76% of species on Earth became extinct during the K-Pg extinction event. The relatively large size of most dinosaurs and the low diversity of small-bodied dinosaur species at the end of the Cretaceous may have contributed to their extinction; the extinction of the bird lineages that did not survive may also have been caused by a dependence on forest habitats or a lack of adaptations to eating seeds for survival.\\n\\n\\n  Pre-extinction diversity (h3):\\n  Just before the K-Pg extinction event, the number of non-avian dinosaur species that existed globally has been estimated at between 628 and 1078. It remains uncertain whether the diversity of dinosaurs was in gradual decline before the K-Pg extinction event, or whether dinosaurs were actually thriving prior to the extinction. Rock formations from the Maastrichtian epoch, which directly preceded the extinction, have been found to have lower diversity than the preceding Campanian epoch, which led to the prevailing view of a long-term decline in diversity. However, these comparisons did not account either for varying preservation potential between rock units or for different extents of exploration and excavation. In 1984, Dale Russell carried out an analysis to account for these biases, and found no evidence of a decline; another analysis by David Fastovsky and colleagues in 2004 even showed that dinosaur diversity continually increased until the extinction, but this analysis has been rebutted. Since then, different approaches based on statistics and mathematical models have variously supported either a sudden extinction or a gradual decline. End-Cretaceous trends in diversity may have varied between dinosaur lineages: it has been suggested that sauropods were not in decline, while ornithischians and theropods were in decline.\\n\\n\\n  Impact event (h3):\\n  The bolide impact hypothesis, first brought to wide attention in 1980 by Walter Alvarez, Luis Alvarez, and colleagues, attributes the K-Pg extinction event to a bolide (extraterrestrial projectile) impact. Alvarez and colleagues proposed that a sudden increase in iridium levels, recorded around the world in rock deposits at the Cretaceous–Paleogene boundary, was direct evidence of the impact. Shocked quartz, indicative of a strong shockwave emanating from an impact, was also found worldwide. The actual impact site remained elusive until a crater measuring 180 km (110 mi) wide was discovered in the Yucatán Peninsula of southeastern Mexico, and was publicized in a 1991 paper by Alan Hildebrand and colleagues. Now, the bulk of the evidence suggests that a bolide 5 to 15 kilometers (3 to 9 + 1 ⁄ 2 miles) wide impacted the Yucatán Peninsula 66 million years ago, forming this crater and creating a \"kill mechanism\" that triggered the extinction event.\\n\\n  Within hours, the Chicxulub impact would have created immediate effects such as earthquakes, tsunamis, and a global firestorm that likely killed unsheltered animals and started wildfires. However, it would also have had longer-term consequences for the environment. Within days, sulfate aerosols released from rocks at the impact site would have contributed to acid rain and ocean acidification. Soot aerosols are thought to have spread around the world over the ensuing months and years; they would have cooled the surface of the Earth by reflecting thermal radiation, and greatly slowed photosynthesis by blocking out sunlight, thus creating an impact winter. (This role was ascribed to sulfate aerosols until experiments demonstrated otherwise.) The cessation of photosynthesis would have led to the collapse of food webs depending on leafy plants, which included all dinosaurs save for grain-eating birds.\\n\\n\\n  Deccan Traps (h3):\\n  At the time of the K-Pg extinction, the Deccan Traps flood basalts of India were actively erupting. The eruptions can be separated into three phases around the K-Pg boundary, two prior to the boundary and one after. The second phase, which occurred very close to the boundary, would have extruded 70 to 80% of the volume of these eruptions in intermittent pulses that occurred around 100,000 years apart. Greenhouse gases such as carbon dioxide and sulfur dioxide would have been released by this volcanic activity, resulting in climate change through temperature perturbations of roughly 3 °C (5.4 °F) but possibly as high as 7 °C (13 °F). Like the Chicxulub impact, the eruptions may also have released sulfate aerosols, which would have caused acid rain and global cooling. However, due to large error margins in the dating of the eruptions, the role of the Deccan Traps in the K-Pg extinction remains unclear.\\n\\n  Before 2000, arguments that the Deccan Traps eruptions—as opposed to the Chicxulub impact—caused the extinction were usually linked to the view that the extinction was gradual. Prior to the discovery of the Chicxulub crater, the Deccan Traps were used to explain the global iridium layer; even after the crater\\'s discovery, the impact was still thought to only have had a regional, not global, effect on the extinction event. In response, Luis Alvarez rejected volcanic activity as an explanation for the iridium layer and the extinction as a whole. Since then, however, most researchers have adopted a more moderate position, which identifies the Chicxulub impact as the primary progenitor of the extinction while also recognizing that the Deccan Traps may also have played a role. Walter Alvarez himself has acknowledged that the Deccan Traps and other ecological factors may have contributed to the extinctions in addition to the Chicxulub impact. Some estimates have placed the start of the second phase in the Deccan Traps eruptions within 50,000 years after the Chicxulub impact. Combined with mathematical modelling of the seismic waves that would have been generated by the impact, this has led to the suggestion that the Chicxulub impact may have triggered these eruptions by increasing the permeability of the mantle plume underlying the Deccan Traps.\\n\\n  Whether the Deccan Traps were a major cause of the extinction, on par with the Chicxulub impact, remains uncertain. Proponents consider the climatic impact of the sulfur dioxide released to have been on par with the Chicxulub impact, and also note the role of flood basalt volcanism in other mass extinctions like the Permian-Triassic extinction event. They consider the Chicxulub impact to have worsened the ongoing climate change caused by the eruptions. Meanwhile, detractors point out the sudden nature of the extinction and that other pulses in Deccan Traps activity of comparable magnitude did not appear to have caused extinctions. They also contend that the causes of different mass extinctions should be assessed separately. In 2020, Alfio Chiarenza and colleagues suggested that the Deccan Traps may even have had the opposite effect: they suggested that the long-term warming caused by its carbon dioxide emissions may have dampened the impact winter from the Chicxulub impact.\\n\\n\\n  Possible Paleocene survivors (h3):\\n  Non-avian dinosaur remains have occasionally been found above the K-Pg boundary. In 2000, Spencer Lucas and colleagues reported the discovery of a single hadrosaur right femur in the San Juan Basin of New Mexico, and described it as evidence of Paleocene dinosaurs. The rock unit in which the bone was discovered has been dated to the early Paleocene epoch, approximately 64.8 million years ago. If the bone was not re-deposited by weathering action, it would provide evidence that some dinosaur populations survived at least half a million years into the Cenozoic. Other evidence includes the presence of dinosaur remains in the Hell Creek Formation up to 1.3 m (4.3 ft) above the Cretaceous–Paleogene boundary, representing 40,000 years of elapsed time. This has been used to support the view that the K-Pg extinction was gradual. However, these supposed Paleocene dinosaurs are considered by many other researchers to be reworked, that is, washed out of their original locations and then reburied in younger sediments. The age estimates have also been considered unreliable.']}"
      ]
     },
     "execution_count": 7,
     "metadata": {},
     "output_type": "execute_result"
    }
   ],
   "source": [
    "result['wiki_context_creator']"
   ]
  },
  {
   "cell_type": "code",
   "execution_count": 8,
   "metadata": {},
   "outputs": [
    {
     "data": {
      "text/plain": [
       "{'replies': ['The context provides information on two major mechanisms related to the K-Pg extinction event: the extraterrestrial impact event at the Yucatán Peninsula and flood basalt volcanism in India (Deccan Traps). \\n\\n1. **Extraterrestrial Impact**: The bolide impact hypothesis suggests that a significant impact caused immediate effects like earthquakes, tsunamis, and a global firestorm, leading to the extinction event. The impact also had long-term consequences such as cooling due to soot aerosols and collapse of food webs.\\n\\n2. **Deccan Traps**: The Deccan Traps flood basalts were actively erupting around the K-Pg boundary, releasing greenhouse gases and causing climate change. The role of these eruptions in the extinction remains unclear, with debates on whether they were a major cause of the extinction, alongside the Chicxulub impact. \\n\\nThere is uncertainty about how these two mechanisms interacted, with some suggesting that the impact from Chicxulub may have worsened the climate changes initiated by the Deccan Traps.\\n\\nThis summary may be incomplete as it does not cover all possible alternative theories beyond these two main mechanisms.'],\n",
       " 'meta': [{'model': 'gpt-4o-mini-2024-07-18',\n",
       "   'index': 0,\n",
       "   'finish_reason': 'stop',\n",
       "   'usage': {'completion_tokens': 230,\n",
       "    'prompt_tokens': 2033,\n",
       "    'total_tokens': 2263,\n",
       "    'completion_tokens_details': {'reasoning_tokens': 0}}}]}"
      ]
     },
     "execution_count": 8,
     "metadata": {},
     "output_type": "execute_result"
    }
   ],
   "source": [
    "result['final_generator']"
   ]
  },
  {
   "cell_type": "code",
   "execution_count": 10,
   "metadata": {},
   "outputs": [
    {
     "name": "stdout",
     "output_type": "stream",
     "text": [
      "The context provides information on two major mechanisms related to the K-Pg extinction event: the extraterrestrial impact event at the Yucatán Peninsula and flood basalt volcanism in India (Deccan Traps). \n",
      "\n",
      "1. **Extraterrestrial Impact**: The bolide impact hypothesis suggests that a significant impact caused immediate effects like earthquakes, tsunamis, and a global firestorm, leading to the extinction event. The impact also had long-term consequences such as cooling due to soot aerosols and collapse of food webs.\n",
      "\n",
      "2. **Deccan Traps**: The Deccan Traps flood basalts were actively erupting around the K-Pg boundary, releasing greenhouse gases and causing climate change. The role of these eruptions in the extinction remains unclear, with debates on whether they were a major cause of the extinction, alongside the Chicxulub impact. \n",
      "\n",
      "There is uncertainty about how these two mechanisms interacted, with some suggesting that the impact from Chicxulub may have worsened the climate changes initiated by the Deccan Traps.\n",
      "\n",
      "This summary may be incomplete as it does not cover all possible alternative theories beyond these two main mechanisms.\n"
     ]
    }
   ],
   "source": [
    "print(result['final_generator']['replies'][0])"
   ]
  },
  {
   "cell_type": "code",
   "execution_count": null,
   "metadata": {},
   "outputs": [],
   "source": []
  }
 ],
 "metadata": {
  "kernelspec": {
   "display_name": "Python (argonk)",
   "language": "python",
   "name": "argonk"
  },
  "language_info": {
   "codemirror_mode": {
    "name": "ipython",
    "version": 3
   },
   "file_extension": ".py",
   "mimetype": "text/x-python",
   "name": "python",
   "nbconvert_exporter": "python",
   "pygments_lexer": "ipython3",
   "version": "3.12.4"
  }
 },
 "nbformat": 4,
 "nbformat_minor": 2
}
