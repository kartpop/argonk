{
 "cells": [
  {
   "cell_type": "markdown",
   "metadata": {},
   "source": [
    "### Fetch plain text"
   ]
  },
  {
   "cell_type": "code",
   "execution_count": 1,
   "metadata": {},
   "outputs": [],
   "source": [
    "import wikipediaapi\n",
    "\n",
    "wiki_wiki = wikipediaapi.Wikipedia(\n",
    "user_agent='Tinker/0.1 (kartikeyapophali@gmail.com)',\n",
    "language='en',\n",
    "extract_format=wikipediaapi.ExtractFormat.WIKI\n",
    ")\n",
    "p_wiki = wiki_wiki.page(\"Dinosaur\")\n",
    "\n",
    "\n",
    "with open(\"dinosaur-page.txt\", \"w\") as file:\n",
    "    file.write(p_wiki.text)"
   ]
  },
  {
   "cell_type": "markdown",
   "metadata": {},
   "source": [
    "### Fetch html"
   ]
  },
  {
   "cell_type": "code",
   "execution_count": 3,
   "metadata": {},
   "outputs": [],
   "source": [
    "wiki_html = wikipediaapi.Wikipedia(\n",
    "user_agent='Tinker/0.1 (kartikeyapophali@gmail.com)',\n",
    "language='en',\n",
    "extract_format=wikipediaapi.ExtractFormat.HTML\n",
    ")\n",
    "\n",
    "p_html = wiki_html.page(\"Dinosaur\")\n",
    "with open(\"dinosaur-page.html\", \"w\") as file:\n",
    "    file.write(p_html.text)"
   ]
  },
  {
   "cell_type": "code",
   "execution_count": null,
   "metadata": {},
   "outputs": [],
   "source": []
  }
 ],
 "metadata": {
  "kernelspec": {
   "display_name": "Python (argonk)",
   "language": "python",
   "name": "argonk"
  },
  "language_info": {
   "codemirror_mode": {
    "name": "ipython",
    "version": 3
   },
   "file_extension": ".py",
   "mimetype": "text/x-python",
   "name": "python",
   "nbconvert_exporter": "python",
   "pygments_lexer": "ipython3",
   "version": "3.12.4"
  }
 },
 "nbformat": 4,
 "nbformat_minor": 2
}
