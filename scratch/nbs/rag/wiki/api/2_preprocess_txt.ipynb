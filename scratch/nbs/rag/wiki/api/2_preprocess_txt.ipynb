{
 "cells": [
  {
   "cell_type": "code",
   "execution_count": 5,
   "metadata": {},
   "outputs": [
    {
     "name": "stdout",
     "output_type": "stream",
     "text": [
      "dinosaur-page.txt\n"
     ]
    }
   ],
   "source": [
    "from haystack.components.converters import TextFileToDocument\n",
    "from pathlib import Path\n",
    "\n",
    "converter = TextFileToDocument()\n",
    "path = Path(\"dinosaur-page.txt\")\n",
    "\n",
    "docs = converter.run(sources=[path])"
   ]
  },
  {
   "cell_type": "code",
   "execution_count": 6,
   "metadata": {},
   "outputs": [
    {
     "name": "stdout",
     "output_type": "stream",
     "text": [
      "{'documents': [Document(id=f0961dbab40752abf6fd16280173b69ff732a23a6cb953e376ebe3146c84ec3d, content: 'Dinosaurs are a diverse group of reptiles of the clade Dinosauria. They first appeared during the Tr...', meta: {'file_path': 'dinosaur-page.txt'})]}\n"
     ]
    }
   ],
   "source": [
    "print(docs)"
   ]
  },
  {
   "cell_type": "code",
   "execution_count": 7,
   "metadata": {},
   "outputs": [],
   "source": [
    "from haystack.components.preprocessors import DocumentSplitter\n",
    "\n",
    "splitter = DocumentSplitter(split_by=\"passage\", split_length=1, split_overlap=0)"
   ]
  },
  {
   "cell_type": "code",
   "execution_count": 10,
   "metadata": {},
   "outputs": [
    {
     "name": "stdout",
     "output_type": "stream",
     "text": [
      "{'documents': [Document(id=ccc501918359c2a367fe500cc03cde9d07ec98fa082cfcd5651b4d339e33ec16, content: 'Dinosaurs are a diverse group of reptiles of the clade Dinosauria. They first appeared during the Tr...', meta: {'file_path': 'dinosaur-page.txt', 'source_id': 'f0961dbab40752abf6fd16280173b69ff732a23a6cb953e376ebe3146c84ec3d', 'page_number': 1, 'split_id': 0, 'split_idx_start': 0}), Document(id=39c3242e822b47855ed7287435abff36d867a754b88b1b500b8c34f50e824168, content: 'Definition\n",
      "Under phylogenetic nomenclature, dinosaurs are usually defined as the group consisting of...', meta: {'file_path': 'dinosaur-page.txt', 'source_id': 'f0961dbab40752abf6fd16280173b69ff732a23a6cb953e376ebe3146c84ec3d', 'page_number': 1, 'split_id': 1, 'split_idx_start': 3454}), Document(id=df82763d001dc49959a026b4ba08e2ddfbd0392cae4c62aa66a3e02d6059ab01, content: 'General description\n",
      "Using one of the above definitions, dinosaurs can be generally described as arch...', meta: {'file_path': 'dinosaur-page.txt', 'source_id': 'f0961dbab40752abf6fd16280173b69ff732a23a6cb953e376ebe3146c84ec3d', 'page_number': 1, 'split_id': 2, 'split_idx_start': 5695}), Document(id=49b1de53fac1b754c0fac59b1d683374f56c939447fba05da5db57dda3379f23, content: 'Distinguishing anatomical features\n",
      "While recent discoveries have made it more difficult to present a...', meta: {'file_path': 'dinosaur-page.txt', 'source_id': 'f0961dbab40752abf6fd16280173b69ff732a23a6cb953e376ebe3146c84ec3d', 'page_number': 1, 'split_id': 3, 'split_idx_start': 8228}), Document(id=d5ec80f32ac3c85f12f37aaf3c8ba8aace13896b4994e6e541773f3cb0fe9a37, content: 'A detailed assessment of archosaur interrelations by Sterling Nesbitt confirmed or found the followi...', meta: {'file_path': 'dinosaur-page.txt', 'source_id': 'f0961dbab40752abf6fd16280173b69ff732a23a6cb953e376ebe3146c84ec3d', 'page_number': 1, 'split_id': 4, 'split_idx_start': 8930}), Document(id=e0c7a8eb03290ce78e36e84b78ed618c417dc5dd6b81fdaca1e2e79b9bb44167, content: 'In the skull, a supratemporal fossa (excavation) is present in front of the supratemporal fenestra, ...', meta: {'file_path': 'dinosaur-page.txt', 'source_id': 'f0961dbab40752abf6fd16280173b69ff732a23a6cb953e376ebe3146c84ec3d', 'page_number': 1, 'split_id': 5, 'split_idx_start': 9094}), Document(id=c36e5f1553184ea0ef71e7d818cc18a93b029f91758ecf553e987a9228ca34db, content: 'A variety of other skeletal features are shared by dinosaurs. However, because they either are commo...', meta: {'file_path': 'dinosaur-page.txt', 'source_id': 'f0961dbab40752abf6fd16280173b69ff732a23a6cb953e376ebe3146c84ec3d', 'page_number': 1, 'split_id': 6, 'split_idx_start': 11375}), Document(id=c754e7662d462009b8b849f6229e7bd6177bbb8509f8683da64f73630a8c68ba, content: 'History of study\n",
      "Pre-scientific history\n",
      "Dinosaur fossils have been known for millennia, although the...', meta: {'file_path': 'dinosaur-page.txt', 'source_id': 'f0961dbab40752abf6fd16280173b69ff732a23a6cb953e376ebe3146c84ec3d', 'page_number': 1, 'split_id': 7, 'split_idx_start': 13563}), Document(id=45c439ab553101b58921cafc38b36852e9b94adbb4377210adf1b27e3042c0f4, content: 'Early dinosaur research\n",
      "Scholarly descriptions of what would now be recognized as dinosaur bones fir...', meta: {'file_path': 'dinosaur-page.txt', 'source_id': 'f0961dbab40752abf6fd16280173b69ff732a23a6cb953e376ebe3146c84ec3d', 'page_number': 1, 'split_id': 8, 'split_idx_start': 14182}), Document(id=0bc1903e51663747db24444a9e7b57ef087162a3ed08e053d6536908d08011bb, content: 'Between 1815 and 1824, the Rev William Buckland, the first Reader of Geology at the University of Ox...', meta: {'file_path': 'dinosaur-page.txt', 'source_id': 'f0961dbab40752abf6fd16280173b69ff732a23a6cb953e376ebe3146c84ec3d', 'page_number': 1, 'split_id': 9, 'split_idx_start': 15290}), Document(id=26c9944880d2205e7364c0fee16af3a6cc043151461d0ff1dbc1e4eda3992a3a, content: 'Discoveries in North America\n",
      "In 1858, William Parker Foulke discovered the first known American dino...', meta: {'file_path': 'dinosaur-page.txt', 'source_id': 'f0961dbab40752abf6fd16280173b69ff732a23a6cb953e376ebe3146c84ec3d', 'page_number': 1, 'split_id': 10, 'split_idx_start': 17381}), Document(id=69e38e9305c95bbccf08a3eeeb50fcaf3e96097db1ad45ff4091af417217cf4f, content: '\"Dinosaur renaissance\" and beyond\n",
      "World War II caused a pause in palaeontological research; after th...', meta: {'file_path': 'dinosaur-page.txt', 'source_id': 'f0961dbab40752abf6fd16280173b69ff732a23a6cb953e376ebe3146c84ec3d', 'page_number': 1, 'split_id': 11, 'split_idx_start': 19131}), Document(id=54ed464ee102710f00860d1dac20432c4647b12c3ee0c298eb15e391a2e61d48, content: 'New revelations were supported by an increase in dinosaur discoveries. Major new dinosaur discoverie...', meta: {'file_path': 'dinosaur-page.txt', 'source_id': 'f0961dbab40752abf6fd16280173b69ff732a23a6cb953e376ebe3146c84ec3d', 'page_number': 1, 'split_id': 12, 'split_idx_start': 20049}), Document(id=8b0716754564833e25dbf602daaa2f60e134047e0917b97a61be97611ff90639, content: 'Soft tissue and molecular preservation\n",
      "Dinosaur fossils are not limited to bones, but also include i...', meta: {'file_path': 'dinosaur-page.txt', 'source_id': 'f0961dbab40752abf6fd16280173b69ff732a23a6cb953e376ebe3146c84ec3d', 'page_number': 1, 'split_id': 13, 'split_idx_start': 22183}), Document(id=9d0e16f4edbe035f8664f3291a8d5841016c1924ae80f464701de191bb277913, content: 'Starting from the 1990s, major discoveries of exceptionally preserved fossils in deposits known as c...', meta: {'file_path': 'dinosaur-page.txt', 'source_id': 'f0961dbab40752abf6fd16280173b69ff732a23a6cb953e376ebe3146c84ec3d', 'page_number': 1, 'split_id': 14, 'split_idx_start': 23383}), Document(id=395273297a0c428b7ceb98ebadd383149296bbbc26db4c5314fa86e19faeec71, content: 'Concurrently, a line of work led by Mary Higby Schweitzer, Jack Horner, and colleagues reported vari...', meta: {'file_path': 'dinosaur-page.txt', 'source_id': 'f0961dbab40752abf6fd16280173b69ff732a23a6cb953e376ebe3146c84ec3d', 'page_number': 1, 'split_id': 15, 'split_idx_start': 24962}), Document(id=698afc328a2e7559331dc8b6b47a41323090638a6a099daebe72f20318a5c8a9, content: 'Evolutionary history\n",
      "Origins and early evolution\n",
      "Dinosaurs diverged from their archosaur ancestors d...', meta: {'file_path': 'dinosaur-page.txt', 'source_id': 'f0961dbab40752abf6fd16280173b69ff732a23a6cb953e376ebe3146c84ec3d', 'page_number': 1, 'split_id': 16, 'split_idx_start': 26687}), Document(id=76d92c64c81a5ee84d3d29c021db52ab75db1808c5c0ea6cd48ae989d52209c7, content: 'Evolution and paleobiogeography\n",
      "Dinosaur evolution after the Triassic followed changes in vegetation...', meta: {'file_path': 'dinosaur-page.txt', 'source_id': 'f0961dbab40752abf6fd16280173b69ff732a23a6cb953e376ebe3146c84ec3d', 'page_number': 1, 'split_id': 17, 'split_idx_start': 30644}), Document(id=325a91f76e70eaee41a0e0d9cedcf9514a94615b56529cbbeda386a92ee433e5, content: 'Classification\n",
      "Dinosaurs belong to a group known as archosaurs, which also includes modern crocodili...', meta: {'file_path': 'dinosaur-page.txt', 'source_id': 'f0961dbab40752abf6fd16280173b69ff732a23a6cb953e376ebe3146c84ec3d', 'page_number': 1, 'split_id': 18, 'split_idx_start': 36128}), Document(id=711e55edba5680985d8434172caa0479c72582d9ab1021001af12afbadf2ece7, content: 'Taxonomy\n",
      "The following is a simplified classification of dinosaur groups based on their evolutionary...', meta: {'file_path': 'dinosaur-page.txt', 'source_id': 'f0961dbab40752abf6fd16280173b69ff732a23a6cb953e376ebe3146c84ec3d', 'page_number': 1, 'split_id': 19, 'split_idx_start': 38079}), Document(id=9245b1a5e7fd1e8c047efd9a467340697699617819cdd5bda8475130b6a6e0b9, content: 'Dinosauria\n",
      "\n",
      "', meta: {'file_path': 'dinosaur-page.txt', 'source_id': 'f0961dbab40752abf6fd16280173b69ff732a23a6cb953e376ebe3146c84ec3d', 'page_number': 1, 'split_id': 20, 'split_idx_start': 38399}), Document(id=dfc35893f545403a96fa50445bde75089c43618a20b12085f8b6a2d5ac785a46, content: '†Ornithischia (\"bird-hipped\"; diverse bipedal and quadrupedal herbivores)\n",
      "†Saphornithischia (\"true\" ...', meta: {'file_path': 'dinosaur-page.txt', 'source_id': 'f0961dbab40752abf6fd16280173b69ff732a23a6cb953e376ebe3146c84ec3d', 'page_number': 1, 'split_id': 21, 'split_idx_start': 38413}), Document(id=d1bb39612662a1714fec833878d7041ce6d815641d446fd9058a076547129fdb, content: '†Pachycephalosauria (bipeds with domed or knobby growth on skulls)\n",
      "†Ceratopsia (bipeds and quadruped...', meta: {'file_path': 'dinosaur-page.txt', 'source_id': 'f0961dbab40752abf6fd16280173b69ff732a23a6cb953e376ebe3146c84ec3d', 'page_number': 1, 'split_id': 22, 'split_idx_start': 39414}), Document(id=c5dc14a73d28d463f336376aeb13bb1c7d82924a633951fcaa274b01e97295b8, content: '†Sauropodomorpha (herbivores with small heads, long necks, and long tails)\n",
      "†Unaysauridae (primitive,...', meta: {'file_path': 'dinosaur-page.txt', 'source_id': 'f0961dbab40752abf6fd16280173b69ff732a23a6cb953e376ebe3146c84ec3d', 'page_number': 1, 'split_id': 23, 'split_idx_start': 41676}), Document(id=3ba5894476238fc5f05cf61fc8d36814c652ed972e6fe1da6a5f79d3bbf814a9, content: '†Alvarezsauroidea (small hunters with reduced forelimbs)\n",
      "†Alvarezsauridae (insectivores with only on...', meta: {'file_path': 'dinosaur-page.txt', 'source_id': 'f0961dbab40752abf6fd16280173b69ff732a23a6cb953e376ebe3146c84ec3d', 'page_number': 1, 'split_id': 24, 'split_idx_start': 45266}), Document(id=a8d6478c9610ea8613c7490e2ba3ec07594ae321bf5b410e1540921745b2da46, content: 'Timeline of major groups\n",
      "Timeline of major dinosaur groups per Holtz (2007).\n",
      "\n",
      "', meta: {'file_path': 'dinosaur-page.txt', 'source_id': 'f0961dbab40752abf6fd16280173b69ff732a23a6cb953e376ebe3146c84ec3d', 'page_number': 1, 'split_id': 25, 'split_idx_start': 46592}), Document(id=84c41211a29d3ff50d4c528db6a66e3ad961d648f7839bb9eb92c238d4839a53, content: 'Paleobiology\n",
      "Knowledge about dinosaurs is derived from a variety of fossil and non-fossil records, i...', meta: {'file_path': 'dinosaur-page.txt', 'source_id': 'f0961dbab40752abf6fd16280173b69ff732a23a6cb953e376ebe3146c84ec3d', 'page_number': 1, 'split_id': 26, 'split_idx_start': 46672}), Document(id=99f1c7d3277cab2135df5d8db0a82bd3366612278a4742f6a92ccf7e3dfaaf18, content: 'Size\n",
      "Current evidence suggests that dinosaur average size varied through the Triassic, Early Jurassi...', meta: {'file_path': 'dinosaur-page.txt', 'source_id': 'f0961dbab40752abf6fd16280173b69ff732a23a6cb953e376ebe3146c84ec3d', 'page_number': 1, 'split_id': 27, 'split_idx_start': 47186}), Document(id=d7212fab6bd1f4eb4ff0b6ce11bdfc95ac4be0b23193ca990148955ea8ece7d1, content: 'Largest and smallest\n",
      "Scientists will probably never be certain of the largest and smallest dinosaurs...', meta: {'file_path': 'dinosaur-page.txt', 'source_id': 'f0961dbab40752abf6fd16280173b69ff732a23a6cb953e376ebe3146c84ec3d', 'page_number': 1, 'split_id': 28, 'split_idx_start': 48985}), Document(id=392135dd3640f1af28dafd76ab33b6427e99078d37db931ebcd9e6819dec41eb, content: 'The tallest and heaviest dinosaur known from good skeletons is Giraffatitan brancai (previously clas...', meta: {'file_path': 'dinosaur-page.txt', 'source_id': 'f0961dbab40752abf6fd16280173b69ff732a23a6cb953e376ebe3146c84ec3d', 'page_number': 1, 'split_id': 29, 'split_idx_start': 49614}), Document(id=898c1e937c23d8c58e8f6612d4df3af80c6207f34b8b2a2fcd0954c44048ab3a, content: 'There were larger dinosaurs, but knowledge of them is based entirely on a small number of fragmentar...', meta: {'file_path': 'dinosaur-page.txt', 'source_id': 'f0961dbab40752abf6fd16280173b69ff732a23a6cb953e376ebe3146c84ec3d', 'page_number': 1, 'split_id': 30, 'split_idx_start': 50673}), Document(id=23da551c70ebc7539ac1d34b63b1e704d36155d2ac8ed6849fd2ffb3440ae02f, content: 'The smallest dinosaur known is the bee hummingbird, with a length of only 5 centimeters (2.0 in) and...', meta: {'file_path': 'dinosaur-page.txt', 'source_id': 'f0961dbab40752abf6fd16280173b69ff732a23a6cb953e376ebe3146c84ec3d', 'page_number': 1, 'split_id': 31, 'split_idx_start': 53099}), Document(id=c98d6dab40a877f57b6b21da16aba76d66c55c3f0c266d5ab7090ebc839b422d, content: 'Behavior\n",
      "Many modern birds are highly social, often found living in flocks. There is general agreeme...', meta: {'file_path': 'dinosaur-page.txt', 'source_id': 'f0961dbab40752abf6fd16280173b69ff732a23a6cb953e376ebe3146c84ec3d', 'page_number': 1, 'split_id': 32, 'split_idx_start': 53709}), Document(id=cdc8794ff6538df905d6852a1ed0de229d05020ddbe18f321d020228a545fbb6, content: 'The crests and frills of some dinosaurs, like the marginocephalians, theropods and lambeosaurines, m...', meta: {'file_path': 'dinosaur-page.txt', 'source_id': 'f0961dbab40752abf6fd16280173b69ff732a23a6cb953e376ebe3146c84ec3d', 'page_number': 1, 'split_id': 33, 'split_idx_start': 56042}), Document(id=c7872e7c2840f6c0617a6c20390c49c5c444a4681354239266dd1ca20044dc4e, content: 'Communication\n",
      "Modern birds communicate by visual and auditory signals, and the wide diversity of vis...', meta: {'file_path': 'dinosaur-page.txt', 'source_id': 'f0961dbab40752abf6fd16280173b69ff732a23a6cb953e376ebe3146c84ec3d', 'page_number': 1, 'split_id': 34, 'split_idx_start': 58605}), Document(id=605abbdb3ffc07573838607ab0f3651f86cb88bf0cac53b97d4922dac9836c7e, content: 'On the basis that non-avian dinosaurs did not have syrinxes and that their next close living relativ...', meta: {'file_path': 'dinosaur-page.txt', 'source_id': 'f0961dbab40752abf6fd16280173b69ff732a23a6cb953e376ebe3146c84ec3d', 'page_number': 1, 'split_id': 35, 'split_idx_start': 59404}), Document(id=eb6c9aa53a7589c4a84a70b80b95c08413aae24a342e84b6c89bcf76a492adfd, content: 'Reproductive biology\n",
      "All dinosaurs laid amniotic eggs. Dinosaur eggs were usually laid in a nest. Mo...', meta: {'file_path': 'dinosaur-page.txt', 'source_id': 'f0961dbab40752abf6fd16280173b69ff732a23a6cb953e376ebe3146c84ec3d', 'page_number': 1, 'split_id': 36, 'split_idx_start': 61230}), Document(id=31c651709eba46037145db090b701a23bc5e63dcdb7275bf7e91a08b5386544b, content: 'Another widespread trait among modern birds (but see below in regards to fossil groups and extant me...', meta: {'file_path': 'dinosaur-page.txt', 'source_id': 'f0961dbab40752abf6fd16280173b69ff732a23a6cb953e376ebe3146c84ec3d', 'page_number': 1, 'split_id': 37, 'split_idx_start': 62875}), Document(id=726baca768bbb596207af5ef9f243d40f412afceaa27b628e6a6452acbaee200, content: 'Physiology\n",
      "Because both modern crocodilians and birds have four-chambered hearts (albeit modified in...', meta: {'file_path': 'dinosaur-page.txt', 'source_id': 'f0961dbab40752abf6fd16280173b69ff732a23a6cb953e376ebe3146c84ec3d', 'page_number': 1, 'split_id': 38, 'split_idx_start': 64926}), Document(id=d9d429fa8315f1251c8bfeb3d0ec58a324afb959fe3ec0072fe8a0387ecc12ad, content: 'After non-avian dinosaurs were discovered, paleontologists first posited that they were ectothermic....', meta: {'file_path': 'dinosaur-page.txt', 'source_id': 'f0961dbab40752abf6fd16280173b69ff732a23a6cb953e376ebe3146c84ec3d', 'page_number': 1, 'split_id': 39, 'split_idx_start': 65919}), Document(id=480ac193af7aa0002463bfc5ca2539d0216210c41d6f9c92797641a73d8584a8, content: 'In saurischian dinosaurs, higher metabolisms were supported by the evolution of the avian respirator...', meta: {'file_path': 'dinosaur-page.txt', 'source_id': 'f0961dbab40752abf6fd16280173b69ff732a23a6cb953e376ebe3146c84ec3d', 'page_number': 1, 'split_id': 40, 'split_idx_start': 68125}), Document(id=c2c6258bc679c945b54eb7c0607be1468e2bc58cd849b8d8ece8742623a1a998, content: 'Origin of birds\n",
      "The possibility that dinosaurs were the ancestors of birds was first suggested in 18...', meta: {'file_path': 'dinosaur-page.txt', 'source_id': 'f0961dbab40752abf6fd16280173b69ff732a23a6cb953e376ebe3146c84ec3d', 'page_number': 1, 'split_id': 41, 'split_idx_start': 70723}), Document(id=caad56c98910bd0f3b02768e486337c6aa7fc7b5c76bbf8d2f498246bfc3b852, content: 'Feathers\n",
      "Feathers are one of the most recognizable characteristics of modern birds, and a trait that...', meta: {'file_path': 'dinosaur-page.txt', 'source_id': 'f0961dbab40752abf6fd16280173b69ff732a23a6cb953e376ebe3146c84ec3d', 'page_number': 1, 'split_id': 42, 'split_idx_start': 72253}), Document(id=9f423f038790c913763d2128a4cabe65a504b02630e746290d5428a171d7a376, content: 'Skeleton\n",
      "Because feathers are often associated with birds, feathered dinosaurs are often touted as t...', meta: {'file_path': 'dinosaur-page.txt', 'source_id': 'f0961dbab40752abf6fd16280173b69ff732a23a6cb953e376ebe3146c84ec3d', 'page_number': 1, 'split_id': 43, 'split_idx_start': 75512}), Document(id=4b772555a900bc345aedc7dec65586ff4f0bd8ca7b3aaa438fad4c0350550d3e, content: 'Soft anatomy\n",
      "Large meat-eating dinosaurs had a complex system of air sacs similar to those found in ...', meta: {'file_path': 'dinosaur-page.txt', 'source_id': 'f0961dbab40752abf6fd16280173b69ff732a23a6cb953e376ebe3146c84ec3d', 'page_number': 1, 'split_id': 44, 'split_idx_start': 76065}), Document(id=a00041c4d746d28e2b30caf867b4a1e666e57dfc31fad55d52a5e2005a978943, content: 'Behavioral evidence\n",
      "Fossils of the troodonts Mei and Sinornithoides demonstrate that some dinosaurs ...', meta: {'file_path': 'dinosaur-page.txt', 'source_id': 'f0961dbab40752abf6fd16280173b69ff732a23a6cb953e376ebe3146c84ec3d', 'page_number': 1, 'split_id': 45, 'split_idx_start': 76824}), Document(id=045cd0710554ddd85a95940e653660f6f72c4d662c8cff008fa960bcd240763a, content: 'Extinction of major groups\n",
      "All non-avian dinosaurs and most lineages of birds became extinct in a ma...', meta: {'file_path': 'dinosaur-page.txt', 'source_id': 'f0961dbab40752abf6fd16280173b69ff732a23a6cb953e376ebe3146c84ec3d', 'page_number': 1, 'split_id': 46, 'split_idx_start': 77711}), Document(id=62079f25c1a7fc808cee64f2146e68feffcbce4e78ce0b7876c74a9d1c8be3c8, content: 'Pre-extinction diversity\n",
      "Just before the K-Pg extinction event, the number of non-avian dinosaur spe...', meta: {'file_path': 'dinosaur-page.txt', 'source_id': 'f0961dbab40752abf6fd16280173b69ff732a23a6cb953e376ebe3146c84ec3d', 'page_number': 1, 'split_id': 47, 'split_idx_start': 79328}), Document(id=d86090033d75049e67ce0073d3070a5c9dc69d7bf6478aa396f091bc87572e19, content: 'Impact event\n",
      "The bolide impact hypothesis, first brought to wide attention in 1980 by Walter Alvarez...', meta: {'file_path': 'dinosaur-page.txt', 'source_id': 'f0961dbab40752abf6fd16280173b69ff732a23a6cb953e376ebe3146c84ec3d', 'page_number': 1, 'split_id': 48, 'split_idx_start': 80702}), Document(id=48f870aeaf5654f8e0924184f9891b62929d83a73f211c52a1cdfac633697956, content: 'Deccan Traps\n",
      "At the time of the K-Pg extinction, the Deccan Traps flood basalts of India were active...', meta: {'file_path': 'dinosaur-page.txt', 'source_id': 'f0961dbab40752abf6fd16280173b69ff732a23a6cb953e376ebe3146c84ec3d', 'page_number': 1, 'split_id': 49, 'split_idx_start': 82583}), Document(id=b4adde9fd5081a93f5f32ca4ceb48abe81031c93e65c177f6c2d66ce2c7a06ef, content: 'Possible Paleocene survivors\n",
      "Non-avian dinosaur remains have occasionally been found above the K-Pg ...', meta: {'file_path': 'dinosaur-page.txt', 'source_id': 'f0961dbab40752abf6fd16280173b69ff732a23a6cb953e376ebe3146c84ec3d', 'page_number': 1, 'split_id': 50, 'split_idx_start': 85864}), Document(id=132b08e46f2743620d61171a63b7208d4980bf5d9657e6257748452b1cda4eed, content: 'Cultural depictions\n",
      "By human standards, dinosaurs were creatures of fantastic appearance and often e...', meta: {'file_path': 'dinosaur-page.txt', 'source_id': 'f0961dbab40752abf6fd16280173b69ff732a23a6cb953e376ebe3146c84ec3d', 'page_number': 1, 'split_id': 51, 'split_idx_start': 86974}), Document(id=9f90ebfa256b4919f4eb9efcfc2f1a36fed6d4b1941a09dc8f29423a639e9b4b, content: 'See also\n",
      "Dinosaur diet and feeding\n",
      "Evolutionary history of life\n",
      "Lists of dinosaur-bearing stratigrap...', meta: {'file_path': 'dinosaur-page.txt', 'source_id': 'f0961dbab40752abf6fd16280173b69ff732a23a6cb953e376ebe3146c84ec3d', 'page_number': 1, 'split_id': 52, 'split_idx_start': 89475}), Document(id=6c3e0f99b7c71727ecc6742395f4dad85a46fa578ff308868e28f4ba67c7cc9e, content: 'Notes\n",
      "References\n",
      "Bibliography\n",
      "Further reading\n",
      "\n",
      "', meta: {'file_path': 'dinosaur-page.txt', 'source_id': 'f0961dbab40752abf6fd16280173b69ff732a23a6cb953e376ebe3146c84ec3d', 'page_number': 1, 'split_id': 53, 'split_idx_start': 89715}), Document(id=b067285db4f09d5cd4ed8ca4683cc31d035fa719da1ab80e2636e26b433146ad, content: 'University of Southampton (September 29, 2021). \"Two New Species of Large Predatory Dinosaur With Cr...', meta: {'file_path': 'dinosaur-page.txt', 'source_id': 'f0961dbab40752abf6fd16280173b69ff732a23a6cb953e376ebe3146c84ec3d', 'page_number': 1, 'split_id': 54, 'split_idx_start': 89764})]}\n"
     ]
    }
   ],
   "source": [
    "print(splitter.run(docs[\"documents\"]))"
   ]
  },
  {
   "cell_type": "markdown",
   "metadata": {},
   "source": [
    "Split text by passage juts out documents which are too long. Wiki docs saved as texts get chunked by section, which can have one or more paragraphs. It would be better if one wiki paragraph becomes one document. Trying HTMLToDocument next..."
   ]
  },
  {
   "cell_type": "markdown",
   "metadata": {},
   "source": []
  }
 ],
 "metadata": {
  "kernelspec": {
   "display_name": "Python (argonk)",
   "language": "python",
   "name": "argonk"
  },
  "language_info": {
   "codemirror_mode": {
    "name": "ipython",
    "version": 3
   },
   "file_extension": ".py",
   "mimetype": "text/x-python",
   "name": "python",
   "nbconvert_exporter": "python",
   "pygments_lexer": "ipython3",
   "version": "3.12.4"
  }
 },
 "nbformat": 4,
 "nbformat_minor": 2
}
