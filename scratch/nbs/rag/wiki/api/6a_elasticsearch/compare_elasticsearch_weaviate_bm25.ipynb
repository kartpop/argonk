{
 "cells": [
  {
   "cell_type": "code",
   "execution_count": 3,
   "metadata": {},
   "outputs": [],
   "source": [
    "from haystack_integrations.components.retrievers.elasticsearch import ElasticsearchBM25Retriever\n",
    "from haystack_integrations.document_stores.elasticsearch import ElasticsearchDocumentStore\n",
    "\n",
    "elastic_doc_store = ElasticsearchDocumentStore(hosts= \"http://localhost:9200\")\n",
    "elastic_bm25_retriever = ElasticsearchBM25Retriever(document_store=elastic_doc_store)"
   ]
  },
  {
   "cell_type": "code",
   "execution_count": 10,
   "metadata": {},
   "outputs": [],
   "source": [
    "from haystack_integrations.components.retrievers.weaviate.bm25_retriever import WeaviateBM25Retriever\n",
    "from haystack_integrations.document_stores.weaviate.document_store import WeaviateDocumentStore\n",
    "\n",
    "weaviate_doc_store = WeaviateDocumentStore(url=\"http://localhost:8088\")\n",
    "weaviate_bm25_retriever = WeaviateBM25Retriever(document_store=weaviate_doc_store)"
   ]
  },
  {
   "cell_type": "code",
   "execution_count": 9,
   "metadata": {},
   "outputs": [
    {
     "data": {
      "text/plain": [
       "{'documents': [Document(id=1a804fab-317c-4baf-b95c-fa864fe2a906, content: 'The Ischigualasto Formation (radiometrically dated at 231-230 million years old) has produced the ea...', meta: {'file_path': '../dinosaur-page.html', 'source_id': '397c39cd02b4ddec650906e433b995103ffd8164879c3fa3cc6a9956405e652f', 'split_id': 40}, score: 5.6333437)]}"
      ]
     },
     "execution_count": 9,
     "metadata": {},
     "output_type": "execute_result"
    }
   ],
   "source": [
    "question = \"What is Chromogisaurus?\"\n",
    "\n",
    "elastic_fetched = elastic_bm25_retriever.run(query=question, top_k=1)\n",
    "\n",
    "elastic_fetched"
   ]
  },
  {
   "cell_type": "code",
   "execution_count": 12,
   "metadata": {},
   "outputs": [
    {
     "data": {
      "text/plain": [
       "\"The Ischigualasto Formation (radiometrically dated at 231-230 million years old) has produced the early saurischian Eoraptor , originally considered a member of the Herrerasauridae but now considered to be an early sauropodomorph, along with the herrerasaurids Herrerasaurus and Sanjuansaurus , and the sauropodomorphs Chromogisaurus , Eodromaeus , and Panphagia . Eoraptor 's likely resemblance to the common ancestor of all dinosaurs suggests that the first dinosaurs would have been small, bipedal predators. The Santa Maria Formation (radiometrically dated to be older, at 233.23 million years old) has produced the herrerasaurids Gnathovorax and Staurikosaurus , along with the sauropodomorphs Bagualosaurus , Buriolestes , Guaibasaurus , Macrocollum , Nhandumirim , Pampadromaeus , Saturnalia , and Unaysaurus . The Pebbly Arkose Formation, which is of uncertain age but was likely comparable to the other two, has produced the sauropodomorph Mbiresaurus , along with an unnamed herrerasaurid.\""
      ]
     },
     "execution_count": 12,
     "metadata": {},
     "output_type": "execute_result"
    }
   ],
   "source": [
    "econt = elastic_fetched['documents'][0].content\n",
    "econt\n"
   ]
  },
  {
   "cell_type": "code",
   "execution_count": 14,
   "metadata": {},
   "outputs": [
    {
     "data": {
      "text/plain": [
       "5.6333437"
      ]
     },
     "execution_count": 14,
     "metadata": {},
     "output_type": "execute_result"
    }
   ],
   "source": [
    "escore = elastic_fetched['documents'][0].score\n",
    "escore"
   ]
  },
  {
   "cell_type": "code",
   "execution_count": 11,
   "metadata": {},
   "outputs": [
    {
     "data": {
      "text/plain": [
       "{'documents': [Document(id=a0ec45c3-c0cd-4604-a176-594456f11b36, content: 'Scholarly descriptions of what would now be recognized as dinosaur bones first appeared in the late ...', meta: {'split_id': 23.0, 'source_id': 'cccb7d931975c65babedb9ad3867015939fba680621923f60517da5e5dea3c32', 'file_path': 'dinosaur-page.html'}, score: 1.9453471899032593, embedding: vector of size 1536)]}"
      ]
     },
     "execution_count": 11,
     "metadata": {},
     "output_type": "execute_result"
    }
   ],
   "source": [
    "weaviate_fetched = weaviate_bm25_retriever.run(query=question, top_k=1)\n",
    "\n",
    "weaviate_fetched\n"
   ]
  },
  {
   "cell_type": "code",
   "execution_count": 17,
   "metadata": {},
   "outputs": [],
   "source": [
    "question = \"What is Chromogisaurus?\"\n",
    "\n",
    "elastic_fetched = elastic_bm25_retriever.run(query=question, top_k=1)\n",
    "econt = elastic_fetched['documents'][0].content\n",
    "escore = elastic_fetched['documents'][0].score\n",
    "\n",
    "weaviate_fetched = weaviate_bm25_retriever.run(query=question, top_k=1)\n",
    "wcont = weaviate_fetched['documents'][0].content\n",
    "wscore = weaviate_fetched['documents'][0].score\n",
    "\n",
    "term_chunk_dict = {\n",
    "    \"What is Chromogisaurus?\": \"The Ischigualasto Formation (radiometrically dated at 231-230 million years old) has produced the early saurischian Eoraptor\",\n",
    "    \"Where are Neornithes?\": \"Under phylogenetic nomenclature, dinosaurs are usually defined as the group\",\n",
    "    \"What is Passer domesticus?\": \"Research by Matthew G. Baron, David B. Norman, and Paul M. Barrett in 2017\",\n",
    "    \"What is Dimetrodon?\": \"Using one of the above definitions, dinosaurs can be generally described as archosaurs\",\n",
    "    \"Who was Gideon Mantell?\": \"Between 1815 and 1824, the Rev William Buckland, the first Reader of Geology\",\n",
    "    \"What is Hylaeosaurus?\": \"soon became of great interest to European and American scientists, and in 1842 the English paleontologist Sir\",\n",
    "    \"Who was Weishampel?\": \"Prior to the dinosaur renaissance, dinosaurs were mostly classified using the traditional\",\n",
    "    \"What was Edmontosaurus annectens?\": \"Dinosaur fossils are not limited to bones, but also include imprints or mineralized remains\",\n",
    "    \"What is Sinosauropteryx?\": \"Starting from the 1990s, major discoveries of exceptionally preserved fossils in deposits known\",\n",
    "    \"Tell me something about Scipionyx\": \"Starting from the 1990s, major discoveries of exceptionally preserved fossils in deposits known\",\n",
    "    \"What is immunohistochemical technique?\": \"Concurrently, a line of work led by Mary Higby Schweitzer, Jack Horner, and colleagues\",\n",
    "    \"specimen of Hypacrosaurus\":\"Concurrently, a line of work led by Mary Higby Schweitzer, Jack Horner, and colleagues\",\n",
    "    \"What is Jaklapallisaurus?\": \"Less well-preserved remains of the sauropodomorphs Jaklapallisaurus and Nambalia\",\n",
    "    \"What is crocodylomorphs?\": \"When dinosaurs appeared, they were not the dominant terrestrial animals.\",\n",
    "    \"What is geranoidids?\": \"The surviving lineages of neornithine birds, including the ancestors of modern ratites\",\n",
    "    \"What is mihirungs?\": \"The surviving lineages of neornithine birds, including the ancestors of modern ratites\",\n",
    "\n",
    "}"
   ]
  },
  {
   "cell_type": "code",
   "execution_count": 18,
   "metadata": {},
   "outputs": [
    {
     "name": "stdout",
     "output_type": "stream",
     "text": [
      "{'question': 'What is Chromogisaurus?', 'ecorrect': True, 'wcorrect': False, 'escore': 5.6333437, 'wscore': 1.9453471899032593}\n",
      "{'question': 'Where are Neornithes?', 'ecorrect': True, 'wcorrect': True, 'escore': 6.0377126, 'wscore': 1.779759407043457}\n",
      "{'question': 'What is Passer domesticus?', 'ecorrect': True, 'wcorrect': True, 'escore': 8.608093, 'wscore': 3.847595691680908}\n",
      "{'question': 'What is Dimetrodon?', 'ecorrect': True, 'wcorrect': True, 'escore': 7.6543937, 'wscore': 2.8587589263916016}\n",
      "{'question': 'Who was Gideon Mantell?', 'ecorrect': True, 'wcorrect': True, 'escore': 17.640362, 'wscore': 7.714737892150879}\n",
      "{'question': 'What is Hylaeosaurus?', 'ecorrect': True, 'wcorrect': False, 'escore': 4.508199, 'wscore': 1.9453471899032593}\n",
      "{'question': 'Who was Weishampel?', 'ecorrect': True, 'wcorrect': True, 'escore': 5.4487224, 'wscore': 1.7702919244766235}\n",
      "{'question': 'What was Edmontosaurus annectens?', 'ecorrect': True, 'wcorrect': True, 'escore': 8.038213, 'wscore': 3.0629563331604004}\n",
      "{'question': 'What is Sinosauropteryx?', 'ecorrect': True, 'wcorrect': False, 'escore': 3.66607, 'wscore': 1.9453471899032593}\n",
      "{'question': 'Tell me something about Scipionyx', 'ecorrect': False, 'wcorrect': False, 'escore': 4.8926344, 'wscore': 1.7288570404052734}\n",
      "{'question': 'What is immunohistochemical technique?', 'ecorrect': True, 'wcorrect': False, 'escore': 6.853376, 'wscore': 1.9453471899032593}\n",
      "{'question': 'specimen of Hypacrosaurus', 'ecorrect': True, 'wcorrect': True, 'escore': 6.110154, 'wscore': 2.1130881309509277}\n",
      "{'question': 'What is Jaklapallisaurus?', 'ecorrect': True, 'wcorrect': False, 'escore': 5.131548, 'wscore': 1.9453471899032593}\n",
      "{'question': 'What is crocodylomorphs?', 'ecorrect': True, 'wcorrect': False, 'escore': 4.6702266, 'wscore': 1.9453471899032593}\n",
      "{'question': 'What is geranoidids?', 'ecorrect': True, 'wcorrect': False, 'escore': 5.3202944, 'wscore': 1.9453471899032593}\n",
      "{'question': 'What is mihirungs?', 'ecorrect': True, 'wcorrect': False, 'escore': 5.3202944, 'wscore': 1.9453471899032593}\n",
      "Elasticsearch correct fetches: 15\n",
      "Weaviate correct fetches: 7\n"
     ]
    }
   ],
   "source": [
    "# Initialize counters for correct fetches\n",
    "ecorrect_count = 0\n",
    "wcorrect_count = 0\n",
    "\n",
    "# Initialize a list to store the results\n",
    "results = []\n",
    "\n",
    "# Loop over term_chunk_dict\n",
    "for question, expected_substring in term_chunk_dict.items():\n",
    "    # Fetch results from Elasticsearch BM25 retriever\n",
    "    elastic_fetched = elastic_bm25_retriever.run(query=question, top_k=1)\n",
    "    econt = elastic_fetched['documents'][0].content\n",
    "    escore = elastic_fetched['documents'][0].score\n",
    "\n",
    "    # Fetch results from Weaviate BM25 retriever\n",
    "    weaviate_fetched = weaviate_bm25_retriever.run(query=question, top_k=1)\n",
    "    wcont = weaviate_fetched['documents'][0].content\n",
    "    wscore = weaviate_fetched['documents'][0].score\n",
    "\n",
    "    # Check if the expected substring is in the fetched content\n",
    "    ecorrect = expected_substring in econt\n",
    "    wcorrect = expected_substring in wcont\n",
    "\n",
    "    # Update counters\n",
    "    if ecorrect:\n",
    "        ecorrect_count += 1\n",
    "    if wcorrect:\n",
    "        wcorrect_count += 1\n",
    "\n",
    "    # Create a result dictionary for the current question\n",
    "    result = {\n",
    "        \"question\": question,\n",
    "        \"ecorrect\": ecorrect,\n",
    "        \"wcorrect\": wcorrect,\n",
    "        \"escore\": escore,\n",
    "        \"wscore\": wscore\n",
    "    }\n",
    "\n",
    "    # Append the result to the results list\n",
    "    results.append(result)\n",
    "\n",
    "# Print the results\n",
    "for result in results:\n",
    "    print(result)\n",
    "\n",
    "# Print the counts of correct fetches\n",
    "print(f\"Elasticsearch correct fetches: {ecorrect_count}\")\n",
    "print(f\"Weaviate correct fetches: {wcorrect_count}\")"
   ]
  },
  {
   "cell_type": "markdown",
   "metadata": {},
   "source": [
    "- 16 queries considered where BM25 should do better than semantic search. \n",
    "- Elasticsearch and Weaviate both have the exact same chunks of documents. \n",
    "- Elasticsearch BM25 performs better than Weaviate Bm25\n",
    "    - Elasticsearch: 15/16 with high scores, often >5\n",
    "    - Weaviate: 7/16 with not so confident scores ~2\n",
    "- Only one question where Elasticsearch was wrong: \"Tell me something about Scipionyx\"\n",
    "    - Possibly short terse search queries with unique words are easier, long sentences where target term is hidden among common words are difficult\n",
    "    - Let's check if Elasticsearch and Weaviate would have had the target chunk in top3 atleast"
   ]
  },
  {
   "cell_type": "markdown",
   "metadata": {},
   "source": [
    "Result: **Elasticsearch BM25 haystack integration out-of-the-box is better than Weaviate BM25 haystack integration out-of-the-box.**"
   ]
  },
  {
   "cell_type": "markdown",
   "metadata": {},
   "source": [
    "More experiments -"
   ]
  },
  {
   "cell_type": "code",
   "execution_count": 19,
   "metadata": {},
   "outputs": [
    {
     "name": "stdout",
     "output_type": "stream",
     "text": [
      "----------------------\n"
     ]
    }
   ],
   "source": [
    "question = \"Tell me something about Scipionyx\"\n",
    "\n",
    "elastic_fetched = elastic_bm25_retriever.run(query=question, top_k=3)\n",
    "weaviate_fetched = weaviate_bm25_retriever.run(query=question, top_k=3)\n",
    "\n",
    "\n"
   ]
  },
  {
   "cell_type": "code",
   "execution_count": 20,
   "metadata": {},
   "outputs": [
    {
     "data": {
      "text/plain": [
       "{'documents': [Document(id=42752ffb-540e-4bd2-bc9c-0e39c858765f, content: 'The popular preoccupation with dinosaurs has ensured their appearance in literature, film, and other...', meta: {'file_path': '../dinosaur-page.html', 'source_id': '397c39cd02b4ddec650906e433b995103ffd8164879c3fa3cc6a9956405e652f', 'split_id': 127}, score: 4.8926344),\n",
       "  Document(id=25c2e0c0-ca9f-4c1f-ae85-23f8dab8ee3e, content: 'The smallest dinosaur known is the bee hummingbird, with a length of only 5 centimeters (2.0 in) and...', meta: {'file_path': '../dinosaur-page.html', 'source_id': '397c39cd02b4ddec650906e433b995103ffd8164879c3fa3cc6a9956405e652f', 'split_id': 73}, score: 3.8518543),\n",
       "  Document(id=20ad4c35-b545-440a-9d67-3e839bb7a68f, content: 'The crests and frills of some dinosaurs, like the marginocephalians, theropods and lambeosaurines, m...', meta: {'file_path': '../dinosaur-page.html', 'source_id': '397c39cd02b4ddec650906e433b995103ffd8164879c3fa3cc6a9956405e652f', 'split_id': 77}, score: 3.377768)]}"
      ]
     },
     "execution_count": 20,
     "metadata": {},
     "output_type": "execute_result"
    }
   ],
   "source": [
    "elastic_fetched"
   ]
  },
  {
   "cell_type": "code",
   "execution_count": 21,
   "metadata": {},
   "outputs": [
    {
     "data": {
      "text/plain": [
       "{'documents': [Document(id=58389b00-00c1-4da6-9eb7-cc189cae832f, content: 'The smallest dinosaur known is the bee hummingbird, with a length of only 5 centimeters (2.0 in) and...', meta: {'source_id': 'cccb7d931975c65babedb9ad3867015939fba680621923f60517da5e5dea3c32', 'split_id': 73.0, 'file_path': 'dinosaur-page.html'}, score: 1.7288570404052734, embedding: vector of size 1536),\n",
       "  Document(id=bda7c905-e2f1-48b5-a2c2-8804c3082bf5, content: 'When dinosaurs appeared, they were not the dominant terrestrial animals. The terrestrial habitats we...', meta: {'source_id': 'cccb7d931975c65babedb9ad3867015939fba680621923f60517da5e5dea3c32', 'split_id': 42.0, 'file_path': 'dinosaur-page.html'}, score: 1.4528007507324219, embedding: vector of size 1536),\n",
       "  Document(id=1bf410cd-051a-4514-9af8-e5195f68c914, content: 'The popular preoccupation with dinosaurs has ensured their appearance in literature, film, and other...', meta: {'source_id': 'cccb7d931975c65babedb9ad3867015939fba680621923f60517da5e5dea3c32', 'split_id': 127.0, 'file_path': 'dinosaur-page.html'}, score: 1.412698745727539, embedding: vector of size 1536)]}"
      ]
     },
     "execution_count": 21,
     "metadata": {},
     "output_type": "execute_result"
    }
   ],
   "source": [
    "weaviate_fetched"
   ]
  },
  {
   "cell_type": "markdown",
   "metadata": {},
   "source": [
    "What if we only gave the word \"Scipionyx\""
   ]
  },
  {
   "cell_type": "code",
   "execution_count": 22,
   "metadata": {},
   "outputs": [],
   "source": [
    "question = \"Scipionyx\"\n",
    "\n",
    "elastic_fetched = elastic_bm25_retriever.run(query=question, top_k=3)\n",
    "weaviate_fetched = weaviate_bm25_retriever.run(query=question, top_k=3)"
   ]
  },
  {
   "cell_type": "code",
   "execution_count": 23,
   "metadata": {},
   "outputs": [
    {
     "data": {
      "text/plain": [
       "{'documents': [Document(id=8a774d6a-a007-4925-91ce-0e9724619862, content: 'Starting from the 1990s, major discoveries of exceptionally preserved fossils in deposits known as c...', meta: {'file_path': '../dinosaur-page.html', 'source_id': '397c39cd02b4ddec650906e433b995103ffd8164879c3fa3cc6a9956405e652f', 'split_id': 35}, score: 3.050006)]}"
      ]
     },
     "execution_count": 23,
     "metadata": {},
     "output_type": "execute_result"
    }
   ],
   "source": [
    "elastic_fetched"
   ]
  },
  {
   "cell_type": "code",
   "execution_count": 24,
   "metadata": {},
   "outputs": [
    {
     "data": {
      "text/plain": [
       "{'documents': [Document(id=dd898970-de03-4d55-9136-9ae2039056b4, content: 'Starting from the 1990s, major discoveries of exceptionally preserved fossils in deposits known as c...', meta: {'source_id': 'cccb7d931975c65babedb9ad3867015939fba680621923f60517da5e5dea3c32', 'split_id': 35.0, 'file_path': 'dinosaur-page.html'}, score: 1.398360013961792, embedding: vector of size 1536)]}"
      ]
     },
     "execution_count": 24,
     "metadata": {},
     "output_type": "execute_result"
    }
   ],
   "source": [
    "weaviate_fetched"
   ]
  },
  {
   "cell_type": "markdown",
   "metadata": {},
   "source": [
    "Both got it correct, albeit Elasticsearch had a higher score."
   ]
  },
  {
   "cell_type": "markdown",
   "metadata": {},
   "source": [
    "May be if common words are stripped off and only distinct keywords are provided as query to BM25 retriever, it would do a good job.\n",
    "\n",
    "In this case, strip off common words 'tell', 'me', 'something', 'about' and only give words such as 'Scipionyx' to BM25. Keep only low frequency words for keyword search."
   ]
  },
  {
   "cell_type": "code",
   "execution_count": null,
   "metadata": {},
   "outputs": [],
   "source": []
  }
 ],
 "metadata": {
  "kernelspec": {
   "display_name": "Python (argonk)",
   "language": "python",
   "name": "argonk"
  },
  "language_info": {
   "codemirror_mode": {
    "name": "ipython",
    "version": 3
   },
   "file_extension": ".py",
   "mimetype": "text/x-python",
   "name": "python",
   "nbconvert_exporter": "python",
   "pygments_lexer": "ipython3",
   "version": "3.12.4"
  }
 },
 "nbformat": 4,
 "nbformat_minor": 2
}
