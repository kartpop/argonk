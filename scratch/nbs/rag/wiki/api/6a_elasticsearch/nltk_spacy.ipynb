{
 "cells": [
  {
   "cell_type": "code",
   "execution_count": 7,
   "metadata": {},
   "outputs": [
    {
     "name": "stderr",
     "output_type": "stream",
     "text": [
      "[nltk_data] Downloading package stopwords to\n",
      "[nltk_data]     /home/kartikeya/nltk_data...\n",
      "[nltk_data]   Package stopwords is already up-to-date!\n"
     ]
    },
    {
     "name": "stdout",
     "output_type": "stream",
     "text": [
      "Keywords: ['Anchisaurus', 'Microraptor']\n"
     ]
    }
   ],
   "source": [
    "import nltk\n",
    "from nltk.corpus import stopwords\n",
    "import spacy\n",
    "\n",
    "# Download stopwords\n",
    "nltk.download('stopwords')\n",
    "\n",
    "# Initialize spaCy NLP pipeline\n",
    "nlp = spacy.load(\"en_core_web_sm\")\n",
    "\n",
    "# Input text\n",
    "text = \"when few other words like Anchisaurus is added along with another word like Microraptor and then there are more words like this which don't make sense in the context of the query\"\n",
    "\n",
    "# Load stopwords\n",
    "stop_words = set(stopwords.words('english'))\n",
    "\n",
    "# Tokenize and remove stopwords\n",
    "tokens = [word for word in text.split() if word.lower() not in stop_words]\n",
    "\n",
    "# Use spaCy to extract proper nouns (e.g., named entities like \"Anchisaurus\", \"Microraptor\")\n",
    "doc = nlp(\" \".join(tokens))\n",
    "keywords = [token.text for token in doc if (token.pos_ == \"PROPN\" or token.pos == \"NOUN\")]\n",
    "\n",
    "print(\"Keywords:\", keywords)"
   ]
  },
  {
   "cell_type": "code",
   "execution_count": 9,
   "metadata": {},
   "outputs": [
    {
     "name": "stdout",
     "output_type": "stream",
     "text": [
      "Keywords: ['Extinct', 'dinosaurs', 'modern', 'birds', 'genera', 'herbivorous', 'others', 'carnivorous', 'seed', 'eaters', 'fish', 'eaters', 'insectivores', 'omnivores', 'dinosaurs', 'bipedal', 'modern', 'birds', 'quadrupeds', 'others', 'Anchisaurus', 'Iguanodon', 'legs', 'Cranial', 'modifications', 'horns', 'crests', 'common', 'dinosaurian', 'traits', 'extinct', 'species', 'bony', 'armor', 'genera', 'remarkable', 'large', 'size', 'many', 'Mesozoic', 'dinosaurs', 'human', 'sized', 'smaller', 'modern', 'birds', 'small', 'size', 'Dinosaurs', 'today', 'continent', 'fossils', 'global', 'distribution', 'Early', 'Jurassic', 'epoch', 'Modern', 'birds', 'available', 'habitats', 'terrestrial', 'marine', 'evidence', 'non', '-', 'avian', 'dinosaurs', 'such', 'Microraptor', 'least', 'glide', 'others', 'semiaquatic', 'habits']\n"
     ]
    }
   ],
   "source": [
    "text2 = \"Extinct dinosaurs, as well as modern birds, include genera that are herbivorous and others carnivorous, including seed-eaters, fish-eaters, insectivores, and omnivores. While dinosaurs were ancestrally bipedal (as are all modern birds), some evolved into quadrupeds, and others, such as Anchisaurus and Iguanodon, could walk as easily on two or four legs. Cranial modifications like horns and crests are common dinosaurian traits, and some extinct species had bony armor. Although the best-known genera are remarkable for their large size, many Mesozoic dinosaurs were human-sized or smaller, and modern birds are generally small in size. Dinosaurs today inhabit every continent, and fossils show that they had achieved global distribution by the Early Jurassic epoch at latest. Modern birds inhabit most available habitats, from terrestrial to marine, and there is evidence that some non-avian dinosaurs (such as Microraptor) could fly or at least glide, and others, such as spinosaurids, had semiaquatic habits.\"\n",
    "tokens = [word for word in text2.split() if word.lower() not in stop_words]\n",
    "doc = nlp(\" \".join(tokens))\n",
    "keywords = [token.text for token in doc if token.pos_ in (\"PROPN\", \"NOUN\", \"ADJ\")]\n",
    "\n",
    "print(\"Keywords:\", keywords)"
   ]
  },
  {
   "cell_type": "code",
   "execution_count": 10,
   "metadata": {},
   "outputs": [
    {
     "name": "stdout",
     "output_type": "stream",
     "text": [
      "Keywords: ['words', 'Anchisaurus', 'word', 'Microraptor', 'words', 'sense', 'context', 'query']\n"
     ]
    }
   ],
   "source": [
    "text2 = \"when few other words like Anchisaurus is added along with another word like Microraptor and then there are more words like this which don't make sense in the context of the query\"\n",
    "tokens = [word for word in text2.split() if word.lower() not in stop_words]\n",
    "doc = nlp(\" \".join(tokens))\n",
    "keywords = [token.text for token in doc if token.pos_ in (\"PROPN\", \"NOUN\", \"ADJ\")]\n",
    "\n",
    "print(\"Keywords:\", keywords)"
   ]
  },
  {
   "cell_type": "code",
   "execution_count": null,
   "metadata": {},
   "outputs": [],
   "source": []
  }
 ],
 "metadata": {
  "kernelspec": {
   "display_name": "python_3_10",
   "language": "python",
   "name": "python3"
  },
  "language_info": {
   "codemirror_mode": {
    "name": "ipython",
    "version": 3
   },
   "file_extension": ".py",
   "mimetype": "text/x-python",
   "name": "python",
   "nbconvert_exporter": "python",
   "pygments_lexer": "ipython3",
   "version": "3.10.14"
  }
 },
 "nbformat": 4,
 "nbformat_minor": 2
}
