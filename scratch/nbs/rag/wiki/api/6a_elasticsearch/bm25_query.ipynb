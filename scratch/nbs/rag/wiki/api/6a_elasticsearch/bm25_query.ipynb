{
 "cells": [
  {
   "cell_type": "code",
   "execution_count": 1,
   "metadata": {},
   "outputs": [],
   "source": [
    "from bs4 import BeautifulSoup\n",
    "import re\n",
    "from typing import List\n",
    "\n",
    "def WikiPageChunks(html_str: str) -> List:\n",
    "    soup = BeautifulSoup(html_str, 'html.parser')\n",
    "\n",
    "    chunks = []\n",
    "\n",
    "    def clean_text(text):\n",
    "        cleaned_text = text.replace('\\n', ' ').replace('\\xa0', ' ')\n",
    "        cleaned_text = re.sub(r'\\s+', ' ', cleaned_text)\n",
    "        cleaned_text = re.sub(r'(\\d)\\s+(\\d)', r'\\1\\2', cleaned_text)\n",
    "        cleaned_text = cleaned_text.strip()\n",
    "        return cleaned_text\n",
    "\n",
    "    html_soup = soup.body or soup\n",
    "    nested = ['ul', 'ol', 'dl', 'li', 'dt', 'dd']\n",
    "    for tag in html_soup.find_all(recursive=False):\n",
    "        if tag.name == 'p':\n",
    "            chunks.append(clean_text(tag.get_text(separator=' ')))\n",
    "        elif tag.name == 'link':\n",
    "            continue\n",
    "        elif tag.name in nested:\n",
    "            list_items = tag.find_all('li')\n",
    "            list_text = ' '.join([f\"- {clean_text(li.get_text(separator=' '))}\" for li in list_items])\n",
    "            chunks.append(list_text)\n",
    "        else:\n",
    "            chunks.append(str(tag))\n",
    "    \n",
    "    return chunks"
   ]
  },
  {
   "cell_type": "code",
   "execution_count": 2,
   "metadata": {},
   "outputs": [],
   "source": [
    "from haystack import Document\n",
    "from haystack import component\n",
    "import uuid\n",
    "\n",
    "@component\n",
    "class WikiPageChunker:\n",
    "    \"\"\"\n",
    "    A component that splits the content of Wikipedia pages into chunks.\n",
    "    The document content is expected to be in HTML format fetched via wikipediaapi and\n",
    "    which has been run through TextFileToDocument converter.\n",
    "    \"\"\"\n",
    "    @component.output_types(documents=List[Document])\n",
    "    def run(self, documents: List[Document]):\n",
    "        chunks = []\n",
    "        for doc in documents:\n",
    "            html_content = doc.content\n",
    "            page_chunks = WikiPageChunks(html_content)\n",
    "            i = 0\n",
    "            for chunk in page_chunks:\n",
    "                if chunk != \"\":\n",
    "                    chunks.append(\n",
    "                        Document(\n",
    "                            id=str(uuid.uuid4()),\n",
    "                            content=chunk,\n",
    "                            meta={\"file_path\": doc.meta[\"file_path\"], \n",
    "                                \"source_id\": doc.id,\n",
    "                                \"split_id\": i}\n",
    "                        )\n",
    "                    )\n",
    "                    i += 1\n",
    "        \n",
    "        return {\"documents\": chunks} "
   ]
  },
  {
   "cell_type": "code",
   "execution_count": 12,
   "metadata": {},
   "outputs": [],
   "source": [
    "from pathlib import Path\n",
    "from haystack.components.converters import TextFileToDocument\n",
    "from haystack import Pipeline\n",
    "from haystack import Document\n",
    "from haystack_integrations.document_stores.elasticsearch import ElasticsearchDocumentStore\n",
    "from elasticsearch import Elasticsearch\n",
    "\n",
    "converter = TextFileToDocument()\n",
    "splitter = WikiPageChunker()\n",
    "document_store = ElasticsearchDocumentStore(hosts= \"http://localhost:9200\")\n",
    "\n",
    "indexing_pipeline = Pipeline()\n",
    "\n",
    "indexing_pipeline.add_component(\"converter\", converter)\n",
    "indexing_pipeline.add_component(\"splitter\", splitter)\n",
    "\n",
    "indexing_pipeline.connect(\"converter\", \"splitter\")\n",
    "\n",
    "docs = indexing_pipeline.run(data={\"converter\": {\"sources\": [Path(\"../dinosaur-page.html\")]}})"
   ]
  },
  {
   "cell_type": "code",
   "execution_count": 13,
   "metadata": {},
   "outputs": [
    {
     "data": {
      "text/plain": [
       "{'splitter': {'documents': [Document(id=d1c8d5ba-453c-43bb-ba24-4e3f651d848a, content: 'Dinosaurs are a diverse group of reptiles of the clade Dinosauria . They first appeared during the T...', meta: {'file_path': '../dinosaur-page.html', 'source_id': '397c39cd02b4ddec650906e433b995103ffd8164879c3fa3cc6a9956405e652f', 'split_id': 0}),\n",
       "   Document(id=119324df-f9dd-4b8d-b1a6-69adc7be107d, content: 'Dinosaurs are varied from taxonomic, morphological and ecological standpoints. Birds, at over 11,000...', meta: {'file_path': '../dinosaur-page.html', 'source_id': '397c39cd02b4ddec650906e433b995103ffd8164879c3fa3cc6a9956405e652f', 'split_id': 1}),\n",
       "   Document(id=e4c39230-4147-426b-8c07-6392e3af3140, content: 'While dinosaurs were ancestrally bipedal, many extinct groups included quadrupedal species, and some...', meta: {'file_path': '../dinosaur-page.html', 'source_id': '397c39cd02b4ddec650906e433b995103ffd8164879c3fa3cc6a9956405e652f', 'split_id': 2}),\n",
       "   Document(id=9d539a78-d8ea-4f09-8e58-d6063153a217, content: 'The first dinosaur fossils were recognized in the early 19th century, with the name \"dinosaur\" (mean...', meta: {'file_path': '../dinosaur-page.html', 'source_id': '397c39cd02b4ddec650906e433b995103ffd8164879c3fa3cc6a9956405e652f', 'split_id': 3}),\n",
       "   Document(id=c39f348a-93c9-4028-9573-f4a645438dd3, content: '<h2>Definition</h2>', meta: {'file_path': '../dinosaur-page.html', 'source_id': '397c39cd02b4ddec650906e433b995103ffd8164879c3fa3cc6a9956405e652f', 'split_id': 4}),\n",
       "   Document(id=0ece5866-4bb0-4611-8906-0a08e2843016, content: 'Under phylogenetic nomenclature, dinosaurs are usually defined as the group consisting of the most r...', meta: {'file_path': '../dinosaur-page.html', 'source_id': '397c39cd02b4ddec650906e433b995103ffd8164879c3fa3cc6a9956405e652f', 'split_id': 5}),\n",
       "   Document(id=d7c7caae-fc6c-4649-b762-5c3462388335, content: 'Birds are the sole surviving dinosaurs. In traditional taxonomy, birds were considered a separate cl...', meta: {'file_path': '../dinosaur-page.html', 'source_id': '397c39cd02b4ddec650906e433b995103ffd8164879c3fa3cc6a9956405e652f', 'split_id': 6}),\n",
       "   Document(id=fa78bbca-0089-451a-9490-891e89f9ccdd, content: 'Research by Matthew G. Baron, David B. Norman, and Paul M. Barrett in 2017 suggested a radical revis...', meta: {'file_path': '../dinosaur-page.html', 'source_id': '397c39cd02b4ddec650906e433b995103ffd8164879c3fa3cc6a9956405e652f', 'split_id': 7}),\n",
       "   Document(id=0150cc14-3a97-4f52-a1b9-30217a7f7c59, content: '<h3>General description</h3>', meta: {'file_path': '../dinosaur-page.html', 'source_id': '397c39cd02b4ddec650906e433b995103ffd8164879c3fa3cc6a9956405e652f', 'split_id': 8}),\n",
       "   Document(id=e8bc512d-3c89-4d25-9957-2cb7dadb16a2, content: 'Using one of the above definitions, dinosaurs can be generally described as archosaurs with hind lim...', meta: {'file_path': '../dinosaur-page.html', 'source_id': '397c39cd02b4ddec650906e433b995103ffd8164879c3fa3cc6a9956405e652f', 'split_id': 9}),\n",
       "   Document(id=0b64d915-4937-401c-b10c-ed75cec37e13, content: 'Dinosaurs were the dominant terrestrial vertebrates of the Mesozoic Era, especially the Jurassic and...', meta: {'file_path': '../dinosaur-page.html', 'source_id': '397c39cd02b4ddec650906e433b995103ffd8164879c3fa3cc6a9956405e652f', 'split_id': 10}),\n",
       "   Document(id=a1e7ecc1-9b6e-4321-a983-7916df924761, content: 'Extinct dinosaurs, as well as modern birds, include genera that are herbivorous and others carnivoro...', meta: {'file_path': '../dinosaur-page.html', 'source_id': '397c39cd02b4ddec650906e433b995103ffd8164879c3fa3cc6a9956405e652f', 'split_id': 11}),\n",
       "   Document(id=35668f37-3536-4f69-86e4-742ec886339e, content: '<h3>Distinguishing anatomical features</h3>', meta: {'file_path': '../dinosaur-page.html', 'source_id': '397c39cd02b4ddec650906e433b995103ffd8164879c3fa3cc6a9956405e652f', 'split_id': 12}),\n",
       "   Document(id=d32d8a18-c0fa-49e0-b02e-06834933ce0b, content: 'While recent discoveries have made it more difficult to present a universally agreed-upon list of th...', meta: {'file_path': '../dinosaur-page.html', 'source_id': '397c39cd02b4ddec650906e433b995103ffd8164879c3fa3cc6a9956405e652f', 'split_id': 13}),\n",
       "   Document(id=8543b69c-4e77-4b57-92ac-7c378f04b5c3, content: 'A detailed assessment of archosaur interrelations by Sterling Nesbitt confirmed or found the followi...', meta: {'file_path': '../dinosaur-page.html', 'source_id': '397c39cd02b4ddec650906e433b995103ffd8164879c3fa3cc6a9956405e652f', 'split_id': 14}),\n",
       "   Document(id=af93fa43-1f87-45f6-8e43-f04ccc703571, content: '- In the skull, a supratemporal fossa (excavation) is present in front of the supratemporal fenestra...', meta: {'file_path': '../dinosaur-page.html', 'source_id': '397c39cd02b4ddec650906e433b995103ffd8164879c3fa3cc6a9956405e652f', 'split_id': 15}),\n",
       "   Document(id=ddb62ba0-9f19-4119-8c4c-7a6a5cf0d3d7, content: 'Nesbitt found a number of further potential synapomorphies and discounted a number of synapomorphies...', meta: {'file_path': '../dinosaur-page.html', 'source_id': '397c39cd02b4ddec650906e433b995103ffd8164879c3fa3cc6a9956405e652f', 'split_id': 16}),\n",
       "   Document(id=34a00558-c7e2-43a9-820c-2db5b0800147, content: 'A variety of other skeletal features are shared by dinosaurs. However, because they either are commo...', meta: {'file_path': '../dinosaur-page.html', 'source_id': '397c39cd02b4ddec650906e433b995103ffd8164879c3fa3cc6a9956405e652f', 'split_id': 17}),\n",
       "   Document(id=97309391-ec96-49ca-91a9-c035c2041a19, content: 'Dinosaurs stand with their hind limbs erect in a manner similar to most modern mammals, but distinct...', meta: {'file_path': '../dinosaur-page.html', 'source_id': '397c39cd02b4ddec650906e433b995103ffd8164879c3fa3cc6a9956405e652f', 'split_id': 18}),\n",
       "   Document(id=3086d9b9-c418-47e8-b58e-9edfa5357e16, content: '<h2>History of study</h2>', meta: {'file_path': '../dinosaur-page.html', 'source_id': '397c39cd02b4ddec650906e433b995103ffd8164879c3fa3cc6a9956405e652f', 'split_id': 19}),\n",
       "   Document(id=52706f71-9fc5-4416-9930-623985695544, content: '<h3>Pre-scientific history</h3>', meta: {'file_path': '../dinosaur-page.html', 'source_id': '397c39cd02b4ddec650906e433b995103ffd8164879c3fa3cc6a9956405e652f', 'split_id': 20}),\n",
       "   Document(id=d98b466d-74fe-49bd-808e-8accb50fa863, content: 'Dinosaur fossils have been known for millennia, although their true nature was not recognized. The C...', meta: {'file_path': '../dinosaur-page.html', 'source_id': '397c39cd02b4ddec650906e433b995103ffd8164879c3fa3cc6a9956405e652f', 'split_id': 21}),\n",
       "   Document(id=f73dbc1a-d53a-43ba-864d-9932271df999, content: '<h3>Early dinosaur research</h3>', meta: {'file_path': '../dinosaur-page.html', 'source_id': '397c39cd02b4ddec650906e433b995103ffd8164879c3fa3cc6a9956405e652f', 'split_id': 22}),\n",
       "   Document(id=d4b5aec8-4b4f-44ff-8d11-b84c54442b94, content: 'Scholarly descriptions of what would now be recognized as dinosaur bones first appeared in the late ...', meta: {'file_path': '../dinosaur-page.html', 'source_id': '397c39cd02b4ddec650906e433b995103ffd8164879c3fa3cc6a9956405e652f', 'split_id': 23}),\n",
       "   Document(id=8e4fcd6a-66c2-4cc6-a210-353c689c0fb1, content: 'Between 1815 and 1824, the Rev William Buckland, the first Reader of Geology at the University of Ox...', meta: {'file_path': '../dinosaur-page.html', 'source_id': '397c39cd02b4ddec650906e433b995103ffd8164879c3fa3cc6a9956405e652f', 'split_id': 24}),\n",
       "   Document(id=b7d9ba93-597e-4e9e-8d71-ba97ca74096e, content: 'The study of these \"great fossil lizards\" soon became of great interest to European and American sci...', meta: {'file_path': '../dinosaur-page.html', 'source_id': '397c39cd02b4ddec650906e433b995103ffd8164879c3fa3cc6a9956405e652f', 'split_id': 25}),\n",
       "   Document(id=939922b0-e78b-4653-8de9-164eb14ad69b, content: '<h3>Discoveries in North America</h3>', meta: {'file_path': '../dinosaur-page.html', 'source_id': '397c39cd02b4ddec650906e433b995103ffd8164879c3fa3cc6a9956405e652f', 'split_id': 26}),\n",
       "   Document(id=24ac2dcb-0500-4f80-ab07-b4710b3218cd, content: 'In 1858, William Parker Foulke discovered the first known American dinosaur, in marl pits in the sma...', meta: {'file_path': '../dinosaur-page.html', 'source_id': '397c39cd02b4ddec650906e433b995103ffd8164879c3fa3cc6a9956405e652f', 'split_id': 27}),\n",
       "   Document(id=afe3b0dd-db2f-41f3-8c72-74042b17a5fe, content: 'Dinosaur mania was exemplified by the fierce rivalry between Edward Drinker Cope and Othniel Charles...', meta: {'file_path': '../dinosaur-page.html', 'source_id': '397c39cd02b4ddec650906e433b995103ffd8164879c3fa3cc6a9956405e652f', 'split_id': 28}),\n",
       "   Document(id=20a590da-422d-469f-af5c-201799f4caa4, content: '<h3>\"Dinosaur renaissance\" and beyond</h3>', meta: {'file_path': '../dinosaur-page.html', 'source_id': '397c39cd02b4ddec650906e433b995103ffd8164879c3fa3cc6a9956405e652f', 'split_id': 29}),\n",
       "   Document(id=aeed512b-9b16-468c-ac94-4fe88be9891a, content: 'World War II caused a pause in palaeontological research; after the war, research attention was also...', meta: {'file_path': '../dinosaur-page.html', 'source_id': '397c39cd02b4ddec650906e433b995103ffd8164879c3fa3cc6a9956405e652f', 'split_id': 30}),\n",
       "   Document(id=415a84b3-bebf-41b6-bea2-23885f37b941, content: 'New revelations were supported by an increase in dinosaur discoveries. Major new dinosaur discoverie...', meta: {'file_path': '../dinosaur-page.html', 'source_id': '397c39cd02b4ddec650906e433b995103ffd8164879c3fa3cc6a9956405e652f', 'split_id': 31}),\n",
       "   Document(id=5fd39aec-c864-470f-9e66-b1dbac34b9fa, content: 'Prior to the dinosaur renaissance, dinosaurs were mostly classified using the traditional rank-based...', meta: {'file_path': '../dinosaur-page.html', 'source_id': '397c39cd02b4ddec650906e433b995103ffd8164879c3fa3cc6a9956405e652f', 'split_id': 32}),\n",
       "   Document(id=ec5b7182-fe04-46e9-a47c-d4a4e0c32a2a, content: '<h3>Soft tissue and molecular preservation</h3>', meta: {'file_path': '../dinosaur-page.html', 'source_id': '397c39cd02b4ddec650906e433b995103ffd8164879c3fa3cc6a9956405e652f', 'split_id': 33}),\n",
       "   Document(id=630ff3cc-3051-4e2c-a90d-fcf64211eae4, content: 'Dinosaur fossils are not limited to bones, but also include imprints or mineralized remains of skin ...', meta: {'file_path': '../dinosaur-page.html', 'source_id': '397c39cd02b4ddec650906e433b995103ffd8164879c3fa3cc6a9956405e652f', 'split_id': 34}),\n",
       "   Document(id=8a774d6a-a007-4925-91ce-0e9724619862, content: 'Starting from the 1990s, major discoveries of exceptionally preserved fossils in deposits known as c...', meta: {'file_path': '../dinosaur-page.html', 'source_id': '397c39cd02b4ddec650906e433b995103ffd8164879c3fa3cc6a9956405e652f', 'split_id': 35}),\n",
       "   Document(id=b8604795-471e-47b8-8be5-f44bc501a36d, content: 'Concurrently, a line of work led by Mary Higby Schweitzer, Jack Horner, and colleagues reported vari...', meta: {'file_path': '../dinosaur-page.html', 'source_id': '397c39cd02b4ddec650906e433b995103ffd8164879c3fa3cc6a9956405e652f', 'split_id': 36}),\n",
       "   Document(id=d1c87dcd-1a30-465d-a573-980cde8ea130, content: '<h2>Evolutionary history</h2>', meta: {'file_path': '../dinosaur-page.html', 'source_id': '397c39cd02b4ddec650906e433b995103ffd8164879c3fa3cc6a9956405e652f', 'split_id': 37}),\n",
       "   Document(id=755a0b49-c663-4b68-926c-3b988c7ebbce, content: '<h3>Origins and early evolution</h3>', meta: {'file_path': '../dinosaur-page.html', 'source_id': '397c39cd02b4ddec650906e433b995103ffd8164879c3fa3cc6a9956405e652f', 'split_id': 38}),\n",
       "   Document(id=ac6dd71f-a17e-4ec9-9add-b5accb390364, content: 'Dinosaurs diverged from their archosaur ancestors during the Middle to Late Triassic epochs, roughly...', meta: {'file_path': '../dinosaur-page.html', 'source_id': '397c39cd02b4ddec650906e433b995103ffd8164879c3fa3cc6a9956405e652f', 'split_id': 39}),\n",
       "   Document(id=1a804fab-317c-4baf-b95c-fa864fe2a906, content: 'The Ischigualasto Formation (radiometrically dated at 231-230 million years old) has produced the ea...', meta: {'file_path': '../dinosaur-page.html', 'source_id': '397c39cd02b4ddec650906e433b995103ffd8164879c3fa3cc6a9956405e652f', 'split_id': 40}),\n",
       "   Document(id=5aa907f7-5858-46c1-9536-810dc9c03b74, content: 'Less well-preserved remains of the sauropodomorphs Jaklapallisaurus and Nambalia , along with the ea...', meta: {'file_path': '../dinosaur-page.html', 'source_id': '397c39cd02b4ddec650906e433b995103ffd8164879c3fa3cc6a9956405e652f', 'split_id': 41}),\n",
       "   Document(id=64321419-1d13-413b-aea2-0c0fc5ee33b1, content: 'When dinosaurs appeared, they were not the dominant terrestrial animals. The terrestrial habitats we...', meta: {'file_path': '../dinosaur-page.html', 'source_id': '397c39cd02b4ddec650906e433b995103ffd8164879c3fa3cc6a9956405e652f', 'split_id': 42}),\n",
       "   Document(id=8b8de595-b978-4339-8b28-8588259c243b, content: '<h3>Evolution and paleobiogeography</h3>', meta: {'file_path': '../dinosaur-page.html', 'source_id': '397c39cd02b4ddec650906e433b995103ffd8164879c3fa3cc6a9956405e652f', 'split_id': 43}),\n",
       "   Document(id=3f78f1ee-610f-4e7d-8c19-78cb1c1e365f, content: 'Dinosaur evolution after the Triassic followed changes in vegetation and the location of continents....', meta: {'file_path': '../dinosaur-page.html', 'source_id': '397c39cd02b4ddec650906e433b995103ffd8164879c3fa3cc6a9956405e652f', 'split_id': 44}),\n",
       "   Document(id=510f205f-88d1-4edb-8ed2-8cbd6cbe5c02, content: 'By the Early Cretaceous and the ongoing breakup of Pangaea, dinosaurs were becoming strongly differe...', meta: {'file_path': '../dinosaur-page.html', 'source_id': '397c39cd02b4ddec650906e433b995103ffd8164879c3fa3cc6a9956405e652f', 'split_id': 45}),\n",
       "   Document(id=3ec4785c-32c9-4d37-9ffe-e1335877326e, content: 'There were three general dinosaur faunas in the Late Cretaceous. In the northern continents of North...', meta: {'file_path': '../dinosaur-page.html', 'source_id': '397c39cd02b4ddec650906e433b995103ffd8164879c3fa3cc6a9956405e652f', 'split_id': 46}),\n",
       "   Document(id=6e4c918b-7d63-4671-afc6-fa9d4b0d55b2, content: 'The Cretaceous–Paleogene extinction event, which occurred approximately 66 million years ago at the ...', meta: {'file_path': '../dinosaur-page.html', 'source_id': '397c39cd02b4ddec650906e433b995103ffd8164879c3fa3cc6a9956405e652f', 'split_id': 47}),\n",
       "   Document(id=b482077c-07aa-45b6-b636-91abce41229a, content: 'The surviving lineages of neornithine birds, including the ancestors of modern ratites, ducks and ch...', meta: {'file_path': '../dinosaur-page.html', 'source_id': '397c39cd02b4ddec650906e433b995103ffd8164879c3fa3cc6a9956405e652f', 'split_id': 48}),\n",
       "   Document(id=338fa744-213e-444d-a0de-1e1a81d781a3, content: '<h2>Classification</h2>', meta: {'file_path': '../dinosaur-page.html', 'source_id': '397c39cd02b4ddec650906e433b995103ffd8164879c3fa3cc6a9956405e652f', 'split_id': 49}),\n",
       "   Document(id=38c2f0cb-3d38-4844-bdea-1d2a96975a75, content: 'Dinosaurs belong to a group known as archosaurs, which also includes modern crocodilians. Within the...', meta: {'file_path': '../dinosaur-page.html', 'source_id': '397c39cd02b4ddec650906e433b995103ffd8164879c3fa3cc6a9956405e652f', 'split_id': 50}),\n",
       "   Document(id=ae0dccfd-4839-450a-84a7-f4a58c7007bb, content: 'Collectively, dinosaurs as a clade are divided into two primary branches, Saurischia and Ornithischi...', meta: {'file_path': '../dinosaur-page.html', 'source_id': '397c39cd02b4ddec650906e433b995103ffd8164879c3fa3cc6a9956405e652f', 'split_id': 51}),\n",
       "   Document(id=800e4779-c0ee-41db-8bf0-ddaf53d32049, content: 'By contrast, ornithischians—\"bird-hipped\", from the Greek ornitheios (ὀρνίθειος) meaning \"of a bird\"...', meta: {'file_path': '../dinosaur-page.html', 'source_id': '397c39cd02b4ddec650906e433b995103ffd8164879c3fa3cc6a9956405e652f', 'split_id': 52}),\n",
       "   Document(id=67aa73b3-a426-4378-bfc7-020edc86161d, content: 'Despite the terms \"bird hip\" (Ornithischia) and \"lizard hip\" (Saurischia), birds are not part of Orn...', meta: {'file_path': '../dinosaur-page.html', 'source_id': '397c39cd02b4ddec650906e433b995103ffd8164879c3fa3cc6a9956405e652f', 'split_id': 53}),\n",
       "   Document(id=30a05a29-aaa4-4108-b6d0-738806948ffa, content: '<h3>Taxonomy</h3>', meta: {'file_path': '../dinosaur-page.html', 'source_id': '397c39cd02b4ddec650906e433b995103ffd8164879c3fa3cc6a9956405e652f', 'split_id': 54}),\n",
       "   Document(id=818c02cd-3fc2-4700-879e-7139ef3bed4c, content: 'The following is a simplified classification of dinosaur groups based on their evolutionary relation...', meta: {'file_path': '../dinosaur-page.html', 'source_id': '397c39cd02b4ddec650906e433b995103ffd8164879c3fa3cc6a9956405e652f', 'split_id': 55}),\n",
       "   Document(id=f62edbbb-0f55-4eba-833a-eed992f75b7d, content: '- Dinosauria', meta: {'file_path': '../dinosaur-page.html', 'source_id': '397c39cd02b4ddec650906e433b995103ffd8164879c3fa3cc6a9956405e652f', 'split_id': 56}),\n",
       "   Document(id=5b06bb34-1d68-4128-8a6d-d13a1b78e8c1, content: '- †Ornithischia (\"bird-hipped\"; diverse bipedal and quadrupedal herbivores) - †Saphornithischia (\"tr...', meta: {'file_path': '../dinosaur-page.html', 'source_id': '397c39cd02b4ddec650906e433b995103ffd8164879c3fa3cc6a9956405e652f', 'split_id': 57}),\n",
       "   Document(id=8fd07ec3-062e-4202-aa77-4796b5382b25, content: '- †Pachycephalosauria (bipeds with domed or knobby growth on skulls) - †Ceratopsia (bipeds and quadr...', meta: {'file_path': '../dinosaur-page.html', 'source_id': '397c39cd02b4ddec650906e433b995103ffd8164879c3fa3cc6a9956405e652f', 'split_id': 58}),\n",
       "   Document(id=f15a98d5-c5d3-4303-8438-16bbdadb6120, content: '- †Sauropodomorpha (herbivores with small heads, long necks, and long tails) - †Unaysauridae (primit...', meta: {'file_path': '../dinosaur-page.html', 'source_id': '397c39cd02b4ddec650906e433b995103ffd8164879c3fa3cc6a9956405e652f', 'split_id': 59}),\n",
       "   Document(id=507be980-b5d1-4c3d-9b91-ca00f1544943, content: '- †Alvarezsauroidea (small hunters with reduced forelimbs) - †Alvarezsauridae (insectivores with onl...', meta: {'file_path': '../dinosaur-page.html', 'source_id': '397c39cd02b4ddec650906e433b995103ffd8164879c3fa3cc6a9956405e652f', 'split_id': 60}),\n",
       "   Document(id=b1eebfa0-eaf0-4b7c-891e-28a4f588a6ec, content: '<h3>Timeline of major groups</h3>', meta: {'file_path': '../dinosaur-page.html', 'source_id': '397c39cd02b4ddec650906e433b995103ffd8164879c3fa3cc6a9956405e652f', 'split_id': 61}),\n",
       "   Document(id=9abc4574-7452-487e-8c9a-ba052aa27815, content: 'Timeline of major dinosaur groups per Holtz (2007).', meta: {'file_path': '../dinosaur-page.html', 'source_id': '397c39cd02b4ddec650906e433b995103ffd8164879c3fa3cc6a9956405e652f', 'split_id': 62}),\n",
       "   Document(id=39596caf-778d-4ec7-8618-c0423de5e6e4, content: '<h2>Paleobiology</h2>', meta: {'file_path': '../dinosaur-page.html', 'source_id': '397c39cd02b4ddec650906e433b995103ffd8164879c3fa3cc6a9956405e652f', 'split_id': 63}),\n",
       "   Document(id=3b13c7aa-10c2-45b9-9cfe-14831c97ce7b, content: 'Knowledge about dinosaurs is derived from a variety of fossil and non-fossil records, including foss...', meta: {'file_path': '../dinosaur-page.html', 'source_id': '397c39cd02b4ddec650906e433b995103ffd8164879c3fa3cc6a9956405e652f', 'split_id': 64}),\n",
       "   Document(id=a2dd8b10-b34a-472f-8026-74cb73f9deb7, content: '<h3>Size</h3>', meta: {'file_path': '../dinosaur-page.html', 'source_id': '397c39cd02b4ddec650906e433b995103ffd8164879c3fa3cc6a9956405e652f', 'split_id': 65}),\n",
       "   Document(id=67b70b34-c871-4ca4-b379-60f8aad75efb, content: 'Current evidence suggests that dinosaur average size varied through the Triassic, Early Jurassic, La...', meta: {'file_path': '../dinosaur-page.html', 'source_id': '397c39cd02b4ddec650906e433b995103ffd8164879c3fa3cc6a9956405e652f', 'split_id': 66}),\n",
       "   Document(id=4ee167a7-c32e-4440-ac39-e56e382bd77b, content: 'The sauropods were the largest and heaviest dinosaurs. For much of the dinosaur era, the smallest sa...', meta: {'file_path': '../dinosaur-page.html', 'source_id': '397c39cd02b4ddec650906e433b995103ffd8164879c3fa3cc6a9956405e652f', 'split_id': 67}),\n",
       "   Document(id=45796565-5d95-4d9e-bb7a-934e473af2b1, content: '<h4>Largest and smallest</h4>', meta: {'file_path': '../dinosaur-page.html', 'source_id': '397c39cd02b4ddec650906e433b995103ffd8164879c3fa3cc6a9956405e652f', 'split_id': 68}),\n",
       "   Document(id=9dff5c7d-3556-460b-a152-01f6741d1dd1, content: 'Scientists will probably never be certain of the largest and smallest dinosaurs to have ever existed...', meta: {'file_path': '../dinosaur-page.html', 'source_id': '397c39cd02b4ddec650906e433b995103ffd8164879c3fa3cc6a9956405e652f', 'split_id': 69}),\n",
       "   Document(id=577ff7ba-7a9f-47e2-8c37-6d49b40196dd, content: 'The tallest and heaviest dinosaur known from good skeletons is Giraffatitan brancai (previously clas...', meta: {'file_path': '../dinosaur-page.html', 'source_id': '397c39cd02b4ddec650906e433b995103ffd8164879c3fa3cc6a9956405e652f', 'split_id': 70}),\n",
       "   Document(id=904323d0-f134-489e-9008-445f3d22a5b3, content: 'There were larger dinosaurs, but knowledge of them is based entirely on a small number of fragmentar...', meta: {'file_path': '../dinosaur-page.html', 'source_id': '397c39cd02b4ddec650906e433b995103ffd8164879c3fa3cc6a9956405e652f', 'split_id': 71}),\n",
       "   Document(id=14b366f5-94ea-412c-846f-0b27d92199b6, content: 'The largest carnivorous dinosaur was Spinosaurus , reaching a length of 12.6 to 18 meters (41 to 59 ...', meta: {'file_path': '../dinosaur-page.html', 'source_id': '397c39cd02b4ddec650906e433b995103ffd8164879c3fa3cc6a9956405e652f', 'split_id': 72}),\n",
       "   Document(id=25c2e0c0-ca9f-4c1f-ae85-23f8dab8ee3e, content: 'The smallest dinosaur known is the bee hummingbird, with a length of only 5 centimeters (2.0 in) and...', meta: {'file_path': '../dinosaur-page.html', 'source_id': '397c39cd02b4ddec650906e433b995103ffd8164879c3fa3cc6a9956405e652f', 'split_id': 73}),\n",
       "   Document(id=84bbdb58-9ee5-44bf-9c54-bcc3a994810c, content: '<h3>Behavior</h3>', meta: {'file_path': '../dinosaur-page.html', 'source_id': '397c39cd02b4ddec650906e433b995103ffd8164879c3fa3cc6a9956405e652f', 'split_id': 74}),\n",
       "   Document(id=af3a1c35-c671-46c3-9735-e5cc076e4092, content: 'Many modern birds are highly social, often found living in flocks. There is general agreement that s...', meta: {'file_path': '../dinosaur-page.html', 'source_id': '397c39cd02b4ddec650906e433b995103ffd8164879c3fa3cc6a9956405e652f', 'split_id': 75}),\n",
       "   Document(id=1e8ed23c-c7b0-4eeb-aec9-8a6654748d1d, content: 'The first potential evidence for herding or flocking as a widespread behavior common to many dinosau...', meta: {'file_path': '../dinosaur-page.html', 'source_id': '397c39cd02b4ddec650906e433b995103ffd8164879c3fa3cc6a9956405e652f', 'split_id': 76}),\n",
       "   Document(id=20ad4c35-b545-440a-9d67-3e839bb7a68f, content: 'The crests and frills of some dinosaurs, like the marginocephalians, theropods and lambeosaurines, m...', meta: {'file_path': '../dinosaur-page.html', 'source_id': '397c39cd02b4ddec650906e433b995103ffd8164879c3fa3cc6a9956405e652f', 'split_id': 77}),\n",
       "   Document(id=f14e4c2c-1bf3-40c4-b1ac-e6c84c549d15, content: 'From a behavioral standpoint, one of the most valuable dinosaur fossils was discovered in the Gobi D...', meta: {'file_path': '../dinosaur-page.html', 'source_id': '397c39cd02b4ddec650906e433b995103ffd8164879c3fa3cc6a9956405e652f', 'split_id': 78}),\n",
       "   Document(id=5f65031f-9367-4004-8078-a52cd8c004b7, content: 'Comparisons between the scleral rings of dinosaurs and modern birds and reptiles have been used to i...', meta: {'file_path': '../dinosaur-page.html', 'source_id': '397c39cd02b4ddec650906e433b995103ffd8164879c3fa3cc6a9956405e652f', 'split_id': 79}),\n",
       "   Document(id=b0beaf46-b54e-4247-a61e-8ab834022788, content: 'Based on fossil evidence from dinosaurs such as Oryctodromeus , some ornithischian species seem to h...', meta: {'file_path': '../dinosaur-page.html', 'source_id': '397c39cd02b4ddec650906e433b995103ffd8164879c3fa3cc6a9956405e652f', 'split_id': 80}),\n",
       "   Document(id=27fc0c90-1204-46a5-a17f-fbceb440c622, content: '<h3>Communication</h3>', meta: {'file_path': '../dinosaur-page.html', 'source_id': '397c39cd02b4ddec650906e433b995103ffd8164879c3fa3cc6a9956405e652f', 'split_id': 81}),\n",
       "   Document(id=ab26576b-e471-4661-82f5-8f213ec12203, content: 'Modern birds communicate by visual and auditory signals, and the wide diversity of visual display st...', meta: {'file_path': '../dinosaur-page.html', 'source_id': '397c39cd02b4ddec650906e433b995103ffd8164879c3fa3cc6a9956405e652f', 'split_id': 82}),\n",
       "   Document(id=02867fad-63d0-48c2-aaad-c65c940705ae, content: 'On the basis that non-avian dinosaurs did not have syrinxes and that their next close living relativ...', meta: {'file_path': '../dinosaur-page.html', 'source_id': '397c39cd02b4ddec650906e433b995103ffd8164879c3fa3cc6a9956405e652f', 'split_id': 83}),\n",
       "   Document(id=7507a6a2-37d8-4bb9-918a-897bd01ccd06, content: 'In 2023, a fossilized larynx was described, from a specimen of the ankylosaurid Pinacosaurus . The s...', meta: {'file_path': '../dinosaur-page.html', 'source_id': '397c39cd02b4ddec650906e433b995103ffd8164879c3fa3cc6a9956405e652f', 'split_id': 84}),\n",
       "   Document(id=58c3b7f0-7b70-410c-92ba-deef79455998, content: '<h3>Reproductive biology</h3>', meta: {'file_path': '../dinosaur-page.html', 'source_id': '397c39cd02b4ddec650906e433b995103ffd8164879c3fa3cc6a9956405e652f', 'split_id': 85}),\n",
       "   Document(id=25129827-4b8e-47db-ae61-965c9478681a, content: 'All dinosaurs laid amniotic eggs. Dinosaur eggs were usually laid in a nest. Most species create som...', meta: {'file_path': '../dinosaur-page.html', 'source_id': '397c39cd02b4ddec650906e433b995103ffd8164879c3fa3cc6a9956405e652f', 'split_id': 86}),\n",
       "   Document(id=5bc9fdb5-9355-445b-a849-fe65e40e0345, content: 'When laying eggs, females grow a special type of bone between the hard outer bone and the marrow of ...', meta: {'file_path': '../dinosaur-page.html', 'source_id': '397c39cd02b4ddec650906e433b995103ffd8164879c3fa3cc6a9956405e652f', 'split_id': 87}),\n",
       "   Document(id=bde3ee4a-a0ea-4444-a08b-9bc3d8d7ee41, content: 'Another widespread trait among modern birds (but see below in regards to fossil groups and extant me...', meta: {'file_path': '../dinosaur-page.html', 'source_id': '397c39cd02b4ddec650906e433b995103ffd8164879c3fa3cc6a9956405e652f', 'split_id': 88}),\n",
       "   Document(id=b65dedf4-9646-4dd5-91b7-b42df502b0fe, content: 'However, there is ample evidence of precociality or superprecociality among many dinosaur species, p...', meta: {'file_path': '../dinosaur-page.html', 'source_id': '397c39cd02b4ddec650906e433b995103ffd8164879c3fa3cc6a9956405e652f', 'split_id': 89}),\n",
       "   Document(id=0a7758ec-7199-49d1-b3f3-059d00c387ef, content: 'Genital structures are unlikely to fossilize as they lack scales that may allow preservation via pig...', meta: {'file_path': '../dinosaur-page.html', 'source_id': '397c39cd02b4ddec650906e433b995103ffd8164879c3fa3cc6a9956405e652f', 'split_id': 90}),\n",
       "   Document(id=dd9c28ce-9c33-4893-85fd-92bf65f19146, content: '<h3>Physiology</h3>', meta: {'file_path': '../dinosaur-page.html', 'source_id': '397c39cd02b4ddec650906e433b995103ffd8164879c3fa3cc6a9956405e652f', 'split_id': 91}),\n",
       "   Document(id=46458663-9c2e-4474-94e4-cab8d3398af1, content: 'Because both modern crocodilians and birds have four-chambered hearts (albeit modified in crocodilia...', meta: {'file_path': '../dinosaur-page.html', 'source_id': '397c39cd02b4ddec650906e433b995103ffd8164879c3fa3cc6a9956405e652f', 'split_id': 92}),\n",
       "   Document(id=25983009-e5e2-4b04-8b77-250a296e0d52, content: 'After non-avian dinosaurs were discovered, paleontologists first posited that they were ectothermic....', meta: {'file_path': '../dinosaur-page.html', 'source_id': '397c39cd02b4ddec650906e433b995103ffd8164879c3fa3cc6a9956405e652f', 'split_id': 93}),\n",
       "   Document(id=b79a2508-d503-4339-95f4-a3f3e1a06e68, content: 'One of the greatest contributions to the modern understanding of dinosaur physiology has been paleoh...', meta: {'file_path': '../dinosaur-page.html', 'source_id': '397c39cd02b4ddec650906e433b995103ffd8164879c3fa3cc6a9956405e652f', 'split_id': 94}),\n",
       "   Document(id=03484744-19f1-4282-8fe6-aa049c154d34, content: 'In saurischian dinosaurs, higher metabolisms were supported by the evolution of the avian respirator...', meta: {'file_path': '../dinosaur-page.html', 'source_id': '397c39cd02b4ddec650906e433b995103ffd8164879c3fa3cc6a9956405e652f', 'split_id': 95}),\n",
       "   Document(id=7fd5980d-ae7a-453e-8141-96a61b756c0f, content: 'Like other reptiles, dinosaurs are primarily uricotelic, that is, their kidneys extract nitrogenous ...', meta: {'file_path': '../dinosaur-page.html', 'source_id': '397c39cd02b4ddec650906e433b995103ffd8164879c3fa3cc6a9956405e652f', 'split_id': 96}),\n",
       "   Document(id=c734231c-7fd0-4f56-8826-cc7a0e215793, content: 'The size and shape of the brain can be partly reconstructed based on the surrounding bones. In 1896,...', meta: {'file_path': '../dinosaur-page.html', 'source_id': '397c39cd02b4ddec650906e433b995103ffd8164879c3fa3cc6a9956405e652f', 'split_id': 97}),\n",
       "   Document(id=c9f5b55f-3f6c-4b07-964a-0917d63943e6, content: '<h2>Origin of birds</h2>', meta: {'file_path': '../dinosaur-page.html', 'source_id': '397c39cd02b4ddec650906e433b995103ffd8164879c3fa3cc6a9956405e652f', 'split_id': 98}),\n",
       "   Document(id=11ffe376-8ca3-437b-a8fd-97877f74d834, content: 'The possibility that dinosaurs were the ancestors of birds was first suggested in 1868 by Thomas Hen...', meta: {'file_path': '../dinosaur-page.html', 'source_id': '397c39cd02b4ddec650906e433b995103ffd8164879c3fa3cc6a9956405e652f', 'split_id': 99}),\n",
       "   Document(id=61263a04-3a2f-4a49-bfc4-83a4da8447c9, content: '<h3>Feathers</h3>', meta: {'file_path': '../dinosaur-page.html', 'source_id': '397c39cd02b4ddec650906e433b995103ffd8164879c3fa3cc6a9956405e652f', 'split_id': 100}),\n",
       "   Document(id=f6ca3f8e-68f0-42d4-9215-58612e249e34, content: 'Feathers are one of the most recognizable characteristics of modern birds, and a trait that was also...', meta: {'file_path': '../dinosaur-page.html', 'source_id': '397c39cd02b4ddec650906e433b995103ffd8164879c3fa3cc6a9956405e652f', 'split_id': 101}),\n",
       "   Document(id=3584ee16-82db-4006-994e-89480d280879, content: 'However, researchers do not agree regarding whether these structures share a common origin between l...', meta: {'file_path': '../dinosaur-page.html', 'source_id': '397c39cd02b4ddec650906e433b995103ffd8164879c3fa3cc6a9956405e652f', 'split_id': 102}),\n",
       "   Document(id=23c1fe3c-2bea-4277-a32f-f02893c3fe3e, content: 'Archaeopteryx was the first fossil found that revealed a potential connection between dinosaurs and ...', meta: {'file_path': '../dinosaur-page.html', 'source_id': '397c39cd02b4ddec650906e433b995103ffd8164879c3fa3cc6a9956405e652f', 'split_id': 103}),\n",
       "   Document(id=e8b5d5ac-661f-4f99-8aa7-cc6b6f39054b, content: '<h3>Skeleton</h3>', meta: {'file_path': '../dinosaur-page.html', 'source_id': '397c39cd02b4ddec650906e433b995103ffd8164879c3fa3cc6a9956405e652f', 'split_id': 104}),\n",
       "   Document(id=936e9e42-b503-4a29-b2f4-8227c48a3918, content: 'Because feathers are often associated with birds, feathered dinosaurs are often touted as the missin...', meta: {'file_path': '../dinosaur-page.html', 'source_id': '397c39cd02b4ddec650906e433b995103ffd8164879c3fa3cc6a9956405e652f', 'split_id': 105}),\n",
       "   Document(id=0c7d59c9-b3b5-46ce-bb00-9827d12f40f4, content: '<h3>Soft anatomy</h3>', meta: {'file_path': '../dinosaur-page.html', 'source_id': '397c39cd02b4ddec650906e433b995103ffd8164879c3fa3cc6a9956405e652f', 'split_id': 106}),\n",
       "   Document(id=e131e965-8066-4ac1-8630-319433e7300d, content: 'Large meat-eating dinosaurs had a complex system of air sacs similar to those found in modern birds,...', meta: {'file_path': '../dinosaur-page.html', 'source_id': '397c39cd02b4ddec650906e433b995103ffd8164879c3fa3cc6a9956405e652f', 'split_id': 107}),\n",
       "   Document(id=e80371c0-855f-438d-bbee-213dcf1ef745, content: '<h3>Behavioral evidence</h3>', meta: {'file_path': '../dinosaur-page.html', 'source_id': '397c39cd02b4ddec650906e433b995103ffd8164879c3fa3cc6a9956405e652f', 'split_id': 108}),\n",
       "   Document(id=1a87a34b-a829-4582-b794-95492c9cb3e6, content: 'Fossils of the troodonts Mei and Sinornithoides demonstrate that some dinosaurs slept with their hea...', meta: {'file_path': '../dinosaur-page.html', 'source_id': '397c39cd02b4ddec650906e433b995103ffd8164879c3fa3cc6a9956405e652f', 'split_id': 109}),\n",
       "   Document(id=447e6d8a-173c-45c7-9c2f-12bed6fe4d44, content: 'Some dinosaurs are known to have used gizzard stones like modern birds. These stones are swallowed b...', meta: {'file_path': '../dinosaur-page.html', 'source_id': '397c39cd02b4ddec650906e433b995103ffd8164879c3fa3cc6a9956405e652f', 'split_id': 110}),\n",
       "   Document(id=218dbf51-49e0-4158-8c42-fd367325dccb, content: '<h2>Extinction of major groups</h2>', meta: {'file_path': '../dinosaur-page.html', 'source_id': '397c39cd02b4ddec650906e433b995103ffd8164879c3fa3cc6a9956405e652f', 'split_id': 111}),\n",
       "   Document(id=1d9812d9-e290-4ee1-9bb1-957ffaaa3cf3, content: 'All non-avian dinosaurs and most lineages of birds became extinct in a mass extinction event, called...', meta: {'file_path': '../dinosaur-page.html', 'source_id': '397c39cd02b4ddec650906e433b995103ffd8164879c3fa3cc6a9956405e652f', 'split_id': 112}),\n",
       "   Document(id=c3d92288-5e5f-4f18-a647-86433526b8f0, content: '<h3>Pre-extinction diversity</h3>', meta: {'file_path': '../dinosaur-page.html', 'source_id': '397c39cd02b4ddec650906e433b995103ffd8164879c3fa3cc6a9956405e652f', 'split_id': 113}),\n",
       "   Document(id=212b7e60-2c4c-4889-bfe9-787f9ab57e4e, content: 'Just before the K-Pg extinction event, the number of non-avian dinosaur species that existed globall...', meta: {'file_path': '../dinosaur-page.html', 'source_id': '397c39cd02b4ddec650906e433b995103ffd8164879c3fa3cc6a9956405e652f', 'split_id': 114}),\n",
       "   Document(id=dfa72ff2-d1a8-4699-bbe4-7556a4654ae8, content: '<h3>Impact event</h3>', meta: {'file_path': '../dinosaur-page.html', 'source_id': '397c39cd02b4ddec650906e433b995103ffd8164879c3fa3cc6a9956405e652f', 'split_id': 115}),\n",
       "   Document(id=d8839d33-56cf-4c1e-b8f3-1f094b206bed, content: 'The bolide impact hypothesis, first brought to wide attention in 1980 by Walter Alvarez, Luis Alvare...', meta: {'file_path': '../dinosaur-page.html', 'source_id': '397c39cd02b4ddec650906e433b995103ffd8164879c3fa3cc6a9956405e652f', 'split_id': 116}),\n",
       "   Document(id=eae9ac03-5a23-4060-ab1e-10cf7d3023fb, content: 'Within hours, the Chicxulub impact would have created immediate effects such as earthquakes, tsunami...', meta: {'file_path': '../dinosaur-page.html', 'source_id': '397c39cd02b4ddec650906e433b995103ffd8164879c3fa3cc6a9956405e652f', 'split_id': 117}),\n",
       "   Document(id=41c48848-d459-4c50-8c18-61c5862faaf8, content: '<h3>Deccan Traps</h3>', meta: {'file_path': '../dinosaur-page.html', 'source_id': '397c39cd02b4ddec650906e433b995103ffd8164879c3fa3cc6a9956405e652f', 'split_id': 118}),\n",
       "   Document(id=955891ac-ea80-4d02-977b-310e7e22b384, content: 'At the time of the K-Pg extinction, the Deccan Traps flood basalts of India were actively erupting. ...', meta: {'file_path': '../dinosaur-page.html', 'source_id': '397c39cd02b4ddec650906e433b995103ffd8164879c3fa3cc6a9956405e652f', 'split_id': 119}),\n",
       "   Document(id=d2ebc903-607e-4a18-a9e4-44b83dcb36d6, content: 'Before 2000, arguments that the Deccan Traps eruptions—as opposed to the Chicxulub impact—caused the...', meta: {'file_path': '../dinosaur-page.html', 'source_id': '397c39cd02b4ddec650906e433b995103ffd8164879c3fa3cc6a9956405e652f', 'split_id': 120}),\n",
       "   Document(id=2a54d8e4-11d6-4f4a-8af1-ad3fdd7e5203, content: 'Whether the Deccan Traps were a major cause of the extinction, on par with the Chicxulub impact, rem...', meta: {'file_path': '../dinosaur-page.html', 'source_id': '397c39cd02b4ddec650906e433b995103ffd8164879c3fa3cc6a9956405e652f', 'split_id': 121}),\n",
       "   Document(id=2ce7f8c8-f1b7-425e-8498-28d75fa2d9a8, content: '<h3>Possible Paleocene survivors</h3>', meta: {'file_path': '../dinosaur-page.html', 'source_id': '397c39cd02b4ddec650906e433b995103ffd8164879c3fa3cc6a9956405e652f', 'split_id': 122}),\n",
       "   Document(id=2a40d0e4-16e4-4934-90db-f7936d812511, content: 'Non-avian dinosaur remains have occasionally been found above the K-Pg boundary. In 2000, Spencer Lu...', meta: {'file_path': '../dinosaur-page.html', 'source_id': '397c39cd02b4ddec650906e433b995103ffd8164879c3fa3cc6a9956405e652f', 'split_id': 123}),\n",
       "   Document(id=25f36284-fc8a-49e0-806c-621ede5362eb, content: '<h2>Cultural depictions</h2>', meta: {'file_path': '../dinosaur-page.html', 'source_id': '397c39cd02b4ddec650906e433b995103ffd8164879c3fa3cc6a9956405e652f', 'split_id': 124}),\n",
       "   Document(id=e78216b4-ca89-447d-8774-ae3f1d1c58cc, content: 'By human standards, dinosaurs were creatures of fantastic appearance and often enormous size. As suc...', meta: {'file_path': '../dinosaur-page.html', 'source_id': '397c39cd02b4ddec650906e433b995103ffd8164879c3fa3cc6a9956405e652f', 'split_id': 125}),\n",
       "   Document(id=0f841fb5-69e2-470e-ad66-90b9b3668c0f, content: 'Public enthusiasm for dinosaurs first developed in Victorian England, where in 1854, three decades a...', meta: {'file_path': '../dinosaur-page.html', 'source_id': '397c39cd02b4ddec650906e433b995103ffd8164879c3fa3cc6a9956405e652f', 'split_id': 126}),\n",
       "   Document(id=42752ffb-540e-4bd2-bc9c-0e39c858765f, content: 'The popular preoccupation with dinosaurs has ensured their appearance in literature, film, and other...', meta: {'file_path': '../dinosaur-page.html', 'source_id': '397c39cd02b4ddec650906e433b995103ffd8164879c3fa3cc6a9956405e652f', 'split_id': 127}),\n",
       "   Document(id=3c76848a-53a7-4926-8194-918d29924500, content: '<h2>See also</h2>', meta: {'file_path': '../dinosaur-page.html', 'source_id': '397c39cd02b4ddec650906e433b995103ffd8164879c3fa3cc6a9956405e652f', 'split_id': 128}),\n",
       "   Document(id=83fe2441-3093-4651-bbb6-1d6767b06bb5, content: '- Dinosaur diet and feeding - Evolutionary history of life - Lists of dinosaur-bearing stratigraphic...', meta: {'file_path': '../dinosaur-page.html', 'source_id': '397c39cd02b4ddec650906e433b995103ffd8164879c3fa3cc6a9956405e652f', 'split_id': 129}),\n",
       "   Document(id=3df4ed13-70ad-4cda-b947-1e39567bf177, content: '<h2>Notes</h2>', meta: {'file_path': '../dinosaur-page.html', 'source_id': '397c39cd02b4ddec650906e433b995103ffd8164879c3fa3cc6a9956405e652f', 'split_id': 130}),\n",
       "   Document(id=df5f2ca8-d55d-4413-b053-0dc7c55f22d9, content: '<h2>References</h2>', meta: {'file_path': '../dinosaur-page.html', 'source_id': '397c39cd02b4ddec650906e433b995103ffd8164879c3fa3cc6a9956405e652f', 'split_id': 131}),\n",
       "   Document(id=b8a313f3-48f8-468b-987b-6fd481ffe115, content: '<h2>Bibliography</h2>', meta: {'file_path': '../dinosaur-page.html', 'source_id': '397c39cd02b4ddec650906e433b995103ffd8164879c3fa3cc6a9956405e652f', 'split_id': 132}),\n",
       "   Document(id=b05c8954-5905-4def-b6a7-53f7020fe1e9, content: '<h2>Further reading</h2>', meta: {'file_path': '../dinosaur-page.html', 'source_id': '397c39cd02b4ddec650906e433b995103ffd8164879c3fa3cc6a9956405e652f', 'split_id': 133}),\n",
       "   Document(id=33643ceb-2c72-47c0-bee4-22ecc7661bbe, content: '- University of Southampton (September 29, 2021). \"Two New Species of Large Predatory Dinosaur With ...', meta: {'file_path': '../dinosaur-page.html', 'source_id': '397c39cd02b4ddec650906e433b995103ffd8164879c3fa3cc6a9956405e652f', 'split_id': 134})]}}"
      ]
     },
     "execution_count": 13,
     "metadata": {},
     "output_type": "execute_result"
    }
   ],
   "source": [
    "docs"
   ]
  },
  {
   "cell_type": "code",
   "execution_count": 14,
   "metadata": {},
   "outputs": [],
   "source": [
    "documents = docs['splitter']['documents']"
   ]
  },
  {
   "cell_type": "code",
   "execution_count": 16,
   "metadata": {},
   "outputs": [
    {
     "data": {
      "text/plain": [
       "135"
      ]
     },
     "execution_count": 16,
     "metadata": {},
     "output_type": "execute_result"
    }
   ],
   "source": [
    "document_store.write_documents(documents=documents)"
   ]
  },
  {
   "cell_type": "code",
   "execution_count": 18,
   "metadata": {},
   "outputs": [],
   "source": [
    "from haystack_integrations.components.retrievers.elasticsearch import ElasticsearchBM25Retriever\n",
    "\n",
    "retriever = ElasticsearchBM25Retriever(document_store=document_store)"
   ]
  },
  {
   "cell_type": "code",
   "execution_count": 23,
   "metadata": {},
   "outputs": [],
   "source": [
    "question = \"What is Mamenchisaurus?\"\n",
    "\n",
    "fetched = retriever.run(query=question, top_k=1)"
   ]
  },
  {
   "cell_type": "code",
   "execution_count": 24,
   "metadata": {},
   "outputs": [
    {
     "data": {
      "text/plain": [
       "{'documents': [Document(id=3f78f1ee-610f-4e7d-8c19-78cb1c1e365f, content: 'Dinosaur evolution after the Triassic followed changes in vegetation and the location of continents....', meta: {'file_path': '../dinosaur-page.html', 'source_id': '397c39cd02b4ddec650906e433b995103ffd8164879c3fa3cc6a9956405e652f', 'split_id': 44}, score: 3.050006)]}"
      ]
     },
     "execution_count": 24,
     "metadata": {},
     "output_type": "execute_result"
    }
   ],
   "source": [
    "fetched"
   ]
  },
  {
   "cell_type": "markdown",
   "metadata": {},
   "source": [
    "Found the correct chunk"
   ]
  },
  {
   "cell_type": "code",
   "execution_count": 25,
   "metadata": {},
   "outputs": [
    {
     "data": {
      "text/plain": [
       "{'documents': [Document(id=1e8ed23c-c7b0-4eeb-aec9-8a6654748d1d, content: 'The first potential evidence for herding or flocking as a widespread behavior common to many dinosau...', meta: {'file_path': '../dinosaur-page.html', 'source_id': '397c39cd02b4ddec650906e433b995103ffd8164879c3fa3cc6a9956405e652f', 'split_id': 76}, score: 2.750564)]}"
      ]
     },
     "execution_count": 25,
     "metadata": {},
     "output_type": "execute_result"
    }
   ],
   "source": [
    "question = \"What is Averostra?\"\n",
    "\n",
    "fetched = retriever.run(query=question, top_k=1)\n",
    "fetched"
   ]
  },
  {
   "cell_type": "markdown",
   "metadata": {},
   "source": [
    "Wrong chunk!"
   ]
  },
  {
   "cell_type": "code",
   "execution_count": 26,
   "metadata": {},
   "outputs": [
    {
     "data": {
      "text/plain": [
       "{'documents': [Document(id=b0beaf46-b54e-4247-a61e-8ab834022788, content: 'Based on fossil evidence from dinosaurs such as Oryctodromeus , some ornithischian species seem to h...', meta: {'file_path': '../dinosaur-page.html', 'source_id': '397c39cd02b4ddec650906e433b995103ffd8164879c3fa3cc6a9956405e652f', 'split_id': 80}, score: 4.9544535)]}"
      ]
     },
     "execution_count": 26,
     "metadata": {},
     "output_type": "execute_result"
    }
   ],
   "source": [
    "question = \"What is Oryctodromeus?\"\n",
    "\n",
    "fetched = retriever.run(query=question, top_k=1)\n",
    "fetched"
   ]
  },
  {
   "cell_type": "markdown",
   "metadata": {},
   "source": [
    "Correct chunk"
   ]
  },
  {
   "cell_type": "code",
   "execution_count": 27,
   "metadata": {},
   "outputs": [
    {
     "data": {
      "text/plain": [
       "{'documents': [Document(id=11ffe376-8ca3-437b-a8fd-97877f74d834, content: 'The possibility that dinosaurs were the ancestors of birds was first suggested in 1868 by Thomas Hen...', meta: {'file_path': '../dinosaur-page.html', 'source_id': '397c39cd02b4ddec650906e433b995103ffd8164879c3fa3cc6a9956405e652f', 'split_id': 99}, score: 5.110334)]}"
      ]
     },
     "execution_count": 27,
     "metadata": {},
     "output_type": "execute_result"
    }
   ],
   "source": [
    "question = \"Who is Heilmann?\"\n",
    "\n",
    "fetched = retriever.run(query=question, top_k=1)\n",
    "fetched"
   ]
  },
  {
   "cell_type": "markdown",
   "metadata": {},
   "source": [
    "Correct chunk"
   ]
  },
  {
   "cell_type": "code",
   "execution_count": 28,
   "metadata": {},
   "outputs": [
    {
     "data": {
      "text/plain": [
       "{'documents': [Document(id=23c1fe3c-2bea-4277-a32f-f02893c3fe3e, content: 'Archaeopteryx was the first fossil found that revealed a potential connection between dinosaurs and ...', meta: {'file_path': '../dinosaur-page.html', 'source_id': '397c39cd02b4ddec650906e433b995103ffd8164879c3fa3cc6a9956405e652f', 'split_id': 103}, score: 5.787794)]}"
      ]
     },
     "execution_count": 28,
     "metadata": {},
     "output_type": "execute_result"
    }
   ],
   "source": [
    "question = \"What is Compsognathus?\"\n",
    "\n",
    "fetched = retriever.run(query=question, top_k=1)\n",
    "fetched"
   ]
  },
  {
   "cell_type": "code",
   "execution_count": null,
   "metadata": {},
   "outputs": [],
   "source": []
  }
 ],
 "metadata": {
  "kernelspec": {
   "display_name": "Python (argonk)",
   "language": "python",
   "name": "argonk"
  },
  "language_info": {
   "codemirror_mode": {
    "name": "ipython",
    "version": 3
   },
   "file_extension": ".py",
   "mimetype": "text/x-python",
   "name": "python",
   "nbconvert_exporter": "python",
   "pygments_lexer": "ipython3",
   "version": "3.12.4"
  }
 },
 "nbformat": 4,
 "nbformat_minor": 2
}
