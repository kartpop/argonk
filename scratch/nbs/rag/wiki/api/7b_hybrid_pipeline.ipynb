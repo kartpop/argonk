{
 "cells": [
  {
   "cell_type": "markdown",
   "metadata": {},
   "source": [
    "### Components"
   ]
  },
  {
   "cell_type": "code",
   "execution_count": 1,
   "metadata": {},
   "outputs": [
    {
     "name": "stderr",
     "output_type": "stream",
     "text": [
      "/home/kartikeya/miniconda3/envs/argonk/lib/python3.12/site-packages/tqdm/auto.py:21: TqdmWarning: IProgress not found. Please update jupyter and ipywidgets. See https://ipywidgets.readthedocs.io/en/stable/user_install.html\n",
      "  from .autonotebook import tqdm as notebook_tqdm\n",
      "/home/kartikeya/miniconda3/envs/argonk/lib/python3.12/site-packages/google/protobuf/runtime_version.py:112: UserWarning: Protobuf gencode version 5.27.2 is older than the runtime version 5.28.0 at grpc_health/v1/health.proto. Please avoid checked-in Protobuf gencode that can be obsolete.\n",
      "  warnings.warn(\n",
      "/home/kartikeya/miniconda3/envs/argonk/lib/python3.12/site-packages/haystack/components/generators/openai.py:106: DeprecationWarning: In the upcoming releases 'gpt-3.5-turbo' will be replaced by 'gpt-4o-mini' as the default model\n",
      "  warnings.warn(\n"
     ]
    }
   ],
   "source": [
    "from haystack.components.embedders import OpenAIDocumentEmbedder, OpenAITextEmbedder\n",
    "from haystack_integrations.document_stores.weaviate.document_store import (\n",
    "    WeaviateDocumentStore,\n",
    ")\n",
    "from haystack_integrations.components.retrievers.weaviate.embedding_retriever import (\n",
    "    WeaviateEmbeddingRetriever,\n",
    ")\n",
    "from haystack.components.builders import PromptBuilder\n",
    "from haystack.components.generators import OpenAIGenerator\n",
    "from haystack_integrations.document_stores.elasticsearch import (\n",
    "    ElasticsearchDocumentStore,\n",
    ")\n",
    "from haystack_integrations.components.retrievers.elasticsearch import (\n",
    "    ElasticsearchBM25Retriever,\n",
    ")\n",
    "from haystack.components.joiners.document_joiner import DocumentJoiner\n",
    "from lib.templates import p1_qa_template\n",
    "\n",
    "\n",
    "document_embedder = OpenAIDocumentEmbedder(model=\"text-embedding-3-small\")\n",
    "text_embedder = OpenAITextEmbedder(model=\"text-embedding-3-small\")\n",
    "weaviate_store = WeaviateDocumentStore(url=\"http://localhost:8088\")\n",
    "elasticsearch_store = ElasticsearchDocumentStore(hosts=\"http://localhost:9200\")\n",
    "weaviate_retriever = WeaviateEmbeddingRetriever(document_store=weaviate_store, top_k=3)\n",
    "elasticsearch_retriever = ElasticsearchBM25Retriever(\n",
    "    document_store=elasticsearch_store, top_k=3\n",
    ")\n",
    "reciprocal_rank_fusion_joiner = DocumentJoiner(\n",
    "    join_mode=\"reciprocal_rank_fusion\"\n",
    ")\n",
    "p1_qa_prompt_builder = PromptBuilder(template=p1_qa_template)\n",
    "p1_qa_generator = OpenAIGenerator(model=\"gpt-4o-mini\")"
   ]
  },
  {
   "cell_type": "markdown",
   "metadata": {},
   "source": [
    "### Pipeline"
   ]
  },
  {
   "cell_type": "code",
   "execution_count": 2,
   "metadata": {},
   "outputs": [
    {
     "data": {
      "text/plain": [
       "<haystack.core.pipeline.pipeline.Pipeline object at 0x747070a01190>\n",
       "🚅 Components\n",
       "  - text_embedder: OpenAITextEmbedder\n",
       "  - weaviate_retriever: WeaviateEmbeddingRetriever\n",
       "  - elasticsearch_retriever: ElasticsearchBM25Retriever\n",
       "  - reciprocal_rank_fusion_joiner: DocumentJoiner\n",
       "  - p1_qa_prompt_builder: PromptBuilder\n",
       "  - p1_qa_generator: OpenAIGenerator\n",
       "🛤️ Connections\n",
       "  - text_embedder.embedding -> weaviate_retriever.query_embedding (List[float])\n",
       "  - weaviate_retriever.documents -> reciprocal_rank_fusion_joiner.documents (List[Document])\n",
       "  - elasticsearch_retriever.documents -> reciprocal_rank_fusion_joiner.documents (List[Document])\n",
       "  - reciprocal_rank_fusion_joiner.documents -> p1_qa_prompt_builder.documents (List[Document])\n",
       "  - p1_qa_prompt_builder.prompt -> p1_qa_generator.prompt (str)"
      ]
     },
     "execution_count": 2,
     "metadata": {},
     "output_type": "execute_result"
    }
   ],
   "source": [
    "from haystack import Pipeline\n",
    "\n",
    "hybrid_pipeline = Pipeline()\n",
    "\n",
    "hybrid_pipeline.add_component(\"text_embedder\", text_embedder)\n",
    "hybrid_pipeline.add_component(\"weaviate_retriever\", weaviate_retriever)\n",
    "hybrid_pipeline.add_component(\"elasticsearch_retriever\", elasticsearch_retriever)\n",
    "hybrid_pipeline.add_component(\"reciprocal_rank_fusion_joiner\", reciprocal_rank_fusion_joiner)\n",
    "hybrid_pipeline.add_component(\"p1_qa_prompt_builder\", p1_qa_prompt_builder)\n",
    "hybrid_pipeline.add_component(\"p1_qa_generator\", p1_qa_generator)\n",
    "\n",
    "hybrid_pipeline.connect(\"text_embedder.embedding\", \"weaviate_retriever.query_embedding\")\n",
    "hybrid_pipeline.connect(\"weaviate_retriever\", \"reciprocal_rank_fusion_joiner\")\n",
    "hybrid_pipeline.connect(\"elasticsearch_retriever\", \"reciprocal_rank_fusion_joiner\")\n",
    "hybrid_pipeline.connect(\"reciprocal_rank_fusion_joiner.documents\", \"p1_qa_prompt_builder.documents\")\n",
    "hybrid_pipeline.connect(\"p1_qa_prompt_builder\", \"p1_qa_generator\")"
   ]
  },
  {
   "cell_type": "markdown",
   "metadata": {},
   "source": [
    "### Pipeline input data"
   ]
  },
  {
   "cell_type": "code",
   "execution_count": 3,
   "metadata": {},
   "outputs": [],
   "source": [
    "from lib.models.p1_qa import P1QA\n",
    "\n",
    "p1_qa_schema = P1QA.model_json_schema()"
   ]
  },
  {
   "cell_type": "code",
   "execution_count": 10,
   "metadata": {},
   "outputs": [
    {
     "name": "stderr",
     "output_type": "stream",
     "text": [
      "/home/kartikeya/miniconda3/envs/argonk/lib/python3.12/site-packages/posthog/client.py:345: DeprecationWarning: datetime.datetime.utcnow() is deprecated and scheduled for removal in a future version. Use timezone-aware objects to represent datetimes in UTC: datetime.datetime.now(datetime.UTC).\n",
      "  timestamp = datetime.utcnow().replace(tzinfo=tzutc())\n",
      "/home/kartikeya/miniconda3/envs/argonk/lib/python3.12/site-packages/posthog/request.py:40: DeprecationWarning: datetime.datetime.utcnow() is deprecated and scheduled for removal in a future version. Use timezone-aware objects to represent datetimes in UTC: datetime.datetime.now(datetime.UTC).\n",
      "  body[\"sentAt\"] = datetime.utcnow().replace(tzinfo=tzutc()).isoformat()\n"
     ]
    },
    {
     "data": {
      "text/plain": [
       "{'text_embedder': {'meta': {'model': 'text-embedding-3-small',\n",
       "   'usage': {'prompt_tokens': 6, 'total_tokens': 6}}},\n",
       " 'p1_qa_generator': {'replies': ['{\\n  \"answer\": \"Dinosaurs went extinct at the end of the Cretaceous period during the Cretaceous–Paleogene (K-Pg) extinction event, which occurred around 66.038 million years ago.\",\\n  \"need_more_context\": false,\\n  \"reasoning\": \"The context clearly states the timing of the extinction of dinosaurs, linking it to the K-Pg extinction event and providing an exact date.\"\\n}'],\n",
       "  'meta': [{'model': 'gpt-4o-mini-2024-07-18',\n",
       "    'index': 0,\n",
       "    'finish_reason': 'stop',\n",
       "    'usage': {'completion_tokens': 89,\n",
       "     'prompt_tokens': 1484,\n",
       "     'total_tokens': 1573,\n",
       "     'completion_tokens_details': {'reasoning_tokens': 0}}}]},\n",
       " 'elasticsearch_retriever': {'documents': [Document(id=a0d28395-4798-4c2d-b8a3-9a29dadc09dc, content: 'Some dinosaurs are known to have used gizzard stones like modern birds. These stones are swallowed b...', meta: {'file_path': 'Dinosaur.html', 'source_id': '93000a3fb02b99d2d115cd4042256d2f5db2a0ff3928927ca14465276534a75e', 'split_id': 233, 'title': 'Dinosaurs', 'h2': 'Origin of birds', 'h3': 'Behavioral evidence'}, score: 7.0222874, embedding: vector of size 1536),\n",
       "   Document(id=47234d41-15c7-451e-95b3-2a7b31baf8b1, content: 'When dinosaurs appeared, they were not the dominant terrestrial animals. The terrestrial habitats we...', meta: {'file_path': 'Dinosaur.html', 'source_id': '93000a3fb02b99d2d115cd4042256d2f5db2a0ff3928927ca14465276534a75e', 'split_id': 42, 'title': 'Dinosaurs', 'h2': 'Evolutionary history', 'h3': 'Origins and early evolution'}, score: 6.650359, embedding: vector of size 1536),\n",
       "   Document(id=3f45e988-b093-4d9c-bde1-67e2e4c3b599, content: 'All non-avian dinosaurs and most lineages of birds became extinct in a mass extinction event, called...', meta: {'file_path': 'Dinosaur.html', 'source_id': '93000a3fb02b99d2d115cd4042256d2f5db2a0ff3928927ca14465276534a75e', 'split_id': 234, 'title': 'Dinosaurs', 'h2': 'Extinction of major groups'}, score: 6.5870996, embedding: vector of size 1536)]},\n",
       " 'weaviate_retriever': {'documents': [Document(id=3f45e988-b093-4d9c-bde1-67e2e4c3b599, content: 'All non-avian dinosaurs and most lineages of birds became extinct in a mass extinction event, called...', meta: {'h3': None, 'source_id': '93000a3fb02b99d2d115cd4042256d2f5db2a0ff3928927ca14465276534a75e', 'split_id': 234.0, 'file_path': 'Dinosaur.html', 'title': 'Dinosaurs', 'h4': None, 'h2': 'Extinction of major groups'}, score: 0.8278954029083252, embedding: vector of size 1536),\n",
       "   Document(id=47234d41-15c7-451e-95b3-2a7b31baf8b1, content: 'When dinosaurs appeared, they were not the dominant terrestrial animals. The terrestrial habitats we...', meta: {'h3': 'Origins and early evolution', 'source_id': '93000a3fb02b99d2d115cd4042256d2f5db2a0ff3928927ca14465276534a75e', 'split_id': 42.0, 'file_path': 'Dinosaur.html', 'title': 'Dinosaurs', 'h4': None, 'h2': 'Evolutionary history'}, score: 0.8149242401123047, embedding: vector of size 1536),\n",
       "   Document(id=75b8c578-e366-483d-8a1c-3e32a93dcc36, content: 'Dinosaurs diverged from their archosaur ancestors during the Middle to Late Triassic epochs, roughly...', meta: {'h3': 'Origins and early evolution', 'split_id': 39.0, 'source_id': '93000a3fb02b99d2d115cd4042256d2f5db2a0ff3928927ca14465276534a75e', 'file_path': 'Dinosaur.html', 'title': 'Dinosaurs', 'h4': None, 'h2': 'Evolutionary history'}, score: 0.8109116554260254, embedding: vector of size 1536)]},\n",
       " 'reciprocal_rank_fusion_joiner': {'documents': [Document(id=3f45e988-b093-4d9c-bde1-67e2e4c3b599, content: 'All non-avian dinosaurs and most lineages of birds became extinct in a mass extinction event, called...', meta: {'h3': None, 'source_id': '93000a3fb02b99d2d115cd4042256d2f5db2a0ff3928927ca14465276534a75e', 'split_id': 234.0, 'file_path': 'Dinosaur.html', 'title': 'Dinosaurs', 'h4': None, 'h2': 'Extinction of major groups'}, score: 0.9841269841269842, embedding: vector of size 1536),\n",
       "   Document(id=47234d41-15c7-451e-95b3-2a7b31baf8b1, content: 'When dinosaurs appeared, they were not the dominant terrestrial animals. The terrestrial habitats we...', meta: {'h3': 'Origins and early evolution', 'source_id': '93000a3fb02b99d2d115cd4042256d2f5db2a0ff3928927ca14465276534a75e', 'split_id': 42.0, 'file_path': 'Dinosaur.html', 'title': 'Dinosaurs', 'h4': None, 'h2': 'Evolutionary history'}, score: 0.9838709677419354, embedding: vector of size 1536),\n",
       "   Document(id=a0d28395-4798-4c2d-b8a3-9a29dadc09dc, content: 'Some dinosaurs are known to have used gizzard stones like modern birds. These stones are swallowed b...', meta: {'file_path': 'Dinosaur.html', 'source_id': '93000a3fb02b99d2d115cd4042256d2f5db2a0ff3928927ca14465276534a75e', 'split_id': 233, 'title': 'Dinosaurs', 'h2': 'Origin of birds', 'h3': 'Behavioral evidence'}, score: 0.5, embedding: vector of size 1536),\n",
       "   Document(id=75b8c578-e366-483d-8a1c-3e32a93dcc36, content: 'Dinosaurs diverged from their archosaur ancestors during the Middle to Late Triassic epochs, roughly...', meta: {'h3': 'Origins and early evolution', 'split_id': 39.0, 'source_id': '93000a3fb02b99d2d115cd4042256d2f5db2a0ff3928927ca14465276534a75e', 'file_path': 'Dinosaur.html', 'title': 'Dinosaurs', 'h4': None, 'h2': 'Evolutionary history'}, score: 0.4841269841269841, embedding: vector of size 1536)]}}"
      ]
     },
     "execution_count": 10,
     "metadata": {},
     "output_type": "execute_result"
    }
   ],
   "source": [
    "query = \"When did dinosaurs go extinct?\"\n",
    "\n",
    "input_data = {\n",
    "    \"elasticsearch_retriever\": {\"query\": query},\n",
    "    \"text_embedder\": {\"text\": query},\n",
    "    \"p1_qa_prompt_builder\": {\"p1_qa_schema\": p1_qa_schema, \"query\": query},\n",
    "}\n",
    "\n",
    "result = hybrid_pipeline.run(data=input_data, include_outputs_from={\"elasticsearch_retriever\", \"weaviate_retriever\", \"reciprocal_rank_fusion_joiner\"})\n",
    "\n",
    "result"
   ]
  },
  {
   "cell_type": "markdown",
   "metadata": {},
   "source": [
    "LLM successfully answers the straightforward question with 'need_more_context': false"
   ]
  },
  {
   "cell_type": "code",
   "execution_count": 6,
   "metadata": {},
   "outputs": [
    {
     "data": {
      "text/plain": [
       "{'text_embedder': {'meta': {'model': 'text-embedding-3-small',\n",
       "   'usage': {'prompt_tokens': 14, 'total_tokens': 14}}},\n",
       " 'p1_qa_generator': {'replies': ['{\\n  \"answer\": \"Dinosaurs exhibited a variety of anatomical features, such as modifications to the ancestral archosaurian skeleton and elaborate display structures like horns or crests. Some groups developed additional skeletal modifications, including bony armor and spines. In terms of size, while many dinosaurs were large-bodied, with the largest sauropods reaching lengths of 39.7 meters and heights of 18 meters, there were also many small dinosaurs, some measuring about 50 centimeters in length.\",\\n  \"need_more_context\": false,\\n  \"reasoning\": \"The context provides sufficient information about the anatomical features of dinosaurs as well as details concerning their size, answering the question comprehensively.\"\\n}'],\n",
       "  'meta': [{'model': 'gpt-4o-mini-2024-07-18',\n",
       "    'index': 0,\n",
       "    'finish_reason': 'stop',\n",
       "    'usage': {'completion_tokens': 140,\n",
       "     'prompt_tokens': 1703,\n",
       "     'total_tokens': 1843,\n",
       "     'completion_tokens_details': {'reasoning_tokens': 0}}}]},\n",
       " 'elasticsearch_retriever': {'documents': [Document(id=ed090260-bd01-484a-8029-03523e3ac3fd, content: 'Knowledge about dinosaurs is derived from a variety of fossil and non-fossil records, including foss...', meta: {'file_path': 'Dinosaur.html', 'source_id': '93000a3fb02b99d2d115cd4042256d2f5db2a0ff3928927ca14465276534a75e', 'split_id': 198, 'title': 'Dinosaurs', 'h2': 'Paleobiology'}, score: 14.713473, embedding: vector of size 1536),\n",
       "   Document(id=e3301398-887c-4cc7-a10f-3299dd420a88, content: 'While recent discoveries have made it more difficult to present a universally agreed-upon list of th...', meta: {'file_path': 'Dinosaur.html', 'source_id': '93000a3fb02b99d2d115cd4042256d2f5db2a0ff3928927ca14465276534a75e', 'split_id': 10, 'title': 'Dinosaurs', 'h2': 'Definition', 'h3': 'Distinguishing anatomical features'}, score: 14.477703, embedding: vector of size 1536),\n",
       "   Document(id=6b99b42d-4e7e-486f-982d-0e1a597c7aa8, content: 'The study of these \"great fossil lizards\" soon became of great interest to European and American sci...', meta: {'file_path': 'Dinosaur.html', 'source_id': '93000a3fb02b99d2d115cd4042256d2f5db2a0ff3928927ca14465276534a75e', 'split_id': 30, 'title': 'Dinosaurs', 'h2': 'History of study', 'h3': 'Early dinosaur research'}, score: 13.828311, embedding: vector of size 1536)]},\n",
       " 'weaviate_retriever': {'documents': [Document(id=fb334a4d-0c1c-4a4d-98a7-ec1db6a5ecca, content: 'While dinosaurs were ancestrally bipedal, many extinct groups included quadrupedal species, and some...', meta: {'h3': None, 'source_id': '93000a3fb02b99d2d115cd4042256d2f5db2a0ff3928927ca14465276534a75e', 'split_id': 2.0, 'file_path': 'Dinosaur.html', 'title': 'Dinosaurs', 'h4': None, 'h2': None}, score: 0.8413305282592773, embedding: vector of size 1536),\n",
       "   Document(id=6d8ce2b2-dbcf-43bb-a598-4a61a52029ba, content: 'The size and shape of the brain can be partly reconstructed based on the surrounding bones. In 1896,...', meta: {'h3': 'Physiology', 'source_id': '93000a3fb02b99d2d115cd4042256d2f5db2a0ff3928927ca14465276534a75e', 'split_id': 225.0, 'file_path': 'Dinosaur.html', 'title': 'Dinosaurs', 'h4': None, 'h2': 'Paleobiology'}, score: 0.8153641223907471, embedding: vector of size 1536),\n",
       "   Document(id=bceced15-011d-4c78-9be4-168e32244697, content: 'Scientists will probably never be certain of the largest and smallest dinosaurs to have ever existed...', meta: {'h3': 'Size', 'source_id': '93000a3fb02b99d2d115cd4042256d2f5db2a0ff3928927ca14465276534a75e', 'split_id': 201.0, 'file_path': 'Dinosaur.html', 'title': 'Dinosaurs', 'h4': 'Largest and smallest', 'h2': 'Paleobiology'}, score: 0.8047342896461487, embedding: vector of size 1536)]},\n",
       " 'reciprocal_rank_fusion_joiner': {'documents': [Document(id=ed090260-bd01-484a-8029-03523e3ac3fd, content: 'Knowledge about dinosaurs is derived from a variety of fossil and non-fossil records, including foss...', meta: {'file_path': 'Dinosaur.html', 'source_id': '93000a3fb02b99d2d115cd4042256d2f5db2a0ff3928927ca14465276534a75e', 'split_id': 198, 'title': 'Dinosaurs', 'h2': 'Paleobiology'}, score: 0.5, embedding: vector of size 1536),\n",
       "   Document(id=fb334a4d-0c1c-4a4d-98a7-ec1db6a5ecca, content: 'While dinosaurs were ancestrally bipedal, many extinct groups included quadrupedal species, and some...', meta: {'h3': None, 'source_id': '93000a3fb02b99d2d115cd4042256d2f5db2a0ff3928927ca14465276534a75e', 'split_id': 2.0, 'file_path': 'Dinosaur.html', 'title': 'Dinosaurs', 'h4': None, 'h2': None}, score: 0.5, embedding: vector of size 1536),\n",
       "   Document(id=e3301398-887c-4cc7-a10f-3299dd420a88, content: 'While recent discoveries have made it more difficult to present a universally agreed-upon list of th...', meta: {'file_path': 'Dinosaur.html', 'source_id': '93000a3fb02b99d2d115cd4042256d2f5db2a0ff3928927ca14465276534a75e', 'split_id': 10, 'title': 'Dinosaurs', 'h2': 'Definition', 'h3': 'Distinguishing anatomical features'}, score: 0.4919354838709677, embedding: vector of size 1536),\n",
       "   Document(id=6d8ce2b2-dbcf-43bb-a598-4a61a52029ba, content: 'The size and shape of the brain can be partly reconstructed based on the surrounding bones. In 1896,...', meta: {'h3': 'Physiology', 'source_id': '93000a3fb02b99d2d115cd4042256d2f5db2a0ff3928927ca14465276534a75e', 'split_id': 225.0, 'file_path': 'Dinosaur.html', 'title': 'Dinosaurs', 'h4': None, 'h2': 'Paleobiology'}, score: 0.4919354838709677, embedding: vector of size 1536),\n",
       "   Document(id=6b99b42d-4e7e-486f-982d-0e1a597c7aa8, content: 'The study of these \"great fossil lizards\" soon became of great interest to European and American sci...', meta: {'file_path': 'Dinosaur.html', 'source_id': '93000a3fb02b99d2d115cd4042256d2f5db2a0ff3928927ca14465276534a75e', 'split_id': 30, 'title': 'Dinosaurs', 'h2': 'History of study', 'h3': 'Early dinosaur research'}, score: 0.4841269841269841, embedding: vector of size 1536),\n",
       "   Document(id=bceced15-011d-4c78-9be4-168e32244697, content: 'Scientists will probably never be certain of the largest and smallest dinosaurs to have ever existed...', meta: {'h3': 'Size', 'source_id': '93000a3fb02b99d2d115cd4042256d2f5db2a0ff3928927ca14465276534a75e', 'split_id': 201.0, 'file_path': 'Dinosaur.html', 'title': 'Dinosaurs', 'h4': 'Largest and smallest', 'h2': 'Paleobiology'}, score: 0.4841269841269841, embedding: vector of size 1536)]}}"
      ]
     },
     "execution_count": 6,
     "metadata": {},
     "output_type": "execute_result"
    }
   ],
   "source": [
    "query = \"Give a brief about the anatomical features of dinosaurs and their size.\"\n",
    "\n",
    "input_data = {\n",
    "    \"elasticsearch_retriever\": {\"query\": query},\n",
    "    \"text_embedder\": {\"text\": query},\n",
    "    \"p1_qa_prompt_builder\": {\"p1_qa_schema\": p1_qa_schema, \"query\": query},\n",
    "}\n",
    "\n",
    "result = hybrid_pipeline.run(data=input_data, include_outputs_from={\"elasticsearch_retriever\", \"weaviate_retriever\", \"reciprocal_rank_fusion_joiner\"})\n",
    "\n",
    "result"
   ]
  },
  {
   "cell_type": "code",
   "execution_count": 9,
   "metadata": {},
   "outputs": [
    {
     "data": {
      "text/plain": [
       "{'text_embedder': {'meta': {'model': 'text-embedding-3-small',\n",
       "   'usage': {'prompt_tokens': 6, 'total_tokens': 6}}},\n",
       " 'p1_qa_generator': {'replies': ['{\\n  \"answer\": \"The text indicates that dinosaurs have become an enduring part of popular culture and that their large sizes and seemingly monstrous nature have made them regular attractions in best-selling books and films, such as the Jurassic Park franchise. This public enthusiasm, alongside their depiction in literature and media, likely contributes to children\\'s fondness for dinosaurs.\",\\n  \"need_more_context\": true,\\n  \"reasoning\": \"The context provides some reasons related to popular culture and media portrayals of dinosaurs but does not directly address why children specifically like dinosaurs. More information about children\\'s preferences or psychological factors would be needed for a complete answer.\"\\n}'],\n",
       "  'meta': [{'model': 'gpt-4o-mini-2024-07-18',\n",
       "    'index': 0,\n",
       "    'finish_reason': 'stop',\n",
       "    'usage': {'completion_tokens': 125,\n",
       "     'prompt_tokens': 1629,\n",
       "     'total_tokens': 1754,\n",
       "     'completion_tokens_details': {'reasoning_tokens': 0}}}]},\n",
       " 'elasticsearch_retriever': {'documents': [Document(id=6a5296df-cad7-4018-a480-be13585292b6, content: 'However, researchers do not agree regarding whether these structures share a common origin between l...', meta: {'file_path': 'Dinosaur.html', 'source_id': '93000a3fb02b99d2d115cd4042256d2f5db2a0ff3928927ca14465276534a75e', 'split_id': 228, 'title': 'Dinosaurs', 'h2': 'Origin of birds', 'h3': 'Feathers'}, score: 7.930399, embedding: vector of size 1536),\n",
       "   Document(id=a2615644-6d63-416b-b17a-1b5a4ef8a902, content: 'Exoccipitals (bones at the back of the skull) do not meet along the midline on the floor of the endo...', meta: {'file_path': 'Dinosaur.html', 'source_id': '93000a3fb02b99d2d115cd4042256d2f5db2a0ff3928927ca14465276534a75e', 'split_id': 19, 'title': 'Dinosaurs', 'h2': 'Definition', 'h3': 'Distinguishing anatomical features'}, score: 5.7622404, embedding: vector of size 1536),\n",
       "   Document(id=e640edd7-12c7-45ed-9344-3ba7d826aef6, content: 'From a behavioral standpoint, one of the most valuable dinosaur fossils was discovered in the Gobi D...', meta: {'file_path': 'Dinosaur.html', 'source_id': '93000a3fb02b99d2d115cd4042256d2f5db2a0ff3928927ca14465276534a75e', 'split_id': 209, 'title': 'Dinosaurs', 'h2': 'Paleobiology', 'h3': 'Behavior'}, score: 5.6836224, embedding: vector of size 1536)]},\n",
       " 'weaviate_retriever': {'documents': [Document(id=aeb05fa8-a272-4527-ac62-f623b7c65831, content: 'Public enthusiasm for dinosaurs first developed in Victorian England, where in 1854, three decades a...', meta: {'h3': None, 'source_id': '93000a3fb02b99d2d115cd4042256d2f5db2a0ff3928927ca14465276534a75e', 'split_id': 243.0, 'file_path': 'Dinosaur.html', 'title': 'Dinosaurs', 'h4': None, 'h2': 'Cultural depictions'}, score: 0.7864808440208435, embedding: vector of size 1536),\n",
       "   Document(id=298c4052-ebd4-4de9-a15e-49400409b4c6, content: 'The first dinosaur fossils were recognized in the early 19th century, with the name \"dinosaur\" (mean...', meta: {'h3': None, 'source_id': '93000a3fb02b99d2d115cd4042256d2f5db2a0ff3928927ca14465276534a75e', 'split_id': 3.0, 'file_path': 'Dinosaur.html', 'title': 'Dinosaurs', 'h4': None, 'h2': None}, score: 0.7850344181060791, embedding: vector of size 1536),\n",
       "   Document(id=3aacf659-c395-452b-92a1-e2e1d2b81ec3, content: 'The popular preoccupation with dinosaurs has ensured their appearance in literature, film, and other...', meta: {'h3': None, 'split_id': 244.0, 'source_id': '93000a3fb02b99d2d115cd4042256d2f5db2a0ff3928927ca14465276534a75e', 'file_path': 'Dinosaur.html', 'title': 'Dinosaurs', 'h4': None, 'h2': 'Cultural depictions'}, score: 0.7784231901168823, embedding: vector of size 1536)]},\n",
       " 'reciprocal_rank_fusion_joiner': {'documents': [Document(id=6a5296df-cad7-4018-a480-be13585292b6, content: 'However, researchers do not agree regarding whether these structures share a common origin between l...', meta: {'file_path': 'Dinosaur.html', 'source_id': '93000a3fb02b99d2d115cd4042256d2f5db2a0ff3928927ca14465276534a75e', 'split_id': 228, 'title': 'Dinosaurs', 'h2': 'Origin of birds', 'h3': 'Feathers'}, score: 0.5, embedding: vector of size 1536),\n",
       "   Document(id=aeb05fa8-a272-4527-ac62-f623b7c65831, content: 'Public enthusiasm for dinosaurs first developed in Victorian England, where in 1854, three decades a...', meta: {'h3': None, 'source_id': '93000a3fb02b99d2d115cd4042256d2f5db2a0ff3928927ca14465276534a75e', 'split_id': 243.0, 'file_path': 'Dinosaur.html', 'title': 'Dinosaurs', 'h4': None, 'h2': 'Cultural depictions'}, score: 0.5, embedding: vector of size 1536),\n",
       "   Document(id=a2615644-6d63-416b-b17a-1b5a4ef8a902, content: 'Exoccipitals (bones at the back of the skull) do not meet along the midline on the floor of the endo...', meta: {'file_path': 'Dinosaur.html', 'source_id': '93000a3fb02b99d2d115cd4042256d2f5db2a0ff3928927ca14465276534a75e', 'split_id': 19, 'title': 'Dinosaurs', 'h2': 'Definition', 'h3': 'Distinguishing anatomical features'}, score: 0.4919354838709677, embedding: vector of size 1536),\n",
       "   Document(id=298c4052-ebd4-4de9-a15e-49400409b4c6, content: 'The first dinosaur fossils were recognized in the early 19th century, with the name \"dinosaur\" (mean...', meta: {'h3': None, 'source_id': '93000a3fb02b99d2d115cd4042256d2f5db2a0ff3928927ca14465276534a75e', 'split_id': 3.0, 'file_path': 'Dinosaur.html', 'title': 'Dinosaurs', 'h4': None, 'h2': None}, score: 0.4919354838709677, embedding: vector of size 1536),\n",
       "   Document(id=e640edd7-12c7-45ed-9344-3ba7d826aef6, content: 'From a behavioral standpoint, one of the most valuable dinosaur fossils was discovered in the Gobi D...', meta: {'file_path': 'Dinosaur.html', 'source_id': '93000a3fb02b99d2d115cd4042256d2f5db2a0ff3928927ca14465276534a75e', 'split_id': 209, 'title': 'Dinosaurs', 'h2': 'Paleobiology', 'h3': 'Behavior'}, score: 0.4841269841269841, embedding: vector of size 1536),\n",
       "   Document(id=3aacf659-c395-452b-92a1-e2e1d2b81ec3, content: 'The popular preoccupation with dinosaurs has ensured their appearance in literature, film, and other...', meta: {'h3': None, 'split_id': 244.0, 'source_id': '93000a3fb02b99d2d115cd4042256d2f5db2a0ff3928927ca14465276534a75e', 'file_path': 'Dinosaur.html', 'title': 'Dinosaurs', 'h4': None, 'h2': 'Cultural depictions'}, score: 0.4841269841269841, embedding: vector of size 1536)]}}"
      ]
     },
     "execution_count": 9,
     "metadata": {},
     "output_type": "execute_result"
    }
   ],
   "source": [
    "query = \"Why do children like dinosaurs?\"\n",
    "\n",
    "input_data = {\n",
    "    \"elasticsearch_retriever\": {\"query\": query},\n",
    "    \"text_embedder\": {\"text\": query},\n",
    "    \"p1_qa_prompt_builder\": {\"p1_qa_schema\": p1_qa_schema, \"query\": query},\n",
    "}\n",
    "\n",
    "result = hybrid_pipeline.run(data=input_data, include_outputs_from={\"elasticsearch_retriever\", \"weaviate_retriever\", \"reciprocal_rank_fusion_joiner\"})\n",
    "\n",
    "result"
   ]
  },
  {
   "cell_type": "code",
   "execution_count": 8,
   "metadata": {},
   "outputs": [
    {
     "name": "stderr",
     "output_type": "stream",
     "text": [
      "/home/kartikeya/miniconda3/envs/argonk/lib/python3.12/site-packages/posthog/client.py:345: DeprecationWarning: datetime.datetime.utcnow() is deprecated and scheduled for removal in a future version. Use timezone-aware objects to represent datetimes in UTC: datetime.datetime.now(datetime.UTC).\n",
      "  timestamp = datetime.utcnow().replace(tzinfo=tzutc())\n"
     ]
    },
    {
     "data": {
      "text/plain": [
       "{'text_embedder': {'meta': {'model': 'text-embedding-3-small',\n",
       "   'usage': {'prompt_tokens': 15, 'total_tokens': 15}}},\n",
       " 'p1_qa_generator': {'replies': ['{\\n  \"answer\": \"Dinosaurs exhibited various anatomical features, notably modifications to the ancestral archosaurian skeleton that are typical for the group, reflecting synapomorphies. These anatomical modifications include elaborate display structures such as horns or crests, along with skeletal adaptations like bony armor and spines found in some groups. In terms of size, dinosaurs varied immensely. While many dinosaurs were large-bodied, such as the sauropod dinosaurs, which reached lengths up to 39.7 meters and heights of 18 meters, there were also many smaller species. The smallest known dinosaur, the bee hummingbird, measured only 5 centimeters in length. Other small non-avian dinosaurs were about the size of pigeons, like Anchiornis huxleyi, which had an estimated weight of 110 grams and a total skeletal length of 34 centimeters. Overall, the diversity in size and anatomical features indicates a wide range of adaptations among dinosaurs, influenced by their environment and evolutionary history.\",\\n  \"need_more_context\": true,\\n  \"reasoning\": \"The context provides some information about anatomical features and sizes of dinosaurs, but it may not cover all aspects of the question in detail, making it difficult to write a comprehensive essay.\"\\n}'],\n",
       "  'meta': [{'model': 'gpt-4o-mini-2024-07-18',\n",
       "    'index': 0,\n",
       "    'finish_reason': 'stop',\n",
       "    'usage': {'completion_tokens': 251,\n",
       "     'prompt_tokens': 1369,\n",
       "     'total_tokens': 1620,\n",
       "     'completion_tokens_details': {'reasoning_tokens': 0}}}]},\n",
       " 'elasticsearch_retriever': {'documents': [Document(id=ed090260-bd01-484a-8029-03523e3ac3fd, content: 'Knowledge about dinosaurs is derived from a variety of fossil and non-fossil records, including foss...', meta: {'file_path': 'Dinosaur.html', 'source_id': '93000a3fb02b99d2d115cd4042256d2f5db2a0ff3928927ca14465276534a75e', 'split_id': 198, 'title': 'Dinosaurs', 'h2': 'Paleobiology'}, score: 14.713473, embedding: vector of size 1536),\n",
       "   Document(id=e3301398-887c-4cc7-a10f-3299dd420a88, content: 'While recent discoveries have made it more difficult to present a universally agreed-upon list of th...', meta: {'file_path': 'Dinosaur.html', 'source_id': '93000a3fb02b99d2d115cd4042256d2f5db2a0ff3928927ca14465276534a75e', 'split_id': 10, 'title': 'Dinosaurs', 'h2': 'Definition', 'h3': 'Distinguishing anatomical features'}, score: 14.477703, embedding: vector of size 1536),\n",
       "   Document(id=f39087f3-654f-42c8-b7b6-b9a671d028ad, content: 'The smallest dinosaur known is the bee hummingbird, with a length of only 5 centimeters (2.0 in) and...', meta: {'file_path': 'Dinosaur.html', 'source_id': '93000a3fb02b99d2d115cd4042256d2f5db2a0ff3928927ca14465276534a75e', 'split_id': 205, 'title': 'Dinosaurs', 'h2': 'Paleobiology', 'h3': 'Size', 'h4': 'Largest and smallest'}, score: 13.608733, embedding: vector of size 1536)]},\n",
       " 'weaviate_retriever': {'documents': [Document(id=fb334a4d-0c1c-4a4d-98a7-ec1db6a5ecca, content: 'While dinosaurs were ancestrally bipedal, many extinct groups included quadrupedal species, and some...', meta: {'h3': None, 'split_id': 2.0, 'source_id': '93000a3fb02b99d2d115cd4042256d2f5db2a0ff3928927ca14465276534a75e', 'file_path': 'Dinosaur.html', 'title': 'Dinosaurs', 'h4': None, 'h2': None}, score: 0.775223970413208, embedding: vector of size 1536),\n",
       "   Document(id=ed090260-bd01-484a-8029-03523e3ac3fd, content: 'Knowledge about dinosaurs is derived from a variety of fossil and non-fossil records, including foss...', meta: {'h3': None, 'source_id': '93000a3fb02b99d2d115cd4042256d2f5db2a0ff3928927ca14465276534a75e', 'split_id': 198.0, 'file_path': 'Dinosaur.html', 'title': 'Dinosaurs', 'h4': None, 'h2': 'Paleobiology'}, score: 0.774723470211029, embedding: vector of size 1536),\n",
       "   Document(id=bceced15-011d-4c78-9be4-168e32244697, content: 'Scientists will probably never be certain of the largest and smallest dinosaurs to have ever existed...', meta: {'h3': 'Size', 'split_id': 201.0, 'source_id': '93000a3fb02b99d2d115cd4042256d2f5db2a0ff3928927ca14465276534a75e', 'file_path': 'Dinosaur.html', 'title': 'Dinosaurs', 'h4': 'Largest and smallest', 'h2': 'Paleobiology'}, score: 0.7716158628463745, embedding: vector of size 1536)]},\n",
       " 'reciprocal_rank_fusion_joiner': {'documents': [Document(id=ed090260-bd01-484a-8029-03523e3ac3fd, content: 'Knowledge about dinosaurs is derived from a variety of fossil and non-fossil records, including foss...', meta: {'h3': None, 'source_id': '93000a3fb02b99d2d115cd4042256d2f5db2a0ff3928927ca14465276534a75e', 'split_id': 198.0, 'file_path': 'Dinosaur.html', 'title': 'Dinosaurs', 'h4': None, 'h2': 'Paleobiology'}, score: 0.9919354838709679, embedding: vector of size 1536),\n",
       "   Document(id=fb334a4d-0c1c-4a4d-98a7-ec1db6a5ecca, content: 'While dinosaurs were ancestrally bipedal, many extinct groups included quadrupedal species, and some...', meta: {'h3': None, 'split_id': 2.0, 'source_id': '93000a3fb02b99d2d115cd4042256d2f5db2a0ff3928927ca14465276534a75e', 'file_path': 'Dinosaur.html', 'title': 'Dinosaurs', 'h4': None, 'h2': None}, score: 0.5, embedding: vector of size 1536),\n",
       "   Document(id=e3301398-887c-4cc7-a10f-3299dd420a88, content: 'While recent discoveries have made it more difficult to present a universally agreed-upon list of th...', meta: {'file_path': 'Dinosaur.html', 'source_id': '93000a3fb02b99d2d115cd4042256d2f5db2a0ff3928927ca14465276534a75e', 'split_id': 10, 'title': 'Dinosaurs', 'h2': 'Definition', 'h3': 'Distinguishing anatomical features'}, score: 0.4919354838709677, embedding: vector of size 1536),\n",
       "   Document(id=f39087f3-654f-42c8-b7b6-b9a671d028ad, content: 'The smallest dinosaur known is the bee hummingbird, with a length of only 5 centimeters (2.0 in) and...', meta: {'file_path': 'Dinosaur.html', 'source_id': '93000a3fb02b99d2d115cd4042256d2f5db2a0ff3928927ca14465276534a75e', 'split_id': 205, 'title': 'Dinosaurs', 'h2': 'Paleobiology', 'h3': 'Size', 'h4': 'Largest and smallest'}, score: 0.4841269841269841, embedding: vector of size 1536),\n",
       "   Document(id=bceced15-011d-4c78-9be4-168e32244697, content: 'Scientists will probably never be certain of the largest and smallest dinosaurs to have ever existed...', meta: {'h3': 'Size', 'split_id': 201.0, 'source_id': '93000a3fb02b99d2d115cd4042256d2f5db2a0ff3928927ca14465276534a75e', 'file_path': 'Dinosaur.html', 'title': 'Dinosaurs', 'h4': 'Largest and smallest', 'h2': 'Paleobiology'}, score: 0.4841269841269841, embedding: vector of size 1536)]}}"
      ]
     },
     "execution_count": 8,
     "metadata": {},
     "output_type": "execute_result"
    }
   ],
   "source": [
    "query = \"Write a detailed essay about the anatomical features of dinosaurs and their size.\"\n",
    "\n",
    "input_data = {\n",
    "    \"elasticsearch_retriever\": {\"query\": query},\n",
    "    \"text_embedder\": {\"text\": query},\n",
    "    \"p1_qa_prompt_builder\": {\"p1_qa_schema\": p1_qa_schema, \"query\": query},\n",
    "}\n",
    "\n",
    "result = hybrid_pipeline.run(data=input_data, include_outputs_from={\"elasticsearch_retriever\", \"weaviate_retriever\", \"reciprocal_rank_fusion_joiner\"})\n",
    "\n",
    "result"
   ]
  },
  {
   "cell_type": "code",
   "execution_count": 11,
   "metadata": {},
   "outputs": [
    {
     "name": "stderr",
     "output_type": "stream",
     "text": [
      "/home/kartikeya/miniconda3/envs/argonk/lib/python3.12/site-packages/posthog/client.py:345: DeprecationWarning: datetime.datetime.utcnow() is deprecated and scheduled for removal in a future version. Use timezone-aware objects to represent datetimes in UTC: datetime.datetime.now(datetime.UTC).\n",
      "  timestamp = datetime.utcnow().replace(tzinfo=tzutc())\n",
      "/home/kartikeya/miniconda3/envs/argonk/lib/python3.12/site-packages/posthog/request.py:40: DeprecationWarning: datetime.datetime.utcnow() is deprecated and scheduled for removal in a future version. Use timezone-aware objects to represent datetimes in UTC: datetime.datetime.now(datetime.UTC).\n",
      "  body[\"sentAt\"] = datetime.utcnow().replace(tzinfo=tzutc()).isoformat()\n"
     ]
    },
    {
     "data": {
      "text/plain": [
       "{'text_embedder': {'meta': {'model': 'text-embedding-3-small',\n",
       "   'usage': {'prompt_tokens': 12, 'total_tokens': 12}}},\n",
       " 'p1_qa_generator': {'replies': ['{\\n  \"answer\": \"\",\\n  \"need_more_context\": true,\\n  \"reasoning\": \"The context does not provide information regarding the reasons behind the presence of a sail on Spinosaurus\\'s back.\"\\n}'],\n",
       "  'meta': [{'model': 'gpt-4o-mini-2024-07-18',\n",
       "    'index': 0,\n",
       "    'finish_reason': 'stop',\n",
       "    'usage': {'completion_tokens': 43,\n",
       "     'prompt_tokens': 1609,\n",
       "     'total_tokens': 1652,\n",
       "     'completion_tokens_details': {'reasoning_tokens': 0}}}]},\n",
       " 'elasticsearch_retriever': {'documents': [Document(id=e640edd7-12c7-45ed-9344-3ba7d826aef6, content: 'From a behavioral standpoint, one of the most valuable dinosaur fossils was discovered in the Gobi D...', meta: {'file_path': 'Dinosaur.html', 'source_id': '93000a3fb02b99d2d115cd4042256d2f5db2a0ff3928927ca14465276534a75e', 'split_id': 209, 'title': 'Dinosaurs', 'h2': 'Paleobiology', 'h3': 'Behavior'}, score: 12.236727, embedding: vector of size 1536),\n",
       "   Document(id=6fef6db7-2835-4fc5-8c42-e8359c72f96d, content: 'On the basis that non-avian dinosaurs did not have syrinxes and that their next close living relativ...', meta: {'file_path': 'Dinosaur.html', 'source_id': '93000a3fb02b99d2d115cd4042256d2f5db2a0ff3928927ca14465276534a75e', 'split_id': 213, 'title': 'Dinosaurs', 'h2': 'Paleobiology', 'h3': 'Communication'}, score: 7.840109, embedding: vector of size 1536),\n",
       "   Document(id=72964dd2-a5a8-4f60-a1ce-6ab52a861eb6, content: 'Based on fossil evidence from dinosaurs such as Oryctodromeus , some ornithischian species seem to h...', meta: {'file_path': 'Dinosaur.html', 'source_id': '93000a3fb02b99d2d115cd4042256d2f5db2a0ff3928927ca14465276534a75e', 'split_id': 211, 'title': 'Dinosaurs', 'h2': 'Paleobiology', 'h3': 'Behavior'}, score: 7.7893696, embedding: vector of size 1536)]},\n",
       " 'weaviate_retriever': {'documents': [Document(id=3eb33cbe-3685-4ded-be55-77ff1d6971e7, content: '†Spinosauridae (crocodile-like, semiaquatic carnivores)', meta: {'h3': 'Taxonomy', 'split_id': 158.0, 'source_id': '93000a3fb02b99d2d115cd4042256d2f5db2a0ff3928927ca14465276534a75e', 'file_path': 'Dinosaur.html', 'title': 'Dinosaurs', 'h4': None, 'h2': 'Classification'}, score: 0.7188546657562256, embedding: vector of size 1536),\n",
       "   Document(id=20e258a0-3ef3-413b-89cc-4660319b1847, content: 'In saurischian dinosaurs, higher metabolisms were supported by the evolution of the avian respirator...', meta: {'h3': 'Physiology', 'source_id': '93000a3fb02b99d2d115cd4042256d2f5db2a0ff3928927ca14465276534a75e', 'split_id': 223.0, 'file_path': 'Dinosaur.html', 'title': 'Dinosaurs', 'h4': None, 'h2': 'Paleobiology'}, score: 0.7119420766830444, embedding: vector of size 1536),\n",
       "   Document(id=91ac30bc-825d-4c11-8694-65085e8afddf, content: 'Dinosaurs stand with their hind limbs erect in a manner similar to most modern mammals, but distinct...', meta: {'h3': 'Distinguishing anatomical features', 'split_id': 26.0, 'source_id': '93000a3fb02b99d2d115cd4042256d2f5db2a0ff3928927ca14465276534a75e', 'file_path': 'Dinosaur.html', 'title': 'Dinosaurs', 'h4': None, 'h2': 'Definition'}, score: 0.7115781903266907, embedding: vector of size 1536)]},\n",
       " 'reciprocal_rank_fusion_joiner': {'documents': [Document(id=e640edd7-12c7-45ed-9344-3ba7d826aef6, content: 'From a behavioral standpoint, one of the most valuable dinosaur fossils was discovered in the Gobi D...', meta: {'file_path': 'Dinosaur.html', 'source_id': '93000a3fb02b99d2d115cd4042256d2f5db2a0ff3928927ca14465276534a75e', 'split_id': 209, 'title': 'Dinosaurs', 'h2': 'Paleobiology', 'h3': 'Behavior'}, score: 0.5, embedding: vector of size 1536),\n",
       "   Document(id=3eb33cbe-3685-4ded-be55-77ff1d6971e7, content: '†Spinosauridae (crocodile-like, semiaquatic carnivores)', meta: {'h3': 'Taxonomy', 'split_id': 158.0, 'source_id': '93000a3fb02b99d2d115cd4042256d2f5db2a0ff3928927ca14465276534a75e', 'file_path': 'Dinosaur.html', 'title': 'Dinosaurs', 'h4': None, 'h2': 'Classification'}, score: 0.5, embedding: vector of size 1536),\n",
       "   Document(id=6fef6db7-2835-4fc5-8c42-e8359c72f96d, content: 'On the basis that non-avian dinosaurs did not have syrinxes and that their next close living relativ...', meta: {'file_path': 'Dinosaur.html', 'source_id': '93000a3fb02b99d2d115cd4042256d2f5db2a0ff3928927ca14465276534a75e', 'split_id': 213, 'title': 'Dinosaurs', 'h2': 'Paleobiology', 'h3': 'Communication'}, score: 0.4919354838709677, embedding: vector of size 1536),\n",
       "   Document(id=20e258a0-3ef3-413b-89cc-4660319b1847, content: 'In saurischian dinosaurs, higher metabolisms were supported by the evolution of the avian respirator...', meta: {'h3': 'Physiology', 'source_id': '93000a3fb02b99d2d115cd4042256d2f5db2a0ff3928927ca14465276534a75e', 'split_id': 223.0, 'file_path': 'Dinosaur.html', 'title': 'Dinosaurs', 'h4': None, 'h2': 'Paleobiology'}, score: 0.4919354838709677, embedding: vector of size 1536),\n",
       "   Document(id=72964dd2-a5a8-4f60-a1ce-6ab52a861eb6, content: 'Based on fossil evidence from dinosaurs such as Oryctodromeus , some ornithischian species seem to h...', meta: {'file_path': 'Dinosaur.html', 'source_id': '93000a3fb02b99d2d115cd4042256d2f5db2a0ff3928927ca14465276534a75e', 'split_id': 211, 'title': 'Dinosaurs', 'h2': 'Paleobiology', 'h3': 'Behavior'}, score: 0.4841269841269841, embedding: vector of size 1536),\n",
       "   Document(id=91ac30bc-825d-4c11-8694-65085e8afddf, content: 'Dinosaurs stand with their hind limbs erect in a manner similar to most modern mammals, but distinct...', meta: {'h3': 'Distinguishing anatomical features', 'split_id': 26.0, 'source_id': '93000a3fb02b99d2d115cd4042256d2f5db2a0ff3928927ca14465276534a75e', 'file_path': 'Dinosaur.html', 'title': 'Dinosaurs', 'h4': None, 'h2': 'Definition'}, score: 0.4841269841269841, embedding: vector of size 1536)]}}"
      ]
     },
     "execution_count": 11,
     "metadata": {},
     "output_type": "execute_result"
    }
   ],
   "source": [
    "query = \"Why did Spinosaurus have a sail on its back?\"\n",
    "\n",
    "input_data = {\n",
    "    \"elasticsearch_retriever\": {\"query\": query},\n",
    "    \"text_embedder\": {\"text\": query},\n",
    "    \"p1_qa_prompt_builder\": {\"p1_qa_schema\": p1_qa_schema, \"query\": query},\n",
    "}\n",
    "\n",
    "result = hybrid_pipeline.run(data=input_data, include_outputs_from={\"elasticsearch_retriever\", \"weaviate_retriever\", \"reciprocal_rank_fusion_joiner\"})\n",
    "\n",
    "result"
   ]
  },
  {
   "cell_type": "markdown",
   "metadata": {},
   "source": [
    "### Observations"
   ]
  },
  {
   "cell_type": "markdown",
   "metadata": {},
   "source": [
    "- After multiple tweaks to the ```p1_qa_template```, results are satisfactory.\n",
    "- More prompt engineering can result in better responses from the model.\n",
    "- For now, the model ticks these boxes:\n",
    "    - if context has no answer, model refrains from giving a made-up answer and provides satisfactory reasoning\n",
    "    - if context has partial answer, model gives a partial answer AND asks for more context\n",
    "    - if question is specific and context has the answer, model gives an answer and DOES NOT ask for more context"
   ]
  },
  {
   "cell_type": "code",
   "execution_count": null,
   "metadata": {},
   "outputs": [],
   "source": []
  }
 ],
 "metadata": {
  "kernelspec": {
   "display_name": "Python (argonk)",
   "language": "python",
   "name": "argonk"
  },
  "language_info": {
   "codemirror_mode": {
    "name": "ipython",
    "version": 3
   },
   "file_extension": ".py",
   "mimetype": "text/x-python",
   "name": "python",
   "nbconvert_exporter": "python",
   "pygments_lexer": "ipython3",
   "version": "3.12.4"
  }
 },
 "nbformat": 4,
 "nbformat_minor": 2
}
