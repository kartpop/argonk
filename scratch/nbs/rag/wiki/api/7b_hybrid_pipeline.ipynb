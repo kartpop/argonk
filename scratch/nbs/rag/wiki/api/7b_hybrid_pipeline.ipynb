{
 "cells": [
  {
   "cell_type": "code",
   "execution_count": 2,
   "metadata": {},
   "outputs": [],
   "source": [
    "from haystack.components.embedders import OpenAIDocumentEmbedder, OpenAITextEmbedder\n",
    "from haystack_integrations.document_stores.weaviate.document_store import WeaviateDocumentStore\n",
    "from haystack_integrations.components.retrievers.weaviate.embedding_retriever import WeaviateEmbeddingRetriever\n",
    "from haystack.components.builders import PromptBuilder\n",
    "from haystack.components.generators import OpenAIGenerator\n",
    "from haystack_integrations.document_stores.elasticsearch import ElasticsearchDocumentStore\n",
    "from haystack_integrations.components.retrievers.elasticsearch import ElasticsearchBM25Retriever\n",
    "from haystack import Pipeline\n",
    "from haystack.components.joiners.document_joiner import DocumentJoiner\n",
    "\n",
    "\n",
    "embedder = OpenAIDocumentEmbedder(model=\"text-embedding-3-small\")\n",
    "text_embedder = OpenAITextEmbedder(model=\"text-embedding-3-small\")\n",
    "weaviate_store = WeaviateDocumentStore(url=\"http://localhost:8088\")\n",
    "elasticsearch_store = ElasticsearchDocumentStore(hosts= \"http://localhost:9200\")\n",
    "weaviate_retriever = WeaviateEmbeddingRetriever(document_store=weaviate_store, top_k=3)\n",
    "elasticsearch_retriever = ElasticsearchBM25Retriever(document_store=elasticsearch_store, top_k=3)\n",
    "reciprocal_rank_fusion_joiner = DocumentJoiner(join_mode=\"reciprocal_rank_fusion\", top_k=3)\n",
    "generator = OpenAIGenerator(model=\"gpt-4o-mini\")"
   ]
  },
  {
   "cell_type": "code",
   "execution_count": null,
   "metadata": {},
   "outputs": [],
   "source": []
  }
 ],
 "metadata": {
  "kernelspec": {
   "display_name": "Python (argonk)",
   "language": "python",
   "name": "argonk"
  },
  "language_info": {
   "codemirror_mode": {
    "name": "ipython",
    "version": 3
   },
   "file_extension": ".py",
   "mimetype": "text/x-python",
   "name": "python",
   "nbconvert_exporter": "python",
   "pygments_lexer": "ipython3",
   "version": "3.12.4"
  }
 },
 "nbformat": 4,
 "nbformat_minor": 2
}
