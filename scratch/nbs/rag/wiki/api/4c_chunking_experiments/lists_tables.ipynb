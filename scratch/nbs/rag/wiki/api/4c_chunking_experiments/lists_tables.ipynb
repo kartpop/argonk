{
 "cells": [
  {
   "cell_type": "code",
   "execution_count": 1,
   "metadata": {},
   "outputs": [],
   "source": [
    "import wikipediaapi\n",
    "\n",
    "def fetch_page(page_title: str):\n",
    "    wiki_html = wikipediaapi.Wikipedia(\n",
    "    user_agent='Tinker/0.1 (kartikeyapophali@gmail.com)',\n",
    "    language='en',\n",
    "    extract_format=wikipediaapi.ExtractFormat.HTML\n",
    "    )\n",
    "\n",
    "    p_html = wiki_html.page(page_title)\n",
    "    underscored_page_title = page_title.replace(\" \", \"_\")\n",
    "    with open(f\"{underscored_page_title}.html\", \"w\") as file:\n",
    "        file.write(p_html.text)"
   ]
  },
  {
   "cell_type": "code",
   "execution_count": 7,
   "metadata": {},
   "outputs": [],
   "source": [
    "fetch_page(\"List of sauropod species\")"
   ]
  },
  {
   "cell_type": "code",
   "execution_count": 5,
   "metadata": {},
   "outputs": [],
   "source": [
    "import wikipediaapi\n",
    "\n",
    "def fetch_page_text(page_title: str):\n",
    "    wiki_wiki = wikipediaapi.Wikipedia(\n",
    "    user_agent='Tinker/0.1 (kartikeyapophali@gmail.com)',\n",
    "    language='en',\n",
    "    extract_format=wikipediaapi.ExtractFormat.WIKI\n",
    "    )\n",
    "    p_wiki = wiki_wiki.page(page_title)\n",
    "    underscored_page_title = page_title.replace(\" \", \"_\")\n",
    "    with open(f\"{underscored_page_title}.txt\", \"w\") as file:\n",
    "        file.write(p_wiki.text)"
   ]
  },
  {
   "cell_type": "code",
   "execution_count": 6,
   "metadata": {},
   "outputs": [],
   "source": [
    "fetch_page_text(\"List of sauropod species\")"
   ]
  },
  {
   "cell_type": "markdown",
   "metadata": {},
   "source": [
    "### Try BeautifulSoup for scraping tables"
   ]
  },
  {
   "cell_type": "code",
   "execution_count": 9,
   "metadata": {},
   "outputs": [
    {
     "name": "stdout",
     "output_type": "stream",
     "text": [
      "Table 1\n",
      "                        Scientific name  \\\n",
      "0         Cetiosaurus longus Owen, 1842   \n",
      "1         Cetiosaurus medius Owen, 1842   \n",
      "2         Cetiosaurus brevis Owen, 1842   \n",
      "3        Cardiodon rugulosus Owen, 1844   \n",
      "4  Cetiosaurus conybeari Melville, 1849   \n",
      "\n",
      "                                    Taxonomic status   Authors Date named  \\\n",
      "0                                    Nomen dubium[4]      Owen       1842   \n",
      "1                                    Nomen dubium[4]      Owen       1842   \n",
      "2                                         Unclear[a]      Owen       1842   \n",
      "3                                    Nomen dubium[9]      Owen       1844   \n",
      "4  Objective junior synonym of Cetiosaurus brevis...  Melville       1849   \n",
      "\n",
      "           Parent clade                                              Age  \\\n",
      "0                   NaN    154.8–149.2 Ma Late Jurassic: Kimmeridgian[5]   \n",
      "1          Sauropoda[6]                    161.5–145 Ma Late Jurassic[7]   \n",
      "2  Titanosauriformes[8]  139.8–132.6 Ma Early Cretaceous: Valanginian[8]   \n",
      "3           Eusauropoda                174.7–161.5 Ma Middle Jurassic[5]   \n",
      "4  Titanosauriformes[8]  139.8–132.6 Ma Early Cretaceous: Valanginian[8]   \n",
      "\n",
      "         Location Notes  \n",
      "0  United Kingdom   NaN  \n",
      "1  United Kingdom   NaN  \n",
      "2  United Kingdom   NaN  \n",
      "3  United Kingdom   NaN  \n",
      "4  United Kingdom   NaN  \n",
      "Table 2\n",
      "                                     Scientific name Taxonomic status  \\\n",
      "0              Amygdalodon patagonicus Cabrera, 1947        Valid[94]   \n",
      "1           Volkheimeria chubutensis Bonaparte, 1979            Valid   \n",
      "2                    Camelotia borealis Galton, 1985              NaN   \n",
      "3  Blikanasaurus cromptoni Galton & Van Heerden, ...            Valid   \n",
      "4        Chinshakiangosaurus chunghoensis Dong, 1992            Valid   \n",
      "\n",
      "                  Authors    Date named  Age       Countries  \\\n",
      "0                 Cabrera  Feb 13, 1947  NaN       Argentina   \n",
      "1               Bonaparte  Sep 28, 1979  NaN       Argentina   \n",
      "2                  Galton          1985  NaN  United Kingdom   \n",
      "3  Galton and Van Heerden          1985  NaN    South Africa   \n",
      "4                    Dong          1992  NaN           China   \n",
      "\n",
      "                               Phylogenetic position  Notes  Skeletal diagram  \n",
      "0  Interpreted as a eusauropod by Rauhut.[94] Rec...    NaN               NaN  \n",
      "1  Recovered basal to Vulcanodon by phylogenetic ...    NaN               NaN  \n",
      "2  Originally described as a melanorosaurid, but ...    NaN               NaN  \n",
      "3  Originally described as a prosauropod, but has...    NaN               NaN  \n",
      "4                                                NaN    NaN               NaN  \n",
      "Table 3\n",
      "  Species misidentified as sauropods                     \\\n",
      "                     Scientific name   Taxonomic status   \n",
      "0  Cetiosaurus brachyurus Owen, 1842  Nomen dubium[101]   \n",
      "1   Hypsibema crassicauda Cope, 1869                NaN   \n",
      "2  Cetiosaurus rigauxi Sauvage, 1874                NaN   \n",
      "3         Apatodon mirus Marsh, 1877                NaN   \n",
      "4    Tichosteus lucasanus Cope, 1877                NaN   \n",
      "\n",
      "                                                                             \n",
      "  Current classification                                              Notes  \n",
      "0              Iguanodon  One of the four original species of Cetiosauru...  \n",
      "1                    NaN  Regarded as a sauropod by Baird and Horner in ...  \n",
      "2             Pliosaurus  Sauvage initially interpreted this species, ba...  \n",
      "3                    NaN               Listed as a sauropod by Kuhn in 1937  \n",
      "4                    NaN  Listed as a member of Cetiosauria by Osborn in...  \n",
      "Table 4\n",
      "                              Name Author    Date  \\\n",
      "0  \"Amphicoelias brontodiplodocus\"    NaN     NaN   \n",
      "1          \"Nurosaurus qaganensis\"    NaN     NaN   \n",
      "2  \"Mamenchisaurus guangyuanensis\"  Zhang  1981.0   \n",
      "3     \"Dachongosaurus yunnanensis\"    NaN     NaN   \n",
      "4  \"Lancanjiangosaurus cachuensis\"    NaN     NaN   \n",
      "\n",
      "                                               Notes  \n",
      "0                                                NaN  \n",
      "1                                                NaN  \n",
      "2  Described by Zhang Suoping in her 1981 master'...  \n",
      "3                                                NaN  \n",
      "4                                                NaN  \n"
     ]
    },
    {
     "name": "stderr",
     "output_type": "stream",
     "text": [
      "/tmp/ipykernel_174322/2271024250.py:25: FutureWarning: Passing literal html to 'read_html' is deprecated and will be removed in a future version. To read from a literal string, wrap it in a 'StringIO' object.\n",
      "  df = pd.read_html(str(table))[0]\n",
      "/tmp/ipykernel_174322/2271024250.py:25: FutureWarning: Passing literal html to 'read_html' is deprecated and will be removed in a future version. To read from a literal string, wrap it in a 'StringIO' object.\n",
      "  df = pd.read_html(str(table))[0]\n",
      "/tmp/ipykernel_174322/2271024250.py:25: FutureWarning: Passing literal html to 'read_html' is deprecated and will be removed in a future version. To read from a literal string, wrap it in a 'StringIO' object.\n",
      "  df = pd.read_html(str(table))[0]\n",
      "/tmp/ipykernel_174322/2271024250.py:25: FutureWarning: Passing literal html to 'read_html' is deprecated and will be removed in a future version. To read from a literal string, wrap it in a 'StringIO' object.\n",
      "  df = pd.read_html(str(table))[0]\n"
     ]
    }
   ],
   "source": [
    "import requests\n",
    "from bs4 import BeautifulSoup\n",
    "import pandas as pd\n",
    "\n",
    "def fetch_page_tables(page_title: str):\n",
    "    # Replace spaces with underscores in the page title\n",
    "    formatted_title = page_title.replace(\" \", \"_\")\n",
    "    \n",
    "    # Fetch the page content as HTML\n",
    "    url = f\"https://en.wikipedia.org/wiki/{formatted_title}\"\n",
    "    response = requests.get(url)\n",
    "    \n",
    "    if response.status_code != 200:\n",
    "        raise Exception(f\"Failed to fetch page: {url}\")\n",
    "    \n",
    "    # Parse the HTML with BeautifulSoup\n",
    "    soup = BeautifulSoup(response.content, 'html.parser')\n",
    "    \n",
    "    # Find all tables in the HTML\n",
    "    tables = soup.find_all('table', {'class': 'wikitable'})\n",
    "    \n",
    "    # Extract tables and convert to DataFrames\n",
    "    dataframes = []\n",
    "    for table in tables:\n",
    "        df = pd.read_html(str(table))[0]\n",
    "        dataframes.append(df)\n",
    "    \n",
    "    return dataframes\n",
    "\n",
    "# Example usage\n",
    "page_title = \"List of sauropod species\"\n",
    "tables = fetch_page_tables(page_title)\n",
    "for i, df in enumerate(tables):\n",
    "    print(f\"Table {i+1}\")\n",
    "    print(df.head())"
   ]
  },
  {
   "cell_type": "markdown",
   "metadata": {},
   "source": [
    "***Note: Abandoned experiment! Will drill into this later***"
   ]
  },
  {
   "cell_type": "code",
   "execution_count": null,
   "metadata": {},
   "outputs": [],
   "source": []
  }
 ],
 "metadata": {
  "kernelspec": {
   "display_name": "Python (argonk)",
   "language": "python",
   "name": "argonk"
  },
  "language_info": {
   "codemirror_mode": {
    "name": "ipython",
    "version": 3
   },
   "file_extension": ".py",
   "mimetype": "text/x-python",
   "name": "python",
   "nbconvert_exporter": "python",
   "pygments_lexer": "ipython3",
   "version": "3.12.4"
  }
 },
 "nbformat": 4,
 "nbformat_minor": 2
}
