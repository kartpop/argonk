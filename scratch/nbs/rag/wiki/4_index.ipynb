{
 "cells": [
  {
   "cell_type": "code",
   "execution_count": 1,
   "metadata": {},
   "outputs": [
    {
     "name": "stderr",
     "output_type": "stream",
     "text": [
      "/home/kartikeya/miniconda3/envs/argonk/lib/python3.12/site-packages/tqdm/auto.py:21: TqdmWarning: IProgress not found. Please update jupyter and ipywidgets. See https://ipywidgets.readthedocs.io/en/stable/user_install.html\n",
      "  from .autonotebook import tqdm as notebook_tqdm\n",
      "/home/kartikeya/miniconda3/envs/argonk/lib/python3.12/site-packages/google/protobuf/runtime_version.py:112: UserWarning: Protobuf gencode version 5.27.2 is older than the runtime version 5.28.0 at grpc_health/v1/health.proto. Please avoid checked-in Protobuf gencode that can be obsolete.\n",
      "  warnings.warn(\n"
     ]
    }
   ],
   "source": [
    "from haystack.components.converters import TextFileToDocument\n",
    "from haystack.components.embedders import OpenAIDocumentEmbedder\n",
    "from haystack_integrations.document_stores.weaviate.document_store import WeaviateDocumentStore\n",
    "from haystack.components.writers import DocumentWriter\n",
    "from haystack import Pipeline\n",
    "from haystack_integrations.document_stores.elasticsearch import ElasticsearchDocumentStore"
   ]
  },
  {
   "cell_type": "code",
   "execution_count": 2,
   "metadata": {},
   "outputs": [],
   "source": [
    "def index_wiki_data(category: str, filepath: str, category_pages_indexed: dict) -> int:\n",
    "    \"\"\"\n",
    "    Indexes already chunked wiki data for all pages in a category and its subcategories. Chunked data is available in \n",
    "    the .metadata/chunk directory. The intermediate embeddings are stored in the .metadata/index/embeddings directory.\n",
    "    \n",
    "    List of Haystack Document objects is created from stored chunks and stored into three databases:\n",
    "    - ElasticsearchDocumentStore: for full-text search (list of Document objects without embeddings is stored)\n",
    "    - WeaviateDocumentStore: for vector search (list of Document objects enriched with embeddings is stored)\n",
    "    - Neo4j: for graph search (list of Document objects are stored as Chunk type nodes and Section, Page, Category type nodes\n",
    "    are created to represent the structure of the data)\n",
    "    \n",
    "    pseuodocode:\n",
    "    - get pages and subcategories from title_pathname map\n",
    "    - create pages_filename_set and categories_dirname_set\n",
    "    \n",
    "    - for each page in pages:\n",
    "        - if page is not already indexed (check in redis set):\n",
    "        - if page not in pages_filename_set:\n",
    "            - call get_chunks to get list of Document objects from chunks\n",
    "            - store documents in ElasticsearchDocumentStore (DocumentWriter(document_store = document_store, policy=DuplicatePolicy.SKIP)\n",
    "            - call get_embedded_documents to get list of Document objects with embeddings\n",
    "            - store documents in WeaviateDocumentStore (DocumentWriter(document_store = document_store, policy=DuplicatePolicy.SKIP)\n",
    "            - call create_graph to create graph representation of the data in Neo4j -- ensure duplicate nodes and edges not created\n",
    "            - add page to redis set\n",
    "    \n",
    "    - for each subcategory in categories:\n",
    "        - if subcategory is not already indexed (check in redis set):\n",
    "        - if subcategory not in categories_dirname_set:\n",
    "            - call index_wiki_data recursively on subcategory\n",
    "            - add subcategory to redis set\n",
    "        \n",
    "\n",
    "    \"\"\""
   ]
  },
  {
   "cell_type": "code",
   "execution_count": null,
   "metadata": {},
   "outputs": [],
   "source": []
  }
 ],
 "metadata": {
  "kernelspec": {
   "display_name": "Python (argonk)",
   "language": "python",
   "name": "argonk"
  },
  "language_info": {
   "codemirror_mode": {
    "name": "ipython",
    "version": 3
   },
   "file_extension": ".py",
   "mimetype": "text/x-python",
   "name": "python",
   "nbconvert_exporter": "python",
   "pygments_lexer": "ipython3",
   "version": "3.12.4"
  }
 },
 "nbformat": 4,
 "nbformat_minor": 2
}
