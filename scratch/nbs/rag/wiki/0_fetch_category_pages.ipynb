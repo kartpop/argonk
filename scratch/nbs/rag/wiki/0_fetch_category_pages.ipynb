{
 "cells": [
  {
   "cell_type": "markdown",
   "metadata": {},
   "source": [
    "### Single request to wiki category, examine response"
   ]
  },
  {
   "cell_type": "code",
   "execution_count": 1,
   "metadata": {},
   "outputs": [
    {
     "name": "stdout",
     "output_type": "stream",
     "text": [
      "{'batchcomplete': '', 'limits': {'categorymembers': 500}, 'query': {'categorymembers': [{'pageid': 8311, 'ns': 0, 'title': 'Dinosaur'}, {'pageid': 1070621, 'ns': 0, 'title': 'Dinosaur classification'}, {'pageid': 10319435, 'ns': 100, 'title': 'Portal:Dinosaurs'}, {'pageid': 31102995, 'ns': 0, 'title': 'Outline of dinosaurs'}, {'pageid': 74223457, 'ns': 0, 'title': 'Attenborough and the Giant Dinosaur'}, {'pageid': 3410, 'ns': 0, 'title': 'Bird'}, {'pageid': 174609, 'ns': 0, 'title': 'Chicxulub crater'}, {'pageid': 44503418, 'ns': 0, 'title': 'Cretaceous–Paleogene extinction event'}, {'pageid': 41707879, 'ns': 0, 'title': 'Glossary of dinosaur anatomy'}, {'pageid': 54226283, 'ns': 0, 'title': 'List of non-avian dinosaur species preserved with evidence of feathers'}, {'pageid': 24865137, 'ns': 0, 'title': 'Opisthotonic death pose'}, {'pageid': 6763404, 'ns': 0, 'title': 'Origin of birds'}, {'pageid': 25790373, 'ns': 0, 'title': 'Ornithoscelida'}, {'pageid': 6040372, 'ns': 0, 'title': 'Physiology of dinosaurs'}, {'pageid': 23270773, 'ns': 0, 'title': 'Phytodinosauria'}, {'pageid': 12284053, 'ns': 0, 'title': 'Protobird'}, {'pageid': 45115448, 'ns': 14, 'title': 'Category:Dinosaurs by geologic time unit'}, {'pageid': 25145461, 'ns': 14, 'title': 'Category:Dinosaur-related lists'}, {'pageid': 36021605, 'ns': 14, 'title': 'Category:Dinosaurs by location'}, {'pageid': 46952560, 'ns': 14, 'title': 'Category:Dinosaur paleontology'}, {'pageid': 59591580, 'ns': 14, 'title': 'Category:Dinosaurs in popular culture'}, {'pageid': 46952631, 'ns': 14, 'title': 'Category:Dinosaur taxonomy'}, {'pageid': 3499546, 'ns': 14, 'title': 'Category:Ornithischians'}, {'pageid': 3499555, 'ns': 14, 'title': 'Category:Saurischians'}, {'pageid': 2370358, 'ns': 14, 'title': 'Category:Dinosaur stubs'}]}}\n"
     ]
    }
   ],
   "source": [
    "import requests\n",
    "\n",
    "cat = 'Dinosaurs'\n",
    "# Make the request to fetch category information\n",
    "url = f\"https://en.wikipedia.org/w/api.php?action=query&format=json&list=categorymembers&cmtitle=Category:{cat}&cmlimit=max\"\n",
    "headers = {\n",
    "    'User-Agent': 'Tinker/0.1 (kartikeyapophali@gmail.com)'\n",
    "}\n",
    "response = requests.get(url, headers=headers)\n",
    "\n",
    "# Print the response\n",
    "print(response.json())"
   ]
  },
  {
   "cell_type": "markdown",
   "metadata": {},
   "source": [
    "### Fetch category and page information from wiki recursively\n",
    "- Create directory structure of categories, subcategories\n",
    "- Save response.json for each category in corresponding directory\n",
    "- Filter out category/pages with substring 'bird' in the title"
   ]
  },
  {
   "cell_type": "code",
   "execution_count": 13,
   "metadata": {},
   "outputs": [
    {
     "name": "stdout",
     "output_type": "stream",
     "text": [
      "Count of pages by page titles: 3810\n",
      "Count of pages by page id: 3810\n",
      "Count of categories: 364\n"
     ]
    }
   ],
   "source": [
    "import requests\n",
    "import json\n",
    "import os\n",
    "\n",
    "pageTitleSet = set()\n",
    "pageIdSet = set()\n",
    "categoryIdSet = set()\n",
    "\n",
    "def fetch_category_pages(category, filepath, depth):\n",
    "    dep = depth + 1\n",
    "    if dep > 1:\n",
    "        return\n",
    "    \n",
    "    # Create the directory for the category if it doesn't exist\n",
    "    if not os.path.exists(filepath):\n",
    "        os.makedirs(filepath)\n",
    "    \n",
    "    # Make the initial request to get the category information\n",
    "    url = f\"https://en.wikipedia.org/w/api.php?action=query&format=json&list=categorymembers&cmtitle=Category:{category}&cmlimit=max\"\n",
    "    headers = {\"User-Agent\": \"Tinker/0.1 (kartikeyapophali@gmail.com)\"}\n",
    "    response = requests.get(url, headers=headers)\n",
    "    data = response.json()\n",
    "    \n",
    "    # Write the response to a response.json file\n",
    "    response_filepath = os.path.join(filepath, \"response.json\")\n",
    "    with open(response_filepath, \"w\") as file:\n",
    "        json.dump(data, file)\n",
    "\n",
    "    # Check if the category has any pages\n",
    "    if \"categorymembers\" in data[\"query\"]:\n",
    "        pages = data[\"query\"][\"categorymembers\"]\n",
    "\n",
    "        # Filter out pages and subcategories with 'bird' or 'Bird' in the title\n",
    "        pages = [page for page in pages if 'bird' not in page[\"title\"].lower()]\n",
    "\n",
    "        # Separate pages and subcategories\n",
    "        actual_pages = [page for page in pages if page[\"ns\"] == 0]\n",
    "        subcategories = [page for page in pages if page[\"ns\"] == 14]\n",
    "\n",
    "        # Process actual pages\n",
    "        for page in actual_pages:\n",
    "            page_title = page[\"title\"]\n",
    "            pageTitleSet.add(page_title)\n",
    "            page_id = page[\"pageid\"]\n",
    "            pageIdSet.add(page_id)\n",
    "\n",
    "        # Process subcategories\n",
    "        for subcategory in subcategories:\n",
    "            subcategory_id = subcategory[\"pageid\"]\n",
    "            if subcategory_id in categoryIdSet:\n",
    "                continue\n",
    "            categoryIdSet.add(subcategory_id)\n",
    "            subcategory_name = subcategory[\"title\"].replace(\"Category:\", \"\")\n",
    "            subcategory_path = os.path.join(filepath, subcategory_name)\n",
    "            # Recursively fetch pages from subcategories\n",
    "            fetch_category_pages(subcategory_name, subcategory_path, dep)\n",
    "                \n",
    "fetch_category_pages(\"Dinosaurs\", \"/aux/data/wiki/Dinosaurs\", -1000)\n",
    "# fetch_category_pages(\"Dinosaurs\", \"Dinosaurs\", -1)\n",
    "print(f\"Count of pages by page titles: {len(pageTitleSet)}\")\n",
    "print(f\"Count of pages by page id: {len(pageIdSet)}\")\n",
    "print(f\"Count of categories: {len(categoryIdSet)}\")"
   ]
  },
  {
   "cell_type": "code",
   "execution_count": 14,
   "metadata": {},
   "outputs": [
    {
     "name": "stdout",
     "output_type": "stream",
     "text": [
      "Count of categories: 364\n"
     ]
    }
   ],
   "source": [
    "print(f\"Count of categories: {len(categoryIdSet)}\")"
   ]
  },
  {
   "cell_type": "markdown",
   "metadata": {},
   "source": [
    "### Fetch category pages for depth=1"
   ]
  },
  {
   "cell_type": "code",
   "execution_count": 3,
   "metadata": {},
   "outputs": [],
   "source": [
    "import requests\n",
    "import json\n",
    "import os\n",
    "\n",
    "pageTitleSet = set()\n",
    "pageIdSet = set()\n",
    "categoryIdSet = set()\n",
    "\n",
    "def fetch_category_pages(category, filepath, depth):\n",
    "    if depth > 1:\n",
    "        return\n",
    "    next_depth = depth + 1\n",
    "    \n",
    "    # Create the directory for the category if it doesn't exist\n",
    "    if not os.path.exists(filepath):\n",
    "        os.makedirs(filepath)\n",
    "    \n",
    "    # Make the initial request to get the category information\n",
    "    url = f\"https://en.wikipedia.org/w/api.php?action=query&format=json&list=categorymembers&cmtitle=Category:{category}&cmlimit=max\"\n",
    "    headers = {\"User-Agent\": \"Tinker/0.1 (kartikeyapophali@gmail.com)\"}\n",
    "    response = requests.get(url, headers=headers)\n",
    "    data = response.json()\n",
    "    \n",
    "    # Write the response to a response.json file\n",
    "    response_filepath = os.path.join(filepath, \"response.json\")\n",
    "    with open(response_filepath, \"w\") as file:\n",
    "        json.dump(data, file)\n",
    "\n",
    "    # Check if the category has any pages\n",
    "    if \"categorymembers\" in data[\"query\"]:\n",
    "        pages = data[\"query\"][\"categorymembers\"]\n",
    "\n",
    "        # Filter out pages and subcategories with 'bird' or 'Bird' in the title\n",
    "        pages = [page for page in pages if 'bird' not in page[\"title\"].lower()]\n",
    "\n",
    "        # Separate pages and subcategories\n",
    "        actual_pages = [page for page in pages if page[\"ns\"] == 0]\n",
    "        subcategories = [page for page in pages if page[\"ns\"] == 14]\n",
    "\n",
    "        # Process actual pages\n",
    "        for page in actual_pages:\n",
    "            page_title = page[\"title\"]\n",
    "            pageTitleSet.add(page_title)\n",
    "            page_id = page[\"pageid\"]\n",
    "            pageIdSet.add(page_id)\n",
    "\n",
    "        # Process subcategories\n",
    "        for subcategory in subcategories:\n",
    "            subcategory_id = subcategory[\"pageid\"]\n",
    "            if subcategory_id in categoryIdSet:\n",
    "                continue\n",
    "            categoryIdSet.add(subcategory_id)\n",
    "            subcategory_name = subcategory[\"title\"].replace(\"Category:\", \"\")\n",
    "            subcategory_path = os.path.join(filepath, subcategory_name)\n",
    "            # Recursively fetch pages from subcategories\n",
    "            fetch_category_pages(subcategory_name, subcategory_path, next_depth)"
   ]
  },
  {
   "cell_type": "code",
   "execution_count": 4,
   "metadata": {},
   "outputs": [
    {
     "name": "stdout",
     "output_type": "stream",
     "text": [
      "Count of pages by page titles: 127\n",
      "Count of pages by page id: 127\n",
      "Count of categories: 46\n"
     ]
    }
   ],
   "source": [
    "# fetch_category_pages(\"Dinosaurs\", \"/aux/data/wiki/Dinosaurs\", -1000)\n",
    "fetch_category_pages(\"Dinosaurs\", \"Dinosaurs\", 0)\n",
    "print(f\"Count of pages by page titles: {len(pageTitleSet)}\")\n",
    "print(f\"Count of pages by page id: {len(pageIdSet)}\")\n",
    "print(f\"Count of categories: {len(categoryIdSet)}\")"
   ]
  },
  {
   "cell_type": "code",
   "execution_count": null,
   "metadata": {},
   "outputs": [],
   "source": []
  }
 ],
 "metadata": {
  "kernelspec": {
   "display_name": "Python (argonk)",
   "language": "python",
   "name": "argonk"
  },
  "language_info": {
   "codemirror_mode": {
    "name": "ipython",
    "version": 3
   },
   "file_extension": ".py",
   "mimetype": "text/x-python",
   "name": "python",
   "nbconvert_exporter": "python",
   "pygments_lexer": "ipython3",
   "version": "3.12.4"
  }
 },
 "nbformat": 4,
 "nbformat_minor": 2
}
