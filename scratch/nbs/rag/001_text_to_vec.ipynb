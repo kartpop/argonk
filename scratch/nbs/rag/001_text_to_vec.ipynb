{
 "cells": [
  {
   "cell_type": "markdown",
   "metadata": {},
   "source": [
    "### Count number of tokens in a text string"
   ]
  },
  {
   "cell_type": "code",
   "execution_count": 12,
   "metadata": {},
   "outputs": [],
   "source": [
    "question = \"Which animal does my son like?\"\n",
    "document = \"My son's favorite animal is giraffe.\""
   ]
  },
  {
   "cell_type": "code",
   "execution_count": 26,
   "metadata": {},
   "outputs": [],
   "source": [
    "import tiktoken"
   ]
  },
  {
   "cell_type": "code",
   "execution_count": 14,
   "metadata": {},
   "outputs": [
    {
     "data": {
      "text/plain": [
       "7"
      ]
     },
     "execution_count": 14,
     "metadata": {},
     "output_type": "execute_result"
    }
   ],
   "source": [
    "def num_tokens(string: str, encoding_name: str) -> int:\n",
    "    encoding = tiktoken.get_encoding(encoding_name)\n",
    "    num_tokens = len(encoding.encode(string))\n",
    "    return num_tokens\n",
    "\n",
    "num_tokens(question, \"cl100k_base\")"
   ]
  },
  {
   "cell_type": "markdown",
   "metadata": {},
   "source": [
    "### Use OpenAI embeddings"
   ]
  },
  {
   "cell_type": "code",
   "execution_count": 15,
   "metadata": {},
   "outputs": [
    {
     "data": {
      "text/plain": [
       "(1536, 1536)"
      ]
     },
     "execution_count": 15,
     "metadata": {},
     "output_type": "execute_result"
    }
   ],
   "source": [
    "from langchain_openai import OpenAIEmbeddings\n",
    "embd = OpenAIEmbeddings()\n",
    "question_embd = embd.embed_query(question)\n",
    "document_embd = embd.embed_query(document)\n",
    "len(question_embd), len(document_embd)"
   ]
  },
  {
   "cell_type": "markdown",
   "metadata": {},
   "source": [
    "### Calculate cosine similarity"
   ]
  },
  {
   "cell_type": "code",
   "execution_count": 16,
   "metadata": {},
   "outputs": [
    {
     "name": "stdout",
     "output_type": "stream",
     "text": [
      "Cosine Similarity: 0.9101006177228447\n"
     ]
    }
   ],
   "source": [
    "import numpy as np\n",
    "\n",
    "def cosine_similarity(vec1, vec2):\n",
    "    dot_product = np.dot(vec1, vec2)\n",
    "    norm_vec1 = np.linalg.norm(vec1)\n",
    "    norm_vec2 = np.linalg.norm(vec2)\n",
    "    return dot_product / (norm_vec1 * norm_vec2)\n",
    "\n",
    "similarity = cosine_similarity(question_embd, document_embd)\n",
    "print(\"Cosine Similarity:\", similarity)"
   ]
  },
  {
   "cell_type": "code",
   "execution_count": null,
   "metadata": {},
   "outputs": [],
   "source": []
  },
  {
   "cell_type": "markdown",
   "metadata": {},
   "source": [
    "### Load PDF - langchain community PyMuPDFLoader"
   ]
  },
  {
   "cell_type": "code",
   "execution_count": 17,
   "metadata": {},
   "outputs": [],
   "source": [
    "from langchain_community.document_loaders import PyMuPDFLoader"
   ]
  },
  {
   "cell_type": "code",
   "execution_count": 18,
   "metadata": {},
   "outputs": [],
   "source": [
    "loader = PyMuPDFLoader(\"../../resources/ncert/c7/geography/ch6-tropical-and-subtropical.pdf\")\n",
    "pages = loader.load_and_split()"
   ]
  },
  {
   "cell_type": "code",
   "execution_count": 19,
   "metadata": {},
   "outputs": [
    {
     "name": "stdout",
     "output_type": "stream",
     "text": [
      "page_content='42\n",
      "OUR ENVIRONMENT\n",
      "Fig. 6.6: Gradual Destruction of Forests\n",
      "Do you know?\n",
      "Slash and Burn is a\n",
      "way of cultivating land\n",
      "where farmers clear a\n",
      "piece of land by\n",
      "slashing or cutting\n",
      "down trees and bushes.\n",
      "These are then burnt,\n",
      "which releases the\n",
      "nutrients into the soil.\n",
      "Now crops are grown in\n",
      "this cleared field for a\n",
      "few years.\n",
      "After repeatedly\n",
      "using the patch of\n",
      "land, the soil looses\n",
      "its nutrients. So it is\n",
      "abandoned. Then they\n",
      "clear another plot of\n",
      "land to plant. In the\n",
      "mean time young\n",
      "trees grow in the old\n",
      "field. In this way soil\n",
      "fertility is restored.\n",
      "People can then\n",
      "return to it and start\n",
      "cultivating it again.\n",
      "tapioca, pineapple and sweet potato. As hunting and fishing\n",
      "are uncertain it is the women who keep their families alive\n",
      "by feeding them the vegetables they grow. They practice\n",
      "“slash and burn agriculture”. The staple food is manioc,\n",
      "also known as cassava that grows under the ground like\n",
      "the potato. They also eat queen ants and egg sacs. Cash\n",
      "crops like coffee, maize and cocoa are also grown.\n",
      "The rainforests provide a lot of wood for the houses.\n",
      "Some families live in thatched houses shaped like\n",
      "beehives. There are other large apartment-like houses\n",
      "called “Maloca” with a steeply slanting roof.\n",
      "Life of the people of the Amazon basin is slowly\n",
      "changing. In the older days the heart of the forest, could\n",
      "be reached only by navigating the river. In 1970 the Trans\n",
      "Amazon highway made all parts of the rainforest\n",
      "accessible. Aircrafts and helicopters are also used for\n",
      "reaching various places. The indigenous population was\n",
      "pushed out from the area and forced to settle in new\n",
      "areas where they continued to practice their distinctive\n",
      "way of farming.\n",
      "The developmental activities are leading to the gradual\n",
      "destruction of the biologically diverse rainforests. It is\n",
      "estimated that a large area of the\n",
      "rainforest has been disappearing\n",
      "annually in the Amazon basin.\n",
      "You can see that this\n",
      "destruction of forests has\n",
      "a much wider implication\n",
      "(Fig. 6.6). The topsoil\n",
      "is washed away as\n",
      "the rains fall and\n",
      "the lush forest\n",
      "turns into\n",
      "a barren\n",
      "landscape.\n",
      "Reprint 2024-25' metadata={'source': '../../resources/ncert/c7/geography/ch6-tropical-and-subtropical.pdf', 'file_path': '../../resources/ncert/c7/geography/ch6-tropical-and-subtropical.pdf', 'page': 3, 'total_pages': 10, 'format': 'PDF 1.6', 'title': 'Chapter 6.pmd', 'author': 'Administrator', 'subject': '', 'keywords': '', 'creator': 'PageMaker 7.0', 'producer': 'GPL Ghostscript 8.15', 'creationDate': 'D:20220831165920Z', 'modDate': \"D:20240521135806+05'30'\", 'trapped': ''}\n"
     ]
    }
   ],
   "source": [
    "print(pages[3])"
   ]
  },
  {
   "cell_type": "code",
   "execution_count": 20,
   "metadata": {},
   "outputs": [],
   "source": [
    "pdf_docs = loader.load()"
   ]
  },
  {
   "cell_type": "code",
   "execution_count": 21,
   "metadata": {},
   "outputs": [
    {
     "name": "stdout",
     "output_type": "stream",
     "text": [
      "[Document(metadata={'source': '../../resources/ncert/c7/geography/ch6-tropical-and-subtropical.pdf', 'file_path': '../../resources/ncert/c7/geography/ch6-tropical-and-subtropical.pdf', 'page': 0, 'total_pages': 10, 'format': 'PDF 1.6', 'title': 'Chapter 6.pmd', 'author': 'Administrator', 'subject': '', 'keywords': '', 'creator': 'PageMaker 7.0', 'producer': 'GPL Ghostscript 8.15', 'creationDate': 'D:20220831165920Z', 'modDate': \"D:20240521135806+05'30'\", 'trapped': ''}, page_content='Renuka was excited. Shrikant Uncle was home after a\\ngap of nearly four months. He was a wildlife photographer\\nand travelled widely. Renuka’s interest in wildlife and\\nforests began at an early age, when her uncle introduced\\nher to books on nature. Pictures of distant lands and\\npeople, who lived there, always fascinated her\\n.\\nFig. 6.1: People from various parts of the world\\n“In these pictures Renuka, you can see people from\\ndifferent parts of the world – some from dry deserts, some\\nfrom frozen lands and some from hot wet rainforests.”\\n“They look so different from me”, observed Renuka. “They\\nmay look different, but they share the same basic needs\\nof life – food, clothing and shelter”, explained Shrikant Uncle.\\n“Their children do the same things as you probably do,\\nplay games, quarrel sometimes and then make-up, sing,\\ndance and help the families with various things that need\\nto be done. They live closer to nature and very early in\\ntheir lives have learnt to care for nature. They learn how\\nto catch fish and how to collect material from the forests.”\\nReprint 2024-25\\n'), Document(metadata={'source': '../../resources/ncert/c7/geography/ch6-tropical-and-subtropical.pdf', 'file_path': '../../resources/ncert/c7/geography/ch6-tropical-and-subtropical.pdf', 'page': 1, 'total_pages': 10, 'format': 'PDF 1.6', 'title': 'Chapter 6.pmd', 'author': 'Administrator', 'subject': '', 'keywords': '', 'creator': 'PageMaker 7.0', 'producer': 'GPL Ghostscript 8.15', 'creationDate': 'D:20220831165920Z', 'modDate': \"D:20240521135806+05'30'\", 'trapped': ''}, page_content='40\\nOUR ENVIRONMENT\\nGlossary\\nLIFE IN THE AMAZON BASIN\\nBefore learning about the Amazon basin, let us look at the\\nmap (Fig. 6.2). Notice that the tropical region lies very\\nclose to the equator; between 10°N and 10°S. So, it is referred\\nto as the equatorial region. The river Amazon flows through\\nthis region. Notice how it flows from the mountains to the\\nwest and reaches the Atlantic Ocean to the east.\\nThe place where a river flows into another body of\\nwater is called the river’s mouth. Numerous tributaries\\njoin the Amazon River to form the Amazon basin. The\\nriver basin drains portions of Brazil, parts of Peru, Bolivia,\\nEcuador, Columbia and a small part of Venezuela.\\nName the countries of the basin through which the\\nequator passes.\\nTributaries: These\\nare small rivers that\\njoin the main river.\\nThe main river along\\nwith all its tributaries\\nthat drain an area\\nforms a river basin or\\nthe catchment area.\\nThe Amazon Basin is\\nthe largest river basin\\nin the world.\\nFig. 6.2:\\nFig. 6.2:\\nFig. 6.2:\\nFig. 6.2:\\nFig. 6.2: The Amazon Basin in South America\\nDo you know?\\nWhen Spanish\\nexplorers discovered\\nthe Amazon river,\\nthey were attacked by\\na group of local tribes\\nwearing headgears\\nand grass skirts.\\nThese people\\nreminded them of the\\nfierce tribes of women\\nwarriors known in\\nancient Roman\\nEmpire as the\\nAmazons. Hence the\\nname Amazon.\\nReprint 2024-25\\n'), Document(metadata={'source': '../../resources/ncert/c7/geography/ch6-tropical-and-subtropical.pdf', 'file_path': '../../resources/ncert/c7/geography/ch6-tropical-and-subtropical.pdf', 'page': 2, 'total_pages': 10, 'format': 'PDF 1.6', 'title': 'Chapter 6.pmd', 'author': 'Administrator', 'subject': '', 'keywords': '', 'creator': 'PageMaker 7.0', 'producer': 'GPL Ghostscript 8.15', 'creationDate': 'D:20220831165920Z', 'modDate': \"D:20240521135806+05'30'\", 'trapped': ''}, page_content='HUMAN ENVIRONMENT INTERACTIONS: THE TROPICAL AND THE SUBTROPICAL REGION\\n41\\nCLIMATE\\nAs you now know, the Amazon Basin stretches directly\\non the equator and is characterized by hot and wet climate\\nthroughout the year. Both day and nights are almost\\nequally hot and humid. The skin feels sticky. It rains\\nalmost everyday, that too without much warning. The\\nday temperatures are high with very high humidity. At\\nnight the temperature goes down but the humidity\\nremains high.\\nRAINFORESTS\\nAs it rains heavily in this region, thick forests\\ngrow (Fig. 6.3). The forests are in fact so thick\\nthat the dense “roof” created by leaves and\\nbranches does not allow the sunlight to reach\\nthe ground. The ground remains dark and damp.\\nOnly shade tolerant vegetation may grow here.\\nOrchids, bromeliads grow as plant parasites.\\nThe rainforest is rich in\\nfauna. Birds such as toucans (Fig. 6.4),\\nhumming birds, macaw with their\\nbrilliantly coloured plumage, oversized\\nbills for eating make them different\\nfrom birds we commonly see in India.\\nThese birds also make loud sounds in\\nthe forests. Animals like monkeys,\\nsloth and ant-eating tapirs are found\\nhere (Fig. 6.5). Various species of reptiles and snakes\\nalso thrive in these jungles. Crocodiles, snakes, pythons\\nabound. Anaconda and boa constrictor are some of the\\nspecies. Besides, the basin is home to thousands of\\nspecies of insects. Several\\nspecies of fishes including the\\nflesh-eating Piranha fish is\\nalso found in the river. This\\nbasin is thus extraordinarily\\nrich in the variety of life found\\nthere.\\nPEOPLE OF THE RAINFORESTS\\nPeople grow most of their food in small areas after clearing\\nsome trees in the forest. While men hunt and fish along\\nthe rivers, women take care of the crops. They mainly grow\\nDo you know?\\nBromeliads are\\nspecial plants that\\nstore water in their\\nleaves. Animals like\\nfrogs use these\\npockets of water for\\nlaying their eggs.\\nLet’s do\\nSome TV channels\\nbroadcast\\ndocumentaries on the\\nwildlife of the world.\\nTry to watch some of\\nthe films and share\\nyour experience with\\nthe class.\\nFig. 6.3 : The Amazon Forest\\nFig. 6.4 : Toucans\\nFig. 6.5 : Tapir\\nReprint 2024-25\\n'), Document(metadata={'source': '../../resources/ncert/c7/geography/ch6-tropical-and-subtropical.pdf', 'file_path': '../../resources/ncert/c7/geography/ch6-tropical-and-subtropical.pdf', 'page': 3, 'total_pages': 10, 'format': 'PDF 1.6', 'title': 'Chapter 6.pmd', 'author': 'Administrator', 'subject': '', 'keywords': '', 'creator': 'PageMaker 7.0', 'producer': 'GPL Ghostscript 8.15', 'creationDate': 'D:20220831165920Z', 'modDate': \"D:20240521135806+05'30'\", 'trapped': ''}, page_content='42\\nOUR ENVIRONMENT\\nFig. 6.6: Gradual Destruction of Forests\\nDo you know?\\nSlash and Burn is a\\nway of cultivating land\\nwhere farmers clear a\\npiece of land by\\nslashing or cutting\\ndown trees and bushes.\\nThese are then burnt,\\nwhich releases the\\nnutrients into the soil.\\nNow crops are grown in\\nthis cleared field for a\\nfew years.\\nAfter repeatedly\\nusing the patch of\\nland, the soil looses\\nits nutrients. So it is\\nabandoned. Then they\\nclear another plot of\\nland to plant. In the\\nmean time young\\ntrees grow in the old\\nfield. In this way soil\\nfertility is restored.\\nPeople can then\\nreturn to it and start\\ncultivating it again.\\ntapioca, pineapple and sweet potato. As hunting and fishing\\nare uncertain it is the women who keep their families alive\\nby feeding them the vegetables they grow. They practice\\n“slash and burn agriculture”. The staple food is manioc,\\nalso known as cassava that grows under the ground like\\nthe potato. They also eat queen ants and egg sacs. Cash\\ncrops like coffee, maize and cocoa are also grown.\\nThe rainforests provide a lot of wood for the houses.\\nSome families live in thatched houses shaped like\\nbeehives. There are other large apartment-like houses\\ncalled “Maloca” with a steeply slanting roof.\\nLife of the people of the Amazon basin is slowly\\nchanging. In the older days the heart of the forest, could\\nbe reached only by navigating the river. In 1970 the Trans\\nAmazon highway made all parts of the rainforest\\naccessible. Aircrafts and helicopters are also used for\\nreaching various places. The indigenous population was\\npushed out from the area and forced to settle in new\\nareas where they continued to practice their distinctive\\nway of farming.\\nThe developmental activities are leading to the gradual\\ndestruction of the biologically diverse rainforests. It is\\nestimated that a large area of the\\nrainforest has been disappearing\\nannually in the Amazon basin.\\nYou can see that this\\ndestruction of forests has\\na much wider implication\\n(Fig. 6.6). The topsoil\\nis washed away as\\nthe rains fall and\\nthe lush forest\\nturns into\\na barren\\nlandscape.\\nReprint 2024-25\\n'), Document(metadata={'source': '../../resources/ncert/c7/geography/ch6-tropical-and-subtropical.pdf', 'file_path': '../../resources/ncert/c7/geography/ch6-tropical-and-subtropical.pdf', 'page': 4, 'total_pages': 10, 'format': 'PDF 1.6', 'title': 'Chapter 6.pmd', 'author': 'Administrator', 'subject': '', 'keywords': '', 'creator': 'PageMaker 7.0', 'producer': 'GPL Ghostscript 8.15', 'creationDate': 'D:20220831165920Z', 'modDate': \"D:20240521135806+05'30'\", 'trapped': ''}, page_content='HUMAN ENVIRONMENT INTERACTIONS: THE TROPICAL AND THE SUBTROPICAL REGION\\n43\\nLIFE IN THE GANGA-BRAHMAPUTRA BASIN\\nThe tributaries of rivers Ganga and\\nBrahmaputra together form the\\nGanga-Brahmaputra basin in the\\nIndian subcontinent (Fig. 6.8). The\\nbasin lies in the sub-tropical region\\nthat is situated between 10°N to 30°N\\nlatitudes. The tributaries of the River\\nGanga like the Ghaghra, the Son, the\\nChambal, the Gandak, the Kosi and\\nthe tributaries of Brahmaputra drain\\nit. Look at the atlas and find names\\nof some tributaries of the River\\nBrahmaputra.\\nThe plains of the Ganga and the\\nBrahmaputra, the mountains and the foothills of the\\nFig. 6.8: Ganga-Brahmputra Basin\\nFig. 6.7 Brahmaputra river\\nReprint 2024-25\\n'), Document(metadata={'source': '../../resources/ncert/c7/geography/ch6-tropical-and-subtropical.pdf', 'file_path': '../../resources/ncert/c7/geography/ch6-tropical-and-subtropical.pdf', 'page': 5, 'total_pages': 10, 'format': 'PDF 1.6', 'title': 'Chapter 6.pmd', 'author': 'Administrator', 'subject': '', 'keywords': '', 'creator': 'PageMaker 7.0', 'producer': 'GPL Ghostscript 8.15', 'creationDate': 'D:20220831165920Z', 'modDate': \"D:20240521135806+05'30'\", 'trapped': ''}, page_content='44\\nOUR ENVIRONMENT\\nGlossary\\nHimalayas and the Sundarbans delta are the main\\nfeatures of this basin. Ox-bow lakes dot the plain area.\\nThe area is dominated by monsoon climate. The\\nmonsoon brings rains from mid-June to mid-September.\\nThe summers are hot and the winters cool.\\nLook at the map of India (Fig. 6.8). Find out the states\\nin which the Ganga-Brahmputra basin lies.\\nThe basin area has varied topography. The\\nenvironment plays a dominant role in the distribution\\nof the population. The mountain areas with steep slopes\\nhave inhospitable terrain. Therefore less number of\\npeople live in the mountain area of the Ganga-\\nBrahmaputra basin. The plain area provides the most\\nsuitable land for human habitation. The soil is fertile.\\nAgriculture is the main occupation of the people where\\nflat land is available to grow crops. The density of\\npopulation of the plains is very high. The main crop is\\npaddy (Fig. 6.9). Since cultivation of paddy requires\\nsufficient water, it is grown in the areas where the amount\\nof rainfall is high.\\nWheat, maize, sorghum, gram and millets are the\\nother crops that are grown. Cash crops like sugarcane\\nand jute are also grown. Banana plantations are seen in\\nsome areas of the plain. In West Bengal and Assam tea is\\ngrown in plantations (Fig. 6.10). Silk is produced through\\nthe cultivation of silk worms in parts of Bihar and Assam.\\nIn the mountains and hills, where the slopes are gentle,\\ncrops are grown on terraces.\\nThe vegetation cover of the area varies according to\\nthe type of landforms. In the Ganga and Brahmaputra\\nplain tropical deciduous trees grow, along with teak, sal\\nand peepal. Thick bamboo groves are common in the\\nBrahmaputra plain. The delta area is covered with the\\nFig. 6.9 : Paddy Cultivation\\nFig. 6.10 : Tea Garden in Assam\\nLet’s do\\nRiver Brahmaputra is\\nknown by different\\nnames in difference\\nplaces. Find the other\\nnames of the river.\\nActivity\\nCollect some\\nhandicrafts made\\nfrom jute, bamboo and\\nsilk. Display them in\\nthe class. Find out in\\nwhich area they were\\nmade?\\nPopulation density:\\nIt means the number\\nof persons that live in\\none sq. km. of area\\ne.g. the population\\ndensity of Uttarakhand\\nis 189 while the\\ndensity of West\\nBengal is 1029 and\\nthat of Bihar is 1102.\\nReprint 2024-25\\n'), Document(metadata={'source': '../../resources/ncert/c7/geography/ch6-tropical-and-subtropical.pdf', 'file_path': '../../resources/ncert/c7/geography/ch6-tropical-and-subtropical.pdf', 'page': 6, 'total_pages': 10, 'format': 'PDF 1.6', 'title': 'Chapter 6.pmd', 'author': 'Administrator', 'subject': '', 'keywords': '', 'creator': 'PageMaker 7.0', 'producer': 'GPL Ghostscript 8.15', 'creationDate': 'D:20220831165920Z', 'modDate': \"D:20240521135806+05'30'\", 'trapped': ''}, page_content='HUMAN ENVIRONMENT INTERACTIONS: THE TROPICAL AND THE SUBTROPICAL REGION\\n45\\nFig. 6.12 : Crocodiles\\nFig. 6.11 : One horned rhinoceros\\nLake: A source of livelihood\\n(A case study)\\nBinod is a fisherman\\nliving in the Matwali\\nMaun village of Bihar.\\nHe is a happy man\\ntoday. With the efforts\\nof \\nthe \\nfellow\\nfishermen – Ravindar,\\nKishore, Rajiv and\\nothers, he cleaned the\\nmaun or the ox-bow\\nlake \\nto \\ncultivate\\ndifferent varieties of fish. The local weed (vallineria,\\nhydrilla) that grows in the lake is the food of the fish.\\nThe land around the lake is fertile. He sows crops\\nsuch as paddy, maize and pulses in these fields.\\nThe buffalo is used to plough the land. The\\ncommunity is satisfied. There is enough fish catch\\nfrom the river – enough fish to eat and enough fish\\nDo you know?\\nIn the fresh waters of\\nRiver Ganga and River\\nBrahmaputra, a\\nvariety of dolphin\\nlocally called Susu\\n(also called blind\\ndolphin) is found. The\\npresence of Susu is an\\nindication of the\\nhealth of the river. The\\nuntreated industrial\\nand urban wastes with\\nhigh amount of\\nchemicals are killing\\nthis species.\\nA clean lake\\nmangrove forests. In parts of Uttarakhand, Sikkim and\\nArunachal Pradesh, coniferous trees like pine, deodar\\nand fir can be seen because the climate is cool and the\\nslopes are steep.\\nThere is a variety of wildlife in the basin. Elephants,\\ntigers, deer and monkeys are common. The one-horned\\nrhinoceros is found in the Brahmaputra plain. In the\\ndelta area, Bengal tiger and crocodiles are found. Aquatic\\nlife abounds in the fresh river waters, the lakes and the\\nBay of Bengal Sea. The most popular varieties of the fish\\nare the rohu, catla and hilsa. Fish and rice is the staple\\ndiet of the people living in the area.\\nBlind Dolphin\\nDo you know?\\nTerraces are built on\\nsteep slopes to create\\nflat surfaces on which\\ncrops are grown. The\\nslope is removed so\\nthat water does not\\nrun off rapidly.\\nTerrace Farming\\nReprint 2024-25\\n'), Document(metadata={'source': '../../resources/ncert/c7/geography/ch6-tropical-and-subtropical.pdf', 'file_path': '../../resources/ncert/c7/geography/ch6-tropical-and-subtropical.pdf', 'page': 7, 'total_pages': 10, 'format': 'PDF 1.6', 'title': 'Chapter 6.pmd', 'author': 'Administrator', 'subject': '', 'keywords': '', 'creator': 'PageMaker 7.0', 'producer': 'GPL Ghostscript 8.15', 'creationDate': 'D:20220831165920Z', 'modDate': \"D:20240521135806+05'30'\", 'trapped': ''}, page_content='46\\nOUR ENVIRONMENT\\nFig. 6.13: Varanasi along the River Ganga\\nThe Ganga-Brahmaputra\\nplain has several big towns\\nand cities. The cities of\\nAllahabad, Kanpur, Varanasi,\\nLucknow, Patna and Kolkata\\nall with the population of\\nmore than ten lakhs are\\nlocated along the River\\nGanga (Fig. 6.13). The\\nwastewater from these towns\\nand industries is discharged into the rivers.  This leads\\nto the pollution of the rivers.\\nAll the four ways of transport are well developed in\\nthe Ganga-Brahmaputra basin. In the plain areas the\\nroadways and railways transport the people from one\\nplace to another. The waterways, is an effective means of\\ntransport particularly along the rivers. Kolkata is an\\nimportant port on the River Hooghly. The plain area also\\nhas a large number of airports.\\nTourism is another important activity\\nof the basin. Taj Mahal on the banks of\\nRiver Yamuna in Agra, Allahabad on the\\nconfluence of the Rivers Ganga and\\nYamuna, Buddhists stupas in Uttar\\nPradesh and Bihar, Lucknow with its\\nImambara, Assam with Kaziranga and\\nManas with wild life sanctuaries and\\nArunachal Pradesh with a distinct\\ntribal culture are some of the places\\nworth a visit (Fig. 6.14).\\nto sell in the market. They have even begun supply\\nto the neighbouring\\ntown. The community\\nis living in harmony\\nwith nature. As long\\nas the pollutants from\\nnearby towns do not\\nfind their way into the\\nlake waters, the fish\\ncultivation will not\\nface any threat.\\nA Polluted Lake\\nFig. 6.14: Tiger in Manas Wildlife sanctuary\\nDo you know?\\nTo acceletrate the\\nefforts to achieve\\nuniversal sanitation\\ncoverage and to put\\nfours on sanitation,\\nthe Prime Minister of\\nIndia launched the\\n“Swachh Bharat\\nMission” on 02nd\\nOctober 2014.\\nDo you know?\\nTo conserve the river\\nganga, ‘Namami’\\nganga Programme has\\nbeen initiated.\\nReprint 2024-25\\n'), Document(metadata={'source': '../../resources/ncert/c7/geography/ch6-tropical-and-subtropical.pdf', 'file_path': '../../resources/ncert/c7/geography/ch6-tropical-and-subtropical.pdf', 'page': 8, 'total_pages': 10, 'format': 'PDF 1.6', 'title': 'Chapter 6.pmd', 'author': 'Administrator', 'subject': '', 'keywords': '', 'creator': 'PageMaker 7.0', 'producer': 'GPL Ghostscript 8.15', 'creationDate': 'D:20220831165920Z', 'modDate': \"D:20240521135806+05'30'\", 'trapped': ''}, page_content='HUMAN ENVIRONMENT INTERACTIONS: THE TROPICAL AND THE SUBTROPICAL REGION\\n47\\n1.\\nAnswer the following questions.\\n(i) Name the continent in which the Amazon Basin is located.\\n(ii) What are the crops grown by the people of the Amazon Basin.\\n(iii) Name the birds that you are likely to find in the rainforests of the Amazon.\\n(iv) What are the major cities located on the River Ganga.\\n(v) Where is the one-horned rhinoceros found?\\n2.\\nTick the correct answer.\\n(i) Toucans are a type of\\n(a) birds\\n(b) animals\\n(c) crops\\n(ii) Manioc is the staple food of\\n(a) Ganga Basin\\n(b) Africa\\n(c) Amazon\\n(iii) Kolkata is located on the river\\n(a) Orange\\n(b) Hooghly\\n(c) Bhagirathi\\n(iv) Deodars and firs are a type of\\n(a) Coniferous trees (b) Deciduous trees (c) shrubs\\n(v) Bengal tiger is found in\\n(a) mountains\\n(b) delta area\\n(c) Amazon\\n3.\\nMatch the following.\\n(i) Cotton textile\\n(a) Assam\\n(ii) Maloca\\n(b) Terrace farming\\n(iii) Piranha\\n(c) Sericulture\\n(iv) Silk worm\\n(d) Slanting roof\\n(v) Kaziranga\\n(e) Ganga plain\\n(f) Varanasi\\n(g) Fish\\n4.\\nGive reasons.\\n(i) The rainforests are depleting.\\n(ii) Paddy is grown in the Ganga-Brahmaputra plains.\\n5.\\nMap skills.\\n(i) On an outline map of the Indian Sub-continent, draw the rivers Ganga and\\nBrahmaputra from the source to the mouth. Also show the important\\ntributaries of both the rivers.\\n(ii) On the political map of  South America, draw the equator. Mark the countries\\nthrough which the equator passes.\\n6.\\nFor fun.\\nMake a collage to show places of attractions in India.   You can divide the class\\nin different groups to show attractions based on mountain landscapes, coastal\\nbeaches, wildlife sanctuaries and places of historical importance.\\nExercises\\nReprint 2024-25\\n'), Document(metadata={'source': '../../resources/ncert/c7/geography/ch6-tropical-and-subtropical.pdf', 'file_path': '../../resources/ncert/c7/geography/ch6-tropical-and-subtropical.pdf', 'page': 9, 'total_pages': 10, 'format': 'PDF 1.6', 'title': 'Chapter 6.pmd', 'author': 'Administrator', 'subject': '', 'keywords': '', 'creator': 'PageMaker 7.0', 'producer': 'GPL Ghostscript 8.15', 'creationDate': 'D:20220831165920Z', 'modDate': \"D:20240521135806+05'30'\", 'trapped': ''}, page_content='48\\nOUR ENVIRONMENT\\n7.\\nActivity.\\nCollect under mentioned material and observe how destruction of trees effect\\nthe soil cover.\\nMaterial\\n(i) Three small flowerpots or food cans (e.g., cold drinks tin cans),\\n(ii) one big can with holes punched in the bottom (this will act as a\\nsprinkling can),\\n(iii) twelve coins or bottle caps\\n(iv) soil.\\nSteps\\nTake three small cans or pots. Fill them with soil till the top. Press the soil to\\nmake it level with the top of the can. Now put four coins or bottle caps on the\\nsoil of each can. Take the big can that has been punched with holes and fill it\\nwith water. You can also take the sprinkling can from your garden. Now, sprinkle\\nwater on the three cans. On the first can sprinkle water very slowly so that no\\nsoil splashes out. Let moderate amount of water be sprinkled on the second\\ncan. On the third can, sprinkle the water heavily. You will observe that\\nunprotected soil splashes out. Where the ‘rain’ is heavy the amount of soil that\\nsplashes out is the maximum and least in case of the first can. The coins or\\ncaps represent the tree covers. It is clear that if the land is cleared completely\\nof the vegetation, the soil cover will quickly disappear.\\nReprint 2024-25\\n')]\n"
     ]
    }
   ],
   "source": [
    "print(pdf_docs)"
   ]
  },
  {
   "cell_type": "markdown",
   "metadata": {},
   "source": [
    "### Chunk - split document into chunk for indexing"
   ]
  },
  {
   "cell_type": "code",
   "execution_count": 22,
   "metadata": {},
   "outputs": [],
   "source": [
    "from langchain.text_splitter import RecursiveCharacterTextSplitter\n",
    "text_splitter = RecursiveCharacterTextSplitter.from_tiktoken_encoder(\n",
    "    chunk_size=300, \n",
    "    chunk_overlap=50)\n",
    "\n",
    "\n",
    "splits = text_splitter.split_documents(pdf_docs)"
   ]
  },
  {
   "cell_type": "code",
   "execution_count": 23,
   "metadata": {},
   "outputs": [
    {
     "name": "stdout",
     "output_type": "stream",
     "text": [
      "page_content='Renuka was excited. Shrikant Uncle was home after a\n",
      "gap of nearly four months. He was a wildlife photographer\n",
      "and travelled widely. Renuka’s interest in wildlife and\n",
      "forests began at an early age, when her uncle introduced\n",
      "her to books on nature. Pictures of distant lands and\n",
      "people, who lived there, always fascinated her\n",
      ".\n",
      "Fig. 6.1: People from various parts of the world\n",
      "“In these pictures Renuka, you can see people from\n",
      "different parts of the world – some from dry deserts, some\n",
      "from frozen lands and some from hot wet rainforests.”\n",
      "“They look so different from me”, observed Renuka. “They\n",
      "may look different, but they share the same basic needs\n",
      "of life – food, clothing and shelter”, explained Shrikant Uncle.\n",
      "“Their children do the same things as you probably do,\n",
      "play games, quarrel sometimes and then make-up, sing,\n",
      "dance and help the families with various things that need\n",
      "to be done. They live closer to nature and very early in\n",
      "their lives have learnt to care for nature. They learn how\n",
      "to catch fish and how to collect material from the forests.”\n",
      "Reprint 2024-25' metadata={'source': '../../resources/ncert/c7/geography/ch6-tropical-and-subtropical.pdf', 'file_path': '../../resources/ncert/c7/geography/ch6-tropical-and-subtropical.pdf', 'page': 0, 'total_pages': 10, 'format': 'PDF 1.6', 'title': 'Chapter 6.pmd', 'author': 'Administrator', 'subject': '', 'keywords': '', 'creator': 'PageMaker 7.0', 'producer': 'GPL Ghostscript 8.15', 'creationDate': 'D:20220831165920Z', 'modDate': \"D:20240521135806+05'30'\", 'trapped': ''}\n"
     ]
    }
   ],
   "source": [
    "print(splits[0])"
   ]
  },
  {
   "cell_type": "code",
   "execution_count": 24,
   "metadata": {},
   "outputs": [
    {
     "data": {
      "text/plain": [
       "21"
      ]
     },
     "execution_count": 24,
     "metadata": {},
     "output_type": "execute_result"
    }
   ],
   "source": [
    "len(splits)"
   ]
  },
  {
   "cell_type": "markdown",
   "metadata": {},
   "source": [
    "### Index - embed and store in vector db"
   ]
  },
  {
   "cell_type": "code",
   "execution_count": 25,
   "metadata": {},
   "outputs": [],
   "source": [
    "from langchain_openai import OpenAIEmbeddings\n",
    "from langchain_community.vectorstores import Chroma\n",
    "vectorstore = Chroma.from_documents(documents=splits, \n",
    "                                    embedding=OpenAIEmbeddings())\n",
    "\n",
    "retriever = vectorstore.as_retriever()"
   ]
  },
  {
   "cell_type": "code",
   "execution_count": null,
   "metadata": {},
   "outputs": [],
   "source": []
  }
 ],
 "metadata": {
  "kernelspec": {
   "display_name": "Python (argonk)",
   "language": "python",
   "name": "argonk"
  },
  "language_info": {
   "codemirror_mode": {
    "name": "ipython",
    "version": 3
   },
   "file_extension": ".py",
   "mimetype": "text/x-python",
   "name": "python",
   "nbconvert_exporter": "python",
   "pygments_lexer": "ipython3",
   "version": "3.12.4"
  }
 },
 "nbformat": 4,
 "nbformat_minor": 2
}
