{
 "cells": [
  {
   "cell_type": "code",
   "execution_count": 4,
   "metadata": {},
   "outputs": [],
   "source": [
    "from langchain_community.document_loaders import PyMuPDFLoader"
   ]
  },
  {
   "cell_type": "markdown",
   "metadata": {},
   "source": [
    "### Load PDF"
   ]
  },
  {
   "cell_type": "code",
   "execution_count": 5,
   "metadata": {},
   "outputs": [],
   "source": [
    "loader = PyMuPDFLoader(\"../resources/ncert/cl7-geography-ch1.pdf\")\n",
    "pages = loader.load_and_split()"
   ]
  },
  {
   "cell_type": "code",
   "execution_count": 7,
   "metadata": {},
   "outputs": [
    {
     "name": "stdout",
     "output_type": "stream",
     "text": [
      "page_content='After the long vacation, when Ravi started going to school\n",
      "again, he noticed that the only playground next to his school\n",
      "was dug up. People said that a huge building with many\n",
      "flats will be constructed there. Ravi was almost in tears,\n",
      "when he realised that the big playground with its soft\n",
      "grass, marigolds and butterflies is gone for ever. He shared\n",
      "his feelings with his classmates. In the assembly, the\n",
      "Principal too sadly observed, “See how our environment\n",
      "is changing.”\n",
      "In the class Ravi asked his teacher, “What is\n",
      "environment?” “Whatever you see in your surroundings,”\n",
      "said the teacher.\n",
      "Ravi thought aloud, “That means, the school building,\n",
      "tables, chairs in the classroom, even that open field, the\n",
      "road, the garbage, my friends – all are parts of our\n",
      "environment”!\n",
      "“Yes” said the teacher, “but wait….. Some objects are\n",
      "created by nature – for example, mountains, rivers, trees,\n",
      "animals. Others are made by people – for example roads,\n",
      "cars, clothes, books”.\n",
      "Now work in pairs. Make a list with your classmate\n",
      "sitting next to you, of the creations of nature and by\n",
      "human beings.\n",
      "Environment is our\n",
      "basic life support\n",
      "system. It provides\n",
      "the air we breath, the\n",
      "water we drink, the\n",
      "food we eat and the\n",
      "land where we live.\n",
      "How do human\n",
      "beings modify this\n",
      "natural environment?\n",
      "The car fumes pollute\n",
      "the air, water is\n",
      "collected in a pot,\n",
      "food is served in\n",
      "vessels and land is\n",
      "used to build\n",
      "factories.\n",
      "Human beings\n",
      "make cars, mills,\n",
      "factories and\n",
      "manufacture\n",
      "containers. This is\n",
      "how human beings\n",
      "modify natural\n",
      "environment.\n",
      "1 Environment\n",
      "Ravi, Paramjeet, Jessy, Mustafa, Asha were all excited\n",
      "about making the list. “Why is our environment changing?”\n",
      "asked Iqbal. “It’s all because of our needs. They are\n",
      "Reprint 2024-25' metadata={'source': '../resources/ncert/cl7-geography-ch1.pdf', 'file_path': '../resources/ncert/cl7-geography-ch1.pdf', 'page': 0, 'total_pages': 6, 'format': 'PDF 1.6', 'title': 'chapter 1.pmd', 'author': 'dtpcell4', 'subject': '', 'keywords': '', 'creator': 'PageMaker 7.0', 'producer': 'GPL Ghostscript 8.15', 'creationDate': 'D:20171205093435Z', 'modDate': \"D:20240521135756+05'30'\", 'trapped': ''}\n"
     ]
    }
   ],
   "source": [
    "print(pages[0])"
   ]
  },
  {
   "cell_type": "code",
   "execution_count": null,
   "metadata": {},
   "outputs": [],
   "source": []
  }
 ],
 "metadata": {
  "kernelspec": {
   "display_name": "Python (argonk)",
   "language": "python",
   "name": "argonk"
  },
  "language_info": {
   "codemirror_mode": {
    "name": "ipython",
    "version": 3
   },
   "file_extension": ".py",
   "mimetype": "text/x-python",
   "name": "python",
   "nbconvert_exporter": "python",
   "pygments_lexer": "ipython3",
   "version": "3.12.4"
  }
 },
 "nbformat": 4,
 "nbformat_minor": 2
}
